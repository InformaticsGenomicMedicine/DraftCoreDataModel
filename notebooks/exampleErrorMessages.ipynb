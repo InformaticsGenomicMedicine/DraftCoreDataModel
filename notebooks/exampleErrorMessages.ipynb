{
 "cells": [
  {
   "cell_type": "code",
   "execution_count": 1,
   "metadata": {},
   "outputs": [
    {
     "name": "stderr",
     "output_type": "stream",
     "text": [
      "/Users/M278428/opt/anaconda3/envs/test_dev_vrs_installation/lib/python3.9/site-packages/python_jsonschema_objects/__init__.py:49: UserWarning: Schema version http://json-schema.org/draft-07/schema not recognized. Some keywords and features may not be supported.\n",
      "  warnings.warn(\n"
     ]
    }
   ],
   "source": [
    "import sys\n",
    "sys.path.append('..')\n",
    "\n",
    "# SPDI translation method\n",
    "from src.spdi.spdi_utils import SPDITranslate\n",
    "spdiTranslate = SPDITranslate()"
   ]
  },
  {
   "cell_type": "code",
   "execution_count": 2,
   "metadata": {},
   "outputs": [
    {
     "ename": "ValueError",
     "evalue": "An error occurred while translating the SPDI expression 'NC_000001.11:161629780:TTt:t' to a right-shift HGVS expression.",
     "output_type": "error",
     "traceback": [
      "\u001b[0;31m---------------------------------------------------------------------------\u001b[0m",
      "\u001b[0;31mHTTPError\u001b[0m                                 Traceback (most recent call last)",
      "File \u001b[0;32m~/Documents/rf_lab_projects/DraftCoreDataModel/src/spdi/spdi_utils.py:50\u001b[0m, in \u001b[0;36mSPDITranslate.from_spdi_to_rightshift_hgvs\u001b[0;34m(self, expression, validate, output_format)\u001b[0m\n\u001b[1;32m     48\u001b[0m     spdi_expression \u001b[39m=\u001b[39m expression\n\u001b[0;32m---> 50\u001b[0m hgvs_expression \u001b[39m=\u001b[39m \u001b[39mself\u001b[39;49m\u001b[39m.\u001b[39;49mvar_serv_api\u001b[39m.\u001b[39;49mspdi_to_hgvs(spdi_expression)\n\u001b[1;32m     52\u001b[0m \u001b[39mif\u001b[39;00m output_format \u001b[39m==\u001b[39m \u001b[39m\"\u001b[39m\u001b[39mstring\u001b[39m\u001b[39m\"\u001b[39m:\n",
      "File \u001b[0;32m~/Documents/rf_lab_projects/DraftCoreDataModel/src/api/ncbi_variation_services_api.py:117\u001b[0m, in \u001b[0;36mVarServAPI.spdi_to_hgvs\u001b[0;34m(self, spdi_id)\u001b[0m\n\u001b[1;32m    116\u001b[0m     error_message \u001b[39m=\u001b[39m error_json[\u001b[39m\"\u001b[39m\u001b[39merror\u001b[39m\u001b[39m\"\u001b[39m][\u001b[39m\"\u001b[39m\u001b[39mmessage\u001b[39m\u001b[39m\"\u001b[39m]\n\u001b[0;32m--> 117\u001b[0m     \u001b[39mraise\u001b[39;00m requests\u001b[39m.\u001b[39mHTTPError(\n\u001b[1;32m    118\u001b[0m         \u001b[39mf\u001b[39m\u001b[39m\"\u001b[39m\u001b[39mFailed to convert SPDI expression \u001b[39m\u001b[39m{\u001b[39;00mspdi_id\u001b[39m}\u001b[39;00m\u001b[39m to HGVS notation.\u001b[39m\u001b[39m\\n\u001b[39;00m\u001b[39mError message: \u001b[39m\u001b[39m{\u001b[39;00merror_message\u001b[39m}\u001b[39;00m\u001b[39m\"\u001b[39m\n\u001b[1;32m    119\u001b[0m     )\n\u001b[1;32m    120\u001b[0m \u001b[39mexcept\u001b[39;00m json\u001b[39m.\u001b[39mJSONDecodeError:\n",
      "\u001b[0;31mHTTPError\u001b[0m: Failed to convert SPDI expression NC_000001.11:161629780:TTt:t to HGVS notation.\nError message: The reference sequence for 'NC_000001.11' at position '161629780' ('TAT'), is not equal to variant's asserted reference ('TTt')",
      "\nDuring handling of the above exception, another exception occurred:\n",
      "\u001b[0;31mValueError\u001b[0m                                Traceback (most recent call last)",
      "\u001b[1;32m/Users/M278428/Documents/rf_lab_projects/DraftCoreDataModel/notebooks/exampleErrorMessages.ipynb Cell 2\u001b[0m line \u001b[0;36m3\n\u001b[1;32m      <a href='vscode-notebook-cell:/Users/M278428/Documents/rf_lab_projects/DraftCoreDataModel/notebooks/exampleErrorMessages.ipynb#W1sZmlsZQ%3D%3D?line=0'>1</a>\u001b[0m test \u001b[39m=\u001b[39m \u001b[39m'\u001b[39m\u001b[39mNC_000001.11:161629780:TTt:t\u001b[39m\u001b[39m'\u001b[39m\n\u001b[1;32m      <a href='vscode-notebook-cell:/Users/M278428/Documents/rf_lab_projects/DraftCoreDataModel/notebooks/exampleErrorMessages.ipynb#W1sZmlsZQ%3D%3D?line=1'>2</a>\u001b[0m \u001b[39m#NC_000001.11:161629780:123123123:t\u001b[39;00m\n\u001b[0;32m----> <a href='vscode-notebook-cell:/Users/M278428/Documents/rf_lab_projects/DraftCoreDataModel/notebooks/exampleErrorMessages.ipynb#W1sZmlsZQ%3D%3D?line=2'>3</a>\u001b[0m hgvs_expression \u001b[39m=\u001b[39m spdiTranslate\u001b[39m.\u001b[39;49mfrom_spdi_to_rightshift_hgvs(test,validate\u001b[39m=\u001b[39;49m\u001b[39mTrue\u001b[39;49;00m)\n",
      "File \u001b[0;32m~/Documents/rf_lab_projects/DraftCoreDataModel/src/spdi/spdi_utils.py:57\u001b[0m, in \u001b[0;36mSPDITranslate.from_spdi_to_rightshift_hgvs\u001b[0;34m(self, expression, validate, output_format)\u001b[0m\n\u001b[1;32m     55\u001b[0m         \u001b[39mreturn\u001b[39;00m \u001b[39mself\u001b[39m\u001b[39m.\u001b[39mhp\u001b[39m.\u001b[39mparse_hgvs_variant(hgvs_expression)\n\u001b[1;32m     56\u001b[0m \u001b[39mexcept\u001b[39;00m \u001b[39mException\u001b[39;00m:\n\u001b[0;32m---> 57\u001b[0m     \u001b[39mraise\u001b[39;00m \u001b[39mValueError\u001b[39;00m(\n\u001b[1;32m     58\u001b[0m         \u001b[39mf\u001b[39m\u001b[39m\"\u001b[39m\u001b[39mAn error occurred while translating the SPDI expression \u001b[39m\u001b[39m'\u001b[39m\u001b[39m{\u001b[39;00mexpression\u001b[39m}\u001b[39;00m\u001b[39m'\u001b[39m\u001b[39m to a right-shift HGVS expression.\u001b[39m\u001b[39m\"\u001b[39m\n\u001b[1;32m     59\u001b[0m     )\n",
      "\u001b[0;31mValueError\u001b[0m: An error occurred while translating the SPDI expression 'NC_000001.11:161629780:TTt:t' to a right-shift HGVS expression."
     ]
    }
   ],
   "source": [
    "test = 'NC_000001.11:161629780:TTt:t'\n",
    "#NC_000001.11:161629780:123123123:t\n",
    "hgvs_expression = spdiTranslate.from_spdi_to_rightshift_hgvs(test,validate=True)"
   ]
  },
  {
   "cell_type": "code",
   "execution_count": null,
   "metadata": {},
   "outputs": [],
   "source": [
    "vrs_expression = spdiTranslate.from_spdi_to_vrs(test)"
   ]
  },
  {
   "cell_type": "code",
   "execution_count": 7,
   "metadata": {},
   "outputs": [],
   "source": [
    "from src.hgvsExtra.hgvs_utils import HGVSTranslate\n",
    "\n",
    "hgvsUtils = HGVSTranslate()\n",
    "\n",
    "hgvsexpression = 'NC_000001.11:g.161629781='"
   ]
  },
  {
   "cell_type": "code",
   "execution_count": 8,
   "metadata": {},
   "outputs": [
    {
     "ename": "HGVSError",
     "evalue": "Validation failed: NC_000001.11:g.\\=: char 15: expected one of '(', '?', or a digit",
     "output_type": "error",
     "traceback": [
      "\u001b[0;31m---------------------------------------------------------------------------\u001b[0m",
      "\u001b[0;31mParseError\u001b[0m                                Traceback (most recent call last)",
      "File \u001b[0;32m~/opt/anaconda3/envs/test_dev_vrs_installation/lib/python3.9/site-packages/hgvs/parser.py:125\u001b[0m, in \u001b[0;36mParser._expose_rule_functions.<locals>.make_parse_rule_function.<locals>.rule_fxn\u001b[0;34m(s)\u001b[0m\n\u001b[1;32m    124\u001b[0m \u001b[39mtry\u001b[39;00m:\n\u001b[0;32m--> 125\u001b[0m     \u001b[39mreturn\u001b[39;00m \u001b[39mself\u001b[39;49m\u001b[39m.\u001b[39;49m_grammar(s)\u001b[39m.\u001b[39;49m\u001b[39m__getattr__\u001b[39;49m(rule_name)()\n\u001b[1;32m    126\u001b[0m \u001b[39mexcept\u001b[39;00m ometa\u001b[39m.\u001b[39mruntime\u001b[39m.\u001b[39mParseError \u001b[39mas\u001b[39;00m exc:\n",
      "File \u001b[0;32m~/opt/anaconda3/envs/test_dev_vrs_installation/lib/python3.9/site-packages/parsley.py:98\u001b[0m, in \u001b[0;36m_GrammarWrapper.__getattr__.<locals>.invokeRule\u001b[0;34m(*args, **kwargs)\u001b[0m\n\u001b[1;32m     96\u001b[0m         err \u001b[39m=\u001b[39m ParseError(err\u001b[39m.\u001b[39minput, err\u001b[39m.\u001b[39mposition \u001b[39m+\u001b[39m \u001b[39m1\u001b[39m,\n\u001b[1;32m     97\u001b[0m                          [[\u001b[39m\"\u001b[39m\u001b[39mmessage\u001b[39m\u001b[39m\"\u001b[39m, \u001b[39m\"\u001b[39m\u001b[39mexpected EOF\u001b[39m\u001b[39m\"\u001b[39m]], err\u001b[39m.\u001b[39mtrail)\n\u001b[0;32m---> 98\u001b[0m \u001b[39mraise\u001b[39;00m err\n",
      "File \u001b[0;32m~/opt/anaconda3/envs/test_dev_vrs_installation/lib/python3.9/site-packages/parsley.py:85\u001b[0m, in \u001b[0;36m_GrammarWrapper.__getattr__.<locals>.invokeRule\u001b[0;34m(*args, **kwargs)\u001b[0m\n\u001b[1;32m     84\u001b[0m \u001b[39mtry\u001b[39;00m:\n\u001b[0;32m---> 85\u001b[0m     ret, err \u001b[39m=\u001b[39m \u001b[39mself\u001b[39;49m\u001b[39m.\u001b[39;49m_grammar\u001b[39m.\u001b[39;49mapply(name, \u001b[39m*\u001b[39;49margs)\n\u001b[1;32m     86\u001b[0m \u001b[39mexcept\u001b[39;00m ParseError \u001b[39mas\u001b[39;00m e:\n",
      "File \u001b[0;32m~/opt/anaconda3/envs/test_dev_vrs_installation/lib/python3.9/site-packages/ometa/runtime.py:462\u001b[0m, in \u001b[0;36mOMetaBase.apply\u001b[0;34m(self, ruleName, *args)\u001b[0m\n\u001b[1;32m    461\u001b[0m \u001b[39mif\u001b[39;00m r \u001b[39mis\u001b[39;00m \u001b[39mnot\u001b[39;00m \u001b[39mNone\u001b[39;00m:\n\u001b[0;32m--> 462\u001b[0m     val, err \u001b[39m=\u001b[39m \u001b[39mself\u001b[39;49m\u001b[39m.\u001b[39;49m_apply(r, ruleName, args)\n\u001b[1;32m    463\u001b[0m     \u001b[39mreturn\u001b[39;00m val, err\n",
      "File \u001b[0;32m~/opt/anaconda3/envs/test_dev_vrs_installation/lib/python3.9/site-packages/ometa/runtime.py:495\u001b[0m, in \u001b[0;36mOMetaBase._apply\u001b[0;34m(self, rule, ruleName, args)\u001b[0m\n\u001b[1;32m    493\u001b[0m \u001b[39mtry\u001b[39;00m:\n\u001b[1;32m    494\u001b[0m     memoRec \u001b[39m=\u001b[39m \u001b[39mself\u001b[39m\u001b[39m.\u001b[39minput\u001b[39m.\u001b[39msetMemo(ruleName,\n\u001b[0;32m--> 495\u001b[0m                              [rule(), \u001b[39mself\u001b[39m\u001b[39m.\u001b[39minput])\n\u001b[1;32m    496\u001b[0m \u001b[39mexcept\u001b[39;00m ParseError \u001b[39mas\u001b[39;00m e:\n",
      "File \u001b[0;32m/pymeta_generated_code/pymeta_grammar__Grammar.py:38\u001b[0m, in \u001b[0;36mcreateParserClass.<locals>.Grammar.rule_hgvs_variant\u001b[0;34m(self)\u001b[0m\n\u001b[1;32m     37\u001b[0m     \u001b[39mreturn\u001b[39;00m (_G_apply_12, \u001b[39mself\u001b[39m\u001b[39m.\u001b[39mcurrentError)\n\u001b[0;32m---> 38\u001b[0m _G_or_13, lastError \u001b[39m=\u001b[39m \u001b[39mself\u001b[39;49m\u001b[39m.\u001b[39;49m_or([_G_or_1, _G_or_3, _G_or_5, _G_or_7, _G_or_9, _G_or_11])\n\u001b[1;32m     39\u001b[0m \u001b[39mself\u001b[39m\u001b[39m.\u001b[39mconsiderError(lastError, \u001b[39m'\u001b[39m\u001b[39mhgvs_variant\u001b[39m\u001b[39m'\u001b[39m)\n",
      "File \u001b[0;32m~/opt/anaconda3/envs/test_dev_vrs_installation/lib/python3.9/site-packages/ometa/runtime.py:604\u001b[0m, in \u001b[0;36mOMetaBase._or\u001b[0;34m(self, fns)\u001b[0m\n\u001b[1;32m    603\u001b[0m         \u001b[39mself\u001b[39m\u001b[39m.\u001b[39minput \u001b[39m=\u001b[39m m\n\u001b[0;32m--> 604\u001b[0m \u001b[39mraise\u001b[39;00m joinErrors(errors)\n",
      "\u001b[0;31mParseError\u001b[0m: \nNC_000001.11:g.\\=\n               ^\nParse error at line 1, column 15: expected one of '(', '?', or a digit. trail: [digit num def_g_pos g_pos def_g_interval g_interval g_posedit g_variant hgvs_variant]\n",
      "\nDuring handling of the above exception, another exception occurred:\n",
      "\u001b[0;31mHGVSParseError\u001b[0m                            Traceback (most recent call last)",
      "File \u001b[0;32m~/Documents/rf_lab_projects/DraftCoreDataModel/src/hgvsExtra/hgvs_utils.py:41\u001b[0m, in \u001b[0;36mHGVSTranslate._validate_hgvs_variants\u001b[0;34m(self, expression)\u001b[0m\n\u001b[1;32m     40\u001b[0m \u001b[39mtry\u001b[39;00m:\n\u001b[0;32m---> 41\u001b[0m     parsed_variant \u001b[39m=\u001b[39m \u001b[39mself\u001b[39m\u001b[39m.\u001b[39mhp\u001b[39m.\u001b[39mparse_hgvs_variant(expression)\n\u001b[1;32m     42\u001b[0m     \u001b[39mself\u001b[39m\u001b[39m.\u001b[39mvr\u001b[39m.\u001b[39mvalidate(parsed_variant)\n",
      "File \u001b[0;32m~/opt/anaconda3/envs/test_dev_vrs_installation/lib/python3.9/site-packages/hgvs/parser.py:127\u001b[0m, in \u001b[0;36mParser._expose_rule_functions.<locals>.make_parse_rule_function.<locals>.rule_fxn\u001b[0;34m(s)\u001b[0m\n\u001b[1;32m    126\u001b[0m \u001b[39mexcept\u001b[39;00m ometa\u001b[39m.\u001b[39mruntime\u001b[39m.\u001b[39mParseError \u001b[39mas\u001b[39;00m exc:\n\u001b[0;32m--> 127\u001b[0m     \u001b[39mraise\u001b[39;00m HGVSParseError(\n\u001b[1;32m    128\u001b[0m         \u001b[39m\"\u001b[39m\u001b[39m{s}\u001b[39;00m\u001b[39m: char \u001b[39m\u001b[39m{exc.position}\u001b[39;00m\u001b[39m: \u001b[39m\u001b[39m{reason}\u001b[39;00m\u001b[39m\"\u001b[39m\u001b[39m.\u001b[39mformat(s\u001b[39m=\u001b[39ms, exc\u001b[39m=\u001b[39mexc, reason\u001b[39m=\u001b[39mexc\u001b[39m.\u001b[39mformatReason())\n\u001b[1;32m    129\u001b[0m     )\n",
      "\u001b[0;31mHGVSParseError\u001b[0m: NC_000001.11:g.\\=: char 15: expected one of '(', '?', or a digit",
      "\nDuring handling of the above exception, another exception occurred:\n",
      "\u001b[0;31mHGVSError\u001b[0m                                 Traceback (most recent call last)",
      "\u001b[1;32m/Users/M278428/Documents/rf_lab_projects/DraftCoreDataModel/notebooks/exampleErrorMessages.ipynb Cell 5\u001b[0m line \u001b[0;36m1\n\u001b[0;32m----> <a href='vscode-notebook-cell:/Users/M278428/Documents/rf_lab_projects/DraftCoreDataModel/notebooks/exampleErrorMessages.ipynb#W5sZmlsZQ%3D%3D?line=0'>1</a>\u001b[0m hgvsUtils\u001b[39m.\u001b[39;49m_validate_hgvs_variants(hgvsexpression)\n",
      "File \u001b[0;32m~/Documents/rf_lab_projects/DraftCoreDataModel/src/hgvsExtra/hgvs_utils.py:45\u001b[0m, in \u001b[0;36mHGVSTranslate._validate_hgvs_variants\u001b[0;34m(self, expression)\u001b[0m\n\u001b[1;32m     43\u001b[0m     \u001b[39mreturn\u001b[39;00m expression\n\u001b[1;32m     44\u001b[0m \u001b[39mexcept\u001b[39;00m HGVSError \u001b[39mas\u001b[39;00m e:\n\u001b[0;32m---> 45\u001b[0m     \u001b[39mraise\u001b[39;00m HGVSError(\u001b[39mf\u001b[39m\u001b[39m\"\u001b[39m\u001b[39mValidation failed for HGVS expression \u001b[39m\u001b[39m'\u001b[39m\u001b[39m{\u001b[39;00mexpression\u001b[39m}\u001b[39;00m\u001b[39m'\u001b[39m\u001b[39m: \u001b[39m\u001b[39m{\u001b[39;00me\u001b[39m}\u001b[39;00m\u001b[39m\"\u001b[39m)\n",
      "\u001b[0;31mHGVSError\u001b[0m: Validation failed: NC_000001.11:g.\\=: char 15: expected one of '(', '?', or a digit"
     ]
    }
   ],
   "source": [
    "hgvsUtils._validate_hgvs_variants(hgvsexpression)"
   ]
  },
  {
   "cell_type": "code",
   "execution_count": null,
   "metadata": {},
   "outputs": [],
   "source": []
  }
 ],
 "metadata": {
  "kernelspec": {
   "display_name": "test_dev_vrs_installation",
   "language": "python",
   "name": "python3"
  },
  "language_info": {
   "codemirror_mode": {
    "name": "ipython",
    "version": 3
   },
   "file_extension": ".py",
   "mimetype": "text/x-python",
   "name": "python",
   "nbconvert_exporter": "python",
   "pygments_lexer": "ipython3",
   "version": "3.9.15"
  }
 },
 "nbformat": 4,
 "nbformat_minor": 2
}
