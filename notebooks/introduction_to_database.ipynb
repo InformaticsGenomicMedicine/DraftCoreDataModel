{
 "cells": [
  {
   "cell_type": "code",
   "execution_count": 1,
   "metadata": {},
   "outputs": [],
   "source": [
    "#RUN FOR GITHUB CODESPACE\n",
    "import sys\n",
    "import warnings\n",
    "\n",
    "sys.path.append('..')\n",
    "warnings.filterwarnings('ignore')\n"
   ]
  },
  {
   "cell_type": "code",
   "execution_count": 2,
   "metadata": {},
   "outputs": [],
   "source": [
    "from database.db_operation import DbOperation"
   ]
  },
  {
   "cell_type": "markdown",
   "metadata": {},
   "source": [
    "### Goldstandard Database Notebook\n",
    "\n",
    "This notebook will demonstrate the usage of the Goldstandard database (GSDB). GSDB is composed of 3 tables with the following schema:\n",
    "\n",
    "**Expression:**\n",
    "- `id`\n",
    "- `variation_id` \n",
    "- `profile_id`\n",
    "- `description`\n",
    "- `value`\n",
    "\n",
    "**Profile:**\n",
    "- `id`\n",
    "- `name`\n",
    "- `version`\n",
    "- `description`\n",
    "\n",
    "**Variation:**\n",
    "- `id`\n",
    "- `xref`\n",
    "- `description`\n",
    "\n",
    "**Note:** This database is in alpha stage and has the potential to change in schema and data.\n",
    "\n"
   ]
  },
  {
   "cell_type": "markdown",
   "metadata": {},
   "source": [
    "### Example Database\n",
    "\n",
    "**Note:** To facilitate user interaction without altering the original data, a view table called `CombineData` was created. This virtual table allows users to experiment and perform translations using combined data from the three primary tables, ensuring the integrity of the original tables remains intact. \n",
    "\n",
    "`CombineData` includes the following fields:\n",
    "- `Profile.name`\n",
    "- `Profile.version`\n",
    "- `Variation.description`\n",
    "- `Variation.xref`\n",
    "- `Expression.value`\n",
    "\n",
    "This table will be represented as a pandas DataFrame and will be used for various translations shown below.\n"
   ]
  },
  {
   "cell_type": "markdown",
   "metadata": {},
   "source": [
    "#### Database Connection and DataFrame Operations"
   ]
  },
  {
   "cell_type": "code",
   "execution_count": 10,
   "metadata": {},
   "outputs": [],
   "source": [
    "#Connect to gold standard database\n",
    "db = DbOperation('../database/gsdb_v2.db')"
   ]
  },
  {
   "cell_type": "code",
   "execution_count": 11,
   "metadata": {},
   "outputs": [],
   "source": [
    "#Convert database to pandas DataFrame\n",
    "df = db.get_combined_in_df()"
   ]
  },
  {
   "cell_type": "code",
   "execution_count": 12,
   "metadata": {},
   "outputs": [
    {
     "data": {
      "text/html": [
       "<div>\n",
       "<style scoped>\n",
       "    .dataframe tbody tr th:only-of-type {\n",
       "        vertical-align: middle;\n",
       "    }\n",
       "\n",
       "    .dataframe tbody tr th {\n",
       "        vertical-align: top;\n",
       "    }\n",
       "\n",
       "    .dataframe thead th {\n",
       "        text-align: right;\n",
       "    }\n",
       "</style>\n",
       "<table border=\"1\" class=\"dataframe\">\n",
       "  <thead>\n",
       "    <tr style=\"text-align: right;\">\n",
       "      <th></th>\n",
       "      <th>name</th>\n",
       "      <th>version</th>\n",
       "      <th>description</th>\n",
       "      <th>xref</th>\n",
       "      <th>value</th>\n",
       "    </tr>\n",
       "  </thead>\n",
       "  <tbody>\n",
       "    <tr>\n",
       "      <th>0</th>\n",
       "      <td>cvc</td>\n",
       "      <td>0.1</td>\n",
       "      <td>Deletion</td>\n",
       "      <td>https://www.ncbi.nlm.nih.gov/clinvar/variation...</td>\n",
       "      <td>{'origCoordSystem': '0-based interbase', 'seqT...</td>\n",
       "    </tr>\n",
       "    <tr>\n",
       "      <th>1</th>\n",
       "      <td>spdi</td>\n",
       "      <td>0.1</td>\n",
       "      <td>Deletion</td>\n",
       "      <td>https://www.ncbi.nlm.nih.gov/clinvar/variation...</td>\n",
       "      <td>NC_000001.11:1014263:CC:C</td>\n",
       "    </tr>\n",
       "    <tr>\n",
       "      <th>2</th>\n",
       "      <td>hgvs</td>\n",
       "      <td>0.1</td>\n",
       "      <td>Deletion</td>\n",
       "      <td>https://www.ncbi.nlm.nih.gov/clinvar/variation...</td>\n",
       "      <td>NC_000001.11:g.1014265del</td>\n",
       "    </tr>\n",
       "    <tr>\n",
       "      <th>3</th>\n",
       "      <td>vrs</td>\n",
       "      <td>1.3</td>\n",
       "      <td>Deletion</td>\n",
       "      <td>https://www.ncbi.nlm.nih.gov/clinvar/variation...</td>\n",
       "      <td>{'_id': 'ga4gh:VA.BmF3zr2l6XLpLaK8GInM6Q3Emc3J...</td>\n",
       "    </tr>\n",
       "    <tr>\n",
       "      <th>4</th>\n",
       "      <td>cvc</td>\n",
       "      <td>0.1</td>\n",
       "      <td>Deletion</td>\n",
       "      <td>https://www.ncbi.nlm.nih.gov/clinvar/variation...</td>\n",
       "      <td>{'origCoordSystem': '0-based interbase', 'seqT...</td>\n",
       "    </tr>\n",
       "  </tbody>\n",
       "</table>\n",
       "</div>"
      ],
      "text/plain": [
       "   name version description  \\\n",
       "0   cvc     0.1    Deletion   \n",
       "1  spdi     0.1    Deletion   \n",
       "2  hgvs     0.1    Deletion   \n",
       "3   vrs     1.3    Deletion   \n",
       "4   cvc     0.1    Deletion   \n",
       "\n",
       "                                                xref  \\\n",
       "0  https://www.ncbi.nlm.nih.gov/clinvar/variation...   \n",
       "1  https://www.ncbi.nlm.nih.gov/clinvar/variation...   \n",
       "2  https://www.ncbi.nlm.nih.gov/clinvar/variation...   \n",
       "3  https://www.ncbi.nlm.nih.gov/clinvar/variation...   \n",
       "4  https://www.ncbi.nlm.nih.gov/clinvar/variation...   \n",
       "\n",
       "                                               value  \n",
       "0  {'origCoordSystem': '0-based interbase', 'seqT...  \n",
       "1                          NC_000001.11:1014263:CC:C  \n",
       "2                          NC_000001.11:g.1014265del  \n",
       "3  {'_id': 'ga4gh:VA.BmF3zr2l6XLpLaK8GInM6Q3Emc3J...  \n",
       "4  {'origCoordSystem': '0-based interbase', 'seqT...  "
      ]
     },
     "execution_count": 12,
     "metadata": {},
     "output_type": "execute_result"
    }
   ],
   "source": [
    "#A view of the database in a pandas DataFrame.\n",
    "df.head()"
   ]
  },
  {
   "cell_type": "code",
   "execution_count": 13,
   "metadata": {},
   "outputs": [
    {
     "data": {
      "text/plain": [
       "0    {'origCoordSystem': '0-based interbase', 'seqT...\n",
       "4    {'origCoordSystem': '0-based interbase', 'seqT...\n",
       "8    {'origCoordSystem': '0-based interbase', 'seqT...\n",
       "Name: value, dtype: object"
      ]
     },
     "execution_count": 13,
     "metadata": {},
     "output_type": "execute_result"
    }
   ],
   "source": [
    "#Capturing the cvc data in the DataFrame\n",
    "cvc_data = db.extract_values(df,'cvc')[:3]\n",
    "cvc_data"
   ]
  },
  {
   "cell_type": "markdown",
   "metadata": {},
   "source": [
    "#### TODO: Get Value from Variation, profile, or expression table \n",
    "* The db_operation.py class provides various database operations including: update, delete, get, and (to be added) insert.\n",
    "* Guidelines will be established to ensure the integrity of gold-standard tables. A subset of the data will be created to perform these various operations."
   ]
  },
  {
   "cell_type": "code",
   "execution_count": 6,
   "metadata": {},
   "outputs": [
    {
     "name": "stdout",
     "output_type": "stream",
     "text": [
      "Variation Table\n"
     ]
    },
    {
     "data": {
      "text/plain": [
       "(4, 'https://www.ncbi.nlm.nih.gov/clinvar/variation/1344775/', 'Insertion')"
      ]
     },
     "execution_count": 6,
     "metadata": {},
     "output_type": "execute_result"
    }
   ],
   "source": [
    "var_table = db.get_variation(id=4)\n",
    "print('Variation Table')\n",
    "var_table"
   ]
  },
  {
   "cell_type": "markdown",
   "metadata": {},
   "source": [
    "prof_table = db.get_profile(id=4)\n",
    "print('Profile Table')\n",
    "prof_table"
   ]
  },
  {
   "cell_type": "code",
   "execution_count": 7,
   "metadata": {},
   "outputs": [
    {
     "name": "stdout",
     "output_type": "stream",
     "text": [
      "Expression Table\n"
     ]
    },
    {
     "data": {
      "text/plain": [
       "(4,\n",
       " 1,\n",
       " 4,\n",
       " None,\n",
       " '{\"_id\": \"ga4gh:VA.BmF3zr2l6XLpLaK8GInM6Q3Emc3JyPD3\", \"type\": \"Allele\", \"location\": {\"_id\": \"ga4gh:VSL.i6Of9s2jVDuJ4vwU6sCeG-jT7ygmlfx6\", \"type\": \"SequenceLocation\", \"sequence_id\": \"ga4gh:SQ.Ya6Rs7DHhDeg7YaOSg1EoNi3U_nQ9SvO\", \"interval\": {\"type\": \"SequenceInterval\", \"start\": {\"type\": \"Number\", \"value\": 1014263}, \"end\": {\"type\": \"Number\", \"value\": 1014265}}}, \"state\": {\"type\": \"LiteralSequenceExpression\", \"sequence\": \"C\"}}')"
      ]
     },
     "execution_count": 7,
     "metadata": {},
     "output_type": "execute_result"
    }
   ],
   "source": [
    "expr_table = db.get_expression(id=4)\n",
    "print('Expression Table')\n",
    "expr_table"
   ]
  },
  {
   "cell_type": "code",
   "execution_count": 8,
   "metadata": {},
   "outputs": [
    {
     "name": "stdout",
     "output_type": "stream",
     "text": [
      "Variation Table\n"
     ]
    },
    {
     "data": {
      "text/plain": [
       "[(1, 'https://www.ncbi.nlm.nih.gov/clinvar/variation/2085710/', 'Deletion'),\n",
       " (2, 'https://www.ncbi.nlm.nih.gov/clinvar/variation/523496/', 'Deletion'),\n",
       " (3, 'https://www.ncbi.nlm.nih.gov/clinvar/variation/1062882/', 'Deletion'),\n",
       " (4, 'https://www.ncbi.nlm.nih.gov/clinvar/variation/1344775/', 'Insertion'),\n",
       " (5, 'https://www.ncbi.nlm.nih.gov/clinvar/variation/930317/', 'Insertion'),\n",
       " (6, 'https://www.ncbi.nlm.nih.gov/clinvar/variation/835613/', 'Substitution'),\n",
       " (7, 'https://www.ncbi.nlm.nih.gov/clinvar/variation/217604/', 'Substitution'),\n",
       " (8,\n",
       "  'https://www.ncbi.nlm.nih.gov/clinvar/variation/931239/',\n",
       "  'InsertionDeletion'),\n",
       " (9,\n",
       "  'https://www.ncbi.nlm.nih.gov/clinvar/variation/931057/',\n",
       "  'InsertionDeletion'),\n",
       " (10, 'https://www.ncbi.nlm.nih.gov/snp/rs1805044#hgvs_tab', 'Identity'),\n",
       " (11,\n",
       "  'https://www.ncbi.nlm.nih.gov/clinvar/variation/1297092/',\n",
       "  'Duplication'),\n",
       " (12,\n",
       "  'https://github.com/ga4gh/vrs-python/blob/old-main/tests/extras/test_translator.py',\n",
       "  'Single Nucleotide Variant'),\n",
       " (13,\n",
       "  'https://www.ncbi.nlm.nih.gov/clinvar/variation/1373966/?new_evidence=true',\n",
       "  'Deletion'),\n",
       " (14,\n",
       "  'https://www.ncbi.nlm.nih.gov/clinvar/variation/1687427/?new_evidence=true',\n",
       "  'Insertion'),\n",
       " (15,\n",
       "  'https://www.ncbi.nlm.nih.gov/clinvar/variation/1264314/?new_evidence=true',\n",
       "  'duplication'),\n",
       " (16,\n",
       "  'https://github.com/ga4gh/vrs-python/blob/fd759f9bd79c3d5fbd61b2343daec85744a3aa74/tests/extras/test_translator.py#L163',\n",
       "  'Identity'),\n",
       " (17,\n",
       "  'https://github.com/ga4gh/vrs-python/blob/fd759f9bd79c3d5fbd61b2343daec85744a3aa74/tests/extras/test_translator.py#L181',\n",
       "  'Substitution'),\n",
       " (18,\n",
       "  'https://github.com/ga4gh/vrs-python/blob/fd759f9bd79c3d5fbd61b2343daec85744a3aa74/tests/extras/test_translator.py#L199',\n",
       "  'Deletion'),\n",
       " (19,\n",
       "  'https://github.com/ga4gh/vrs-python/blob/fd759f9bd79c3d5fbd61b2343daec85744a3aa74/tests/extras/test_translator.py#L217',\n",
       "  'Insertion'),\n",
       " (20,\n",
       "  'https://github.com/ga4gh/vrs-python/blob/fd759f9bd79c3d5fbd61b2343daec85744a3aa74/tests/extras/test_translator.py#L235',\n",
       "  'Duplication'),\n",
       " (21,\n",
       "  'https://github.com/ga4gh/vrs-python/blob/fd759f9bd79c3d5fbd61b2343daec85744a3aa74/tests/extras/test_translator.py#L253',\n",
       "  'Duplication'),\n",
       " (22,\n",
       "  'https://github.com/ga4gh/vrs-python/blob/fd759f9bd79c3d5fbd61b2343daec85744a3aa74/tests/extras/test_translator.py#L271',\n",
       "  'Substitution'),\n",
       " (23,\n",
       "  'https://github.com/ga4gh/vrs-python/blob/fd759f9bd79c3d5fbd61b2343daec85744a3aa74/tests/extras/test_translator.py#L289',\n",
       "  'Substitution')]"
      ]
     },
     "execution_count": 8,
     "metadata": {},
     "output_type": "execute_result"
    }
   ],
   "source": [
    "# get all\n",
    "var_all = db.get_all_variations()\n",
    "print('Variation Table')\n",
    "var_all"
   ]
  }
 ],
 "metadata": {
  "kernelspec": {
   "display_name": "DraftCoreDataModel-MMFV8Z-X",
   "language": "python",
   "name": "python3"
  },
  "language_info": {
   "codemirror_mode": {
    "name": "ipython",
    "version": 3
   },
   "file_extension": ".py",
   "mimetype": "text/x-python",
   "name": "python",
   "nbconvert_exporter": "python",
   "pygments_lexer": "ipython3",
   "version": "3.11.5"
  }
 },
 "nbformat": 4,
 "nbformat_minor": 2
}
