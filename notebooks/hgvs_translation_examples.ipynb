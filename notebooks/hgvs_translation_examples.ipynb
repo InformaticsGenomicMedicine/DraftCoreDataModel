{
 "cells": [
  {
   "cell_type": "code",
   "execution_count": 1,
   "metadata": {},
   "outputs": [],
   "source": [
    "#RUN FOR GITHUB CODESPACE\n",
    "import sys\n",
    "import warnings\n",
    "\n",
    "sys.path.append('..')\n",
    "warnings.filterwarnings('ignore')"
   ]
  },
  {
   "cell_type": "code",
   "execution_count": 2,
   "metadata": {},
   "outputs": [],
   "source": [
    "import json\n",
    "from src.hgvsExtra.hgvs_utils import HGVSTranslate\n",
    "from database.db_operation import DbOperation\n",
    "from src.variant_to_cvc_translate import CVCTranslatorTo"
   ]
  },
  {
   "cell_type": "code",
   "execution_count": 3,
   "metadata": {},
   "outputs": [],
   "source": [
    "# Creating an instance of the HGVSTranslate class\n",
    "hgvs_translator = HGVSTranslate()\n",
    "\n",
    "# Creating an instance of the CVCTranslator class\n",
    "cvc_translator_to = CVCTranslatorTo()\n",
    "\n",
    "#Connect to gold standard database\n",
    "db = DbOperation('../database/gsdb_v3.db')\n",
    "\n",
    "#Convert database to pandas dataframe\n",
    "df = db.get_combined_in_df()"
   ]
  },
  {
   "cell_type": "markdown",
   "metadata": {},
   "source": [
    "### hgvs_utils Module Overview\n",
    "\n",
    "The `hgvs_utils` module facilitates the translation of HGVS expressions to SPDI and VRS formats. It utilizes external APIs for translation and validation.\n",
    "\n",
    "#### Features\n",
    "- **Translation to VRS**: Translates HGVS expressions to VRS using the VRS python translator module.\n",
    "- **Translation to SPDI**: Converts HGVS expressions to SPDI using the NCBI Variation Services API.\n",
    "- **HGVS Expression Validation**: HGVS expressions are validated using the biocommons hgvs package.\n",
    "\n",
    "#### Dependencies\n",
    "- **External APIs**:\n",
    "  - Biocmmons SeqRepo API\n",
    "  - NCBI Variation Services API\n",
    "  <!-- VICC Variation Normalizer API -->\n",
    "- **Python Packages**:\n",
    "  - biocommons-hgvs\n"
   ]
  },
  {
   "cell_type": "markdown",
   "metadata": {},
   "source": [
    "### Capturing Example Data From Gold Standard Database"
   ]
  },
  {
   "cell_type": "code",
   "execution_count": 4,
   "metadata": {},
   "outputs": [],
   "source": [
    "#Capturing the hgvs data in the dataframe\n",
    "hgvs_data = db.extract_values(df,'hgvs')[:3]"
   ]
  },
  {
   "cell_type": "markdown",
   "metadata": {},
   "source": [
    "### Preforming translations from HGVS to SPDI, VRS, and CVC"
   ]
  },
  {
   "cell_type": "code",
   "execution_count": 5,
   "metadata": {},
   "outputs": [
    {
     "name": "stdout",
     "output_type": "stream",
     "text": [
      "HGVS Expression: NC_000001.11:g.1014265del\n",
      "Translated to SPDI: NC_000001.11:1014263:CC:C\n",
      "\n",
      "HGVS Expression: NC_000001.11:g.15445656_15445660del\n",
      "Translated to SPDI: NC_000001.11:15445654:GCATCG:G\n",
      "\n",
      "HGVS Expression: NC_000016.10:g.1510946_1510947del\n",
      "Translated to SPDI: NC_000016.10:1510945:AG:\n",
      "\n"
     ]
    }
   ],
   "source": [
    "# Translate HGVS expression to SPDI\n",
    "for hgvs in hgvs_data:\n",
    "    print(f'HGVS Expression: {hgvs}')\n",
    "    print(f'Translated to SPDI: {hgvs_translator.from_hgvs_to_spdi(hgvs)}\\n')"
   ]
  },
  {
   "cell_type": "code",
   "execution_count": 6,
   "metadata": {},
   "outputs": [
    {
     "name": "stdout",
     "output_type": "stream",
     "text": [
      "HGVS Expression: NC_000001.11:g.1014265del\n",
      "Translated to VRS:\n",
      "{'_id': 'ga4gh:VA.BmF3zr2l6XLpLaK8GInM6Q3Emc3JyPD3', 'type': 'Allele', 'location': {'_id': 'ga4gh:VSL.i6Of9s2jVDuJ4vwU6sCeG-jT7ygmlfx6', 'type': 'SequenceLocation', 'sequence_id': 'ga4gh:SQ.Ya6Rs7DHhDeg7YaOSg1EoNi3U_nQ9SvO', 'interval': {'type': 'SequenceInterval', 'start': {'type': 'Number', 'value': 1014263}, 'end': {'type': 'Number', 'value': 1014265}}}, 'state': {'type': 'LiteralSequenceExpression', 'sequence': 'C'}}\n",
      "\n",
      "HGVS Expression: NC_000001.11:g.15445656_15445660del\n",
      "Translated to VRS:\n",
      "{'_id': 'ga4gh:VA.5CfKpT5tErBj7PNtqdub7VOliwHEQLvs', 'type': 'Allele', 'location': {'_id': 'ga4gh:VSL.z-j8mH9v1lJf-MsQosxg_8gtRA1zKhuE', 'type': 'SequenceLocation', 'sequence_id': 'ga4gh:SQ.Ya6Rs7DHhDeg7YaOSg1EoNi3U_nQ9SvO', 'interval': {'type': 'SequenceInterval', 'start': {'type': 'Number', 'value': 15445654}, 'end': {'type': 'Number', 'value': 15445660}}}, 'state': {'type': 'LiteralSequenceExpression', 'sequence': 'G'}}\n",
      "\n",
      "HGVS Expression: NC_000016.10:g.1510946_1510947del\n",
      "Translated to VRS:\n",
      "{'_id': 'ga4gh:VA.BAzdGf6SGQgUBZCADrRGSS61qYzhDWgy', 'type': 'Allele', 'location': {'_id': 'ga4gh:VSL.CFA82oReGyKLEaLcmWDyzOkd3L8nhvDV', 'type': 'SequenceLocation', 'sequence_id': 'ga4gh:SQ.yC_0RBj3fgBlvgyAuycbzdubtLxq-rE0', 'interval': {'type': 'SequenceInterval', 'start': {'type': 'Number', 'value': 1510945}, 'end': {'type': 'Number', 'value': 1510947}}}, 'state': {'type': 'LiteralSequenceExpression', 'sequence': ''}}\n",
      "\n"
     ]
    }
   ],
   "source": [
    "# Translate HGVS expression to VRS\n",
    "for hgvs in hgvs_data:\n",
    "    print(f'HGVS Expression: {hgvs}')\n",
    "    print(f'Translated to VRS:\\n{hgvs_translator.hgvs_to_vrs_trans(hgvs).as_dict()}\\n')"
   ]
  },
  {
   "cell_type": "code",
   "execution_count": 7,
   "metadata": {},
   "outputs": [
    {
     "name": "stdout",
     "output_type": "stream",
     "text": [
      "HGVS Expression: NC_000001.11:g.1014265del\n",
      "Translated to CVC:\n",
      "CoreVariantClass(0-based interbase,DNA,CC,C,1014263,1014265,None,None,None,None,None,NC_000001.11,{})\n",
      "\n",
      "HGVS Expression: NC_000001.11:g.15445656_15445660del\n",
      "Translated to CVC:\n",
      "CoreVariantClass(0-based interbase,DNA,GCATCG,G,15445654,15445660,None,None,None,None,None,NC_000001.11,{})\n",
      "\n",
      "HGVS Expression: NC_000016.10:g.1510946_1510947del\n",
      "Translated to CVC:\n",
      "CoreVariantClass(0-based interbase,DNA,AG,,1510945,1510947,None,None,None,None,None,NC_000016.10,{})\n",
      "\n"
     ]
    }
   ],
   "source": [
    "#Translations form HGVS to CVC to done using the variant_to_cvc_translate.py module.\n",
    "for hgvs in hgvs_data:\n",
    "    print(f'HGVS Expression: {hgvs}') \n",
    "    print(f'Translated to CVC:\\n{cvc_translator_to.hgvs_to_cvc(hgvs)}\\n')"
   ]
  }
 ],
 "metadata": {
  "kernelspec": {
   "display_name": "DraftCoreDataModel-MMFV8Z-X",
   "language": "python",
   "name": "python3"
  },
  "language_info": {
   "codemirror_mode": {
    "name": "ipython",
    "version": 3
   },
   "file_extension": ".py",
   "mimetype": "text/x-python",
   "name": "python",
   "nbconvert_exporter": "python",
   "pygments_lexer": "ipython3",
   "version": "3.11.5"
  }
 },
 "nbformat": 4,
 "nbformat_minor": 2
}
