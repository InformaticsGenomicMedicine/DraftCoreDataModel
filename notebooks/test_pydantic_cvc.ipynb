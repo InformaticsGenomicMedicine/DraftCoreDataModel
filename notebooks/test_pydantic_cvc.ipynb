{
 "cells": [
  {
   "cell_type": "code",
   "execution_count": 1,
   "metadata": {},
   "outputs": [
    {
     "name": "stderr",
     "output_type": "stream",
     "text": [
      "/Users/M278428/.local/share/virtualenvs/DraftCoreDataModel-MMFV8Z-X/lib/python3.11/site-packages/python_jsonschema_objects/__init__.py:46: UserWarning: Schema version http://json-schema.org/draft-07/schema not recognized. Some keywords and features may not be supported.\n",
      "  warnings.warn(\n"
     ]
    }
   ],
   "source": [
    "from src.pydanticRefactor.pydan_cvc import pdCVC"
   ]
  },
  {
   "cell_type": "code",
   "execution_count": 2,
   "metadata": {},
   "outputs": [
    {
     "data": {
      "text/plain": [
       "pdCVC(origCoordSystem='1-based counting', seqType='DNA', refAllele='', altAllele='GGCT', start=3, end=5, allelicState=None, geneSymbol=None, hgncId=None, chrom=None, genomeBuild=None, sequenceId='NC_000007.14', notes='hello world')"
      ]
     },
     "execution_count": 2,
     "metadata": {},
     "output_type": "execute_result"
    }
   ],
   "source": [
    "# Create a pdCVC object\n",
    "cvc = pdCVC(origCoordSystem='1-based counting',seqType='DNA',refAllele='',altAllele='GGCT',start=3,end=5, allelicState=None, geneSymbol=None, hgncId=None, chrom=None, genomeBuild=None, sequenceId='NC_000007.14',notes = 'hello world')\n",
    "cvc"
   ]
  },
  {
   "cell_type": "code",
   "execution_count": 3,
   "metadata": {},
   "outputs": [
    {
     "data": {
      "text/plain": [
       "{'origCoordSystem': '1-based counting',\n",
       " 'seqType': 'DNA',\n",
       " 'refAllele': '',\n",
       " 'altAllele': 'GGCT',\n",
       " 'start': 3,\n",
       " 'end': 5,\n",
       " 'allelicState': None,\n",
       " 'geneSymbol': None,\n",
       " 'hgncId': None,\n",
       " 'chrom': None,\n",
       " 'genomeBuild': None,\n",
       " 'sequenceId': 'NC_000007.14',\n",
       " 'notes': 'hello world'}"
      ]
     },
     "execution_count": 3,
     "metadata": {},
     "output_type": "execute_result"
    }
   ],
   "source": [
    "cvc.model_dump()"
   ]
  },
  {
   "cell_type": "code",
   "execution_count": 4,
   "metadata": {},
   "outputs": [
    {
     "data": {
      "text/plain": [
       "{'notes': 'hello world'}"
      ]
     },
     "execution_count": 4,
     "metadata": {},
     "output_type": "execute_result"
    }
   ],
   "source": [
    "#pydantic way of capturing extra data.\n",
    "cvc.model_extra"
   ]
  },
  {
   "cell_type": "code",
   "execution_count": 5,
   "metadata": {},
   "outputs": [
    {
     "data": {
      "text/plain": [
       "{'allelicState',\n",
       " 'altAllele',\n",
       " 'chrom',\n",
       " 'end',\n",
       " 'geneSymbol',\n",
       " 'genomeBuild',\n",
       " 'hgncId',\n",
       " 'notes',\n",
       " 'origCoordSystem',\n",
       " 'refAllele',\n",
       " 'seqType',\n",
       " 'sequenceId',\n",
       " 'start'}"
      ]
     },
     "execution_count": 5,
     "metadata": {},
     "output_type": "execute_result"
    }
   ],
   "source": [
    "cvc.model_fields_set"
   ]
  },
  {
   "cell_type": "code",
   "execution_count": 6,
   "metadata": {},
   "outputs": [
    {
     "name": "stdout",
     "output_type": "stream",
     "text": [
      "origCoordSystem='0-based interbase' seqType='DNA' refAllele='' altAllele='GGCT' start=55181230 end=55181230 allelicState=None geneSymbol=None hgncId=None chrom=None genomeBuild=None sequenceId='NC_000007.14'\n",
      "origCoordSystem='0-based counting' seqType='DNA' refAllele='' altAllele='GGCT' start=55181230 end=55181230 allelicState=None geneSymbol=None hgncId=None chrom=None genomeBuild=None sequenceId='NC_000007.14'\n",
      "origCoordSystem='1-based counting' seqType='DNA' refAllele='' altAllele='GGCT' start=55181230 end=55181230 allelicState=None geneSymbol=None hgncId=None chrom=None genomeBuild=None sequenceId='NC_000007.14'\n"
     ]
    }
   ],
   "source": [
    "#Testing the origCoordSystem\n",
    "cvc1 = pdCVC(origCoordSystem='0-based interbase',seqType='DNA',refAllele='',altAllele='GGCT',start=55181230,end=55181230, allelicState=None, geneSymbol=None, hgncId=None, chrom=None, genomeBuild=None, sequenceId='NC_000007.14')\n",
    "cvc2 = pdCVC(origCoordSystem='0-based counting',seqType='DNA',refAllele='',altAllele='GGCT',start=55181230,end=55181230, allelicState=None, geneSymbol=None, hgncId=None, chrom=None, genomeBuild=None, sequenceId='NC_000007.14')\n",
    "cvc3 = pdCVC(origCoordSystem='1-based counting',seqType='DNA',refAllele='',altAllele='GGCT',start=55181230,end=55181230, allelicState=None, geneSymbol=None, hgncId=None, chrom=None, genomeBuild=None, sequenceId='NC_000007.14')\n",
    "print(cvc1)\n",
    "print(cvc2)\n",
    "print(cvc3)"
   ]
  },
  {
   "cell_type": "code",
   "execution_count": 7,
   "metadata": {},
   "outputs": [
    {
     "name": "stdout",
     "output_type": "stream",
     "text": [
      "origCoordSystem='0-based interbase' seqType='DNA' refAllele='' altAllele='' start=55181230 end=55181230 allelicState=None geneSymbol=None hgncId=None chrom=None genomeBuild=None sequenceId='NC_000007.14'\n",
      "origCoordSystem='0-based counting' seqType='RNA' refAllele='' altAllele='' start=55181230 end=55181230 allelicState=None geneSymbol=None hgncId=None chrom=None genomeBuild=None sequenceId='NC_000007.14'\n",
      "origCoordSystem='1-based counting' seqType='PROTEIN' refAllele='' altAllele='' start=55181230 end=55181230 allelicState=None geneSymbol=None hgncId=None chrom=None genomeBuild=None sequenceId='NC_000007.14'\n"
     ]
    }
   ],
   "source": [
    "#Testing the SequenceType\n",
    "cvc1 = pdCVC(origCoordSystem='0-based interbase',seqType='dna',refAllele='',altAllele='',start=55181230,end=55181230, allelicState=None, geneSymbol=None, hgncId=None, chrom=None, genomeBuild=None, sequenceId='NC_000007.14')\n",
    "cvc2 = pdCVC(origCoordSystem='0-based counting',seqType='rna',refAllele='',altAllele='',start=55181230,end=55181230, allelicState=None, geneSymbol=None, hgncId=None, chrom=None, genomeBuild=None, sequenceId='NC_000007.14')\n",
    "cvc3 = pdCVC(origCoordSystem='1-based counting',seqType='PROTEIN   ',refAllele='',altAllele='',start=55181230,end=55181230, allelicState=None, geneSymbol=None, hgncId=None, chrom=None, genomeBuild=None, sequenceId='NC_000007.14')\n",
    "print(cvc1)\n",
    "print(cvc2)\n",
    "print(cvc3)"
   ]
  },
  {
   "cell_type": "code",
   "execution_count": 8,
   "metadata": {},
   "outputs": [
    {
     "name": "stdout",
     "output_type": "stream",
     "text": [
      "origCoordSystem='0-based interbase' seqType='DNA' refAllele='' altAllele='' start=55181230 end=55181230 allelicState='heterozygous' geneSymbol=None hgncId=None chrom=None genomeBuild=None sequenceId='NC_000007.14'\n",
      "origCoordSystem='0-based counting' seqType='RNA' refAllele='' altAllele='' start=55181230 end=55181230 allelicState='homozygous' geneSymbol=None hgncId=None chrom=None genomeBuild=None sequenceId='NC_000007.14'\n"
     ]
    }
   ],
   "source": [
    "#Testing the allelicState\n",
    "cvc1 = pdCVC(origCoordSystem='0-based interbase',seqType='dna',refAllele='',altAllele='',start=55181230,end=55181230, allelicState='Heterozygous', geneSymbol=None, hgncId=None, chrom=None, genomeBuild=None, sequenceId='NC_000007.14')\n",
    "cvc2 = pdCVC(origCoordSystem='0-based counting',seqType='rna',refAllele='',altAllele='',start=55181230,end=55181230, allelicState=' Homozygous', geneSymbol=None, hgncId=None, chrom=None, genomeBuild=None, sequenceId='NC_000007.14')\n",
    "print(cvc1)\n",
    "print(cvc2)\n"
   ]
  },
  {
   "cell_type": "code",
   "execution_count": 9,
   "metadata": {},
   "outputs": [
    {
     "name": "stdout",
     "output_type": "stream",
     "text": [
      "origCoordSystem='0-based interbase' seqType='DNA' refAllele='' altAllele='' start=55181230 end=55181230 allelicState='heterozygous' geneSymbol='ABCD1' hgncId=None chrom=None genomeBuild=None sequenceId='NC_000007.14'\n"
     ]
    }
   ],
   "source": [
    "#Testing the geneSymbol\n",
    "cvc1 = pdCVC(origCoordSystem='0-based interbase',seqType='dna',\n",
    "             refAllele='',altAllele='',start=55181230,end=55181230, allelicState='Heterozygous',\n",
    "             geneSymbol='ABCD1', hgncId=None, chrom=None, genomeBuild=None, sequenceId='NC_000007.14')\n",
    "print(cvc1)"
   ]
  },
  {
   "cell_type": "code",
   "execution_count": 10,
   "metadata": {},
   "outputs": [
    {
     "name": "stdout",
     "output_type": "stream",
     "text": [
      "origCoordSystem='0-based interbase' seqType='DNA' refAllele='' altAllele='' start=55181230 end=55181230 allelicState='heterozygous' geneSymbol='ABCD1' hgncId=1 chrom=None genomeBuild=None sequenceId='NC_000007.14'\n"
     ]
    }
   ],
   "source": [
    "#Testing the hgncId\n",
    "cvc1 = pdCVC(origCoordSystem='0-based interbase',seqType='dna',\n",
    "             refAllele='',altAllele='',start=55181230,end=55181230, allelicState='Heterozygous',\n",
    "             geneSymbol='ABCD1', hgncId=1, chrom=None, genomeBuild=None, sequenceId='NC_000007.14')\n",
    "print(cvc1)"
   ]
  },
  {
   "cell_type": "code",
   "execution_count": 11,
   "metadata": {},
   "outputs": [
    {
     "name": "stdout",
     "output_type": "stream",
     "text": [
      "origCoordSystem='0-based interbase' seqType='DNA' refAllele='' altAllele='' start=55181230 end=55181230 allelicState='heterozygous' geneSymbol='ABCD1' hgncId=1 chrom='1' genomeBuild=None sequenceId='NC_000007.14'\n",
      "origCoordSystem='0-based interbase' seqType='DNA' refAllele='' altAllele='' start=55181230 end=55181230 allelicState='heterozygous' geneSymbol='ABCD1' hgncId=1 chrom='1' genomeBuild=None sequenceId='NC_000007.14'\n",
      "origCoordSystem='0-based interbase' seqType='DNA' refAllele='' altAllele='' start=55181230 end=55181230 allelicState='heterozygous' geneSymbol='ABCD1' hgncId=1 chrom='1' genomeBuild=None sequenceId='NC_000007.14'\n"
     ]
    }
   ],
   "source": [
    "#Testing the chromosome\n",
    "cvc1 = pdCVC(origCoordSystem='0-based interbase',seqType='dna',\n",
    "             refAllele='',altAllele='',start=55181230,end=55181230, allelicState='Heterozygous',\n",
    "             geneSymbol='ABCD1', hgncId=1, chrom='1', genomeBuild=None, sequenceId='NC_000007.14')\n",
    "print(cvc1)\n",
    "cvc2 = pdCVC(origCoordSystem='0-based interbase',seqType='dna',\n",
    "             refAllele='',altAllele='',start=55181230,end=55181230, allelicState='Heterozygous',\n",
    "             geneSymbol='ABCD1', hgncId=1, chrom='chr 1', genomeBuild=None, sequenceId='NC_000007.14')\n",
    "print(cvc2)\n",
    "cvc3 = pdCVC(origCoordSystem='0-based interbase',seqType='dna',\n",
    "             refAllele='',altAllele='',start=55181230,end=55181230, allelicState='Heterozygous',\n",
    "             geneSymbol='ABCD1', hgncId=1, chrom='chr1', genomeBuild=None, sequenceId='NC_000007.14')\n",
    "print(cvc3)"
   ]
  },
  {
   "cell_type": "code",
   "execution_count": 12,
   "metadata": {},
   "outputs": [
    {
     "name": "stdout",
     "output_type": "stream",
     "text": [
      "origCoordSystem='0-based interbase' seqType='DNA' refAllele='' altAllele='GGCT' start=1 end=2 allelicState=None geneSymbol=None hgncId=None chrom=None genomeBuild=None sequenceId='NC_000007.14'\n"
     ]
    }
   ],
   "source": [
    "#Testing start and end\n",
    "cvc1 = pdCVC(origCoordSystem='0-based interbase',seqType='DNA',refAllele='',altAllele='GGCT',start=1,end=2, allelicState=None, geneSymbol=None, hgncId=None, chrom=None, genomeBuild=None, sequenceId='NC_000007.14')\n",
    "print(cvc1)"
   ]
  },
  {
   "cell_type": "code",
   "execution_count": 13,
   "metadata": {},
   "outputs": [
    {
     "name": "stdout",
     "output_type": "stream",
     "text": [
      "origCoordSystem='0-based interbase' seqType='RNA' refAllele='UUUU' altAllele='' start=1 end=2 allelicState=None geneSymbol=None hgncId=None chrom=None genomeBuild=None sequenceId='NC_000007.14'\n"
     ]
    }
   ],
   "source": [
    "#Testing reference allele should throw an error\n",
    "cvc1 = pdCVC(origCoordSystem='0-based interbase',seqType='RNA',refAllele='UUUU',altAllele='',start=1,end=2, allelicState=None, geneSymbol=None, hgncId=None, chrom=None, genomeBuild=None, sequenceId='NC_000007.14')\n",
    "print(cvc1)"
   ]
  },
  {
   "cell_type": "code",
   "execution_count": 14,
   "metadata": {},
   "outputs": [
    {
     "name": "stdout",
     "output_type": "stream",
     "text": [
      "origCoordSystem='0-based interbase' seqType='PROTEIN' refAllele='L' altAllele='P' start=1 end=2 allelicState=None geneSymbol=None hgncId=None chrom=None genomeBuild=None sequenceId='NC_000007.14'\n"
     ]
    }
   ],
   "source": [
    "#Testing alternative allele\n",
    "cvc1 = pdCVC(origCoordSystem='0-based interbase',seqType='PROTEIN',refAllele='L',altAllele='P',start=1,end=2, allelicState=None, geneSymbol=None, hgncId=None, chrom=None, genomeBuild=None, sequenceId='NC_000007.14')\n",
    "print(cvc1)"
   ]
  },
  {
   "cell_type": "code",
   "execution_count": null,
   "metadata": {},
   "outputs": [],
   "source": []
  }
 ],
 "metadata": {
  "kernelspec": {
   "display_name": "DraftCoreDataModel-MMFV8Z-X",
   "language": "python",
   "name": "python3"
  },
  "language_info": {
   "codemirror_mode": {
    "name": "ipython",
    "version": 3
   },
   "file_extension": ".py",
   "mimetype": "text/x-python",
   "name": "python",
   "nbconvert_exporter": "python",
   "pygments_lexer": "ipython3",
   "version": "3.11.5"
  }
 },
 "nbformat": 4,
 "nbformat_minor": 2
}
