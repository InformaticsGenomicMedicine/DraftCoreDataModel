{
 "cells": [
  {
   "cell_type": "code",
   "execution_count": 1,
   "metadata": {},
   "outputs": [
    {
     "name": "stderr",
     "output_type": "stream",
     "text": [
      "/Users/M278428/.local/share/virtualenvs/DraftCoreDataModel-MMFV8Z-X/lib/python3.11/site-packages/python_jsonschema_objects/__init__.py:46: UserWarning: Schema version http://json-schema.org/draft-07/schema not recognized. Some keywords and features may not be supported.\n",
      "  warnings.warn(\n"
     ]
    }
   ],
   "source": [
    "from src.pydan_cvc import pdCVC"
   ]
  },
  {
   "cell_type": "code",
   "execution_count": 2,
   "metadata": {},
   "outputs": [
    {
     "data": {
      "text/plain": [
       "pdCVC(origCoordSystem='1-based counting', seqType='DNA', refAllele='', altAllele='GGCT', start=3, end=5, allelicState=None, geneSymbol=None, hgncId=None, chrom=None, genomeBuild=None, sequenceId='NC_000007.14', notes='hello world')"
      ]
     },
     "execution_count": 2,
     "metadata": {},
     "output_type": "execute_result"
    }
   ],
   "source": [
    "# Create a pdCVC object\n",
    "cvc = pdCVC(origCoordSystem='1-based counting',seqType='DNA',refAllele='',altAllele='GGCT',start=3,end=5, allelicState=None, geneSymbol=None, hgncId=None, chrom=None, genomeBuild=None, sequenceId='NC_000007.14',notes = 'hello world')\n",
    "cvc"
   ]
  },
  {
   "cell_type": "code",
   "execution_count": 3,
   "metadata": {},
   "outputs": [
    {
     "data": {
      "text/plain": [
       "{'origCoordSystem': '1-based counting',\n",
       " 'seqType': 'DNA',\n",
       " 'allelicState': None,\n",
       " 'associatedGene': {'geneSymbol': None, 'hgncId': None},\n",
       " 'refAllele': '',\n",
       " 'altAllele': 'GGCT',\n",
       " 'position': {'chrom': None,\n",
       "  'genomeBuild': None,\n",
       "  'start': 3,\n",
       "  'end': 5,\n",
       "  'sequenceId': 'NC_000007.14'}}"
      ]
     },
     "execution_count": 3,
     "metadata": {},
     "output_type": "execute_result"
    }
   ],
   "source": [
    "cvc.normalized_data()"
   ]
  },
  {
   "cell_type": "code",
   "execution_count": 4,
   "metadata": {},
   "outputs": [
    {
     "data": {
      "text/plain": [
       "{'origCoordSystem': '1-based counting',\n",
       " 'seqType': 'DNA',\n",
       " 'refAllele': '',\n",
       " 'altAllele': 'GGCT',\n",
       " 'start': 3,\n",
       " 'end': 5,\n",
       " 'allelicState': None,\n",
       " 'geneSymbol': None,\n",
       " 'hgncId': None,\n",
       " 'chrom': None,\n",
       " 'genomeBuild': None,\n",
       " 'sequenceId': 'NC_000007.14',\n",
       " 'notes': 'hello world'}"
      ]
     },
     "execution_count": 4,
     "metadata": {},
     "output_type": "execute_result"
    }
   ],
   "source": [
    "cvc.model_dump()"
   ]
  },
  {
   "cell_type": "code",
   "execution_count": 5,
   "metadata": {},
   "outputs": [
    {
     "data": {
      "text/plain": [
       "{'notes': 'hello world'}"
      ]
     },
     "execution_count": 5,
     "metadata": {},
     "output_type": "execute_result"
    }
   ],
   "source": [
    "cvc.model_extra"
   ]
  },
  {
   "cell_type": "code",
   "execution_count": 6,
   "metadata": {},
   "outputs": [
    {
     "data": {
      "text/plain": [
       "{'allelicState',\n",
       " 'altAllele',\n",
       " 'chrom',\n",
       " 'end',\n",
       " 'geneSymbol',\n",
       " 'genomeBuild',\n",
       " 'hgncId',\n",
       " 'notes',\n",
       " 'origCoordSystem',\n",
       " 'refAllele',\n",
       " 'seqType',\n",
       " 'sequenceId',\n",
       " 'start'}"
      ]
     },
     "execution_count": 6,
     "metadata": {},
     "output_type": "execute_result"
    }
   ],
   "source": [
    "cvc.model_fields_set"
   ]
  },
  {
   "cell_type": "code",
   "execution_count": 7,
   "metadata": {},
   "outputs": [
    {
     "name": "stdout",
     "output_type": "stream",
     "text": [
      "{'services': '...'}\n"
     ]
    }
   ],
   "source": [
    "# https://github.com/pydantic/pydantic/issues/2285\n",
    "\n",
    "from typing import Any, Dict, Optional\n",
    "\n",
    "from pydantic import BaseModel, Field, model_validator\n",
    "\n",
    "\n",
    "class ComposeProject(BaseModel):\n",
    "    version: Optional[str] = Field(alias='version')  # just to show that it supports alias too\n",
    "    seqType: Optional[str] = Field(alias='seqType')\n",
    "    refAllele: Optional[str] = Field(alias='refAllele')\n",
    "    altAllele: Optional[str] = Field(alias='altAllele')\n",
    "    extra: Dict[str, Any]\n",
    "\n",
    "    @model_validator(mode='before')\n",
    "    def build_extra(cls, values: Dict[str, Any]) -> Dict[str, Any]:\n",
    "        # print(cls.model_fields.values())\n",
    "        all_required_field_names = {field.alias for field in cls.model_fields.values() if field.alias != 'extra'} \n",
    "        # print(all_required_field_names)\n",
    "        extra: Dict[str, Any] = {}\n",
    "        # print(extra)\n",
    "\n",
    "        for field_name in list(values):\n",
    "            # print(values)\n",
    "            #field_name = attributes names \n",
    "            if field_name not in all_required_field_names:\n",
    "                extra[field_name] = values.get(field_name, None)\n",
    "                \n",
    "        values['extra'] = extra\n",
    "        return values\n",
    "\n",
    "\n",
    "project = ComposeProject(**{\n",
    "  \"version\": \"3\",\n",
    "  \"seqType\": \"DNA\",\n",
    "  \"refAllele\": \"\",\n",
    "  \"altAllele\": \"GGCT\",\n",
    "  \"services\": '...'\n",
    "})\n",
    "# print(project)  # => '3'\n",
    "print(project.extra)  # => {'services': Ellipsis}"
   ]
  },
  {
   "cell_type": "code",
   "execution_count": 8,
   "metadata": {},
   "outputs": [
    {
     "name": "stdout",
     "output_type": "stream",
     "text": [
      "{'services': '...', 'extra': {'hi': '1'}}\n"
     ]
    }
   ],
   "source": [
    "#Salem's solution: reference: https://github.com/pydantic/pydantic/issues/2285\n",
    "from typing import Any, Dict, Optional\n",
    "\n",
    "from pydantic import BaseModel, Field, model_validator\n",
    "\n",
    "\n",
    "class ComposeProject(BaseModel):\n",
    "    version: Optional[str] = None #= Field(alias='version')  # just to show that it supports alias too\n",
    "    seqType: Optional[str] #= Field(alias='seqType')\n",
    "    refAllele: Optional[str] #= Field(alias='refAllele')\n",
    "    altAllele: Optional[str] #= Field(alias='altAllele')\n",
    "    extra: Dict[str, Any]\n",
    "\n",
    "    @model_validator(mode='before')\n",
    "    def build_extra(cls, values: Dict[str, Any]) -> Dict[str, Any]:\n",
    "        # print(cls.model_fields.values())\n",
    "        all_required_field_names = {field for field in cls.model_fields.keys() if field != 'extra'} \n",
    "        # print(all_required_field_names)\n",
    "        extra: Dict[str, Any] = {}\n",
    "        for field_name in list(values):\n",
    "            if field_name not in all_required_field_names:\n",
    "                extra[field_name] = values.get(field_name, None)\n",
    "                \n",
    "        values['extra'] = extra\n",
    "        return values\n",
    "\n",
    "\n",
    "project = ComposeProject(\n",
    "  version=\"3\",\n",
    "  seqType=\"DNA\",\n",
    "  refAllele=\"\",\n",
    "  altAllele=\"GGCT\",\n",
    "  services='...',\n",
    "  extra={'hi':'1'})\n",
    "# print(project)  # => '3'\n",
    "print(project.extra)  # => {'services': Ellipsis}"
   ]
  },
  {
   "cell_type": "code",
   "execution_count": 9,
   "metadata": {},
   "outputs": [
    {
     "name": "stdout",
     "output_type": "stream",
     "text": [
      "origCoordSystem='0-based interbase' seqType='DNA' refAllele='' altAllele='GGCT' start=55181230 end=55181230 allelicState=None geneSymbol=None hgncId=None chrom=None genomeBuild=None sequenceId='NC_000007.14'\n",
      "origCoordSystem='0-based counting' seqType='DNA' refAllele='' altAllele='GGCT' start=55181230 end=55181230 allelicState=None geneSymbol=None hgncId=None chrom=None genomeBuild=None sequenceId='NC_000007.14'\n",
      "origCoordSystem='1-based counting' seqType='DNA' refAllele='' altAllele='GGCT' start=55181230 end=55181230 allelicState=None geneSymbol=None hgncId=None chrom=None genomeBuild=None sequenceId='NC_000007.14'\n"
     ]
    }
   ],
   "source": [
    "#Testing the origCoordSystem\n",
    "cvc1 = pdCVC(origCoordSystem='0-based interbase',seqType='DNA',refAllele='',altAllele='GGCT',start=55181230,end=55181230, allelicState=None, geneSymbol=None, hgncId=None, chrom=None, genomeBuild=None, sequenceId='NC_000007.14')\n",
    "cvc2 = pdCVC(origCoordSystem='0-based counting',seqType='DNA',refAllele='',altAllele='GGCT',start=55181230,end=55181230, allelicState=None, geneSymbol=None, hgncId=None, chrom=None, genomeBuild=None, sequenceId='NC_000007.14')\n",
    "cvc3 = pdCVC(origCoordSystem='1-based counting',seqType='DNA',refAllele='',altAllele='GGCT',start=55181230,end=55181230, allelicState=None, geneSymbol=None, hgncId=None, chrom=None, genomeBuild=None, sequenceId='NC_000007.14')\n",
    "print(cvc1)\n",
    "print(cvc2)\n",
    "print(cvc3)"
   ]
  },
  {
   "cell_type": "code",
   "execution_count": 10,
   "metadata": {},
   "outputs": [
    {
     "name": "stdout",
     "output_type": "stream",
     "text": [
      "origCoordSystem='0-based interbase' seqType='DNA' refAllele='' altAllele='' start=55181230 end=55181230 allelicState=None geneSymbol=None hgncId=None chrom=None genomeBuild=None sequenceId='NC_000007.14'\n",
      "origCoordSystem='0-based counting' seqType='RNA' refAllele='' altAllele='' start=55181230 end=55181230 allelicState=None geneSymbol=None hgncId=None chrom=None genomeBuild=None sequenceId='NC_000007.14'\n",
      "origCoordSystem='1-based counting' seqType='PROTEIN' refAllele='' altAllele='' start=55181230 end=55181230 allelicState=None geneSymbol=None hgncId=None chrom=None genomeBuild=None sequenceId='NC_000007.14'\n"
     ]
    }
   ],
   "source": [
    "#Testing the SequenceType\n",
    "cvc1 = pdCVC(origCoordSystem='0-based interbase',seqType='dna',refAllele='',altAllele='',start=55181230,end=55181230, allelicState=None, geneSymbol=None, hgncId=None, chrom=None, genomeBuild=None, sequenceId='NC_000007.14')\n",
    "cvc2 = pdCVC(origCoordSystem='0-based counting',seqType='rna',refAllele='',altAllele='',start=55181230,end=55181230, allelicState=None, geneSymbol=None, hgncId=None, chrom=None, genomeBuild=None, sequenceId='NC_000007.14')\n",
    "cvc3 = pdCVC(origCoordSystem='1-based counting',seqType='PROTEIN   ',refAllele='',altAllele='',start=55181230,end=55181230, allelicState=None, geneSymbol=None, hgncId=None, chrom=None, genomeBuild=None, sequenceId='NC_000007.14')\n",
    "print(cvc1)\n",
    "print(cvc2)\n",
    "print(cvc3)"
   ]
  },
  {
   "cell_type": "code",
   "execution_count": 11,
   "metadata": {},
   "outputs": [
    {
     "name": "stdout",
     "output_type": "stream",
     "text": [
      "origCoordSystem='0-based interbase' seqType='DNA' refAllele='' altAllele='' start=55181230 end=55181230 allelicState='heterozygous' geneSymbol=None hgncId=None chrom=None genomeBuild=None sequenceId='NC_000007.14'\n",
      "origCoordSystem='0-based counting' seqType='RNA' refAllele='' altAllele='' start=55181230 end=55181230 allelicState='homozygous' geneSymbol=None hgncId=None chrom=None genomeBuild=None sequenceId='NC_000007.14'\n"
     ]
    }
   ],
   "source": [
    "#Testing the allelicState\n",
    "cvc1 = pdCVC(origCoordSystem='0-based interbase',seqType='dna',refAllele='',altAllele='',start=55181230,end=55181230, allelicState='Heterozygous', geneSymbol=None, hgncId=None, chrom=None, genomeBuild=None, sequenceId='NC_000007.14')\n",
    "cvc2 = pdCVC(origCoordSystem='0-based counting',seqType='rna',refAllele='',altAllele='',start=55181230,end=55181230, allelicState=' Homozygous', geneSymbol=None, hgncId=None, chrom=None, genomeBuild=None, sequenceId='NC_000007.14')\n",
    "print(cvc1)\n",
    "print(cvc2)\n"
   ]
  },
  {
   "cell_type": "code",
   "execution_count": 12,
   "metadata": {},
   "outputs": [
    {
     "name": "stdout",
     "output_type": "stream",
     "text": [
      "origCoordSystem='0-based interbase' seqType='DNA' refAllele='' altAllele='' start=55181230 end=55181230 allelicState='heterozygous' geneSymbol='ABCD1' hgncId=None chrom=None genomeBuild=None sequenceId='NC_000007.14'\n"
     ]
    }
   ],
   "source": [
    "#Testing the geneSymbol\n",
    "cvc1 = pdCVC(origCoordSystem='0-based interbase',seqType='dna',\n",
    "             refAllele='',altAllele='',start=55181230,end=55181230, allelicState='Heterozygous',\n",
    "             geneSymbol='ABCD1', hgncId=None, chrom=None, genomeBuild=None, sequenceId='NC_000007.14')\n",
    "print(cvc1)"
   ]
  },
  {
   "cell_type": "code",
   "execution_count": 13,
   "metadata": {},
   "outputs": [
    {
     "name": "stdout",
     "output_type": "stream",
     "text": [
      "origCoordSystem='0-based interbase' seqType='DNA' refAllele='' altAllele='' start=55181230 end=55181230 allelicState='heterozygous' geneSymbol='ABCD1' hgncId=1 chrom=None genomeBuild=None sequenceId='NC_000007.14'\n"
     ]
    }
   ],
   "source": [
    "#Testing the hgncId\n",
    "cvc1 = pdCVC(origCoordSystem='0-based interbase',seqType='dna',\n",
    "             refAllele='',altAllele='',start=55181230,end=55181230, allelicState='Heterozygous',\n",
    "             geneSymbol='ABCD1', hgncId=1, chrom=None, genomeBuild=None, sequenceId='NC_000007.14')\n",
    "print(cvc1)"
   ]
  },
  {
   "cell_type": "code",
   "execution_count": 14,
   "metadata": {},
   "outputs": [
    {
     "name": "stdout",
     "output_type": "stream",
     "text": [
      "origCoordSystem='0-based interbase' seqType='DNA' refAllele='' altAllele='' start=55181230 end=55181230 allelicState='heterozygous' geneSymbol='ABCD1' hgncId=1 chrom='1' genomeBuild=None sequenceId='NC_000007.14'\n",
      "origCoordSystem='0-based interbase' seqType='DNA' refAllele='' altAllele='' start=55181230 end=55181230 allelicState='heterozygous' geneSymbol='ABCD1' hgncId=1 chrom='1' genomeBuild=None sequenceId='NC_000007.14'\n",
      "origCoordSystem='0-based interbase' seqType='DNA' refAllele='' altAllele='' start=55181230 end=55181230 allelicState='heterozygous' geneSymbol='ABCD1' hgncId=1 chrom='1' genomeBuild=None sequenceId='NC_000007.14'\n"
     ]
    }
   ],
   "source": [
    "#Testing the chromosome\n",
    "cvc1 = pdCVC(origCoordSystem='0-based interbase',seqType='dna',\n",
    "             refAllele='',altAllele='',start=55181230,end=55181230, allelicState='Heterozygous',\n",
    "             geneSymbol='ABCD1', hgncId=1, chrom='1', genomeBuild=None, sequenceId='NC_000007.14')\n",
    "print(cvc1)\n",
    "cvc2 = pdCVC(origCoordSystem='0-based interbase',seqType='dna',\n",
    "             refAllele='',altAllele='',start=55181230,end=55181230, allelicState='Heterozygous',\n",
    "             geneSymbol='ABCD1', hgncId=1, chrom='chr 1', genomeBuild=None, sequenceId='NC_000007.14')\n",
    "print(cvc2)\n",
    "cvc3 = pdCVC(origCoordSystem='0-based interbase',seqType='dna',\n",
    "             refAllele='',altAllele='',start=55181230,end=55181230, allelicState='Heterozygous',\n",
    "             geneSymbol='ABCD1', hgncId=1, chrom='chr1', genomeBuild=None, sequenceId='NC_000007.14')\n",
    "print(cvc3)"
   ]
  },
  {
   "cell_type": "code",
   "execution_count": 15,
   "metadata": {},
   "outputs": [
    {
     "name": "stdout",
     "output_type": "stream",
     "text": [
      "origCoordSystem='0-based interbase' seqType='DNA' refAllele='' altAllele='GGCT' start=1 end=2 allelicState=None geneSymbol=None hgncId=None chrom=None genomeBuild=None sequenceId='NC_000007.14'\n"
     ]
    }
   ],
   "source": [
    "#Testing start and end\n",
    "cvc1 = pdCVC(origCoordSystem='0-based interbase',seqType='DNA',refAllele='',altAllele='GGCT',start=1,end=2, allelicState=None, geneSymbol=None, hgncId=None, chrom=None, genomeBuild=None, sequenceId='NC_000007.14')\n",
    "print(cvc1)"
   ]
  },
  {
   "cell_type": "code",
   "execution_count": 16,
   "metadata": {},
   "outputs": [
    {
     "ename": "ValidationError",
     "evalue": "1 validation error for pdCVC\nrefAllele\n  Value error, Invalid reference Allele input: \"Z\". Value need to match regular expression patter:(^[ACGU]*$ or ^\\d+$). [type=value_error, input_value='Z', input_type=str]\n    For further information visit https://errors.pydantic.dev/2.5/v/value_error",
     "output_type": "error",
     "traceback": [
      "\u001b[0;31m---------------------------------------------------------------------------\u001b[0m",
      "\u001b[0;31mValidationError\u001b[0m                           Traceback (most recent call last)",
      "Cell \u001b[0;32mIn[16], line 2\u001b[0m\n\u001b[1;32m      1\u001b[0m \u001b[38;5;66;03m#Testing reference allele\u001b[39;00m\n\u001b[0;32m----> 2\u001b[0m cvc1 \u001b[38;5;241m=\u001b[39m \u001b[43mpdCVC\u001b[49m\u001b[43m(\u001b[49m\u001b[43morigCoordSystem\u001b[49m\u001b[38;5;241;43m=\u001b[39;49m\u001b[38;5;124;43m'\u001b[39;49m\u001b[38;5;124;43m0-based interbase\u001b[39;49m\u001b[38;5;124;43m'\u001b[39;49m\u001b[43m,\u001b[49m\u001b[43mseqType\u001b[49m\u001b[38;5;241;43m=\u001b[39;49m\u001b[38;5;124;43m'\u001b[39;49m\u001b[38;5;124;43mRNA\u001b[39;49m\u001b[38;5;124;43m'\u001b[39;49m\u001b[43m,\u001b[49m\u001b[43mrefAllele\u001b[49m\u001b[38;5;241;43m=\u001b[39;49m\u001b[38;5;124;43m'\u001b[39;49m\u001b[38;5;124;43mZ\u001b[39;49m\u001b[38;5;124;43m'\u001b[39;49m\u001b[43m,\u001b[49m\u001b[43maltAllele\u001b[49m\u001b[38;5;241;43m=\u001b[39;49m\u001b[38;5;124;43m'\u001b[39;49m\u001b[38;5;124;43m'\u001b[39;49m\u001b[43m,\u001b[49m\u001b[43mstart\u001b[49m\u001b[38;5;241;43m=\u001b[39;49m\u001b[38;5;241;43m1\u001b[39;49m\u001b[43m,\u001b[49m\u001b[43mend\u001b[49m\u001b[38;5;241;43m=\u001b[39;49m\u001b[38;5;241;43m2\u001b[39;49m\u001b[43m,\u001b[49m\u001b[43m \u001b[49m\u001b[43mallelicState\u001b[49m\u001b[38;5;241;43m=\u001b[39;49m\u001b[38;5;28;43;01mNone\u001b[39;49;00m\u001b[43m,\u001b[49m\u001b[43m \u001b[49m\u001b[43mgeneSymbol\u001b[49m\u001b[38;5;241;43m=\u001b[39;49m\u001b[38;5;28;43;01mNone\u001b[39;49;00m\u001b[43m,\u001b[49m\u001b[43m \u001b[49m\u001b[43mhgncId\u001b[49m\u001b[38;5;241;43m=\u001b[39;49m\u001b[38;5;28;43;01mNone\u001b[39;49;00m\u001b[43m,\u001b[49m\u001b[43m \u001b[49m\u001b[43mchrom\u001b[49m\u001b[38;5;241;43m=\u001b[39;49m\u001b[38;5;28;43;01mNone\u001b[39;49;00m\u001b[43m,\u001b[49m\u001b[43m \u001b[49m\u001b[43mgenomeBuild\u001b[49m\u001b[38;5;241;43m=\u001b[39;49m\u001b[38;5;28;43;01mNone\u001b[39;49;00m\u001b[43m,\u001b[49m\u001b[43m \u001b[49m\u001b[43msequenceId\u001b[49m\u001b[38;5;241;43m=\u001b[39;49m\u001b[38;5;124;43m'\u001b[39;49m\u001b[38;5;124;43mNC_000007.14\u001b[39;49m\u001b[38;5;124;43m'\u001b[39;49m\u001b[43m)\u001b[49m\n\u001b[1;32m      3\u001b[0m \u001b[38;5;28mprint\u001b[39m(cvc1)\n",
      "File \u001b[0;32m~/.local/share/virtualenvs/DraftCoreDataModel-MMFV8Z-X/lib/python3.11/site-packages/pydantic/main.py:164\u001b[0m, in \u001b[0;36mBaseModel.__init__\u001b[0;34m(__pydantic_self__, **data)\u001b[0m\n\u001b[1;32m    162\u001b[0m \u001b[38;5;66;03m# `__tracebackhide__` tells pytest and some other tools to omit this function from tracebacks\u001b[39;00m\n\u001b[1;32m    163\u001b[0m __tracebackhide__ \u001b[38;5;241m=\u001b[39m \u001b[38;5;28;01mTrue\u001b[39;00m\n\u001b[0;32m--> 164\u001b[0m \u001b[43m__pydantic_self__\u001b[49m\u001b[38;5;241;43m.\u001b[39;49m\u001b[43m__pydantic_validator__\u001b[49m\u001b[38;5;241;43m.\u001b[39;49m\u001b[43mvalidate_python\u001b[49m\u001b[43m(\u001b[49m\u001b[43mdata\u001b[49m\u001b[43m,\u001b[49m\u001b[43m \u001b[49m\u001b[43mself_instance\u001b[49m\u001b[38;5;241;43m=\u001b[39;49m\u001b[43m__pydantic_self__\u001b[49m\u001b[43m)\u001b[49m\n",
      "\u001b[0;31mValidationError\u001b[0m: 1 validation error for pdCVC\nrefAllele\n  Value error, Invalid reference Allele input: \"Z\". Value need to match regular expression patter:(^[ACGU]*$ or ^\\d+$). [type=value_error, input_value='Z', input_type=str]\n    For further information visit https://errors.pydantic.dev/2.5/v/value_error"
     ]
    }
   ],
   "source": [
    "#Testing reference allele\n",
    "cvc1 = pdCVC(origCoordSystem='0-based interbase',seqType='RNA',refAllele='Z',altAllele='',start=1,end=2, allelicState=None, geneSymbol=None, hgncId=None, chrom=None, genomeBuild=None, sequenceId='NC_000007.14')\n",
    "print(cvc1)"
   ]
  },
  {
   "cell_type": "code",
   "execution_count": null,
   "metadata": {},
   "outputs": [],
   "source": [
    "#Testing alternative allele\n",
    "cvc1 = pdCVC(origCoordSystem='0-based interbase',seqType='DNA',refAllele='',altAllele='',start=1,end=2, allelicState=None, geneSymbol=None, hgncId=None, chrom=None, genomeBuild=None, sequenceId='NC_000007.14')\n",
    "print(cvc1)"
   ]
  }
 ],
 "metadata": {
  "kernelspec": {
   "display_name": "DraftCoreDataModel-MMFV8Z-X",
   "language": "python",
   "name": "python3"
  },
  "language_info": {
   "codemirror_mode": {
    "name": "ipython",
    "version": 3
   },
   "file_extension": ".py",
   "mimetype": "text/x-python",
   "name": "python",
   "nbconvert_exporter": "python",
   "pygments_lexer": "ipython3",
   "version": "3.11.5"
  }
 },
 "nbformat": 4,
 "nbformat_minor": 2
}
