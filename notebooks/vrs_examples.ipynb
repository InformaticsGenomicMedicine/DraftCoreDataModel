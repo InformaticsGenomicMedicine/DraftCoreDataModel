{
 "cells": [
  {
   "cell_type": "code",
   "execution_count": 1,
   "metadata": {},
   "outputs": [
    {
     "name": "stderr",
     "output_type": "stream",
     "text": [
      "/Users/M278428/.local/share/virtualenvs/DraftCoreDataModel-MMFV8Z-X/lib/python3.11/site-packages/python_jsonschema_objects/__init__.py:46: UserWarning: Schema version http://json-schema.org/draft-07/schema not recognized. Some keywords and features may not be supported.\n",
      "  warnings.warn(\n"
     ]
    }
   ],
   "source": [
    "from src.vrs.vrs_utils import VrsTranslate\n",
    "vrsTranslate = VrsTranslate()"
   ]
  },
  {
   "cell_type": "code",
   "execution_count": 2,
   "metadata": {},
   "outputs": [
    {
     "data": {
      "text/plain": [
       "<Allele _id=None location=<SequenceLocation _id=None interval=<SequenceInterval end=<Number type=<Literal<str> Number> value=<Literal<int> 44908822>> start=<Number type=<Literal<str> Number> value=<Literal<int> 44908821>> type=<Literal<str> SequenceInterval>> sequence_id=<Literal<str> ga4gh:SQ.IIB53T8CNeJJdUqzn9V_JnRtQadwWCbl> type=<Literal<str> SequenceLocation>> state=<LiteralSequenceExpression sequence=<Literal<str> T> type=<Literal<str> LiteralSequenceExpression>> type=<Literal<str> Allele>>"
      ]
     },
     "execution_count": 2,
     "metadata": {},
     "output_type": "execute_result"
    }
   ],
   "source": [
    "# Creating a VRS Allele object \n",
    "# For more information please refer the vrs documentation and vrs-python github repository\n",
    "# Citation: https://vrs.ga4gh.org/en/stable/ and https://github.com/ga4gh/vrs-python\n",
    "\n",
    "from ga4gh.vrs import models\n",
    "\n",
    "# VRS Examples based off of this hgvs expression: \"NC_000019.10:g.44908822C>T\"\n",
    "allele = models.Allele(\n",
    "location = models.SequenceLocation(\n",
    "    sequence_id = \"ga4gh:SQ.IIB53T8CNeJJdUqzn9V_JnRtQadwWCbl\", \n",
    "    interval = models.SequenceInterval(\n",
    "        start = models.Number(value=44908821, type=\"Number\"),\n",
    "        end = models.Number(value=44908822, type=\"Number\"),\n",
    "        type=\"SequenceInterval\"\n",
    "    ),\n",
    "    type=\"SequenceLocation\"),\n",
    "state = models.SequenceExpression(\n",
    "    sequence = \"T\",\n",
    "    type=\"LiteralSequenceExpression\"\n",
    "),\n",
    "type=\"Allele\")\n",
    "\n",
    "allele\n"
   ]
  },
  {
   "cell_type": "markdown",
   "metadata": {},
   "source": [
    "#### VRS Translation\n",
    "* vrs_utils.py is designed to translate VRS expression to SPDI expressions and HGVS expressions.\n",
    "* This module is able to preform these translations by utilizing vrs-python translator module, but we added the ability to allow the input data be a VRS object or dictionary format.\n"
   ]
  },
  {
   "cell_type": "code",
   "execution_count": 3,
   "metadata": {},
   "outputs": [
    {
     "data": {
      "text/plain": [
       "'NC_000019.10:44908821:1:T'"
      ]
     },
     "execution_count": 3,
     "metadata": {},
     "output_type": "execute_result"
    }
   ],
   "source": [
    "# Translate a VRS object to a SPDI string \n",
    "vrsTranslate.from_vrs_to_spdi(allele)"
   ]
  },
  {
   "cell_type": "code",
   "execution_count": 4,
   "metadata": {},
   "outputs": [
    {
     "data": {
      "text/plain": [
       "'NC_000019.10:44908821:1:T'"
      ]
     },
     "execution_count": 4,
     "metadata": {},
     "output_type": "execute_result"
    }
   ],
   "source": [
    "# Translate VRS dictionary to SPDI string\n",
    "vrsTranslate.from_vrs_to_spdi(allele.as_dict())"
   ]
  },
  {
   "cell_type": "code",
   "execution_count": 5,
   "metadata": {},
   "outputs": [
    {
     "data": {
      "text/plain": [
       "'NC_000019.10:g.44908822C>T'"
      ]
     },
     "execution_count": 5,
     "metadata": {},
     "output_type": "execute_result"
    }
   ],
   "source": [
    "# Translate a VRS object to HGVS expression string \n",
    "vrsTranslate.from_vrs_to_normalize_hgvs(allele)"
   ]
  },
  {
   "cell_type": "code",
   "execution_count": 6,
   "metadata": {},
   "outputs": [
    {
     "data": {
      "text/plain": [
       "'NC_000019.10:g.44908822C>T'"
      ]
     },
     "execution_count": 6,
     "metadata": {},
     "output_type": "execute_result"
    }
   ],
   "source": [
    "# Translate a VRS dictionary to HGVS expression string \n",
    "vrsTranslate.from_vrs_to_normalize_hgvs(allele.as_dict())"
   ]
  },
  {
   "cell_type": "code",
   "execution_count": 7,
   "metadata": {},
   "outputs": [],
   "source": [
    "from src.core_variant_translate import CVCTranslator\n",
    "cvcTranslator = CVCTranslator()"
   ]
  },
  {
   "cell_type": "code",
   "execution_count": 8,
   "metadata": {},
   "outputs": [],
   "source": [
    "vrsList = [\n",
    "        {'_id': 'ga4gh:VA.JKGCs07cFu2wlDydCAe2ea06jMFXyK56', 'type': 'Allele', 'location': {'_id': 'ga4gh:VSL.SdvAZCNKh5kf6ClsiOOmw_88fbkFPTqG', 'type': 'SequenceLocation', 'sequence_id': 'ga4gh:SQ.F-LrLMe1SRpfUZHkQmvkVKFEGaoDeHul', 'interval': {'type': 'SequenceInterval', 'start': {'type': 'Number', 'value': 55181230}, 'end': {'type': 'Number', 'value': 55181230}}}, 'state': {'type': 'LiteralSequenceExpression', 'sequence': 'GGCT'}},\n",
    "        {'_id': 'ga4gh:VA.CxiA_hvYbkD8Vqwjhx5AYuyul4mtlkpD', 'type': 'Allele', 'location': {'_id': 'ga4gh:VSL.QrRSuBj-VScAGV_gEdxNgsnh41jYH1Kg', 'type': 'SequenceLocation', 'sequence_id': 'ga4gh:SQ.IIB53T8CNeJJdUqzn9V_JnRtQadwWCbl', 'interval': {'type': 'SequenceInterval', 'start': {'type': 'Number', 'value': 44908821}, 'end': {'type': 'Number', 'value': 44908822}}}, 'state': {'type': 'LiteralSequenceExpression', 'sequence': 'T'}},\n",
    "        {'_id': 'ga4gh:VA.h6WuolTwZJYZh86qP2a8YVA1WXpHuY_X', 'type': 'Allele', 'location': {'_id': 'ga4gh:VSL.kB_ok6Eka0225QwwbOKtvcYZBz7Z0mSR', 'type': 'SequenceLocation', 'sequence_id': 'ga4gh:SQ.F-LrLMe1SRpfUZHkQmvkVKFEGaoDeHul', 'interval': {'type': 'SequenceInterval', 'start': {'type': 'Number', 'value': 55181219}, 'end': {'type': 'Number', 'value': 55181220}}}, 'state': {'type': 'LiteralSequenceExpression', 'sequence': ''}},\n",
    "        {'_id': 'ga4gh:VA.HH3RHjZymrie-09X8aR2SMf1ULMlee6u', 'type': 'Allele', 'location': {'_id': 'ga4gh:VSL.tS45HvJapFexhxmbHe6SBn7dGuC46sni', 'type': 'SequenceLocation', 'sequence_id': 'ga4gh:SQ.w0WZEvgJF0zf_P4yyTzjjv9oW1z61HHP', 'interval': {'type': 'SequenceInterval', 'start': {'type': 'Number', 'value': 32386322}, 'end': {'type': 'Number', 'value': 32386323}}}, 'state': {'type': 'LiteralSequenceExpression', 'sequence': 'GA'}},\n",
    "        {'_id': 'ga4gh:VA.DkZLLMnwoH6zIncSRh2c05nzCNLdTqHl', 'type': 'Allele', 'location': {'_id': 'ga4gh:VSL.iSZclbNW8T95cXDuNvLMvm6xJd2g4pTn', 'type': 'SequenceLocation', 'sequence_id': 'ga4gh:SQ._0wi-qoDrvram155UmcSC-zA5ZK4fpLT', 'interval': {'type': 'SequenceInterval', 'start': {'type': 'Number', 'value': 32936731}, 'end': {'type': 'Number', 'value': 32936732}}}, 'state': {'type': 'LiteralSequenceExpression', 'sequence': 'C'}},\n",
    "        {'_id': 'ga4gh:VA.S3eUS2hlp6q4pSv4u2CbN0OPMusMUnHZ', 'type': 'Allele', 'location': {'_id': 'ga4gh:VSL.nW80UuWsc9bgMncP24FLII6qx8aouNki', 'type': 'SequenceLocation', 'sequence_id': 'ga4gh:SQ._0wi-qoDrvram155UmcSC-zA5ZK4fpLT', 'interval': {'type': 'SequenceInterval', 'start': {'type': 'Number', 'value': 19993837}, 'end': {'type': 'Number', 'value': 19993839}}}, 'state': {'type': 'LiteralSequenceExpression', 'sequence': 'GTGT'}}\n",
    "        ]"
   ]
  },
  {
   "cell_type": "code",
   "execution_count": 9,
   "metadata": {},
   "outputs": [
    {
     "name": "stdout",
     "output_type": "stream",
     "text": [
      "CoreVariantClass(0-based interbase,DNA,,GGCT,55181230,55181230,None,None,None,None,None,NC_000007.14,{})\n",
      "CoreVariantClass(0-based interbase,DNA,C,T,44908821,44908822,None,None,None,None,None,NC_000019.10,{})\n",
      "CoreVariantClass(0-based interbase,DNA,T,,55181219,55181220,None,None,None,None,None,NC_000007.14,{})\n",
      "CoreVariantClass(0-based interbase,DNA,T,GA,32386322,32386323,None,None,None,None,None,NC_000023.11,{})\n",
      "CoreVariantClass(0-based interbase,DNA,C,C,32936731,32936732,None,None,None,None,None,NC_000013.11,{})\n",
      "CoreVariantClass(0-based interbase,DNA,GT,GTGT,19993837,19993839,None,None,None,None,None,NC_000013.11,{})\n"
     ]
    }
   ],
   "source": [
    "# Converting VRS dictionary to VRS Allele object\n",
    "vrsAlleles = []\n",
    "for vrs in vrsList: \n",
    "    vrsAlleles.append(models.Allele(**vrs))\n",
    "    \n",
    "# Converting VRS objects to CVC objects\n",
    "for allele in vrsAlleles:\n",
    "    print(cvcTranslator.vrs_to_cvc(allele))"
   ]
  },
  {
   "cell_type": "code",
   "execution_count": null,
   "metadata": {},
   "outputs": [],
   "source": []
  }
 ],
 "metadata": {
  "kernelspec": {
   "display_name": "test_dev_vrs_installation",
   "language": "python",
   "name": "python3"
  },
  "language_info": {
   "codemirror_mode": {
    "name": "ipython",
    "version": 3
   },
   "file_extension": ".py",
   "mimetype": "text/x-python",
   "name": "python",
   "nbconvert_exporter": "python",
   "pygments_lexer": "ipython3",
   "version": "3.11.5"
  }
 },
 "nbformat": 4,
 "nbformat_minor": 2
}
