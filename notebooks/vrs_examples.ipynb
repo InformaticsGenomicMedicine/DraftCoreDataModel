{
 "cells": [
  {
   "cell_type": "code",
   "execution_count": 1,
   "metadata": {},
   "outputs": [
    {
     "name": "stderr",
     "output_type": "stream",
     "text": [
      "/Users/M278428/opt/anaconda3/envs/test_dev_vrs_installation/lib/python3.9/site-packages/python_jsonschema_objects/__init__.py:49: UserWarning: Schema version http://json-schema.org/draft-07/schema not recognized. Some keywords and features may not be supported.\n",
      "  warnings.warn(\n"
     ]
    }
   ],
   "source": [
    "from src.vrs.vrs_utils import VrsTranslate\n",
    "vrsTranslate = VrsTranslate()"
   ]
  },
  {
   "cell_type": "code",
   "execution_count": 5,
   "metadata": {},
   "outputs": [
    {
     "data": {
      "text/plain": [
       "<Allele _id=None location=<SequenceLocation _id=None interval=<SequenceInterval end=<Number type=<Literal<str> Number> value=<Literal<int> 80231>> start=<Number type=<Literal<str> Number> value=<Literal<int> 80230>> type=<Literal<str> SequenceInterval>> sequence_id=<Literal<str> ga4gh:SQ.anxusr2xpHohwCtHliVIYnrMwDSYteSO> type=<Literal<str> SequenceLocation>> state=<LiteralSequenceExpression sequence=<Literal<str> A> type=<Literal<str> LiteralSequenceExpression>> type=<Literal<str> Allele>>"
      ]
     },
     "execution_count": 5,
     "metadata": {},
     "output_type": "execute_result"
    }
   ],
   "source": [
    "# Creating a VRS Allele object \n",
    "# For more information please refer the vrs documentation and vrs-python github repository\n",
    "# Citation: https://vrs.ga4gh.org/en/stable/ and https://github.com/ga4gh/vrs-python\n",
    "\n",
    "from ga4gh.vrs import models\n",
    "\n",
    "allele = models.Allele(\n",
    "location = models.SequenceLocation(\n",
    "    sequence_id = 'ga4gh:SQ.anxusr2xpHohwCtHliVIYnrMwDSYteSO',\n",
    "    interval = models.SequenceInterval(\n",
    "        start = models.Number(value=80230, type=\"Number\"),\n",
    "        end = models.Number(value=80231, type=\"Number\"),\n",
    "        type=\"SequenceInterval\"\n",
    "    ),\n",
    "    type=\"SequenceLocation\"),\n",
    "state = models.SequenceExpression(\n",
    "    sequence = \"A\",\n",
    "    type=\"LiteralSequenceExpression\"\n",
    "),\n",
    "type=\"Allele\")\n",
    "\n",
    "allele\n"
   ]
  },
  {
   "cell_type": "markdown",
   "metadata": {},
   "source": [
    "#### VRS Translation\n",
    "* vrs_utils.py is designed to translate VRS expression to SPDI expressions and HGVS expressions.\n",
    "* This module is able to preform these translations by utilizing vrs-python translator module, but we added the ability to allow the input data be a VRS object or dictionary format.\n"
   ]
  },
  {
   "cell_type": "code",
   "execution_count": 6,
   "metadata": {},
   "outputs": [
    {
     "data": {
      "text/plain": [
       "'NM_001267550.2:80230:1:A'"
      ]
     },
     "execution_count": 6,
     "metadata": {},
     "output_type": "execute_result"
    }
   ],
   "source": [
    "# Translate a VRS object to a SPDI string \n",
    "vrsTranslate.from_vrs_to_spdi(allele)"
   ]
  },
  {
   "cell_type": "code",
   "execution_count": 8,
   "metadata": {},
   "outputs": [
    {
     "data": {
      "text/plain": [
       "'NM_001267550.2:80230:1:A'"
      ]
     },
     "execution_count": 8,
     "metadata": {},
     "output_type": "execute_result"
    }
   ],
   "source": [
    "# Translate VRS dictionary to SPDI string\n",
    "vrsTranslate.from_vrs_to_spdi(allele.as_dict())"
   ]
  },
  {
   "cell_type": "code",
   "execution_count": 9,
   "metadata": {},
   "outputs": [
    {
     "data": {
      "text/plain": [
       "'NM_001267550.2:n.80231G>A'"
      ]
     },
     "execution_count": 9,
     "metadata": {},
     "output_type": "execute_result"
    }
   ],
   "source": [
    "# Translate a VRS object to HGVS expression string \n",
    "vrsTranslate.from_vrs_to_normalize_hgvs(allele)"
   ]
  },
  {
   "cell_type": "code",
   "execution_count": 10,
   "metadata": {},
   "outputs": [
    {
     "data": {
      "text/plain": [
       "'NM_001267550.2:n.80231G>A'"
      ]
     },
     "execution_count": 10,
     "metadata": {},
     "output_type": "execute_result"
    }
   ],
   "source": [
    "# Translate a VRS dictionary to HGVS expression string \n",
    "vrsTranslate.from_vrs_to_normalize_hgvs(allele.as_dict())"
   ]
  }
 ],
 "metadata": {
  "kernelspec": {
   "display_name": "test_dev_vrs_installation",
   "language": "python",
   "name": "python3"
  },
  "language_info": {
   "codemirror_mode": {
    "name": "ipython",
    "version": 3
   },
   "file_extension": ".py",
   "mimetype": "text/x-python",
   "name": "python",
   "nbconvert_exporter": "python",
   "pygments_lexer": "ipython3",
   "version": "3.9.15"
  }
 },
 "nbformat": 4,
 "nbformat_minor": 2
}
