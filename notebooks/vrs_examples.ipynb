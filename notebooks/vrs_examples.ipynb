{
 "cells": [
  {
   "cell_type": "code",
   "execution_count": 8,
   "metadata": {},
   "outputs": [],
   "source": [
    "import sys\n",
    "sys.path.append('..')\n",
    "\n",
    "from src.vrs.vrs_utils import VrsTranslate\n",
    "\n",
    "vrsTranslate = VrsTranslate()"
   ]
  },
  {
   "cell_type": "code",
   "execution_count": 9,
   "metadata": {},
   "outputs": [],
   "source": [
    "from ga4gh.vrs import models\n",
    "\n",
    "# NOTE: this example was taken from the vrs-python library notebook.\n",
    "allele = models.Allele(\n",
    "location = models.SequenceLocation(\n",
    "    sequence_id = 'ga4gh:SQ._0wi-qoDrvram155UmcSC-zA5ZK4fpLT',\n",
    "    interval = models.SequenceInterval(\n",
    "        start = models.Number(value=32936731, type=\"Number\"),\n",
    "        end = models.Number(value=32936732, type=\"Number\"),\n",
    "        type=\"SequenceInterval\"\n",
    "    ),\n",
    "    type=\"SequenceLocation\"\n",
    "),\n",
    "state = models.SequenceExpression(\n",
    "    sequence = \"C\",\n",
    "    type=\"LiteralSequenceExpression\"\n",
    "),\n",
    "type=\"Allele\")"
   ]
  },
  {
   "cell_type": "markdown",
   "metadata": {},
   "source": [
    "#### VRS methods\n",
    "\n",
    "* vrs_utils.py"
   ]
  },
  {
   "cell_type": "code",
   "execution_count": 12,
   "metadata": {},
   "outputs": [
    {
     "data": {
      "text/plain": [
       "'NC_000013.11:32936731:1:C'"
      ]
     },
     "execution_count": 12,
     "metadata": {},
     "output_type": "execute_result"
    }
   ],
   "source": [
    "# Translate a VRS object to a SPDI string \n",
    "# this can also handle vrs dictionary \n",
    "vrsTranslate.from_vrs_to_spdi(allele)"
   ]
  },
  {
   "cell_type": "code",
   "execution_count": 11,
   "metadata": {},
   "outputs": [
    {
     "data": {
      "text/plain": [
       "'NC_000013.11:g.32936732='"
      ]
     },
     "execution_count": 11,
     "metadata": {},
     "output_type": "execute_result"
    }
   ],
   "source": [
    "# Translate a VRS object to HGVS expression string \n",
    "# this can also handle vrs dictionary\n",
    "vrsTranslate.from_vrs_to_normalize_hgvs(allele)"
   ]
  }
 ],
 "metadata": {
  "kernelspec": {
   "display_name": "test_dev_vrs_installation",
   "language": "python",
   "name": "python3"
  },
  "language_info": {
   "codemirror_mode": {
    "name": "ipython",
    "version": 3
   },
   "file_extension": ".py",
   "mimetype": "text/x-python",
   "name": "python",
   "nbconvert_exporter": "python",
   "pygments_lexer": "ipython3",
   "version": "3.9.15"
  }
 },
 "nbformat": 4,
 "nbformat_minor": 2
}
