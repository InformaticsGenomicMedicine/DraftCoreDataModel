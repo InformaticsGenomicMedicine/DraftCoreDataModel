{
 "cells": [
  {
   "cell_type": "code",
   "execution_count": 3,
   "metadata": {},
   "outputs": [],
   "source": [
    "from src.vrs.vrs_utils import VrsTranslate\n",
    "vrsTranslate = VrsTranslate()"
   ]
  },
  {
   "cell_type": "code",
   "execution_count": 4,
   "metadata": {},
   "outputs": [
    {
     "data": {
      "text/plain": [
       "<Allele _id=None location=<SequenceLocation _id=None interval=<SequenceInterval end=<Number type=<Literal<str> Number> value=<Literal<int> 44908822>> start=<Number type=<Literal<str> Number> value=<Literal<int> 44908821>> type=<Literal<str> SequenceInterval>> sequence_id=<Literal<str> ga4gh:SQ.IIB53T8CNeJJdUqzn9V_JnRtQadwWCbl> type=<Literal<str> SequenceLocation>> state=<LiteralSequenceExpression sequence=<Literal<str> T> type=<Literal<str> LiteralSequenceExpression>> type=<Literal<str> Allele>>"
      ]
     },
     "execution_count": 4,
     "metadata": {},
     "output_type": "execute_result"
    }
   ],
   "source": [
    "# Creating a VRS Allele object \n",
    "# For more information please refer the vrs documentation and vrs-python github repository\n",
    "# Citation: https://vrs.ga4gh.org/en/stable/ and https://github.com/ga4gh/vrs-python\n",
    "\n",
    "from ga4gh.vrs import models\n",
    "\n",
    "# VRS Examples based off of this hgvs expression: \"NC_000019.10:g.44908822C>T\"\n",
    "allele = models.Allele(\n",
    "location = models.SequenceLocation(\n",
    "    sequence_id = \"ga4gh:SQ.IIB53T8CNeJJdUqzn9V_JnRtQadwWCbl\",\n",
    "    interval = models.SequenceInterval(\n",
    "        start = models.Number(value=44908821, type=\"Number\"),\n",
    "        end = models.Number(value=44908822, type=\"Number\"),\n",
    "        type=\"SequenceInterval\"\n",
    "    ),\n",
    "    type=\"SequenceLocation\"),\n",
    "state = models.SequenceExpression(\n",
    "    sequence = \"T\",\n",
    "    type=\"LiteralSequenceExpression\"\n",
    "),\n",
    "type=\"Allele\")\n",
    "\n",
    "allele\n",
    "\n",
    "# VRS Examples based off of this hgvs expression: \"NC_000007.14:g.55181220del\"\n",
    "# allele2 = models.Allele(\n",
    "# location = models.SequenceLocation(\n",
    "#     sequence_id = \"ga4gh:SQ.F-LrLMe1SRpfUZHkQmvkVKFEGaoDeHul\", \n",
    "#     interval = models.SequenceInterval(\n",
    "#         start = models.Number(value=55181219, type=\"Number\"),\n",
    "#         end = models.Number(value=55181220, type=\"Number\"),\n",
    "#         type=\"SequenceInterval\"\n",
    "#     ),\n",
    "#     type=\"SequenceLocation\"),\n",
    "# state = models.SequenceExpression(\n",
    "#     sequence = \"\",\n",
    "#     type=\"LiteralSequenceExpression\"\n",
    "# ),\n",
    "# type=\"Allele\")\n",
    "\n",
    "# allele2\n"
   ]
  },
  {
   "cell_type": "markdown",
   "metadata": {},
   "source": [
    "#### VRS Translation\n",
    "* vrs_utils.py is designed to translate VRS expression to SPDI expressions and HGVS expressions.\n",
    "* This module is able to preform these translations by utilizing vrs-python translator module, but we added the ability to allow the input data be a VRS object or dictionary format.\n"
   ]
  },
  {
   "cell_type": "code",
   "execution_count": 5,
   "metadata": {},
   "outputs": [
    {
     "data": {
      "text/plain": [
       "'NC_000019.10:44908821:1:T'"
      ]
     },
     "execution_count": 5,
     "metadata": {},
     "output_type": "execute_result"
    }
   ],
   "source": [
    "# Translate a VRS object to a SPDI string \n",
    "vrsTranslate.from_vrs_to_spdi(allele)"
   ]
  },
  {
   "cell_type": "code",
   "execution_count": 6,
   "metadata": {},
   "outputs": [
    {
     "data": {
      "text/plain": [
       "'NC_000019.10:44908821:1:T'"
      ]
     },
     "execution_count": 6,
     "metadata": {},
     "output_type": "execute_result"
    }
   ],
   "source": [
    "# Translate VRS dictionary to SPDI string\n",
    "vrsTranslate.from_vrs_to_spdi(allele.as_dict())"
   ]
  },
  {
   "cell_type": "code",
   "execution_count": 7,
   "metadata": {},
   "outputs": [
    {
     "data": {
      "text/plain": [
       "'NC_000019.10:g.44908822C>T'"
      ]
     },
     "execution_count": 7,
     "metadata": {},
     "output_type": "execute_result"
    }
   ],
   "source": [
    "# Translate a VRS object to HGVS expression string \n",
    "vrsTranslate.from_vrs_to_normalize_hgvs(allele)"
   ]
  },
  {
   "cell_type": "code",
   "execution_count": 8,
   "metadata": {},
   "outputs": [
    {
     "data": {
      "text/plain": [
       "'NC_000019.10:g.44908822C>T'"
      ]
     },
     "execution_count": 8,
     "metadata": {},
     "output_type": "execute_result"
    }
   ],
   "source": [
    "# Translate a VRS dictionary to HGVS expression string \n",
    "vrsTranslate.from_vrs_to_normalize_hgvs(allele.as_dict())"
   ]
  }
 ],
 "metadata": {
  "kernelspec": {
   "display_name": "test_dev_vrs_installation",
   "language": "python",
   "name": "python3"
  },
  "language_info": {
   "codemirror_mode": {
    "name": "ipython",
    "version": 3
   },
   "file_extension": ".py",
   "mimetype": "text/x-python",
   "name": "python",
   "nbconvert_exporter": "python",
   "pygments_lexer": "ipython3",
   "version": "3.9.15"
  }
 },
 "nbformat": 4,
 "nbformat_minor": 2
}
