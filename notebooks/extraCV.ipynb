{
 "cells": [
  {
   "cell_type": "code",
   "execution_count": 2,
   "metadata": {},
   "outputs": [
    {
     "name": "stderr",
     "output_type": "stream",
     "text": [
      "/Users/M278428/opt/anaconda3/envs/test_dev_vrs_installation/lib/python3.9/site-packages/python_jsonschema_objects/__init__.py:49: UserWarning: Schema version http://json-schema.org/draft-07/schema not recognized. Some keywords and features may not be supported.\n",
      "  warnings.warn(\n"
     ]
    }
   ],
   "source": [
    "import sys\n",
    "sys.path.append('..')\n",
    "from src.core_variant import CoreVariantClass\n",
    "from src.core_variant_translate import CVCTranslator\n",
    "cvc_trans = CVCTranslator()"
   ]
  },
  {
   "cell_type": "code",
   "execution_count": 2,
   "metadata": {},
   "outputs": [],
   "source": [
    "# NOTE: These are for later use.\n",
    "#Example: NC_000001.10:12345:1:A\n",
    "\n",
    "# Example2 = CoreVariantClass(origCoordSystem='1-based counting',seqType='rna',\n",
    "#                         refAllele='AGUC',altAllele='AAA',start=12345,end=12346,allelicState= 'homozygous',geneSymbol='GENE2',hgncId=89123,\n",
    "#                         chrom='2', genomeBuild='GRCh38.p14', sequenceId='NC_000001.14',notes = {'test':'should work'})\n",
    "# Example2\n",
    "\n",
    "# Example3 = CoreVariantClass(origCoordSystem='0-based counting',seqType='Protein',\n",
    "#                         refAllele='A',altAllele='P',start=3223,end=4442,allelicState= 'homozygous',geneSymbol='GENE3',hgncId=4941,\n",
    "#                         chrom='MT', genomeBuild='NCBI Build 36.1', sequenceId='NC_000001.14',notes = {'test':'should work'})\n",
    "# Example3"
   ]
  },
  {
   "cell_type": "code",
   "execution_count": 3,
   "metadata": {},
   "outputs": [
    {
     "data": {
      "text/plain": [
       "CoreVariantClass(0-based interbase,DNA,A,A,12345,12348,heterozygous,GENE1,123,3,T2T-CHM13,NC_000001.10,{'kwargs': 'Testing the **kwargs'})"
      ]
     },
     "execution_count": 3,
     "metadata": {},
     "output_type": "execute_result"
    }
   ],
   "source": [
    "Example1 = CoreVariantClass(origCoordSystem='0-based interbase',seqType='DNA',\n",
    "                        refAllele='A',altAllele='A',start=12345,end=12348,allelicState= 'heterozygous',geneSymbol='GENE1',hgncId=123,\n",
    "                        chrom='chr 3', genomeBuild='T2T-CHM13', sequenceId='NC_000001.10', kwargs='Testing the **kwargs')\n",
    "Example1"
   ]
  },
  {
   "cell_type": "code",
   "execution_count": 4,
   "metadata": {},
   "outputs": [
    {
     "name": "stdout",
     "output_type": "stream",
     "text": [
      "<src.spdi.spdi_class.SPDI object at 0x7fd3ad7fbdf0>\n",
      "NC_000001.10:12345:A:A\n",
      "{'sequence': 'NC_000001.10', 'position': 12345, 'deletion': 'A', 'insertion': 'A'}\n"
     ]
    }
   ],
   "source": [
    "#Translating core variant class to spdi with different formats\n",
    "print(cvc_trans.cvc_to_spdi(Example1,output_format=\"obj\"))\n",
    "print(cvc_trans.cvc_to_spdi(Example1,output_format=\"string\"))\n",
    "print(cvc_trans.cvc_to_spdi(Example1,output_format=\"dict\"))"
   ]
  },
  {
   "cell_type": "code",
   "execution_count": 5,
   "metadata": {},
   "outputs": [
    {
     "ename": "TypeError",
     "evalue": "Position must be an integer, not <class 'str'>",
     "output_type": "error",
     "traceback": [
      "\u001b[0;31m---------------------------------------------------------------------------\u001b[0m",
      "\u001b[0;31mTypeError\u001b[0m                                 Traceback (most recent call last)",
      "\u001b[1;32m/Users/M278428/Documents/rf_lab_projects/DraftCoreDataModel/notebooks/extraCV.ipynb Cell 5\u001b[0m line \u001b[0;36m2\n\u001b[1;32m      <a href='vscode-notebook-cell:/Users/M278428/Documents/rf_lab_projects/DraftCoreDataModel/notebooks/extraCV.ipynb#W4sZmlsZQ%3D%3D?line=0'>1</a>\u001b[0m ex1 \u001b[39m=\u001b[39m \u001b[39m'\u001b[39m\u001b[39mNC_000001.10:12345:1:A\u001b[39m\u001b[39m'\u001b[39m\n\u001b[0;32m----> <a href='vscode-notebook-cell:/Users/M278428/Documents/rf_lab_projects/DraftCoreDataModel/notebooks/extraCV.ipynb#W4sZmlsZQ%3D%3D?line=1'>2</a>\u001b[0m trans \u001b[39m=\u001b[39m cvc_trans\u001b[39m.\u001b[39;49mspdi_to_cvc(ex1)\n\u001b[1;32m      <a href='vscode-notebook-cell:/Users/M278428/Documents/rf_lab_projects/DraftCoreDataModel/notebooks/extraCV.ipynb#W4sZmlsZQ%3D%3D?line=2'>3</a>\u001b[0m \u001b[39mprint\u001b[39m(trans)\n\u001b[1;32m      <a href='vscode-notebook-cell:/Users/M278428/Documents/rf_lab_projects/DraftCoreDataModel/notebooks/extraCV.ipynb#W4sZmlsZQ%3D%3D?line=3'>4</a>\u001b[0m cvc_example \u001b[39m=\u001b[39m CoreVariantClass(origCoordSystem\u001b[39m=\u001b[39m\u001b[39m'\u001b[39m\u001b[39m0-based interbase\u001b[39m\u001b[39m'\u001b[39m,seqType\u001b[39m=\u001b[39m\u001b[39m'\u001b[39m\u001b[39mDNA\u001b[39m\u001b[39m'\u001b[39m,\n\u001b[1;32m      <a href='vscode-notebook-cell:/Users/M278428/Documents/rf_lab_projects/DraftCoreDataModel/notebooks/extraCV.ipynb#W4sZmlsZQ%3D%3D?line=4'>5</a>\u001b[0m                         refAllele\u001b[39m=\u001b[39m\u001b[39m'\u001b[39m\u001b[39m1\u001b[39m\u001b[39m'\u001b[39m,altAllele\u001b[39m=\u001b[39m\u001b[39m'\u001b[39m\u001b[39mA\u001b[39m\u001b[39m'\u001b[39m,start\u001b[39m=\u001b[39m\u001b[39m12345\u001b[39m,end\u001b[39m=\u001b[39m\u001b[39m12346\u001b[39m,allelicState\u001b[39m=\u001b[39m \u001b[39mNone\u001b[39;00m,geneSymbol\u001b[39m=\u001b[39m\u001b[39mNone\u001b[39;00m,hgncId\u001b[39m=\u001b[39m\u001b[39mNone\u001b[39;00m,\n\u001b[1;32m      <a href='vscode-notebook-cell:/Users/M278428/Documents/rf_lab_projects/DraftCoreDataModel/notebooks/extraCV.ipynb#W4sZmlsZQ%3D%3D?line=5'>6</a>\u001b[0m                         chrom\u001b[39m=\u001b[39m\u001b[39mNone\u001b[39;00m, genomeBuild\u001b[39m=\u001b[39m\u001b[39mNone\u001b[39;00m, sequenceId\u001b[39m=\u001b[39m\u001b[39m'\u001b[39m\u001b[39mNC_000001.10\u001b[39m\u001b[39m'\u001b[39m)\n",
      "File \u001b[0;32m~/Documents/rf_lab_projects/DraftCoreDataModel/src/core_variant_translate.py:187\u001b[0m, in \u001b[0;36mCVCTranslator.spdi_to_cvc\u001b[0;34m(self, expression)\u001b[0m\n\u001b[1;32m    170\u001b[0m \u001b[39m# TODO: I think i should use the the spdi validation step here then if its valid then extract the values.\u001b[39;00m\n\u001b[1;32m    171\u001b[0m \u001b[39m# spdi_re = re.compile(\u001b[39;00m\n\u001b[1;32m    172\u001b[0m \u001b[39m#     r\"(?P<sequenceId>[^:]+):(?P<pos>\\d+):(?P<del_len_or_seq>\\w*):(?P<ins_seq>\\w*)\"\u001b[39;00m\n\u001b[0;32m   (...)\u001b[0m\n\u001b[1;32m    184\u001b[0m \u001b[39m# end_position = start_position + deletion_length\u001b[39;00m\n\u001b[1;32m    185\u001b[0m \u001b[39m# TODO: test out new method of converting SPDI to CVC\u001b[39;00m\n\u001b[1;32m    186\u001b[0m s, p, d, i \u001b[39m=\u001b[39m expression\u001b[39m.\u001b[39msplit(\u001b[39m\"\u001b[39m\u001b[39m:\u001b[39m\u001b[39m\"\u001b[39m)\n\u001b[0;32m--> 187\u001b[0m spdi \u001b[39m=\u001b[39m SPDI(s, p, d, i)\n\u001b[1;32m    189\u001b[0m \u001b[39mtry\u001b[39;00m:\n\u001b[1;32m    190\u001b[0m     del_len \u001b[39m=\u001b[39m \u001b[39mint\u001b[39m(spdi\u001b[39m.\u001b[39mdeletion)\n",
      "File \u001b[0;32m~/Documents/rf_lab_projects/DraftCoreDataModel/src/spdi/spdi_class.py:42\u001b[0m, in \u001b[0;36mSPDI.__init__\u001b[0;34m(self, sequence, position, deletion, insertion)\u001b[0m\n\u001b[1;32m     40\u001b[0m \u001b[39mself\u001b[39m\u001b[39m.\u001b[39mapi \u001b[39m=\u001b[39m VarServAPI()\n\u001b[1;32m     41\u001b[0m \u001b[39mself\u001b[39m\u001b[39m.\u001b[39msequence \u001b[39m=\u001b[39m \u001b[39mself\u001b[39m\u001b[39m.\u001b[39m_validate_sequence(sequence)\n\u001b[0;32m---> 42\u001b[0m \u001b[39mself\u001b[39m\u001b[39m.\u001b[39mposition \u001b[39m=\u001b[39m \u001b[39mself\u001b[39;49m\u001b[39m.\u001b[39;49m_validate_position(position)\n\u001b[1;32m     43\u001b[0m \u001b[39mself\u001b[39m\u001b[39m.\u001b[39mdeletion \u001b[39m=\u001b[39m \u001b[39mself\u001b[39m\u001b[39m.\u001b[39m_validate_deletion(deletion)\n\u001b[1;32m     44\u001b[0m \u001b[39mself\u001b[39m\u001b[39m.\u001b[39minsertion \u001b[39m=\u001b[39m \u001b[39mself\u001b[39m\u001b[39m.\u001b[39m_validate_insertion(insertion)\n",
      "File \u001b[0;32m~/Documents/rf_lab_projects/DraftCoreDataModel/src/spdi/spdi_class.py:85\u001b[0m, in \u001b[0;36mSPDI._validate_position\u001b[0;34m(self, position)\u001b[0m\n\u001b[1;32m     71\u001b[0m \u001b[39m\"\"\"\u001b[39;00m\n\u001b[1;32m     72\u001b[0m \u001b[39mValidates the given position.\u001b[39;00m\n\u001b[1;32m     73\u001b[0m \n\u001b[0;32m   (...)\u001b[0m\n\u001b[1;32m     82\u001b[0m \u001b[39m    int: The validated position.\u001b[39;00m\n\u001b[1;32m     83\u001b[0m \u001b[39m\"\"\"\u001b[39;00m\n\u001b[1;32m     84\u001b[0m \u001b[39mif\u001b[39;00m \u001b[39mnot\u001b[39;00m \u001b[39misinstance\u001b[39m(position, \u001b[39mint\u001b[39m):\n\u001b[0;32m---> 85\u001b[0m     \u001b[39mraise\u001b[39;00m \u001b[39mTypeError\u001b[39;00m(\u001b[39mf\u001b[39m\u001b[39m\"\u001b[39m\u001b[39mPosition must be an integer, not \u001b[39m\u001b[39m{\u001b[39;00m\u001b[39mtype\u001b[39m(position)\u001b[39m}\u001b[39;00m\u001b[39m\"\u001b[39m)\n\u001b[1;32m     86\u001b[0m \u001b[39mif\u001b[39;00m position \u001b[39m<\u001b[39m \u001b[39m0\u001b[39m:\n\u001b[1;32m     87\u001b[0m     \u001b[39mraise\u001b[39;00m \u001b[39mValueError\u001b[39;00m(\u001b[39mf\u001b[39m\u001b[39m\"\u001b[39m\u001b[39mPosition must be greater than or equal to 0.\u001b[39m\u001b[39m\"\u001b[39m)\n",
      "\u001b[0;31mTypeError\u001b[0m: Position must be an integer, not <class 'str'>"
     ]
    }
   ],
   "source": [
    "ex1 = 'NC_000001.10:12345:1:A'\n",
    "trans = cvc_trans.spdi_to_cvc(ex1)\n",
    "print(trans)\n",
    "cvc_example = CoreVariantClass(origCoordSystem='0-based interbase',seqType='DNA',\n",
    "                        refAllele='1',altAllele='A',start=12345,end=12346,allelicState= None,geneSymbol=None,hgncId=None,\n",
    "                        chrom=None, genomeBuild=None, sequenceId='NC_000001.10')\n",
    "print(cvc_example)\n"
   ]
  },
  {
   "cell_type": "code",
   "execution_count": 6,
   "metadata": {},
   "outputs": [
    {
     "ename": "NameError",
     "evalue": "name 'trans' is not defined",
     "output_type": "error",
     "traceback": [
      "\u001b[0;31m---------------------------------------------------------------------------\u001b[0m",
      "\u001b[0;31mNameError\u001b[0m                                 Traceback (most recent call last)",
      "\u001b[1;32m/Users/M278428/Documents/rf_lab_projects/DraftCoreDataModel/notebooks/extraCV.ipynb Cell 6\u001b[0m line \u001b[0;36m1\n\u001b[0;32m----> <a href='vscode-notebook-cell:/Users/M278428/Documents/rf_lab_projects/DraftCoreDataModel/notebooks/extraCV.ipynb#W5sZmlsZQ%3D%3D?line=0'>1</a>\u001b[0m \u001b[39mstr\u001b[39m(trans) \u001b[39m==\u001b[39m \u001b[39mstr\u001b[39m(cvc_example)\n",
      "\u001b[0;31mNameError\u001b[0m: name 'trans' is not defined"
     ]
    }
   ],
   "source": [
    "str(trans) == str(cvc_example)\n"
   ]
  },
  {
   "cell_type": "code",
   "execution_count": 9,
   "metadata": {},
   "outputs": [
    {
     "ename": "ValueError",
     "evalue": "An error occurred while translating the SPDI expression 'NC_000001.10:12345:A:A' to a right-shift HGVS expression.",
     "output_type": "error",
     "traceback": [
      "\u001b[0;31m---------------------------------------------------------------------------\u001b[0m",
      "\u001b[0;31mHTTPError\u001b[0m                                 Traceback (most recent call last)",
      "File \u001b[0;32m~/Documents/rf_lab_projects/DraftCoreDataModel/src/spdi/spdi_utils.py:53\u001b[0m, in \u001b[0;36mSPDITranslate.from_spdi_to_rightshift_hgvs\u001b[0;34m(self, expression, validate, output_format)\u001b[0m\n\u001b[1;32m     51\u001b[0m     spdi_expression \u001b[39m=\u001b[39m expression\n\u001b[0;32m---> 53\u001b[0m hgvs_expression \u001b[39m=\u001b[39m \u001b[39mself\u001b[39;49m\u001b[39m.\u001b[39;49mvar_serv_api\u001b[39m.\u001b[39;49mspdi_to_hgvs(spdi_expression)\n\u001b[1;32m     55\u001b[0m \u001b[39mif\u001b[39;00m output_format \u001b[39m==\u001b[39m \u001b[39m\"\u001b[39m\u001b[39mstring\u001b[39m\u001b[39m\"\u001b[39m:\n",
      "File \u001b[0;32m~/Documents/rf_lab_projects/DraftCoreDataModel/src/api/ncbi_variation_services_api.py:120\u001b[0m, in \u001b[0;36mVarServAPI.spdi_to_hgvs\u001b[0;34m(self, spdi_id)\u001b[0m\n\u001b[1;32m    119\u001b[0m     error_message \u001b[39m=\u001b[39m error_json[\u001b[39m\"\u001b[39m\u001b[39merror\u001b[39m\u001b[39m\"\u001b[39m][\u001b[39m\"\u001b[39m\u001b[39mmessage\u001b[39m\u001b[39m\"\u001b[39m]\n\u001b[0;32m--> 120\u001b[0m     \u001b[39mraise\u001b[39;00m requests\u001b[39m.\u001b[39mHTTPError(\n\u001b[1;32m    121\u001b[0m         \u001b[39mf\u001b[39m\u001b[39m\"\u001b[39m\u001b[39mFailed to convert SPDI expression \u001b[39m\u001b[39m{\u001b[39;00mspdi_id\u001b[39m}\u001b[39;00m\u001b[39m to HGVS notation. Error message: \u001b[39m\u001b[39m{\u001b[39;00merror_message\u001b[39m}\u001b[39;00m\u001b[39m\"\u001b[39m\n\u001b[1;32m    122\u001b[0m     )\n\u001b[1;32m    123\u001b[0m \u001b[39mexcept\u001b[39;00m json\u001b[39m.\u001b[39mJSONDecodeError:\n",
      "\u001b[0;31mHTTPError\u001b[0m: Failed to convert SPDI expression NC_000001.10:12345:A:A to HGVS notation. Error message: The reference sequence for 'NC_000001.10' at position '12345' ('C'), is not equal to variant's asserted reference ('A')",
      "\nDuring handling of the above exception, another exception occurred:\n",
      "\u001b[0;31mValueError\u001b[0m                                Traceback (most recent call last)",
      "\u001b[1;32m/Users/M278428/Documents/rf_lab_projects/DraftCoreDataModel/notebooks/extraCV.ipynb Cell 7\u001b[0m line \u001b[0;36m2\n\u001b[1;32m      <a href='vscode-notebook-cell:/Users/M278428/Documents/rf_lab_projects/DraftCoreDataModel/notebooks/extraCV.ipynb#W6sZmlsZQ%3D%3D?line=0'>1</a>\u001b[0m \u001b[39m#Translating core variant class to hgvs with different formats.\u001b[39;00m\n\u001b[0;32m----> <a href='vscode-notebook-cell:/Users/M278428/Documents/rf_lab_projects/DraftCoreDataModel/notebooks/extraCV.ipynb#W6sZmlsZQ%3D%3D?line=1'>2</a>\u001b[0m \u001b[39mprint\u001b[39m(cvc_trans\u001b[39m.\u001b[39;49mcvc_to_hgvs(Example1,output_format\u001b[39m=\u001b[39;49m\u001b[39m\"\u001b[39;49m\u001b[39mstring\u001b[39;49m\u001b[39m\"\u001b[39;49m))\n\u001b[1;32m      <a href='vscode-notebook-cell:/Users/M278428/Documents/rf_lab_projects/DraftCoreDataModel/notebooks/extraCV.ipynb#W6sZmlsZQ%3D%3D?line=2'>3</a>\u001b[0m cvc_trans\u001b[39m.\u001b[39mcvc_to_hgvs(Example1,output_format\u001b[39m=\u001b[39m\u001b[39m\"\u001b[39m\u001b[39mparse\u001b[39m\u001b[39m\"\u001b[39m)\n",
      "File \u001b[0;32m~/Documents/rf_lab_projects/DraftCoreDataModel/src/core_variant_translate.py:116\u001b[0m, in \u001b[0;36mCVCTranslator.cvc_to_hgvs\u001b[0;34m(self, expression, output_format)\u001b[0m\n\u001b[1;32m    112\u001b[0m     \u001b[39mreturn\u001b[39;00m \u001b[39mself\u001b[39m\u001b[39m.\u001b[39mtrans_spdi\u001b[39m.\u001b[39mfrom_spdi_to_rightshift_hgvs(\n\u001b[1;32m    113\u001b[0m         spdi_expression, output_format\u001b[39m=\u001b[39m\u001b[39m\"\u001b[39m\u001b[39mparse\u001b[39m\u001b[39m\"\u001b[39m\n\u001b[1;32m    114\u001b[0m     )\n\u001b[1;32m    115\u001b[0m \u001b[39melif\u001b[39;00m output_format \u001b[39m==\u001b[39m \u001b[39m\"\u001b[39m\u001b[39mstring\u001b[39m\u001b[39m\"\u001b[39m:\n\u001b[0;32m--> 116\u001b[0m     \u001b[39mreturn\u001b[39;00m \u001b[39mself\u001b[39;49m\u001b[39m.\u001b[39;49mtrans_spdi\u001b[39m.\u001b[39;49mfrom_spdi_to_rightshift_hgvs(\n\u001b[1;32m    117\u001b[0m         spdi_expression, output_format\u001b[39m=\u001b[39;49m\u001b[39m\"\u001b[39;49m\u001b[39mstring\u001b[39;49m\u001b[39m\"\u001b[39;49m\n\u001b[1;32m    118\u001b[0m     )\n",
      "File \u001b[0;32m~/Documents/rf_lab_projects/DraftCoreDataModel/src/spdi/spdi_utils.py:60\u001b[0m, in \u001b[0;36mSPDITranslate.from_spdi_to_rightshift_hgvs\u001b[0;34m(self, expression, validate, output_format)\u001b[0m\n\u001b[1;32m     58\u001b[0m         \u001b[39mreturn\u001b[39;00m \u001b[39mself\u001b[39m\u001b[39m.\u001b[39mhp\u001b[39m.\u001b[39mparse_hgvs_variant(hgvs_expression)\n\u001b[1;32m     59\u001b[0m \u001b[39mexcept\u001b[39;00m \u001b[39mException\u001b[39;00m:\n\u001b[0;32m---> 60\u001b[0m     \u001b[39mraise\u001b[39;00m \u001b[39mValueError\u001b[39;00m(\n\u001b[1;32m     61\u001b[0m         \u001b[39mf\u001b[39m\u001b[39m\"\u001b[39m\u001b[39mAn error occurred while translating the SPDI expression \u001b[39m\u001b[39m'\u001b[39m\u001b[39m{\u001b[39;00mexpression\u001b[39m}\u001b[39;00m\u001b[39m'\u001b[39m\u001b[39m to a right-shift HGVS expression.\u001b[39m\u001b[39m\"\u001b[39m\n\u001b[1;32m     62\u001b[0m     )\n",
      "\u001b[0;31mValueError\u001b[0m: An error occurred while translating the SPDI expression 'NC_000001.10:12345:A:A' to a right-shift HGVS expression."
     ]
    }
   ],
   "source": [
    "#Translating core variant class to hgvs with different formats.\n",
    "print(cvc_trans.cvc_to_hgvs(Example1,output_format=\"string\"))\n",
    "cvc_trans.cvc_to_hgvs(Example1,output_format=\"parse\")"
   ]
  },
  {
   "cell_type": "code",
   "execution_count": null,
   "metadata": {},
   "outputs": [
    {
     "ename": "TypeError",
     "evalue": "cvc_to_vrs() got an unexpected keyword argument 'format_output'",
     "output_type": "error",
     "traceback": [
      "\u001b[0;31m---------------------------------------------------------------------------\u001b[0m",
      "\u001b[0;31mTypeError\u001b[0m                                 Traceback (most recent call last)",
      "\u001b[1;32m/Users/M278428/Documents/rf_lab_projects/DraftCoreDataModel/notebooks/extraCV.ipynb Cell 8\u001b[0m line \u001b[0;36m2\n\u001b[1;32m      <a href='vscode-notebook-cell:/Users/M278428/Documents/rf_lab_projects/DraftCoreDataModel/notebooks/extraCV.ipynb#X10sZmlsZQ%3D%3D?line=0'>1</a>\u001b[0m \u001b[39m#Translate core variant class to vrs \u001b[39;00m\n\u001b[0;32m----> <a href='vscode-notebook-cell:/Users/M278428/Documents/rf_lab_projects/DraftCoreDataModel/notebooks/extraCV.ipynb#X10sZmlsZQ%3D%3D?line=1'>2</a>\u001b[0m \u001b[39mprint\u001b[39m(cvc_trans\u001b[39m.\u001b[39;49mcvc_to_vrs(Example1,format_output\u001b[39m=\u001b[39;49m\u001b[39m\"\u001b[39;49m\u001b[39mobj\u001b[39;49m\u001b[39m\"\u001b[39;49m))\n\u001b[1;32m      <a href='vscode-notebook-cell:/Users/M278428/Documents/rf_lab_projects/DraftCoreDataModel/notebooks/extraCV.ipynb#X10sZmlsZQ%3D%3D?line=2'>3</a>\u001b[0m \u001b[39mprint\u001b[39m(cvc_trans\u001b[39m.\u001b[39mcvc_to_vrs(Example1,format_output\u001b[39m=\u001b[39m\u001b[39m\"\u001b[39m\u001b[39mdict\u001b[39m\u001b[39m\"\u001b[39m))\n\u001b[1;32m      <a href='vscode-notebook-cell:/Users/M278428/Documents/rf_lab_projects/DraftCoreDataModel/notebooks/extraCV.ipynb#X10sZmlsZQ%3D%3D?line=3'>4</a>\u001b[0m \u001b[39mprint\u001b[39m(cvc_trans\u001b[39m.\u001b[39mcvc_to_vrs(Example1,format_output\u001b[39m=\u001b[39m\u001b[39m\"\u001b[39m\u001b[39mjson\u001b[39m\u001b[39m\"\u001b[39m))\n",
      "\u001b[0;31mTypeError\u001b[0m: cvc_to_vrs() got an unexpected keyword argument 'format_output'"
     ]
    }
   ],
   "source": [
    "#Translate core variant class to vrs \n",
    "print(cvc_trans.cvc_to_vrs(Example1,output_format=\"obj\"))\n",
    "print(cvc_trans.cvc_to_vrs(Example1,output_format=\"dict\"))\n",
    "print(cvc_trans.cvc_to_vrs(Example1,output_format=\"json\"))"
   ]
  },
  {
   "cell_type": "code",
   "execution_count": null,
   "metadata": {},
   "outputs": [],
   "source": [
    "#Translating spdi to core variant class\n",
    "spdi = 'NC_000001.10:12345:1:A'\n",
    "cvc_trans.spdi_to_cvc(spdi)"
   ]
  },
  {
   "cell_type": "code",
   "execution_count": 10,
   "metadata": {},
   "outputs": [
    {
     "data": {
      "text/plain": [
       "CoreVariantClass(0-based interbase,DNA,C,A,12345,12346,None,None,None,None,None,NC_000001.10,{})"
      ]
     },
     "execution_count": 10,
     "metadata": {},
     "output_type": "execute_result"
    }
   ],
   "source": [
    "# Translating hgvs to core variant class\n",
    "hgvs = 'NC_000001.10:g.12346C>A'\n",
    "cvc_trans.hgvs_to_cvc(hgvs)"
   ]
  },
  {
   "cell_type": "code",
   "execution_count": 5,
   "metadata": {},
   "outputs": [
    {
     "ename": "TypeError",
     "evalue": "cvc_to_vrs() got an unexpected keyword argument 'format_output'",
     "output_type": "error",
     "traceback": [
      "\u001b[0;31m---------------------------------------------------------------------------\u001b[0m",
      "\u001b[0;31mTypeError\u001b[0m                                 Traceback (most recent call last)",
      "\u001b[1;32m/Users/M278428/Documents/rf_lab_projects/DraftCoreDataModel/notebooks/extraCV.ipynb Cell 11\u001b[0m line \u001b[0;36m2\n\u001b[1;32m      <a href='vscode-notebook-cell:/Users/M278428/Documents/rf_lab_projects/DraftCoreDataModel/notebooks/extraCV.ipynb#X13sZmlsZQ%3D%3D?line=0'>1</a>\u001b[0m \u001b[39m# Translating vrs to core variant class\u001b[39;00m\n\u001b[0;32m----> <a href='vscode-notebook-cell:/Users/M278428/Documents/rf_lab_projects/DraftCoreDataModel/notebooks/extraCV.ipynb#X13sZmlsZQ%3D%3D?line=1'>2</a>\u001b[0m vrs_obj \u001b[39m=\u001b[39m cvc_trans\u001b[39m.\u001b[39;49mcvc_to_vrs(Example1,format_output\u001b[39m=\u001b[39;49m\u001b[39m\"\u001b[39;49m\u001b[39mobj\u001b[39;49m\u001b[39m\"\u001b[39;49m)\n\u001b[1;32m      <a href='vscode-notebook-cell:/Users/M278428/Documents/rf_lab_projects/DraftCoreDataModel/notebooks/extraCV.ipynb#X13sZmlsZQ%3D%3D?line=2'>3</a>\u001b[0m cvc_trans\u001b[39m.\u001b[39mvrs_to_cvc(vrs_obj)\n",
      "\u001b[0;31mTypeError\u001b[0m: cvc_to_vrs() got an unexpected keyword argument 'format_output'"
     ]
    }
   ],
   "source": [
    "# Translating vrs to core variant class\n",
    "vrs_obj = cvc_trans.cvc_to_vrs(Example1,format_output=\"obj\")\n",
    "cvc_trans.vrs_to_cvc(vrs_obj)"
   ]
  },
  {
   "cell_type": "code",
   "execution_count": null,
   "metadata": {},
   "outputs": [],
   "source": [
    "\n",
    "\n",
    "cvc_example2 = CoreVariantClass(origCoordSystem='0-based interbase',seqType='DNA',\n",
    "                        refAllele='C',altAllele='A',start=12345,end=12346,allelicState= None,geneSymbol=None,hgncId=None,\n",
    "                        chrom=None, genomeBuild=None, sequenceId='NC_000001.10')\n"
   ]
  },
  {
   "cell_type": "code",
   "execution_count": null,
   "metadata": {},
   "outputs": [],
   "source": [
    "# from src.api.seqrepo_api import SeqRepoAPI\n",
    "# cn = SeqRepoAPI(\"https://services.genomicmedlab.org/seqrepo\")\n",
    "# dp = cn.dp\n",
    "# tlr = cn.tlr\n",
    "# vrs_dict = {'_id': 'ga4gh:VA.CWDQtAfFv3QnUqN3up3J1bs32JVSKFPk', 'type': 'Allele', 'location': {'_id': 'ga4gh:VSL.ixj_LC0E_4GQvm7dtG4r5gjf88lWRxU1', 'type': 'SequenceLocation', 'sequence_id': 'ga4gh:SQ.S_KjnFVz-FE7M0W6yoaUDgYxLPc1jyWU', 'interval': {'type': 'SequenceInterval', 'start': {'type': 'Number', 'value': 12345}, 'end': {'type': 'Number', 'value': 12346}}}, 'state': {'type': 'LiteralSequenceExpression', 'sequence': 'A'}}\n",
    "# vrs_object = tlr.translate_from(vrs_dict, 'vrs')\n",
    "# vrs_object"
   ]
  },
  {
   "cell_type": "code",
   "execution_count": null,
   "metadata": {},
   "outputs": [],
   "source": [
    "Example1 = CoreVariantClass(origCoordSystem='0-based interbase',seqType='DNA',\n",
    "                        refAllele='A',altAllele='A',start=12345,end=12348,allelicState= 'heterozygous',geneSymbol='GENE1',hgncId=123,\n",
    "                        chrom='chr 3', genomeBuild='T2T-CHM13', sequenceId='NC_000001.10', kwargs='Testing the **kwargs')\n"
   ]
  },
  {
   "cell_type": "code",
   "execution_count": null,
   "metadata": {},
   "outputs": [],
   "source": [
    "Example1.origCoordSystem = '0-based counting'\n",
    "Example1"
   ]
  },
  {
   "cell_type": "code",
   "execution_count": null,
   "metadata": {},
   "outputs": [],
   "source": [
    "def normalize_origCoordSystem(expression):\n",
    "    if expression.origCoordSystem == '0-based interbase':\n",
    "        pass\n",
    "    elif expression.origCoordSystem == '0-based counting':\n",
    "        expression.start += 1\n",
    "        expression.origCoordSystem = '0-based interbase'\n",
    "    elif expression.origCoordSystem == '1-based counting':\n",
    "        expression.start -= 1\n",
    "        expression.origCoordSystem = '0-based interbase'\n",
    "    else:\n",
    "        raise ValueError(\"Invalid coordinate system specified.\")\n"
   ]
  },
  {
   "cell_type": "code",
   "execution_count": null,
   "metadata": {},
   "outputs": [],
   "source": [
    "normalize_origCoordSystem(Example1)\n",
    "Example1"
   ]
  },
  {
   "cell_type": "code",
   "execution_count": null,
   "metadata": {},
   "outputs": [],
   "source": [
    "Example1.init_params()"
   ]
  },
  {
   "cell_type": "code",
   "execution_count": null,
   "metadata": {},
   "outputs": [],
   "source": [
    "def normalized_data(expression):\n",
    "    \n",
    "    normalize_origCoordSystem(expression)\n",
    "\n",
    "    return {\n",
    "        \"origCoordSystem\": expression.origCoordSystem,\n",
    "        \"seqType\": expression.seqType,\n",
    "        \"allelicState\": expression.allelicState,\n",
    "        \"associatedGene\": {\n",
    "            \"geneSymbol\": expression.geneSymbol,\n",
    "            \"hgncId\": expression.hgncId,\n",
    "        },\n",
    "        \"refAllele\": expression.refAllele,\n",
    "        \"altAllele\": expression.altAllele,\n",
    "        \"position\": {\n",
    "            \"chrom\": expression.chrom,\n",
    "            \"genomeBuild\": expression.genomeBuild,\n",
    "            \"start\": expression.start,\n",
    "            \"end\": expression.end,\n",
    "            \"sequenceId\": expression.sequenceId,\n",
    "            },}"
   ]
  },
  {
   "cell_type": "code",
   "execution_count": null,
   "metadata": {},
   "outputs": [],
   "source": [
    "normalized_data(Example1)"
   ]
  },
  {
   "cell_type": "code",
   "execution_count": 3,
   "metadata": {},
   "outputs": [
    {
     "data": {
      "text/plain": [
       "CoreVariantClass(1-based counting,DNA,A,A,12345,12348,heterozygous,GENE1,123,3,T2T-CHM13,NC_000001.10,{'kwargs': 'Testing the **kwargs'})"
      ]
     },
     "execution_count": 3,
     "metadata": {},
     "output_type": "execute_result"
    }
   ],
   "source": [
    "Example1 = CoreVariantClass(origCoordSystem='1-based counting',seqType='DNA',\n",
    "                        refAllele='A',altAllele='A',start=12345,end=12348,allelicState= 'heterozygous',geneSymbol='GENE1',hgncId=123,\n",
    "                        chrom='chr 3', genomeBuild='T2T-CHM13', sequenceId='NC_000001.10', kwargs='Testing the **kwargs')\n",
    "Example1"
   ]
  },
  {
   "cell_type": "code",
   "execution_count": 4,
   "metadata": {},
   "outputs": [
    {
     "data": {
      "text/plain": [
       "{'origCoordSystem': '0-based interbase',\n",
       " 'seqType': 'DNA',\n",
       " 'allelicState': 'heterozygous',\n",
       " 'associatedGene': {'geneSymbol': 'GENE1', 'hgncId': 123},\n",
       " 'refAllele': 'A',\n",
       " 'altAllele': 'A',\n",
       " 'position': {'chrom': '3',\n",
       "  'genomeBuild': 'T2T-CHM13',\n",
       "  'start': 12344,\n",
       "  'end': 12348,\n",
       "  'sequenceId': 'NC_000001.10'}}"
      ]
     },
     "execution_count": 4,
     "metadata": {},
     "output_type": "execute_result"
    }
   ],
   "source": [
    "Example1.normalized_data()"
   ]
  }
 ],
 "metadata": {
  "kernelspec": {
   "display_name": "test_dev_vrs_installation",
   "language": "python",
   "name": "python3"
  },
  "language_info": {
   "codemirror_mode": {
    "name": "ipython",
    "version": 3
   },
   "file_extension": ".py",
   "mimetype": "text/x-python",
   "name": "python",
   "nbconvert_exporter": "python",
   "pygments_lexer": "ipython3",
   "version": "3.9.15"
  },
  "orig_nbformat": 4
 },
 "nbformat": 4,
 "nbformat_minor": 2
}
