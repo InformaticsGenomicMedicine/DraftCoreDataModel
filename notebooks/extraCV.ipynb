{
 "cells": [
  {
   "cell_type": "code",
   "execution_count": 1,
   "metadata": {},
   "outputs": [
    {
     "name": "stderr",
     "output_type": "stream",
     "text": [
      "/Users/M278428/opt/anaconda3/envs/test_dev_vrs_installation/lib/python3.9/site-packages/python_jsonschema_objects/__init__.py:49: UserWarning: Schema version http://json-schema.org/draft-07/schema not recognized. Some keywords and features may not be supported.\n",
      "  warnings.warn(\n"
     ]
    }
   ],
   "source": [
    "import sys\n",
    "sys.path.append('..')\n",
    "from src.core_variant import CoreVariantClass\n",
    "from src.core_variant_translate import CVCTranslator\n",
    "cvc_trans = CVCTranslator()"
   ]
  },
  {
   "cell_type": "code",
   "execution_count": 2,
   "metadata": {},
   "outputs": [],
   "source": [
    "# NOTE: These are for later use.\n",
    "#Example: NC_000001.10:12345:1:A\n",
    "\n",
    "# Example2 = CoreVariantClass(origCoordSystem='1-based counting',seqType='rna',\n",
    "#                         refAllele='AGUC',altAllele='AAA',start=12345,end=12346,allelicState= 'homozygous',geneSymbol='GENE2',hgncId=89123,\n",
    "#                         chrom='2', genomeBuild='GRCh38.p14', sequenceId='NC_000001.14',notes = {'test':'should work'})\n",
    "# Example2\n",
    "\n",
    "# Example3 = CoreVariantClass(origCoordSystem='0-based counting',seqType='Protein',\n",
    "#                         refAllele='A',altAllele='P',start=3223,end=4442,allelicState= 'homozygous',geneSymbol='GENE3',hgncId=4941,\n",
    "#                         chrom='MT', genomeBuild='NCBI Build 36.1', sequenceId='NC_000001.14',notes = {'test':'should work'})\n",
    "# Example3"
   ]
  },
  {
   "cell_type": "code",
   "execution_count": 3,
   "metadata": {},
   "outputs": [
    {
     "data": {
      "text/plain": [
       "CoreVariantClass(0-based interbase,DNA,A,A,12345,12348,heterozygous,GENE1,123,3,T2T-CHM13,NC_000001.10,{'kwargs': 'Testing the **kwargs'})"
      ]
     },
     "execution_count": 3,
     "metadata": {},
     "output_type": "execute_result"
    }
   ],
   "source": [
    "Example1 = CoreVariantClass(origCoordSystem='0-based interbase',seqType='DNA',\n",
    "                        refAllele='A',altAllele='A',start=12345,end=12348,allelicState= 'heterozygous',geneSymbol='GENE1',hgncId=123,\n",
    "                        chrom='chr 3', genomeBuild='T2T-CHM13', sequenceId='NC_000001.10', kwargs='Testing the **kwargs')\n",
    "Example1"
   ]
  },
  {
   "cell_type": "code",
   "execution_count": 4,
   "metadata": {},
   "outputs": [
    {
     "ename": "TypeError",
     "evalue": "cvc_to_spdi() got an unexpected keyword argument 'format_output'",
     "output_type": "error",
     "traceback": [
      "\u001b[0;31m---------------------------------------------------------------------------\u001b[0m",
      "\u001b[0;31mTypeError\u001b[0m                                 Traceback (most recent call last)",
      "\u001b[1;32m/Users/M278428/Documents/rf_lab_projects/DraftCoreDataModel/notebooks/extraCV.ipynb Cell 4\u001b[0m line \u001b[0;36m2\n\u001b[1;32m      <a href='vscode-notebook-cell:/Users/M278428/Documents/rf_lab_projects/DraftCoreDataModel/notebooks/extraCV.ipynb#W3sZmlsZQ%3D%3D?line=0'>1</a>\u001b[0m \u001b[39m#Translating core variant class to spdi with different formats\u001b[39;00m\n\u001b[0;32m----> <a href='vscode-notebook-cell:/Users/M278428/Documents/rf_lab_projects/DraftCoreDataModel/notebooks/extraCV.ipynb#W3sZmlsZQ%3D%3D?line=1'>2</a>\u001b[0m \u001b[39mprint\u001b[39m(cvc_trans\u001b[39m.\u001b[39;49mcvc_to_spdi(Example1,format_output\u001b[39m=\u001b[39;49m\u001b[39m\"\u001b[39;49m\u001b[39mobj\u001b[39;49m\u001b[39m\"\u001b[39;49m))\n\u001b[1;32m      <a href='vscode-notebook-cell:/Users/M278428/Documents/rf_lab_projects/DraftCoreDataModel/notebooks/extraCV.ipynb#W3sZmlsZQ%3D%3D?line=2'>3</a>\u001b[0m \u001b[39mprint\u001b[39m(cvc_trans\u001b[39m.\u001b[39mcvc_to_spdi(Example1,format_output\u001b[39m=\u001b[39m\u001b[39m\"\u001b[39m\u001b[39mstring\u001b[39m\u001b[39m\"\u001b[39m))\n\u001b[1;32m      <a href='vscode-notebook-cell:/Users/M278428/Documents/rf_lab_projects/DraftCoreDataModel/notebooks/extraCV.ipynb#W3sZmlsZQ%3D%3D?line=3'>4</a>\u001b[0m \u001b[39mprint\u001b[39m(cvc_trans\u001b[39m.\u001b[39mcvc_to_spdi(Example1,format_output\u001b[39m=\u001b[39m\u001b[39m\"\u001b[39m\u001b[39mdict\u001b[39m\u001b[39m\"\u001b[39m))\n",
      "\u001b[0;31mTypeError\u001b[0m: cvc_to_spdi() got an unexpected keyword argument 'format_output'"
     ]
    }
   ],
   "source": [
    "#Translating core variant class to spdi with different formats\n",
    "print(cvc_trans.cvc_to_spdi(Example1,format_output=\"obj\"))\n",
    "print(cvc_trans.cvc_to_spdi(Example1,format_output=\"string\"))\n",
    "print(cvc_trans.cvc_to_spdi(Example1,format_output=\"dict\"))"
   ]
  },
  {
   "cell_type": "code",
   "execution_count": null,
   "metadata": {},
   "outputs": [],
   "source": [
    "ex1 = 'NC_000001.10:12345:1:A'\n",
    "trans = cvc_trans.spdi_to_cvc(ex1)\n",
    "print(trans)\n",
    "cvc_example = CoreVariantClass(origCoordSystem='0-based interbase',seqType='DNA',\n",
    "                        refAllele='1',altAllele='A',start=12345,end=12346,allelicState= None,geneSymbol=None,hgncId=None,\n",
    "                        chrom=None, genomeBuild=None, sequenceId='NC_000001.10')\n",
    "print(cvc_example)\n"
   ]
  },
  {
   "cell_type": "code",
   "execution_count": null,
   "metadata": {},
   "outputs": [],
   "source": [
    "str(trans) == str(cvc_example)\n"
   ]
  },
  {
   "cell_type": "code",
   "execution_count": null,
   "metadata": {},
   "outputs": [],
   "source": [
    "#Translating core variant class to hgvs with different formats.\n",
    "print(cvc_trans.cvc_to_hgvs(Example1,format_output=\"string\"))\n",
    "cvc_trans.cvc_to_hgvs(Example1,format_output=\"parse\")"
   ]
  },
  {
   "cell_type": "code",
   "execution_count": null,
   "metadata": {},
   "outputs": [],
   "source": [
    "#Translate core variant class to vrs \n",
    "print(cvc_trans.cvc_to_vrs(Example1,format_output=\"obj\"))\n",
    "print(cvc_trans.cvc_to_vrs(Example1,format_output=\"dict\"))\n",
    "print(cvc_trans.cvc_to_vrs(Example1,format_output=\"json\"))"
   ]
  },
  {
   "cell_type": "code",
   "execution_count": null,
   "metadata": {},
   "outputs": [],
   "source": [
    "#Translating spdi to core variant class\n",
    "spdi = 'NC_000001.10:12345:1:A'\n",
    "cvc_trans.spdi_to_cvc(spdi)"
   ]
  },
  {
   "cell_type": "code",
   "execution_count": null,
   "metadata": {},
   "outputs": [],
   "source": [
    "# Translating hgvs to core variant class\n",
    "hgvs = 'NC_000001.10:g.12346C>A'\n",
    "cvc_trans.hgvs_to_cvc(hgvs)"
   ]
  },
  {
   "cell_type": "code",
   "execution_count": 5,
   "metadata": {},
   "outputs": [
    {
     "ename": "TypeError",
     "evalue": "cvc_to_vrs() got an unexpected keyword argument 'format_output'",
     "output_type": "error",
     "traceback": [
      "\u001b[0;31m---------------------------------------------------------------------------\u001b[0m",
      "\u001b[0;31mTypeError\u001b[0m                                 Traceback (most recent call last)",
      "\u001b[1;32m/Users/M278428/Documents/rf_lab_projects/DraftCoreDataModel/notebooks/extraCV.ipynb Cell 11\u001b[0m line \u001b[0;36m2\n\u001b[1;32m      <a href='vscode-notebook-cell:/Users/M278428/Documents/rf_lab_projects/DraftCoreDataModel/notebooks/extraCV.ipynb#X13sZmlsZQ%3D%3D?line=0'>1</a>\u001b[0m \u001b[39m# Translating vrs to core variant class\u001b[39;00m\n\u001b[0;32m----> <a href='vscode-notebook-cell:/Users/M278428/Documents/rf_lab_projects/DraftCoreDataModel/notebooks/extraCV.ipynb#X13sZmlsZQ%3D%3D?line=1'>2</a>\u001b[0m vrs_obj \u001b[39m=\u001b[39m cvc_trans\u001b[39m.\u001b[39;49mcvc_to_vrs(Example1,format_output\u001b[39m=\u001b[39;49m\u001b[39m\"\u001b[39;49m\u001b[39mobj\u001b[39;49m\u001b[39m\"\u001b[39;49m)\n\u001b[1;32m      <a href='vscode-notebook-cell:/Users/M278428/Documents/rf_lab_projects/DraftCoreDataModel/notebooks/extraCV.ipynb#X13sZmlsZQ%3D%3D?line=2'>3</a>\u001b[0m cvc_trans\u001b[39m.\u001b[39mvrs_to_cvc(vrs_obj)\n",
      "\u001b[0;31mTypeError\u001b[0m: cvc_to_vrs() got an unexpected keyword argument 'format_output'"
     ]
    }
   ],
   "source": [
    "# Translating vrs to core variant class\n",
    "vrs_obj = cvc_trans.cvc_to_vrs(Example1,format_output=\"obj\")\n",
    "cvc_trans.vrs_to_cvc(vrs_obj)"
   ]
  },
  {
   "cell_type": "code",
   "execution_count": null,
   "metadata": {},
   "outputs": [],
   "source": [
    "\n",
    "\n",
    "cvc_example2 = CoreVariantClass(origCoordSystem='0-based interbase',seqType='DNA',\n",
    "                        refAllele='C',altAllele='A',start=12345,end=12346,allelicState= None,geneSymbol=None,hgncId=None,\n",
    "                        chrom=None, genomeBuild=None, sequenceId='NC_000001.10')\n"
   ]
  },
  {
   "cell_type": "code",
   "execution_count": null,
   "metadata": {},
   "outputs": [],
   "source": [
    "# from src.api.seqrepo_api import SeqRepoAPI\n",
    "# cn = SeqRepoAPI(\"https://services.genomicmedlab.org/seqrepo\")\n",
    "# dp = cn.dp\n",
    "# tlr = cn.tlr\n",
    "# vrs_dict = {'_id': 'ga4gh:VA.CWDQtAfFv3QnUqN3up3J1bs32JVSKFPk', 'type': 'Allele', 'location': {'_id': 'ga4gh:VSL.ixj_LC0E_4GQvm7dtG4r5gjf88lWRxU1', 'type': 'SequenceLocation', 'sequence_id': 'ga4gh:SQ.S_KjnFVz-FE7M0W6yoaUDgYxLPc1jyWU', 'interval': {'type': 'SequenceInterval', 'start': {'type': 'Number', 'value': 12345}, 'end': {'type': 'Number', 'value': 12346}}}, 'state': {'type': 'LiteralSequenceExpression', 'sequence': 'A'}}\n",
    "# vrs_object = tlr.translate_from(vrs_dict, 'vrs')\n",
    "# vrs_object"
   ]
  },
  {
   "cell_type": "code",
   "execution_count": null,
   "metadata": {},
   "outputs": [],
   "source": [
    "Example1 = CoreVariantClass(origCoordSystem='0-based interbase',seqType='DNA',\n",
    "                        refAllele='A',altAllele='A',start=12345,end=12348,allelicState= 'heterozygous',geneSymbol='GENE1',hgncId=123,\n",
    "                        chrom='chr 3', genomeBuild='T2T-CHM13', sequenceId='NC_000001.10', kwargs='Testing the **kwargs')\n"
   ]
  },
  {
   "cell_type": "code",
   "execution_count": null,
   "metadata": {},
   "outputs": [],
   "source": [
    "Example1.origCoordSystem = '0-based counting'\n",
    "Example1"
   ]
  },
  {
   "cell_type": "code",
   "execution_count": null,
   "metadata": {},
   "outputs": [],
   "source": [
    "def normalize_origCoordSystem(expression):\n",
    "    if expression.origCoordSystem == '0-based interbase':\n",
    "        pass\n",
    "    elif expression.origCoordSystem == '0-based counting':\n",
    "        expression.start += 1\n",
    "        expression.origCoordSystem = '0-based interbase'\n",
    "    elif expression.origCoordSystem == '1-based counting':\n",
    "        expression.start -= 1\n",
    "        expression.origCoordSystem = '0-based interbase'\n",
    "    else:\n",
    "        raise ValueError(\"Invalid coordinate system specified.\")\n"
   ]
  },
  {
   "cell_type": "code",
   "execution_count": null,
   "metadata": {},
   "outputs": [],
   "source": [
    "normalize_origCoordSystem(Example1)\n",
    "Example1"
   ]
  },
  {
   "cell_type": "code",
   "execution_count": null,
   "metadata": {},
   "outputs": [],
   "source": [
    "Example1.init_params()"
   ]
  },
  {
   "cell_type": "code",
   "execution_count": null,
   "metadata": {},
   "outputs": [],
   "source": [
    "def normalized_data(expression):\n",
    "    \n",
    "    normalize_origCoordSystem(expression)\n",
    "\n",
    "    return {\n",
    "        \"origCoordSystem\": expression.origCoordSystem,\n",
    "        \"seqType\": expression.seqType,\n",
    "        \"allelicState\": expression.allelicState,\n",
    "        \"associatedGene\": {\n",
    "            \"geneSymbol\": expression.geneSymbol,\n",
    "            \"hgncId\": expression.hgncId,\n",
    "        },\n",
    "        \"refAllele\": expression.refAllele,\n",
    "        \"altAllele\": expression.altAllele,\n",
    "        \"position\": {\n",
    "            \"chrom\": expression.chrom,\n",
    "            \"genomeBuild\": expression.genomeBuild,\n",
    "            \"start\": expression.start,\n",
    "            \"end\": expression.end,\n",
    "            \"sequenceId\": expression.sequenceId,\n",
    "            },}"
   ]
  },
  {
   "cell_type": "code",
   "execution_count": null,
   "metadata": {},
   "outputs": [],
   "source": [
    "normalized_data(Example1)"
   ]
  },
  {
   "cell_type": "code",
   "execution_count": 3,
   "metadata": {},
   "outputs": [
    {
     "data": {
      "text/plain": [
       "CoreVariantClass(1-based counting,DNA,A,A,12345,12348,heterozygous,GENE1,123,3,T2T-CHM13,NC_000001.10,{'kwargs': 'Testing the **kwargs'})"
      ]
     },
     "execution_count": 3,
     "metadata": {},
     "output_type": "execute_result"
    }
   ],
   "source": [
    "Example1 = CoreVariantClass(origCoordSystem='1-based counting',seqType='DNA',\n",
    "                        refAllele='A',altAllele='A',start=12345,end=12348,allelicState= 'heterozygous',geneSymbol='GENE1',hgncId=123,\n",
    "                        chrom='chr 3', genomeBuild='T2T-CHM13', sequenceId='NC_000001.10', kwargs='Testing the **kwargs')\n",
    "Example1"
   ]
  },
  {
   "cell_type": "code",
   "execution_count": 4,
   "metadata": {},
   "outputs": [
    {
     "data": {
      "text/plain": [
       "{'origCoordSystem': '0-based interbase',\n",
       " 'seqType': 'DNA',\n",
       " 'allelicState': 'heterozygous',\n",
       " 'associatedGene': {'geneSymbol': 'GENE1', 'hgncId': 123},\n",
       " 'refAllele': 'A',\n",
       " 'altAllele': 'A',\n",
       " 'position': {'chrom': '3',\n",
       "  'genomeBuild': 'T2T-CHM13',\n",
       "  'start': 12344,\n",
       "  'end': 12348,\n",
       "  'sequenceId': 'NC_000001.10'}}"
      ]
     },
     "execution_count": 4,
     "metadata": {},
     "output_type": "execute_result"
    }
   ],
   "source": [
    "Example1.normalized_data()"
   ]
  },
  {
   "cell_type": "code",
   "execution_count": null,
   "metadata": {},
   "outputs": [],
   "source": []
  }
 ],
 "metadata": {
  "kernelspec": {
   "display_name": "test_dev_vrs_installation",
   "language": "python",
   "name": "python3"
  },
  "language_info": {
   "codemirror_mode": {
    "name": "ipython",
    "version": 3
   },
   "file_extension": ".py",
   "mimetype": "text/x-python",
   "name": "python",
   "nbconvert_exporter": "python",
   "pygments_lexer": "ipython3",
   "version": "3.9.15"
  },
  "orig_nbformat": 4
 },
 "nbformat": 4,
 "nbformat_minor": 2
}
