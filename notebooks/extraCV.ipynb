{
 "cells": [
  {
   "cell_type": "code",
   "execution_count": null,
   "metadata": {},
   "outputs": [],
   "source": [
    "import sys\n",
    "sys.path.append('..')\n",
    "from src.core_variant import CoreVariantClass\n",
    "from src.core_variant_translate import CVCTranslator\n",
    "cvc_trans = CVCTranslator()"
   ]
  },
  {
   "cell_type": "code",
   "execution_count": null,
   "metadata": {},
   "outputs": [],
   "source": [
    "NOTE: These are for later use.\n",
    "#Example: NC_000001.10:12345:1:A\n",
    "\n",
    "# Example2 = CoreVariantClass(origCoordSystem='1-based counting',seqType='rna',\n",
    "#                         refAllele='AGUC',altAllele='AAA',start=12345,end=12346,allelicState= 'homozygous',geneSymbol='GENE2',hgncId=89123,\n",
    "#                         chrom='2', genomeBuild='GRCh38.p14', sequenceId='NC_000001.14',notes = {'test':'should work'})\n",
    "# Example2\n",
    "\n",
    "# Example3 = CoreVariantClass(origCoordSystem='0-based counting',seqType='Protein',\n",
    "#                         refAllele='A',altAllele='P',start=3223,end=4442,allelicState= 'homozygous',geneSymbol='GENE3',hgncId=4941,\n",
    "#                         chrom='MT', genomeBuild='NCBI Build 36.1', sequenceId='NC_000001.14',notes = {'test':'should work'})\n",
    "# Example3"
   ]
  },
  {
   "cell_type": "code",
   "execution_count": null,
   "metadata": {},
   "outputs": [],
   "source": [
    "Example1 = CoreVariantClass(origCoordSystem='0-based interbase',seqType='DNA',\n",
    "                        refAllele='1',altAllele='A',start=12345,end=12348,allelicState= 'heterozygous',geneSymbol='GENE1',hgncId=123,\n",
    "                        chrom='chr 3', genomeBuild='T2T-CHM13', sequenceId='NC_000001.10',notes = 'Testing the **kwargs')\n",
    "Example1"
   ]
  },
  {
   "cell_type": "code",
   "execution_count": null,
   "metadata": {},
   "outputs": [],
   "source": [
    "edit_coordinate(Example1)\n",
    "Example1"
   ]
  },
  {
   "cell_type": "code",
   "execution_count": null,
   "metadata": {},
   "outputs": [],
   "source": [
    "#Translating core variant class to spdi with different formats\n",
    "print(cvc_trans.cvc_to_spdi(Example1,format_output=\"obj\"))\n",
    "print(cvc_trans.cvc_to_spdi(Example1,format_output=\"string\"))\n",
    "print(cvc_trans.cvc_to_spdi(Example1,format_output=\"dict\"))"
   ]
  },
  {
   "cell_type": "code",
   "execution_count": null,
   "metadata": {},
   "outputs": [],
   "source": [
    "#Translating core variant class to hgvs with different formats.\n",
    "print(cvc_trans.cvc_to_hgvs(Example1,format_output=\"string\"))\n",
    "cvc_trans.cvc_to_hgvs(Example1,format_output=\"parse\")"
   ]
  },
  {
   "cell_type": "code",
   "execution_count": null,
   "metadata": {},
   "outputs": [],
   "source": [
    "#Translate core variant class to vrs \n",
    "print(cvc_trans.cvc_to_vrs(Example1,format_output=\"obj\"))\n",
    "print(cvc_trans.cvc_to_vrs(Example1,format_output=\"dict\"))\n",
    "print(cvc_trans.cvc_to_vrs(Example1,format_output=\"json\"))"
   ]
  },
  {
   "cell_type": "code",
   "execution_count": null,
   "metadata": {},
   "outputs": [],
   "source": [
    "#Translating spdi to core variant class\n",
    "spdi = 'NC_000001.10:12345:1:A'\n",
    "cvc_trans.spdi_to_cvc(spdi)"
   ]
  },
  {
   "cell_type": "code",
   "execution_count": null,
   "metadata": {},
   "outputs": [],
   "source": [
    "# Translating hgvs to core variant class\n",
    "hgvs = 'NC_000001.10:g.12346C>A'\n",
    "cvc_trans.hgvs_to_cvc(hgvs)"
   ]
  },
  {
   "cell_type": "code",
   "execution_count": null,
   "metadata": {},
   "outputs": [],
   "source": [
    "# Translating vrs to core variant class\n",
    "vrs_obj = cvc_trans.cvc_to_vrs(Example1,format_output=\"obj\")\n",
    "cvc_trans.vrs_to_cvc(vrs_obj)"
   ]
  },
  {
   "cell_type": "code",
   "execution_count": null,
   "metadata": {},
   "outputs": [],
   "source": [
    "# future implementation\n",
    "def edit_coordinate(expression):\n",
    "\n",
    "    if expression.origCoordSystem == '0-based interbase':\n",
    "        pass\n",
    "    elif expression.origCoordSystem == '0-based counting':\n",
    "        expression.start += 1\n",
    "        expression.origCoordSystem = '0-based interbase'\n",
    "    elif expression.origCoordSystem == '1-based counting':\n",
    "        expression.start -= 1\n",
    "        expression.origCoordSystem = '0-based interbase'\n",
    "    else:\n",
    "        raise ValueError(\"Invalid coordinate system specified.\")"
   ]
  }
 ],
 "metadata": {
  "kernelspec": {
   "display_name": "test_dev_vrs_installation",
   "language": "python",
   "name": "python3"
  },
  "language_info": {
   "codemirror_mode": {
    "name": "ipython",
    "version": 3
   },
   "file_extension": ".py",
   "mimetype": "text/x-python",
   "name": "python",
   "nbconvert_exporter": "python",
   "pygments_lexer": "ipython3",
   "version": "3.9.15"
  },
  "orig_nbformat": 4
 },
 "nbformat": 4,
 "nbformat_minor": 2
}
