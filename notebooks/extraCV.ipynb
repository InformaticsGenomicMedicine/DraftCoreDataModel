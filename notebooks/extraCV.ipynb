{
 "cells": [
  {
   "cell_type": "code",
   "execution_count": 1,
   "metadata": {},
   "outputs": [
    {
     "name": "stderr",
     "output_type": "stream",
     "text": [
      "/Users/M278428/opt/anaconda3/envs/test_dev_vrs_installation/lib/python3.9/site-packages/python_jsonschema_objects/__init__.py:49: UserWarning: Schema version http://json-schema.org/draft-07/schema not recognized. Some keywords and features may not be supported.\n",
      "  warnings.warn(\n"
     ]
    }
   ],
   "source": [
    "import sys\n",
    "sys.path.append('..')\n",
    "from src.core_variant import CoreVariantClass\n",
    "from src.core_variant_translate import CVCTranslator\n",
    "cvc_trans = CVCTranslator()"
   ]
  },
  {
   "cell_type": "code",
   "execution_count": null,
   "metadata": {},
   "outputs": [],
   "source": [
    "NOTE: These are for later use.\n",
    "#Example: NC_000001.10:12345:1:A\n",
    "\n",
    "# Example2 = CoreVariantClass(origCoordSystem='1-based counting',seqType='rna',\n",
    "#                         refAllele='AGUC',altAllele='AAA',start=12345,end=12346,allelicState= 'homozygous',geneSymbol='GENE2',hgncId=89123,\n",
    "#                         chrom='2', genomeBuild='GRCh38.p14', sequenceId='NC_000001.14',notes = {'test':'should work'})\n",
    "# Example2\n",
    "\n",
    "# Example3 = CoreVariantClass(origCoordSystem='0-based counting',seqType='Protein',\n",
    "#                         refAllele='A',altAllele='P',start=3223,end=4442,allelicState= 'homozygous',geneSymbol='GENE3',hgncId=4941,\n",
    "#                         chrom='MT', genomeBuild='NCBI Build 36.1', sequenceId='NC_000001.14',notes = {'test':'should work'})\n",
    "# Example3"
   ]
  },
  {
   "cell_type": "code",
   "execution_count": 2,
   "metadata": {},
   "outputs": [
    {
     "data": {
      "text/plain": [
       "CoreVariantClass(0-based interbase,DNA,1,A,12345,12348,heterozygous,GENE1,123,3,T2T-CHM13,NC_000001.10,{'notes': 'Testing the **kwargs'})"
      ]
     },
     "execution_count": 2,
     "metadata": {},
     "output_type": "execute_result"
    }
   ],
   "source": [
    "Example1 = CoreVariantClass(origCoordSystem='0-based interbase',seqType='DNA',\n",
    "                        refAllele='1',altAllele='A',start=12345,end=12348,allelicState= 'heterozygous',geneSymbol='GENE1',hgncId=123,\n",
    "                        chrom='chr 3', genomeBuild='T2T-CHM13', sequenceId='NC_000001.10',notes = 'Testing the **kwargs')\n",
    "Example1"
   ]
  },
  {
   "cell_type": "code",
   "execution_count": 3,
   "metadata": {},
   "outputs": [
    {
     "name": "stdout",
     "output_type": "stream",
     "text": [
      "<src.spdi.spdi_class.SPDI object at 0x7fe1bdc237f0>\n",
      "NC_000001.10:12345:1:A\n",
      "{'sequence': 'NC_000001.10', 'position': 12345, 'deletion': '1', 'insertion': 'A'}\n"
     ]
    }
   ],
   "source": [
    "#Translating core variant class to spdi with different formats\n",
    "print(cvc_trans.cvc_to_spdi(Example1,format_output=\"obj\"))\n",
    "print(cvc_trans.cvc_to_spdi(Example1,format_output=\"string\"))\n",
    "print(cvc_trans.cvc_to_spdi(Example1,format_output=\"dict\"))"
   ]
  },
  {
   "cell_type": "code",
   "execution_count": 4,
   "metadata": {},
   "outputs": [
    {
     "name": "stdout",
     "output_type": "stream",
     "text": [
      "NC_000001.10:g.12346C>A\n"
     ]
    },
    {
     "data": {
      "text/plain": [
       "SequenceVariant(ac=NC_000001.10, type=g, posedit=12346C>A, gene=None)"
      ]
     },
     "execution_count": 4,
     "metadata": {},
     "output_type": "execute_result"
    }
   ],
   "source": [
    "#Translating core variant class to hgvs with different formats.\n",
    "print(cvc_trans.cvc_to_hgvs(Example1,format_output=\"string\"))\n",
    "cvc_trans.cvc_to_hgvs(Example1,format_output=\"parse\")"
   ]
  },
  {
   "cell_type": "code",
   "execution_count": 5,
   "metadata": {},
   "outputs": [
    {
     "name": "stdout",
     "output_type": "stream",
     "text": [
      "<Allele attributes: _id, location, state, type>\n",
      "{'_id': 'ga4gh:VA.CWDQtAfFv3QnUqN3up3J1bs32JVSKFPk', 'type': 'Allele', 'location': {'_id': 'ga4gh:VSL.ixj_LC0E_4GQvm7dtG4r5gjf88lWRxU1', 'type': 'SequenceLocation', 'sequence_id': 'ga4gh:SQ.S_KjnFVz-FE7M0W6yoaUDgYxLPc1jyWU', 'interval': {'type': 'SequenceInterval', 'start': {'type': 'Number', 'value': 12345}, 'end': {'type': 'Number', 'value': 12346}}}, 'state': {'type': 'LiteralSequenceExpression', 'sequence': 'A'}}\n",
      "{\"_id\": \"ga4gh:VA.CWDQtAfFv3QnUqN3up3J1bs32JVSKFPk\", \"type\": \"Allele\", \"location\": {\"_id\": \"ga4gh:VSL.ixj_LC0E_4GQvm7dtG4r5gjf88lWRxU1\", \"type\": \"SequenceLocation\", \"sequence_id\": \"ga4gh:SQ.S_KjnFVz-FE7M0W6yoaUDgYxLPc1jyWU\", \"interval\": {\"type\": \"SequenceInterval\", \"start\": {\"type\": \"Number\", \"value\": 12345}, \"end\": {\"type\": \"Number\", \"value\": 12346}}}, \"state\": {\"type\": \"LiteralSequenceExpression\", \"sequence\": \"A\"}}\n"
     ]
    }
   ],
   "source": [
    "#Translate core variant class to vrs \n",
    "print(cvc_trans.cvc_to_vrs(Example1,format_output=\"obj\"))\n",
    "print(cvc_trans.cvc_to_vrs(Example1,format_output=\"dict\"))\n",
    "print(cvc_trans.cvc_to_vrs(Example1,format_output=\"json\"))"
   ]
  },
  {
   "cell_type": "code",
   "execution_count": 6,
   "metadata": {},
   "outputs": [
    {
     "data": {
      "text/plain": [
       "CoreVariantClass(0-based interbase,DNA,1,A,12345,12346,None,None,None,None,None,NC_000001.10,{'kwargs': 'NC_000001.10:12345:1:A'})"
      ]
     },
     "execution_count": 6,
     "metadata": {},
     "output_type": "execute_result"
    }
   ],
   "source": [
    "#Translating spdi to core variant class\n",
    "spdi = 'NC_000001.10:12345:1:A'\n",
    "cvc_trans.spdi_to_cvc(spdi)"
   ]
  },
  {
   "cell_type": "code",
   "execution_count": 7,
   "metadata": {},
   "outputs": [
    {
     "data": {
      "text/plain": [
       "CoreVariantClass(0-based interbase,DNA,C,A,12345,12346,None,None,None,None,None,NC_000001.10,{'kwargs': 'NC_000001.10:g.12346C>A'})"
      ]
     },
     "execution_count": 7,
     "metadata": {},
     "output_type": "execute_result"
    }
   ],
   "source": [
    "# Translating hgvs to core variant class\n",
    "hgvs = 'NC_000001.10:g.12346C>A'\n",
    "cvc_trans.hgvs_to_cvc(hgvs)"
   ]
  },
  {
   "cell_type": "code",
   "execution_count": 9,
   "metadata": {},
   "outputs": [
    {
     "data": {
      "text/plain": [
       "CoreVariantClass(0-based interbase,DNA,C,A,12345,12346,None,None,None,None,None,NC_000001.10,{'kwargs': <Allele _id=<Literal<str> ga4gh:VA.CWDQtAfFv3QnUqN3up3J1bs32JVSKFPk> location=<SequenceLocation _id=<Literal<str> ga4gh:VSL.ixj_LC0E_4GQvm7dtG4r5gjf88lWRxU1> interval=<SequenceInterval end=<Number type=<Literal<str> Number> value=<Literal<int> 12346>> start=<Number type=<Literal<str> Number> value=<Literal<int> 12345>> type=<Literal<str> SequenceInterval>> sequence_id=<Literal<str> ga4gh:SQ.S_KjnFVz-FE7M0W6yoaUDgYxLPc1jyWU> type=<Literal<str> SequenceLocation>> state=<LiteralSequenceExpression sequence=<Literal<str> A> type=<Literal<str> LiteralSequenceExpression>> type=<Literal<str> Allele>>})"
      ]
     },
     "execution_count": 9,
     "metadata": {},
     "output_type": "execute_result"
    }
   ],
   "source": [
    "# Translating vrs to core variant class\n",
    "vrs_obj = cvc_trans.cvc_to_vrs(Example1,format_output=\"obj\")\n",
    "cvc_trans.vrs_to_cvc(vrs_obj)"
   ]
  }
 ],
 "metadata": {
  "kernelspec": {
   "display_name": "test_dev_vrs_installation",
   "language": "python",
   "name": "python3"
  },
  "language_info": {
   "codemirror_mode": {
    "name": "ipython",
    "version": 3
   },
   "file_extension": ".py",
   "mimetype": "text/x-python",
   "name": "python",
   "nbconvert_exporter": "python",
   "pygments_lexer": "ipython3",
   "version": "3.9.15"
  },
  "orig_nbformat": 4
 },
 "nbformat": 4,
 "nbformat_minor": 2
}
