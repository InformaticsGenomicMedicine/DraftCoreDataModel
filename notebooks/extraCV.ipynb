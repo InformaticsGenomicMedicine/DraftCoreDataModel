{
 "cells": [
  {
   "cell_type": "code",
   "execution_count": 1,
   "metadata": {},
   "outputs": [
    {
     "name": "stderr",
     "output_type": "stream",
     "text": [
      "/Users/M278428/opt/anaconda3/envs/test_dev_vrs_installation/lib/python3.9/site-packages/python_jsonschema_objects/__init__.py:49: UserWarning: Schema version http://json-schema.org/draft-07/schema not recognized. Some keywords and features may not be supported.\n",
      "  warnings.warn(\n"
     ]
    }
   ],
   "source": [
    "import sys\n",
    "sys.path.append('..')\n",
    "from src.core_variant import CoreVariantClass\n",
    "from src.core_variant_translate import CVCTranslator\n",
    "cvc_trans = CVCTranslator()"
   ]
  },
  {
   "cell_type": "code",
   "execution_count": null,
   "metadata": {},
   "outputs": [],
   "source": [
    "# NOTE: These are for later use.\n",
    "#Example: NC_000001.10:12345:1:A\n",
    "\n",
    "# Example2 = CoreVariantClass(origCoordSystem='1-based counting',seqType='rna',\n",
    "#                         refAllele='AGUC',altAllele='AAA',start=12345,end=12346,allelicState= 'homozygous',geneSymbol='GENE2',hgncId=89123,\n",
    "#                         chrom='2', genomeBuild='GRCh38.p14', sequenceId='NC_000001.14',notes = {'test':'should work'})\n",
    "# Example2\n",
    "\n",
    "# Example3 = CoreVariantClass(origCoordSystem='0-based counting',seqType='Protein',\n",
    "#                         refAllele='A',altAllele='P',start=3223,end=4442,allelicState= 'homozygous',geneSymbol='GENE3',hgncId=4941,\n",
    "#                         chrom='MT', genomeBuild='NCBI Build 36.1', sequenceId='NC_000001.14',notes = {'test':'should work'})\n",
    "# Example3"
   ]
  },
  {
   "cell_type": "code",
   "execution_count": 2,
   "metadata": {},
   "outputs": [
    {
     "ename": "ValueError",
     "evalue": "Invalid X input: \"X\". Value need to match regular expression patter:(^[ACGT]*$ or ^\\d+$).",
     "output_type": "error",
     "traceback": [
      "\u001b[0;31m---------------------------------------------------------------------------\u001b[0m",
      "\u001b[0;31mValueError\u001b[0m                                Traceback (most recent call last)",
      "\u001b[1;32m/Users/M278428/Documents/rf_lab_projects/DraftCoreDataModel/notebooks/extraCV.ipynb Cell 3\u001b[0m line \u001b[0;36m1\n\u001b[0;32m----> <a href='vscode-notebook-cell:/Users/M278428/Documents/rf_lab_projects/DraftCoreDataModel/notebooks/extraCV.ipynb#W2sZmlsZQ%3D%3D?line=0'>1</a>\u001b[0m Example1 \u001b[39m=\u001b[39m CoreVariantClass(origCoordSystem\u001b[39m=\u001b[39;49m\u001b[39m'\u001b[39;49m\u001b[39m0-based interbase\u001b[39;49m\u001b[39m'\u001b[39;49m,seqType\u001b[39m=\u001b[39;49m\u001b[39m'\u001b[39;49m\u001b[39mDNA\u001b[39;49m\u001b[39m'\u001b[39;49m,\n\u001b[1;32m      <a href='vscode-notebook-cell:/Users/M278428/Documents/rf_lab_projects/DraftCoreDataModel/notebooks/extraCV.ipynb#W2sZmlsZQ%3D%3D?line=1'>2</a>\u001b[0m                         refAllele\u001b[39m=\u001b[39;49m\u001b[39m'\u001b[39;49m\u001b[39mX\u001b[39;49m\u001b[39m'\u001b[39;49m,altAllele\u001b[39m=\u001b[39;49m\u001b[39m'\u001b[39;49m\u001b[39mA\u001b[39;49m\u001b[39m'\u001b[39;49m,start\u001b[39m=\u001b[39;49m\u001b[39m12345\u001b[39;49m,end\u001b[39m=\u001b[39;49m\u001b[39m12348\u001b[39;49m,allelicState\u001b[39m=\u001b[39;49m \u001b[39m'\u001b[39;49m\u001b[39mheterozygous\u001b[39;49m\u001b[39m'\u001b[39;49m,geneSymbol\u001b[39m=\u001b[39;49m\u001b[39m'\u001b[39;49m\u001b[39mGENE1\u001b[39;49m\u001b[39m'\u001b[39;49m,hgncId\u001b[39m=\u001b[39;49m\u001b[39m123\u001b[39;49m,\n\u001b[1;32m      <a href='vscode-notebook-cell:/Users/M278428/Documents/rf_lab_projects/DraftCoreDataModel/notebooks/extraCV.ipynb#W2sZmlsZQ%3D%3D?line=2'>3</a>\u001b[0m                         chrom\u001b[39m=\u001b[39;49m\u001b[39m'\u001b[39;49m\u001b[39mchr 3\u001b[39;49m\u001b[39m'\u001b[39;49m, genomeBuild\u001b[39m=\u001b[39;49m\u001b[39m'\u001b[39;49m\u001b[39mT2T-CHM13\u001b[39;49m\u001b[39m'\u001b[39;49m, sequenceId\u001b[39m=\u001b[39;49m\u001b[39m'\u001b[39;49m\u001b[39mNC_000001.10\u001b[39;49m\u001b[39m'\u001b[39;49m,notes \u001b[39m=\u001b[39;49m \u001b[39m'\u001b[39;49m\u001b[39mTesting the **kwargs\u001b[39;49m\u001b[39m'\u001b[39;49m)\n\u001b[1;32m      <a href='vscode-notebook-cell:/Users/M278428/Documents/rf_lab_projects/DraftCoreDataModel/notebooks/extraCV.ipynb#W2sZmlsZQ%3D%3D?line=3'>4</a>\u001b[0m Example1\n",
      "File \u001b[0;32m~/Documents/rf_lab_projects/DraftCoreDataModel/src/core_variant.py:46\u001b[0m, in \u001b[0;36mCoreVariantClass.__init__\u001b[0;34m(self, origCoordSystem, seqType, refAllele, altAllele, start, end, allelicState, geneSymbol, hgncId, chrom, genomeBuild, sequenceId, **kwargs)\u001b[0m\n\u001b[1;32m     44\u001b[0m \u001b[39mself\u001b[39m\u001b[39m.\u001b[39morigCoordSystem \u001b[39m=\u001b[39m \u001b[39mself\u001b[39m\u001b[39m.\u001b[39m_validate_orig_coord_system(origCoordSystem)\n\u001b[1;32m     45\u001b[0m \u001b[39mself\u001b[39m\u001b[39m.\u001b[39mseqType \u001b[39m=\u001b[39m \u001b[39mself\u001b[39m\u001b[39m.\u001b[39m_validate_seq_type(seqType)\n\u001b[0;32m---> 46\u001b[0m \u001b[39mself\u001b[39m\u001b[39m.\u001b[39mrefAllele \u001b[39m=\u001b[39m \u001b[39mself\u001b[39;49m\u001b[39m.\u001b[39;49m_validate_reference_allele(refAllele)\n\u001b[1;32m     47\u001b[0m \u001b[39mself\u001b[39m\u001b[39m.\u001b[39maltAllele \u001b[39m=\u001b[39m \u001b[39mself\u001b[39m\u001b[39m.\u001b[39m_validate_alternative_allele(altAllele)\n\u001b[1;32m     48\u001b[0m \u001b[39mself\u001b[39m\u001b[39m.\u001b[39mstart \u001b[39m=\u001b[39m \u001b[39mself\u001b[39m\u001b[39m.\u001b[39m_validate_coordinates(start, \u001b[39m\"\u001b[39m\u001b[39mstart\u001b[39m\u001b[39m\"\u001b[39m)\n",
      "File \u001b[0;32m~/Documents/rf_lab_projects/DraftCoreDataModel/src/core_variant.py:237\u001b[0m, in \u001b[0;36mCoreVariantClass._validate_reference_allele\u001b[0;34m(self, refAllele)\u001b[0m\n\u001b[1;32m    235\u001b[0m \u001b[39mif\u001b[39;00m \u001b[39mself\u001b[39m\u001b[39m.\u001b[39mseqType \u001b[39min\u001b[39;00m (\u001b[39m\"\u001b[39m\u001b[39mDNA\u001b[39m\u001b[39m\"\u001b[39m, \u001b[39m\"\u001b[39m\u001b[39mRNA\u001b[39m\u001b[39m\"\u001b[39m):\n\u001b[1;32m    236\u001b[0m     \u001b[39mif\u001b[39;00m \u001b[39mnot\u001b[39;00m (re\u001b[39m.\u001b[39mmatch(pat[\u001b[39mself\u001b[39m\u001b[39m.\u001b[39mseqType], val) \u001b[39mor\u001b[39;00m re\u001b[39m.\u001b[39mmatch(pat[\u001b[39m\"\u001b[39m\u001b[39mdigit\u001b[39m\u001b[39m\"\u001b[39m], val)):\n\u001b[0;32m--> 237\u001b[0m         \u001b[39mraise\u001b[39;00m \u001b[39mValueError\u001b[39;00m(\n\u001b[1;32m    238\u001b[0m             \u001b[39mf\u001b[39m\u001b[39m'\u001b[39m\u001b[39mInvalid \u001b[39m\u001b[39m{\u001b[39;00mrefAllele\u001b[39m}\u001b[39;00m\u001b[39m input: \u001b[39m\u001b[39m\"\u001b[39m\u001b[39m{\u001b[39;00mval\u001b[39m}\u001b[39;00m\u001b[39m\"\u001b[39m\u001b[39m. Value need to match regular expression patter:(\u001b[39m\u001b[39m{\u001b[39;00mpat[\u001b[39mself\u001b[39m\u001b[39m.\u001b[39mseqType]\u001b[39m}\u001b[39;00m\u001b[39m or \u001b[39m\u001b[39m{\u001b[39;00mpat[\u001b[39m\"\u001b[39m\u001b[39mdigit\u001b[39m\u001b[39m\"\u001b[39m]\u001b[39m}\u001b[39;00m\u001b[39m).\u001b[39m\u001b[39m'\u001b[39m\n\u001b[1;32m    239\u001b[0m         )\n\u001b[1;32m    240\u001b[0m     \u001b[39mreturn\u001b[39;00m val\n\u001b[1;32m    241\u001b[0m \u001b[39melif\u001b[39;00m \u001b[39mself\u001b[39m\u001b[39m.\u001b[39mseqType \u001b[39m==\u001b[39m \u001b[39m\"\u001b[39m\u001b[39mPROTEIN\u001b[39m\u001b[39m\"\u001b[39m:\n",
      "\u001b[0;31mValueError\u001b[0m: Invalid X input: \"X\". Value need to match regular expression patter:(^[ACGT]*$ or ^\\d+$)."
     ]
    }
   ],
   "source": [
    "Example1 = CoreVariantClass(origCoordSystem='0-based interbase',seqType='DNA',\n",
    "                        refAllele='X',altAllele='A',start=12345,end=12348,allelicState= 'heterozygous',geneSymbol='GENE1',hgncId=123,\n",
    "                        chrom='chr 3', genomeBuild='T2T-CHM13', sequenceId='NC_000001.10',notes = 'Testing the **kwargs')\n",
    "Example1"
   ]
  },
  {
   "cell_type": "code",
   "execution_count": 3,
   "metadata": {},
   "outputs": [
    {
     "name": "stdout",
     "output_type": "stream",
     "text": [
      "<src.spdi.spdi_class.SPDI object at 0x7fa60432a820>\n",
      "NC_000001.10:12345:1:A\n",
      "{'sequence': 'NC_000001.10', 'position': 12345, 'deletion': '1', 'insertion': 'A'}\n"
     ]
    }
   ],
   "source": [
    "#Translating core variant class to spdi with different formats\n",
    "print(cvc_trans.cvc_to_spdi(Example1,format_output=\"obj\"))\n",
    "print(cvc_trans.cvc_to_spdi(Example1,format_output=\"string\"))\n",
    "print(cvc_trans.cvc_to_spdi(Example1,format_output=\"dict\"))"
   ]
  },
  {
   "cell_type": "code",
   "execution_count": 22,
   "metadata": {},
   "outputs": [
    {
     "name": "stdout",
     "output_type": "stream",
     "text": [
      "CoreVariantClass(0-based interbase,DNA,1,A,12345,12346,None,None,None,None,None,NC_000001.10,{})\n",
      "CoreVariantClass(0-based interbase,DNA,1,A,12345,12346,None,None,None,None,None,NC_000001.10,{})\n"
     ]
    }
   ],
   "source": [
    "ex1 = 'NC_000001.10:12345:1:A'\n",
    "trans = cvc_trans.spdi_to_cvc(ex1)\n",
    "print(trans)\n",
    "cvc_example = CoreVariantClass(origCoordSystem='0-based interbase',seqType='DNA',\n",
    "                        refAllele='1',altAllele='A',start=12345,end=12346,allelicState= None,geneSymbol=None,hgncId=None,\n",
    "                        chrom=None, genomeBuild=None, sequenceId='NC_000001.10')\n",
    "print(cvc_example)\n"
   ]
  },
  {
   "cell_type": "code",
   "execution_count": 23,
   "metadata": {},
   "outputs": [
    {
     "data": {
      "text/plain": [
       "True"
      ]
     },
     "execution_count": 23,
     "metadata": {},
     "output_type": "execute_result"
    }
   ],
   "source": [
    "str(trans) == str(cvc_example)\n"
   ]
  },
  {
   "cell_type": "code",
   "execution_count": 16,
   "metadata": {},
   "outputs": [
    {
     "name": "stdout",
     "output_type": "stream",
     "text": [
      "NC_000001.10:g.12346C>A\n"
     ]
    },
    {
     "data": {
      "text/plain": [
       "SequenceVariant(ac=NC_000001.10, type=g, posedit=12346C>A, gene=None)"
      ]
     },
     "execution_count": 16,
     "metadata": {},
     "output_type": "execute_result"
    }
   ],
   "source": [
    "#Translating core variant class to hgvs with different formats.\n",
    "print(cvc_trans.cvc_to_hgvs(Example1,format_output=\"string\"))\n",
    "cvc_trans.cvc_to_hgvs(Example1,format_output=\"parse\")"
   ]
  },
  {
   "cell_type": "code",
   "execution_count": 6,
   "metadata": {},
   "outputs": [
    {
     "name": "stdout",
     "output_type": "stream",
     "text": [
      "<Allele attributes: _id, location, state, type>\n",
      "{'_id': 'ga4gh:VA.CWDQtAfFv3QnUqN3up3J1bs32JVSKFPk', 'type': 'Allele', 'location': {'_id': 'ga4gh:VSL.ixj_LC0E_4GQvm7dtG4r5gjf88lWRxU1', 'type': 'SequenceLocation', 'sequence_id': 'ga4gh:SQ.S_KjnFVz-FE7M0W6yoaUDgYxLPc1jyWU', 'interval': {'type': 'SequenceInterval', 'start': {'type': 'Number', 'value': 12345}, 'end': {'type': 'Number', 'value': 12346}}}, 'state': {'type': 'LiteralSequenceExpression', 'sequence': 'A'}}\n",
      "{\"_id\": \"ga4gh:VA.CWDQtAfFv3QnUqN3up3J1bs32JVSKFPk\", \"type\": \"Allele\", \"location\": {\"_id\": \"ga4gh:VSL.ixj_LC0E_4GQvm7dtG4r5gjf88lWRxU1\", \"type\": \"SequenceLocation\", \"sequence_id\": \"ga4gh:SQ.S_KjnFVz-FE7M0W6yoaUDgYxLPc1jyWU\", \"interval\": {\"type\": \"SequenceInterval\", \"start\": {\"type\": \"Number\", \"value\": 12345}, \"end\": {\"type\": \"Number\", \"value\": 12346}}}, \"state\": {\"type\": \"LiteralSequenceExpression\", \"sequence\": \"A\"}}\n"
     ]
    }
   ],
   "source": [
    "#Translate core variant class to vrs \n",
    "print(cvc_trans.cvc_to_vrs(Example1,format_output=\"obj\"))\n",
    "print(cvc_trans.cvc_to_vrs(Example1,format_output=\"dict\"))\n",
    "print(cvc_trans.cvc_to_vrs(Example1,format_output=\"json\"))"
   ]
  },
  {
   "cell_type": "code",
   "execution_count": null,
   "metadata": {},
   "outputs": [],
   "source": [
    "#Translating spdi to core variant class\n",
    "spdi = 'NC_000001.10:12345:1:A'\n",
    "cvc_trans.spdi_to_cvc(spdi)"
   ]
  },
  {
   "cell_type": "code",
   "execution_count": null,
   "metadata": {},
   "outputs": [],
   "source": [
    "# Translating hgvs to core variant class\n",
    "hgvs = 'NC_000001.10:g.12346C>A'\n",
    "cvc_trans.hgvs_to_cvc(hgvs)"
   ]
  },
  {
   "cell_type": "code",
   "execution_count": null,
   "metadata": {},
   "outputs": [],
   "source": [
    "# Translating vrs to core variant class\n",
    "vrs_obj = cvc_trans.cvc_to_vrs(Example1,format_output=\"obj\")\n",
    "cvc_trans.vrs_to_cvc(vrs_obj)"
   ]
  },
  {
   "cell_type": "code",
   "execution_count": null,
   "metadata": {},
   "outputs": [],
   "source": [
    "# future implementation\n",
    "def edit_coordinate(expression):\n",
    "\n",
    "    if expression.origCoordSystem == '0-based interbase':\n",
    "        pass\n",
    "    elif expression.origCoordSystem == '0-based counting':\n",
    "        expression.start += 1\n",
    "        expression.origCoordSystem = '0-based interbase'\n",
    "    elif expression.origCoordSystem == '1-based counting':\n",
    "        expression.start -= 1\n",
    "        expression.origCoordSystem = '0-based interbase'\n",
    "    else:\n",
    "        raise ValueError(\"Invalid coordinate system specified.\")\n",
    "\n",
    "cvc_example2 = CoreVariantClass(origCoordSystem='0-based interbase',seqType='DNA',\n",
    "                        refAllele='C',altAllele='A',start=12345,end=12346,allelicState= None,geneSymbol=None,hgncId=None,\n",
    "                        chrom=None, genomeBuild=None, sequenceId='NC_000001.10')\n"
   ]
  },
  {
   "cell_type": "code",
   "execution_count": 26,
   "metadata": {},
   "outputs": [
    {
     "data": {
      "text/plain": [
       "<Allele _id=<Literal<str> ga4gh:VA.CWDQtAfFv3QnUqN3up3J1bs32JVSKFPk> location=<SequenceLocation _id=<Literal<str> ga4gh:VSL.ixj_LC0E_4GQvm7dtG4r5gjf88lWRxU1> interval=<SequenceInterval end=<Number type=<Literal<str> Number> value=<Literal<int> 12346>> start=<Number type=<Literal<str> Number> value=<Literal<int> 12345>> type=<Literal<str> SequenceInterval>> sequence_id=<Literal<str> ga4gh:SQ.S_KjnFVz-FE7M0W6yoaUDgYxLPc1jyWU> type=<Literal<str> SequenceLocation>> state=<LiteralSequenceExpression sequence=<Literal<str> A> type=<Literal<str> LiteralSequenceExpression>> type=<Literal<str> Allele>>"
      ]
     },
     "execution_count": 26,
     "metadata": {},
     "output_type": "execute_result"
    }
   ],
   "source": [
    "# from src.api.seqrepo_api import SeqRepoAPI\n",
    "# cn = SeqRepoAPI(\"https://services.genomicmedlab.org/seqrepo\")\n",
    "# dp = cn.dp\n",
    "# tlr = cn.tlr\n",
    "# vrs_dict = {'_id': 'ga4gh:VA.CWDQtAfFv3QnUqN3up3J1bs32JVSKFPk', 'type': 'Allele', 'location': {'_id': 'ga4gh:VSL.ixj_LC0E_4GQvm7dtG4r5gjf88lWRxU1', 'type': 'SequenceLocation', 'sequence_id': 'ga4gh:SQ.S_KjnFVz-FE7M0W6yoaUDgYxLPc1jyWU', 'interval': {'type': 'SequenceInterval', 'start': {'type': 'Number', 'value': 12345}, 'end': {'type': 'Number', 'value': 12346}}}, 'state': {'type': 'LiteralSequenceExpression', 'sequence': 'A'}}\n",
    "# vrs_object = tlr.translate_from(vrs_dict, 'vrs')\n",
    "# vrs_object"
   ]
  },
  {
   "cell_type": "code",
   "execution_count": null,
   "metadata": {},
   "outputs": [],
   "source": []
  }
 ],
 "metadata": {
  "kernelspec": {
   "display_name": "test_dev_vrs_installation",
   "language": "python",
   "name": "python3"
  },
  "language_info": {
   "codemirror_mode": {
    "name": "ipython",
    "version": 3
   },
   "file_extension": ".py",
   "mimetype": "text/x-python",
   "name": "python",
   "nbconvert_exporter": "python",
   "pygments_lexer": "ipython3",
   "version": "3.9.15"
  },
  "orig_nbformat": 4
 },
 "nbformat": 4,
 "nbformat_minor": 2
}
