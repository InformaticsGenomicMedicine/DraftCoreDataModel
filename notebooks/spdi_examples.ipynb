{
 "cells": [
  {
   "cell_type": "code",
   "execution_count": 1,
   "metadata": {},
   "outputs": [],
   "source": [
    "# import sys\n",
    "# sys.path.append('..')"
   ]
  },
  {
   "cell_type": "code",
   "execution_count": 2,
   "metadata": {},
   "outputs": [
    {
     "name": "stderr",
     "output_type": "stream",
     "text": [
      "/Users/M278428/opt/anaconda3/envs/test_dev_vrs_installation/lib/python3.9/site-packages/python_jsonschema_objects/__init__.py:49: UserWarning: Schema version http://json-schema.org/draft-07/schema not recognized. Some keywords and features may not be supported.\n",
      "  warnings.warn(\n"
     ]
    }
   ],
   "source": [
    "# Import SPDI class \n",
    "from src.spdi.spdi_class import SPDI\n",
    "\n",
    "# SPDI translation method\n",
    "from src.spdi.spdi_utils import SPDITranslate\n",
    "spdiTranslate = SPDITranslate()"
   ]
  },
  {
   "cell_type": "markdown",
   "metadata": {},
   "source": [
    "#### Creating a SPDI Expression\n",
    "* spdi_class.py is able to create SPDI objects with validation steps that check all 4 attributes."
   ]
  },
  {
   "cell_type": "code",
   "execution_count": 3,
   "metadata": {},
   "outputs": [],
   "source": [
    "#Example Data that we will be using to demonstrate some of the functionality of spdi_class.py. \n",
    "# spdiList = ['NM_001267550.2:80230:G:A','NM_001256850.1:1365:G:A','NC_012920.1:1554:A:G','NM_000097.7:920:A:C']\n",
    "# spdiList = ['NC_000007.14:55181230::GGCT', 'NC_000019.10:44908821:C:T', 'NC_000007.14:55181219:T:', 'NC_000023.11:32386322:T:GA','NC_000013.11:32936731:C:C', 'NC_000013.11:19993837:GT:GTGT']\n",
    "\n",
    "spdiList = [\n",
    "    {'sequence': 'NC_000007.14', 'position': '55181230', 'deletion': '', 'insertion': 'GGCT'},\n",
    "    {'sequence': 'NC_000019.10', 'position': '44908821', 'deletion': 'C', 'insertion': 'T'},\n",
    "    {'sequence': 'NC_000007.14', 'position': '55181219', 'deletion': 'T', 'insertion': ''},\n",
    "    {'sequence': 'NC_000023.11', 'position': '32386322', 'deletion': 'T', 'insertion': 'GA'},\n",
    "    {'sequence': 'NC_000013.11', 'position': '32936731', 'deletion': 'C', 'insertion': 'C'},\n",
    "    {'sequence': 'NC_000013.11', 'position': '19993837', 'deletion': 'GT', 'insertion': 'GTGT'}\n",
    "    ]\n",
    "\n",
    "spdiObj= []\n",
    "for spdi in spdiList: \n",
    "    spdiObj.append(SPDI(**spdi))"
   ]
  },
  {
   "cell_type": "markdown",
   "metadata": {},
   "source": [
    "#### Methods inside of the spdi_class.py that is able to convert a SPDI object to a string and dictionary."
   ]
  },
  {
   "cell_type": "code",
   "execution_count": 4,
   "metadata": {},
   "outputs": [
    {
     "name": "stdout",
     "output_type": "stream",
     "text": [
      "['NC_000007.14:55181230::GGCT', 'NC_000019.10:44908821:C:T', 'NC_000007.14:55181219:T:', 'NC_000023.11:32386322:T:GA', 'NC_000013.11:32936731:C:C', 'NC_000013.11:19993837:GT:GTGT']\n"
     ]
    }
   ],
   "source": [
    "# Converting the SPDI object to a string using SPDI class method: to_string()\n",
    "# The string format is: sequence:position:deletion:insertion\n",
    "spdiExamples = []\n",
    "for spdi in spdiObj:\n",
    "    spdiExamples.append(spdi.to_string())\n",
    "print(spdiExamples)"
   ]
  },
  {
   "cell_type": "code",
   "execution_count": 5,
   "metadata": {},
   "outputs": [
    {
     "name": "stdout",
     "output_type": "stream",
     "text": [
      "{'sequence': 'NC_000007.14', 'position': '55181230', 'deletion': '', 'insertion': 'GGCT'}\n",
      "{'sequence': 'NC_000019.10', 'position': '44908821', 'deletion': 'C', 'insertion': 'T'}\n",
      "{'sequence': 'NC_000007.14', 'position': '55181219', 'deletion': 'T', 'insertion': ''}\n",
      "{'sequence': 'NC_000023.11', 'position': '32386322', 'deletion': 'T', 'insertion': 'GA'}\n",
      "{'sequence': 'NC_000013.11', 'position': '32936731', 'deletion': 'C', 'insertion': 'C'}\n",
      "{'sequence': 'NC_000013.11', 'position': '19993837', 'deletion': 'GT', 'insertion': 'GTGT'}\n"
     ]
    }
   ],
   "source": [
    "# Taking a SPDI object and converting it to a SPDI dictionary\n",
    "for spdi in spdiObj:\n",
    "    print(spdi.to_dict())"
   ]
  },
  {
   "cell_type": "markdown",
   "metadata": {},
   "source": [
    "#### SPDI Translation\n",
    "* spdi_utils.py is designed to translate SPDI expression to HGVS expressions and VRS expressions.\n",
    "* This module is able to preform these translations by utilizing outside resources such as the vrs-python translator module and the NCBI Variation Services API."
   ]
  },
  {
   "cell_type": "code",
   "execution_count": 6,
   "metadata": {},
   "outputs": [
    {
     "name": "stdout",
     "output_type": "stream",
     "text": [
      "NC_000007.14:g.55181230_55181231insGGCT\n",
      "NC_000019.10:g.44908822C>T\n",
      "NC_000007.14:g.55181220del\n",
      "NC_000023.11:g.32386323delinsGA\n",
      "NC_000013.11:g.32936732=\n",
      "NC_000013.11:g.19993838_19993839dup\n"
     ]
    }
   ],
   "source": [
    "# Taking a SPDI string and converting it to a rightshift HGVS expression\n",
    "for spdi in spdiExamples:\n",
    "    print(spdiTranslate.from_spdi_to_rightshift_hgvs(spdi))"
   ]
  },
  {
   "cell_type": "code",
   "execution_count": 7,
   "metadata": {},
   "outputs": [
    {
     "data": {
      "text/plain": [
       "SequenceVariant(ac=NC_000007.14, type=g, posedit=55181230_55181231insGGCT, gene=None)"
      ]
     },
     "execution_count": 7,
     "metadata": {},
     "output_type": "execute_result"
    }
   ],
   "source": [
    "# Preforming the same operation as above but this time we are showing the extra features that are available.\n",
    "# Validate attribute is used to validate the spdi expression using the NCBI API. \n",
    "#TODO: not sure if we should implement this, because its not very good validator compared to what i have created.\n",
    "#TODO: Discuss with Bob\n",
    "\n",
    "# Output format is used to specify the output format of the HGVS expression.\n",
    "# The default output format is 'string', which returns a string. the other option is 'parse', which uses the hgvs package from biocommons to return a hgvs parse object.\n",
    "# The other option is 'string', which returns a string.\n",
    "spdi_expression_1 = SPDI(sequence = 'NC_000007.14', position = '55181230', deletion = '', insertion = 'GGCT').to_string()\n",
    "\n",
    "hgvsExpression = spdiTranslate.from_spdi_to_rightshift_hgvs(spdi_expression_1,validate = True,output_format='parse')\n",
    "\n",
    "# hgvsExpression = spdiTranslate.from_spdi_to_rightshift_hgvs(spdiExample1,validate = False,output_format='string')\n",
    "\n",
    "hgvsExpression"
   ]
  },
  {
   "cell_type": "code",
   "execution_count": 8,
   "metadata": {},
   "outputs": [
    {
     "data": {
      "text/plain": [
       "<Allele _id=<Literal<str> ga4gh:VA.JKGCs07cFu2wlDydCAe2ea06jMFXyK56> location=<SequenceLocation _id=<Literal<str> ga4gh:VSL.SdvAZCNKh5kf6ClsiOOmw_88fbkFPTqG> interval=<SequenceInterval end=<Number type=<Literal<str> Number> value=<Literal<int> 55181230>> start=<Number type=<Literal<str> Number> value=<Literal<int> 55181230>> type=<Literal<str> SequenceInterval>> sequence_id=<Literal<str> ga4gh:SQ.F-LrLMe1SRpfUZHkQmvkVKFEGaoDeHul> type=<Literal<str> SequenceLocation>> state=<LiteralSequenceExpression sequence=<Literal<str> GGCT> type=<Literal<str> LiteralSequenceExpression>> type=<Literal<str> Allele>>"
      ]
     },
     "execution_count": 8,
     "metadata": {},
     "output_type": "execute_result"
    }
   ],
   "source": [
    "# Converting the SPDI string into a vrs object.\n",
    "\n",
    "# With validation and output_format arguments\n",
    "# Output format is used to specify the output format of the VRS expression.\n",
    "# The default output format is obj, which returns a vrs object. The other option is string and dictionary.\n",
    "\n",
    "vrsExpression = spdiTranslate.from_spdi_to_vrs(spdi_expression_1,validate=True,output_format='obj')\n",
    "\n",
    "# vrsExpression = spdiTranslate.from_spdi_to_vrs(spdiExample1,validate=True,output_format='dict')\n",
    "\n",
    "# vrsExpression= spdiTranslate.from_spdi_to_vrs(spdiExample1,validate=True,output_format='json')\n",
    "\n",
    "vrsExpression"
   ]
  },
  {
   "cell_type": "code",
   "execution_count": 9,
   "metadata": {},
   "outputs": [],
   "source": [
    "from src.core_variant_translate import CVCTranslator\n",
    "cvcTranslator = CVCTranslator()"
   ]
  },
  {
   "cell_type": "code",
   "execution_count": 10,
   "metadata": {},
   "outputs": [
    {
     "name": "stdout",
     "output_type": "stream",
     "text": [
      "CoreVariantClass(0-based interbase,DNA,,GGCT,55181230,55181230,None,None,None,None,None,NC_000007.14,{})\n",
      "CoreVariantClass(0-based interbase,DNA,C,T,44908821,44908822,None,None,None,None,None,NC_000019.10,{})\n",
      "CoreVariantClass(0-based interbase,DNA,T,,55181219,55181220,None,None,None,None,None,NC_000007.14,{})\n",
      "CoreVariantClass(0-based interbase,DNA,T,GA,32386322,32386323,None,None,None,None,None,NC_000023.11,{})\n",
      "CoreVariantClass(0-based interbase,DNA,C,C,32936731,32936732,None,None,None,None,None,NC_000013.11,{})\n",
      "CoreVariantClass(0-based interbase,DNA,GT,GTGT,19993837,19993839,None,None,None,None,None,NC_000013.11,{})\n"
     ]
    }
   ],
   "source": [
    "for spdi in spdiExamples: \n",
    "    print(cvcTranslator.spdi_to_cvc(spdi))"
   ]
  },
  {
   "cell_type": "markdown",
   "metadata": {},
   "source": [
    "#### Additional SPDI expression that you don't typically see. "
   ]
  },
  {
   "cell_type": "code",
   "execution_count": 11,
   "metadata": {},
   "outputs": [],
   "source": [
    "# SPDI examples: \n",
    "ex1 = 'NC_000017.11:83129587:TTGWCACATGATTG:TTG'\n",
    "ex2 = 'NC_000003.12:16894810:W:'"
   ]
  },
  {
   "cell_type": "code",
   "execution_count": 12,
   "metadata": {},
   "outputs": [],
   "source": [
    "#One thing to point out that validation steps were adjusted in order to follow IUPAC nucleotide codes. \n",
    "# Citation:  https://www.bioinformatics.org/sms/iupac.html\n",
    "\n",
    "#Cretating a SPDI object\n",
    "ex1SPDI = SPDI(sequence='NC_000017.11',position='83129587',deletion='TTG',insertion='TTGWCACATGATTG')\n",
    "ex1SPDI\n",
    "\n",
    "spdi_example_1 = ex1SPDI.to_string()"
   ]
  },
  {
   "cell_type": "code",
   "execution_count": 13,
   "metadata": {},
   "outputs": [
    {
     "data": {
      "text/plain": [
       "'NC_000017.11:g.83129591_83129601dup'"
      ]
     },
     "execution_count": 13,
     "metadata": {},
     "output_type": "execute_result"
    }
   ],
   "source": [
    "hgvsTranslate_example1 = spdiTranslate.from_spdi_to_rightshift_hgvs(expression=spdi_example_1)\n",
    "hgvsTranslate_example1"
   ]
  },
  {
   "cell_type": "code",
   "execution_count": 14,
   "metadata": {},
   "outputs": [
    {
     "data": {
      "text/plain": [
       "{'_id': 'ga4gh:VA.3sJk3nkezo47eeRB90p8e2JoDKGN5GQ-',\n",
       " 'type': 'Allele',\n",
       " 'location': {'_id': 'ga4gh:VSL.8eHx9-4dIsZIUD6Od9WU-a06qNJKi8ra',\n",
       "  'type': 'SequenceLocation',\n",
       "  'sequence_id': 'ga4gh:SQ.dLZ15tNO1Ur0IcGjwc3Sdi_0A6Yf4zm7',\n",
       "  'interval': {'type': 'SequenceInterval',\n",
       "   'start': {'type': 'Number', 'value': 83129587},\n",
       "   'end': {'type': 'Number', 'value': 83129601}}},\n",
       " 'state': {'type': 'LiteralSequenceExpression',\n",
       "  'sequence': 'TTGWCACATGATTGWCACATGATTG'}}"
      ]
     },
     "execution_count": 14,
     "metadata": {},
     "output_type": "execute_result"
    }
   ],
   "source": [
    "vrsTranslate_example1 = spdiTranslate.from_spdi_to_vrs(expression=spdi_example_1,output_format='dict')\n",
    "vrsTranslate_example1"
   ]
  },
  {
   "cell_type": "code",
   "execution_count": 15,
   "metadata": {},
   "outputs": [],
   "source": [
    "#Error occurs in the validation but these are truly SPDI expressions\n",
    "ex2SPDI = SPDI(sequence='NC_000003.12',position='16894810',deletion='',insertion='W')\n",
    "\n",
    "spdi_example_2 = ex2SPDI.to_string()"
   ]
  },
  {
   "cell_type": "code",
   "execution_count": 16,
   "metadata": {},
   "outputs": [
    {
     "data": {
      "text/plain": [
       "'NC_000003.12:g.16894811dup'"
      ]
     },
     "execution_count": 16,
     "metadata": {},
     "output_type": "execute_result"
    }
   ],
   "source": [
    "hgvsTranslate_example2 = spdiTranslate.from_spdi_to_rightshift_hgvs(expression=spdi_example_2)\n",
    "hgvsTranslate_example2"
   ]
  },
  {
   "cell_type": "code",
   "execution_count": 17,
   "metadata": {},
   "outputs": [
    {
     "data": {
      "text/plain": [
       "{'_id': 'ga4gh:VA.qzSUI3aF8bcV0T-IgQF9pgSXmb6YrYv7',\n",
       " 'type': 'Allele',\n",
       " 'location': {'_id': 'ga4gh:VSL.-gPFR8xJpy5aWeQS6BzfMQOUe2LsJeb-',\n",
       "  'type': 'SequenceLocation',\n",
       "  'sequence_id': 'ga4gh:SQ.Zu7h9AggXxhTaGVsy7h_EZSChSZGcmgX',\n",
       "  'interval': {'type': 'SequenceInterval',\n",
       "   'start': {'type': 'Number', 'value': 16894810},\n",
       "   'end': {'type': 'Number', 'value': 16894811}}},\n",
       " 'state': {'type': 'LiteralSequenceExpression', 'sequence': 'WW'}}"
      ]
     },
     "execution_count": 17,
     "metadata": {},
     "output_type": "execute_result"
    }
   ],
   "source": [
    "vrsTranslate_example2 = spdiTranslate.from_spdi_to_vrs(expression=spdi_example_2,output_format='dict')\n",
    "vrsTranslate_example2"
   ]
  },
  {
   "cell_type": "code",
   "execution_count": 18,
   "metadata": {},
   "outputs": [
    {
     "name": "stdout",
     "output_type": "stream",
     "text": [
      "SPDI object Example: NC_000007.14:55181230::GGCT\n",
      "String Example: NC_000003.12:195783878:GGAAGTGT:GGAAGTGTTGGTGACATGAAGAGGGGTGGCATGACCTGTGGATACTGAGGAAGTGT\n"
     ]
    }
   ],
   "source": [
    "from src.spdi.spdi_normalize import VocaNormalizeSpdi\n",
    "vnormspdi = VocaNormalizeSpdi()\n",
    "\n",
    "\n",
    "ex = {'sequence': 'NC_000007.14', 'position': '55181230', 'deletion': '', 'insertion': 'GGCT'}\n",
    "ex = SPDI(**ex)\n",
    "\n",
    "\n",
    "print(f'SPDI object Example: {vnormspdi.spdi_voca_normalize(ex)}')\n",
    "\n",
    "ex2 = 'NC_000003.12:195783878:GGAAGTGT:GGAAGTGTTGGTGACATGAAGAGGGGTGGCATGACCTGTGGATACTGAGGAAGTGT' #'NC_000007.14:55181230::GGCT'\n",
    "print(f'String Example: {vnormspdi.spdi_voca_normalize(ex2)}')\n"
   ]
  },
  {
   "cell_type": "code",
   "execution_count": 19,
   "metadata": {},
   "outputs": [
    {
     "data": {
      "text/plain": [
       "'NC_000003.12:195783878:GGAAGTGT:GGAAGTGTTGGTGACATGAAGAGGGGTGGCATGACCTGTGGATACTGAGGAAGTGT'"
      ]
     },
     "execution_count": 19,
     "metadata": {},
     "output_type": "execute_result"
    }
   ],
   "source": [
    "from src.spdi.spdi_class import SPDI\n",
    "from src.api.seqrepo_api import SeqRepoAPI\n",
    "cn = SeqRepoAPI(\"https://services.genomicmedlab.org/seqrepo\")\n",
    "dp = cn.dp    \n",
    "from bioutils.normalize import normalize, NormalizationMode\n",
    "from ga4gh.vrs.dataproxy import SequenceProxy\n",
    "\n",
    "\n",
    "def voca_normalize(expression: str) -> str:\n",
    "    # capture the start and end position \n",
    "    start_pos = int(expression.position)\n",
    "    try:\n",
    "        ref = int(expression.deletion)\n",
    "    except ValueError:\n",
    "        ref = len(expression.deletion)\n",
    "\n",
    "    end_pos = start_pos + ref\n",
    "\n",
    "    # capture the full Sequence \n",
    "    sequence = SequenceProxy(dp, expression.sequence)\n",
    "    # voca normalize using bioutils.normalize\n",
    "    interval,new_allele = normalize(sequence,\n",
    "                              interval=(start_pos, end_pos), \n",
    "                              alleles=(None,expression.insertion),\n",
    "                              bounds=(0,len(sequence)),\n",
    "                              mode = NormalizationMode.EXPAND,\n",
    "                              )\n",
    "    \n",
    "    expression.position = interval[0]\n",
    "    expression.deletion = new_allele[0]\n",
    "    expression.insertion = new_allele[1]\n",
    "\n",
    "    return expression\n",
    "\n",
    "\n",
    "# expression = SPDI(sequence = 'NC_000007.14', position = '55181230', deletion = '', insertion = 'GGCT')\n",
    "# expression = SPDI(sequence ='NC_000007.14',position= '55181219',deletion='T',insertion='')\n",
    "# expression = SPDI(sequence='NC_000013.11',position='19993837',deletion = 'GT',insertion='GTGT')     #{'sequence': 'NC_000013.11', 'position': '19993837', 'deletion': 'GT', 'insertion': 'GTGT'}\n",
    "# expression = SPDI(sequence='NC_000023.11',position = '32386322',deletion = 'T', insertion='GA')#    {'sequence': 'NC_000023.11', 'position': '32386322', 'deletion': 'T', 'insertion': 'GA'},\n",
    "# expression = SPDI('NM_004006.2','5933','AAAAAAAA','AAAAAAA')\n",
    "# 'NC_000003.12:195783878:GGAAGTGT:GGAAGTGTTGGTGACATGAAGAGGGGTGGCATGACCTGTGGATACTGAGGAAGTGT'\n",
    "expression = SPDI('NC_000003.12','195783878','GGAAGTGT','GGAAGTGTTGGTGACATGAAGAGGGGTGGCATGACCTGTGGATACTGAGGAAGTGT')\n",
    "test = voca_normalize(expression)\n",
    "test.to_string()"
   ]
  },
  {
   "cell_type": "code",
   "execution_count": null,
   "metadata": {},
   "outputs": [],
   "source": []
  }
 ],
 "metadata": {
  "kernelspec": {
   "display_name": "test_dev_vrs_installation",
   "language": "python",
   "name": "python3"
  },
  "language_info": {
   "codemirror_mode": {
    "name": "ipython",
    "version": 3
   },
   "file_extension": ".py",
   "mimetype": "text/x-python",
   "name": "python",
   "nbconvert_exporter": "python",
   "pygments_lexer": "ipython3",
   "version": "3.9.15"
  },
  "orig_nbformat": 4
 },
 "nbformat": 4,
 "nbformat_minor": 2
}
