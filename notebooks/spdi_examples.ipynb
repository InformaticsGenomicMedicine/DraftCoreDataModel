{
 "cells": [
  {
   "cell_type": "code",
   "execution_count": null,
   "metadata": {},
   "outputs": [],
   "source": [
    "# import sys\n",
    "# sys.path.append('..')"
   ]
  },
  {
   "cell_type": "code",
   "execution_count": null,
   "metadata": {},
   "outputs": [],
   "source": [
    "# Import SPDI class \n",
    "from src.spdi.spdi_class import SPDI\n",
    "\n",
    "# SPDI translation method\n",
    "from src.spdi.spdi_utils import SPDITranslate\n",
    "spdiTranslate = SPDITranslate()"
   ]
  },
  {
   "cell_type": "markdown",
   "metadata": {},
   "source": [
    "#### Creating a SPDI Expression\n",
    "* spdi_class.py is able to create SPDI objects with validation steps that check all 4 attributes."
   ]
  },
  {
   "cell_type": "code",
   "execution_count": null,
   "metadata": {},
   "outputs": [],
   "source": [
    "#Example Data that we will be using to demonstrate some of the functionality of spdi_class.py. \n",
    "# spdiList = ['NM_001267550.2:80230:G:A','NM_001256850.1:1365:G:A','NC_012920.1:1554:A:G','NM_000097.7:920:A:C']\n",
    "# spdiList = ['NC_000007.14:55181230::GGCT', 'NC_000019.10:44908821:C:T', 'NC_000007.14:55181219:T:', 'NC_000023.11:32386322:T:GA','NC_000013.11:32936731:C:C', 'NC_000013.11:19993837:GT:GTGT']\n",
    "\n",
    "spdiList = [\n",
    "    {'sequence': 'NC_000007.14', 'position': '55181230', 'deletion': '', 'insertion': 'GGCT'},\n",
    "    {'sequence': 'NC_000019.10', 'position': '44908821', 'deletion': 'C', 'insertion': 'T'},\n",
    "    {'sequence': 'NC_000007.14', 'position': '55181219', 'deletion': 'T', 'insertion': ''},\n",
    "    {'sequence': 'NC_000023.11', 'position': '32386322', 'deletion': 'T', 'insertion': 'GA'},\n",
    "    {'sequence': 'NC_000013.11', 'position': '32936731', 'deletion': 'C', 'insertion': 'C'},\n",
    "    {'sequence': 'NC_000013.11', 'position': '19993837', 'deletion': 'GT', 'insertion': 'GTGT'}\n",
    "    ]\n",
    "\n",
    "spdiObj= []\n",
    "for spdi in spdiList: \n",
    "    spdiObj.append(SPDI(**spdi))"
   ]
  },
  {
   "cell_type": "markdown",
   "metadata": {},
   "source": [
    "#### Methods inside of the spdi_class.py that is able to convert a SPDI object to a string and dictionary."
   ]
  },
  {
   "cell_type": "code",
   "execution_count": null,
   "metadata": {},
   "outputs": [],
   "source": [
    "# Converting the SPDI object to a string using SPDI class method: to_string()\n",
    "# The string format is: sequence:position:deletion:insertion\n",
    "spdiExamples = []\n",
    "for spdi in spdiObj:\n",
    "    spdiExamples.append(spdi.to_string())\n",
    "print(spdiExamples)"
   ]
  },
  {
   "cell_type": "code",
   "execution_count": null,
   "metadata": {},
   "outputs": [],
   "source": [
    "# Taking a SPDI object and converting it to a SPDI dictionary\n",
    "for spdi in spdiObj:\n",
    "    print(spdi.to_dict())"
   ]
  },
  {
   "cell_type": "markdown",
   "metadata": {},
   "source": [
    "#### SPDI Translation\n",
    "* spdi_utils.py is designed to translate SPDI expression to HGVS expressions and VRS expressions.\n",
    "* This module is able to preform these translations by utilizing outside resources such as the vrs-python translator module and the NCBI Variation Services API."
   ]
  },
  {
   "cell_type": "code",
   "execution_count": null,
   "metadata": {},
   "outputs": [],
   "source": [
    "# Taking a SPDI string and converting it to a rightshift HGVS expression\n",
    "for spdi in spdiExamples:\n",
    "    print(spdiTranslate.from_spdi_to_rightshift_hgvs(spdi))"
   ]
  },
  {
   "cell_type": "code",
   "execution_count": null,
   "metadata": {},
   "outputs": [],
   "source": [
    "# Preforming the same operation as above but this time we are showing the extra features that are available.\n",
    "# Validate attribute is used to validate the spdi expression using the NCBI API. \n",
    "#TODO: not sure if we should implement this, because its not very good validator compared to what i have created.\n",
    "#TODO: Discuss with Bob\n",
    "\n",
    "# Output format is used to specify the output format of the HGVS expression.\n",
    "# The default output format is 'string', which returns a string. the other option is 'parse', which uses the hgvs package from biocommons to return a hgvs parse object.\n",
    "# The other option is 'string', which returns a string.\n",
    "spdi_expression_1 = SPDI(sequence = 'NC_000007.14', position = '55181230', deletion = '', insertion = 'GGCT').to_string()\n",
    "\n",
    "hgvsExpression = spdiTranslate.from_spdi_to_rightshift_hgvs(spdi_expression_1,validate = True,output_format='parse')\n",
    "\n",
    "# hgvsExpression = spdiTranslate.from_spdi_to_rightshift_hgvs(spdiExample1,validate = False,output_format='string')\n",
    "\n",
    "hgvsExpression"
   ]
  },
  {
   "cell_type": "code",
   "execution_count": null,
   "metadata": {},
   "outputs": [],
   "source": [
    "# Converting the SPDI string into a vrs object.\n",
    "\n",
    "# With validation and output_format arguments\n",
    "# Output format is used to specify the output format of the VRS expression.\n",
    "# The default output format is obj, which returns a vrs object. The other option is string and dictionary.\n",
    "\n",
    "vrsExpression = spdiTranslate.from_spdi_to_vrs(spdi_expression_1,validate=True,output_format='obj')\n",
    "\n",
    "# vrsExpression = spdiTranslate.from_spdi_to_vrs(spdiExample1,validate=True,output_format='dict')\n",
    "\n",
    "# vrsExpression= spdiTranslate.from_spdi_to_vrs(spdiExample1,validate=True,output_format='json')\n",
    "\n",
    "vrsExpression"
   ]
  },
  {
   "cell_type": "code",
   "execution_count": null,
   "metadata": {},
   "outputs": [],
   "source": [
    "from src.core_variant_translate import CVCTranslator\n",
    "cvcTranslator = CVCTranslator()"
   ]
  },
  {
   "cell_type": "code",
   "execution_count": null,
   "metadata": {},
   "outputs": [],
   "source": [
    "for spdi in spdiExamples: \n",
    "    print(cvcTranslator.spdi_to_cvc(spdi))"
   ]
  },
  {
   "cell_type": "markdown",
   "metadata": {},
   "source": [
    "#### Additional SPDI expression that you don't typically see. "
   ]
  },
  {
   "cell_type": "code",
   "execution_count": null,
   "metadata": {},
   "outputs": [],
   "source": [
    "# SPDI examples: \n",
    "ex1 = 'NC_000017.11:83129587:TTGWCACATGATTG:TTG'\n",
    "ex2 = 'NC_000003.12:16894810:W:'"
   ]
  },
  {
   "cell_type": "code",
   "execution_count": null,
   "metadata": {},
   "outputs": [],
   "source": [
    "#One thing to point out that validation steps were adjusted in order to follow IUPAC nucleotide codes. \n",
    "# Citation:  https://www.bioinformatics.org/sms/iupac.html\n",
    "\n",
    "#Cretating a SPDI object\n",
    "ex1SPDI = SPDI(sequence='NC_000017.11',position='83129587',deletion='TTG',insertion='TTGWCACATGATTG')\n",
    "ex1SPDI\n",
    "\n",
    "spdi_example_1 = ex1SPDI.to_string()"
   ]
  },
  {
   "cell_type": "code",
   "execution_count": null,
   "metadata": {},
   "outputs": [],
   "source": [
    "hgvsTranslate_example1 = spdiTranslate.from_spdi_to_rightshift_hgvs(expression=spdi_example_1)\n",
    "hgvsTranslate_example1"
   ]
  },
  {
   "cell_type": "code",
   "execution_count": null,
   "metadata": {},
   "outputs": [],
   "source": [
    "vrsTranslate_example1 = spdiTranslate.from_spdi_to_vrs(expression=spdi_example_1,output_format='dict')\n",
    "vrsTranslate_example1"
   ]
  },
  {
   "cell_type": "code",
   "execution_count": null,
   "metadata": {},
   "outputs": [],
   "source": [
    "#Error occurs in the validation but these are truly SPDI expressions\n",
    "ex2SPDI = SPDI(sequence='NC_000003.12',position='16894810',deletion='',insertion='W')\n",
    "\n",
    "spdi_example_2 = ex2SPDI.to_string()"
   ]
  },
  {
   "cell_type": "code",
   "execution_count": null,
   "metadata": {},
   "outputs": [],
   "source": [
    "hgvsTranslate_example2 = spdiTranslate.from_spdi_to_rightshift_hgvs(expression=spdi_example_2)\n",
    "hgvsTranslate_example2"
   ]
  },
  {
   "cell_type": "code",
   "execution_count": null,
   "metadata": {},
   "outputs": [],
   "source": [
    "vrsTranslate_example2 = spdiTranslate.from_spdi_to_vrs(expression=spdi_example_2,output_format='dict')\n",
    "vrsTranslate_example2"
   ]
  },
  {
   "cell_type": "code",
   "execution_count": null,
   "metadata": {},
   "outputs": [],
   "source": [
    "'NC_000007.14:55181230::GGCT',\n",
    "'NC_000007.14:55181219:T:'"
   ]
  },
  {
   "cell_type": "code",
   "execution_count": null,
   "metadata": {},
   "outputs": [],
   "source": [
    "from src.spdi.spdi_class import SPDI\n",
    "from src.api.seqrepo_api import SeqRepoAPI\n",
    "cn = SeqRepoAPI(\"https://services.genomicmedlab.org/seqrepo\")\n",
    "dp = cn.dp    \n",
    "from bioutils.normalize import normalize, NormalizationMode\n",
    "\n",
    "\n",
    "\n",
    "def voca_normalize(expression: str) -> str: \n",
    "    start_pos = int(expression.position)\n",
    "    print(f'start_pos: {start_pos}')\n",
    "    try:\n",
    "        ref = int(expression.deletion)\n",
    "    except ValueError:\n",
    "        ref = len(expression.deletion)\n",
    "    print(f'ref: {ref}')\n",
    "    end_pos = start_pos + ref\n",
    "    print(f'end_pos: {end_pos}')\n",
    "    # print(start_pos)\n",
    "    # print(end_pos)\n",
    "    sequence = dp.get_sequence(expression.sequence, start_pos+10, end_pos)\n",
    "    print(f'sequence: {sequence}')\n",
    "    # print(sequence)\n",
    "    # allele = normalize(sequence, interval=(start,end), alleles=(None,expression.insertion))\n",
    "\n",
    "    print((None,expression.insertion))\n",
    "    interval,new_allele = normalize(sequence,\n",
    "                              interval=(start_pos, end_pos), \n",
    "                              alleles=(None,expression.insertion),\n",
    "                              bounds=(0,len(sequence)),\n",
    "                              mode = None)\n",
    "    expression.position = interval[0]\n",
    "    expression.deletion = new_allele[0]\n",
    "    expression.insertion = new_allele[1]\n",
    "\n",
    "    return expression\n",
    "\n",
    "\n",
    "# expression = SPDI(sequence = 'NC_000007.14', position = '55181230', deletion = '', insertion = 'GGCT')\n",
    "# expression = SPDI(sequence ='NC_000007.14',position= '55181219',deletion='T',insertion='')\n",
    "# expression = SPDI(sequence='NC_000013.11',position='19993837',deletion = 'GT',insertion='GTGT')     #{'sequence': 'NC_000013.11', 'position': '19993837', 'deletion': 'GT', 'insertion': 'GTGT'}\n",
    "expression = SPDI(sequence='NC_000023.11',position = '32386322',deletion = 'T', insertion='GA')#    {'sequence': 'NC_000023.11', 'position': '32386322', 'deletion': 'T', 'insertion': 'GA'},\n",
    "\n",
    "test = voca_normalize(expression)\n",
    "test.to_string()"
   ]
  },
  {
   "cell_type": "code",
   "execution_count": null,
   "metadata": {},
   "outputs": [],
   "source": [
    "from src.api.seqrepo_api import SeqRepoAPI\n",
    "cn = SeqRepoAPI(\"https://services.genomicmedlab.org/seqrepo\")\n",
    "dp = cn.dp    \n",
    "from bioutils.normalize import normalize, NormalizationMode\n",
    "\n",
    "\n",
    "#Examples: Insertion, Substitution, Deletion, Deletion Insertion, Identity, Duplication\n",
    "\n",
    "def voca_normalize(ref_seq,position,deletion,insertion: str) -> str: \n",
    "    start_pos = int(position)\n",
    "    try:\n",
    "        ref = int(deletion)\n",
    "    except ValueError:\n",
    "        ref = len(deletion)\n",
    "    end_pos = start_pos + ref\n",
    "    sequence = dp.get_sequence(ref_seq, start_pos-25, end_pos+25)\n",
    "    print(sequence)\n",
    "    print(start_pos)\n",
    "    print(end_pos)\n",
    "    new_pos,new_allele = normalize(sequence,\n",
    "                              interval=(start_pos, end_pos), \n",
    "                              alleles=(None,insertion),\n",
    "                              bounds=(0,len(sequence)),\n",
    "                              mode = None)\n",
    "\n",
    "    print(new_pos)\n",
    "    print(new_allele)\n",
    "    return f'{ref_seq}:{new_pos[0]}:{new_allele[0]}:{new_allele[1]}'\n",
    "# {'sequence': 'NC_000007.14', 'position': '55181219', 'deletion': 'T', 'insertion': ''}\n",
    "test = voca_normalize(ref_seq= 'NC_000007.14',position= '55181219',deletion='T',insertion='')\n",
    "test"
   ]
  },
  {
   "cell_type": "code",
   "execution_count": null,
   "metadata": {},
   "outputs": [],
   "source": [
    "from src.spdi.spdi_class import SPDI\n",
    "from src.api.seqrepo_api import SeqRepoAPI\n",
    "cn = SeqRepoAPI(\"https://services.genomicmedlab.org/seqrepo\")\n",
    "dp = cn.dp    \n",
    "from bioutils.normalize import normalize, NormalizationMode"
   ]
  },
  {
   "cell_type": "code",
   "execution_count": null,
   "metadata": {},
   "outputs": [],
   "source": [
    "def get_normalized_spdi(acc, pos, ref, alt):\n",
    "    # Need to serialise this if we can't keep all the RefSeq data in memory\n",
    "    start_pos = pos\n",
    "    end_pos = start_pos + len(ref)\n",
    "    ref_seq_fasta = dp.get_sequence(acc, start_pos, end_pos)\n",
    "    new_ival, new_alleles = normalize(ref_seq_fasta,\n",
    "                                        interval=(pos, pos + len(ref)),\n",
    "                                        alleles=(None, alt),\n",
    "                                        bounds=(0,len(ref_seq_fasta)),\n",
    "                                        mode=NormalizationMode.EXPAND,\n",
    "                                        anchor_length=0,\n",
    "                                        trim=True)\n",
    "    return (f\"{acc}:{new_ival[0]}:{new_alleles[0]}:{new_alleles[1]}\")"
   ]
  },
  {
   "cell_type": "code",
   "execution_count": null,
   "metadata": {},
   "outputs": [],
   "source": [
    "# NC_000001.11:930328:AA:\n",
    "# NC_000001.11:939437:CCCTCATCACCTCCCCAGCCACGGTGAGGACCCACCCTGGCATGATCTCCC:CCC\n",
    "# NC_000001.11:943280:GGAGGAGG:GGAGG\n",
    "#NC_000001.11:939398:CCTCCCCAGCCACGGTGAGGACCCACCCTGGCATGATC:CCTCCCCAGCCACGGTGAGGACCCACCCTGGCATGATCTCCCCTCATCACCTCCCCAGCCACGGTGAGGACCCACCCTGGCATGATC\n",
    "\n",
    "# \\get_normalized_spdi('NC_000001.11',939398,'CCTCCCCAGCCACGGTGAGGACCCACCCTGGCATGATC','CCTCCCCAGCCACGGTGAGGACCCACCCTGGCATGATCTCCCCTCATCACCTCCCCAGCCACGGTGAGGACCCACCCTGGCATGATC')"
   ]
  },
  {
   "cell_type": "code",
   "execution_count": 16,
   "metadata": {},
   "outputs": [
    {
     "data": {
      "text/plain": [
       "((19, 29), ('AGCAGCAGCA', 'AGCAGCAGCAGCA'))"
      ]
     },
     "execution_count": 16,
     "metadata": {},
     "output_type": "execute_result"
    }
   ],
   "source": [
    "sequence = \"CCCCCCCCACACACACACTAGCAGCAGCA\"\n",
    "normalize(sequence, interval=(22, 22), alleles=(None, 'AGC'), mode=NormalizationMode.EXPAND)"
   ]
  },
  {
   "cell_type": "code",
   "execution_count": 34,
   "metadata": {},
   "outputs": [
    {
     "ename": "IndexError",
     "evalue": "string index out of range",
     "output_type": "error",
     "traceback": [
      "\u001b[0;31m---------------------------------------------------------------------------\u001b[0m",
      "\u001b[0;31mIndexError\u001b[0m                                Traceback (most recent call last)",
      "Cell \u001b[0;32mIn [34], line 8\u001b[0m\n\u001b[1;32m      5\u001b[0m interval \u001b[38;5;241m=\u001b[39m (\u001b[38;5;241m943280\u001b[39m, \u001b[38;5;241m943288\u001b[39m)\n\u001b[1;32m      6\u001b[0m alleles \u001b[38;5;241m=\u001b[39m (\u001b[38;5;28;01mNone\u001b[39;00m, \u001b[38;5;124m'\u001b[39m\u001b[38;5;124mGGAGG\u001b[39m\u001b[38;5;124m'\u001b[39m)\n\u001b[0;32m----> 8\u001b[0m \u001b[43mnormalize\u001b[49m\u001b[43m(\u001b[49m\u001b[43msequence\u001b[49m\u001b[43m,\u001b[49m\u001b[43m \u001b[49m\u001b[43minterval\u001b[49m\u001b[38;5;241;43m=\u001b[39;49m\u001b[43minterval\u001b[49m\u001b[43m,\u001b[49m\u001b[43m \u001b[49m\u001b[43malleles\u001b[49m\u001b[38;5;241;43m=\u001b[39;49m\u001b[43malleles\u001b[49m\u001b[43m,\u001b[49m\u001b[43m \u001b[49m\u001b[43mmode\u001b[49m\u001b[38;5;241;43m=\u001b[39;49m\u001b[43mNormalizationMode\u001b[49m\u001b[38;5;241;43m.\u001b[39;49m\u001b[43mEXPAND\u001b[49m\u001b[43m,\u001b[49m\u001b[43mbounds\u001b[49m\u001b[38;5;241;43m=\u001b[39;49m\u001b[43m(\u001b[49m\u001b[38;5;241;43m0\u001b[39;49m\u001b[43m,\u001b[49m\u001b[43m \u001b[49m\u001b[38;5;28;43mlen\u001b[39;49m\u001b[43m(\u001b[49m\u001b[43msequence\u001b[49m\u001b[43m)\u001b[49m\u001b[43m)\u001b[49m\u001b[43m)\u001b[49m\n",
      "File \u001b[0;32m~/opt/anaconda3/envs/test_dev_vrs_installation/lib/python3.9/site-packages/bioutils/normalize.py:160\u001b[0m, in \u001b[0;36mnormalize\u001b[0;34m(sequence, interval, alleles, mode, bounds, anchor_length, trim)\u001b[0m\n\u001b[1;32m    157\u001b[0m     interval\u001b[38;5;241m.\u001b[39mend \u001b[38;5;241m+\u001b[39m\u001b[38;5;241m=\u001b[39m dist\n\u001b[1;32m    159\u001b[0m \u001b[38;5;28;01melif\u001b[39;00m mode \u001b[38;5;241m==\u001b[39m NormalizationMode\u001b[38;5;241m.\u001b[39mEXPAND:\n\u001b[0;32m--> 160\u001b[0m     ldist \u001b[38;5;241m=\u001b[39m \u001b[43mroll_left\u001b[49m\u001b[43m(\u001b[49m\u001b[43msequence\u001b[49m\u001b[43m,\u001b[49m\u001b[43m \u001b[49m\u001b[43malleles\u001b[49m\u001b[43m,\u001b[49m\u001b[43m \u001b[49m\u001b[43minterval\u001b[49m\u001b[38;5;241;43m.\u001b[39;49m\u001b[43mstart\u001b[49m\u001b[43m \u001b[49m\u001b[38;5;241;43m-\u001b[39;49m\u001b[43m \u001b[49m\u001b[38;5;241;43m1\u001b[39;49m\u001b[43m,\u001b[49m\u001b[43m \u001b[49m\u001b[43mbounds\u001b[49m\u001b[38;5;241;43m.\u001b[39;49m\u001b[43mstart\u001b[49m\u001b[43m)\u001b[49m\n\u001b[1;32m    161\u001b[0m     rdist \u001b[38;5;241m=\u001b[39m roll_right(sequence, alleles, interval\u001b[38;5;241m.\u001b[39mend, bounds\u001b[38;5;241m.\u001b[39mend \u001b[38;5;241m-\u001b[39m \u001b[38;5;241m1\u001b[39m)\n\u001b[1;32m    163\u001b[0m     lseq \u001b[38;5;241m=\u001b[39m sequence[interval\u001b[38;5;241m.\u001b[39mstart \u001b[38;5;241m-\u001b[39m ldist : interval\u001b[38;5;241m.\u001b[39mstart]\n",
      "File \u001b[0;32m~/opt/anaconda3/envs/test_dev_vrs_installation/lib/python3.9/site-packages/bioutils/normalize.py:303\u001b[0m, in \u001b[0;36mroll_left\u001b[0;34m(sequence, alleles, ref_pos, bound)\u001b[0m\n\u001b[1;32m    301\u001b[0m d \u001b[38;5;241m=\u001b[39m \u001b[38;5;241m0\u001b[39m\n\u001b[1;32m    302\u001b[0m max_d \u001b[38;5;241m=\u001b[39m ref_pos \u001b[38;5;241m-\u001b[39m bound\n\u001b[0;32m--> 303\u001b[0m \u001b[38;5;28;01mwhile\u001b[39;00m d \u001b[38;5;241m<\u001b[39m\u001b[38;5;241m=\u001b[39m max_d \u001b[38;5;129;01mand\u001b[39;00m \u001b[38;5;129;01mnot\u001b[39;00m \u001b[38;5;28;43many\u001b[39;49m\u001b[43m(\u001b[49m\n\u001b[1;32m    304\u001b[0m \u001b[43m    \u001b[49m\u001b[43ma\u001b[49m\u001b[43m \u001b[49m\u001b[38;5;129;43;01mand\u001b[39;49;00m\u001b[43m \u001b[49m\u001b[43ma\u001b[49m\u001b[43m[\u001b[49m\u001b[38;5;241;43m-\u001b[39;49m\u001b[43m(\u001b[49m\u001b[43md\u001b[49m\u001b[43m \u001b[49m\u001b[38;5;241;43m+\u001b[39;49m\u001b[43m \u001b[49m\u001b[38;5;241;43m1\u001b[39;49m\u001b[43m)\u001b[49m\u001b[43m \u001b[49m\u001b[38;5;241;43m%\u001b[39;49m\u001b[43m \u001b[49m\u001b[43mlens\u001b[49m\u001b[43m[\u001b[49m\u001b[43mi\u001b[49m\u001b[43m]\u001b[49m\u001b[43m]\u001b[49m\u001b[43m \u001b[49m\u001b[38;5;241;43m!=\u001b[39;49m\u001b[43m \u001b[49m\u001b[43msequence\u001b[49m\u001b[43m[\u001b[49m\u001b[43mref_pos\u001b[49m\u001b[43m \u001b[49m\u001b[38;5;241;43m-\u001b[39;49m\u001b[43m \u001b[49m\u001b[43md\u001b[49m\u001b[43m]\u001b[49m\n\u001b[1;32m    305\u001b[0m \u001b[43m    \u001b[49m\u001b[38;5;28;43;01mfor\u001b[39;49;00m\u001b[43m \u001b[49m\u001b[43mi\u001b[49m\u001b[43m,\u001b[49m\u001b[43m \u001b[49m\u001b[43ma\u001b[49m\u001b[43m \u001b[49m\u001b[38;5;129;43;01min\u001b[39;49;00m\u001b[43m \u001b[49m\u001b[38;5;28;43menumerate\u001b[39;49m\u001b[43m(\u001b[49m\u001b[43malleles\u001b[49m\u001b[43m)\u001b[49m\n\u001b[1;32m    306\u001b[0m \u001b[43m\u001b[49m\u001b[43m)\u001b[49m:\n\u001b[1;32m    307\u001b[0m     d \u001b[38;5;241m+\u001b[39m\u001b[38;5;241m=\u001b[39m \u001b[38;5;241m1\u001b[39m\n\u001b[1;32m    308\u001b[0m \u001b[38;5;28;01mreturn\u001b[39;00m d\n",
      "File \u001b[0;32m~/opt/anaconda3/envs/test_dev_vrs_installation/lib/python3.9/site-packages/bioutils/normalize.py:304\u001b[0m, in \u001b[0;36m<genexpr>\u001b[0;34m(.0)\u001b[0m\n\u001b[1;32m    301\u001b[0m d \u001b[38;5;241m=\u001b[39m \u001b[38;5;241m0\u001b[39m\n\u001b[1;32m    302\u001b[0m max_d \u001b[38;5;241m=\u001b[39m ref_pos \u001b[38;5;241m-\u001b[39m bound\n\u001b[1;32m    303\u001b[0m \u001b[38;5;28;01mwhile\u001b[39;00m d \u001b[38;5;241m<\u001b[39m\u001b[38;5;241m=\u001b[39m max_d \u001b[38;5;129;01mand\u001b[39;00m \u001b[38;5;129;01mnot\u001b[39;00m \u001b[38;5;28many\u001b[39m(\n\u001b[0;32m--> 304\u001b[0m     a \u001b[38;5;129;01mand\u001b[39;00m a[\u001b[38;5;241m-\u001b[39m(d \u001b[38;5;241m+\u001b[39m \u001b[38;5;241m1\u001b[39m) \u001b[38;5;241m%\u001b[39m lens[i]] \u001b[38;5;241m!=\u001b[39m \u001b[43msequence\u001b[49m\u001b[43m[\u001b[49m\u001b[43mref_pos\u001b[49m\u001b[43m \u001b[49m\u001b[38;5;241;43m-\u001b[39;49m\u001b[43m \u001b[49m\u001b[43md\u001b[49m\u001b[43m]\u001b[49m\n\u001b[1;32m    305\u001b[0m     \u001b[38;5;28;01mfor\u001b[39;00m i, a \u001b[38;5;129;01min\u001b[39;00m \u001b[38;5;28menumerate\u001b[39m(alleles)\n\u001b[1;32m    306\u001b[0m ):\n\u001b[1;32m    307\u001b[0m     d \u001b[38;5;241m+\u001b[39m\u001b[38;5;241m=\u001b[39m \u001b[38;5;241m1\u001b[39m\n\u001b[1;32m    308\u001b[0m \u001b[38;5;28;01mreturn\u001b[39;00m d\n",
      "\u001b[0;31mIndexError\u001b[0m: string index out of range"
     ]
    }
   ],
   "source": [
    "# NC_000001.11:943280:GGAGGAGG:GGAGG\n",
    "\n",
    "# sequence = dp.get_sequence('NC_000001.11', 943280, 943288)\n",
    "sequence = 'GGAGGAGG'\n",
    "interval = (943280, 943288)\n",
    "alleles = (None, 'GGAGG')\n",
    "\n",
    "normalize(sequence, interval=interval, alleles=alleles, mode=NormalizationMode.EXPAND,bounds=(0, len(sequence)))"
   ]
  },
  {
   "cell_type": "code",
   "execution_count": null,
   "metadata": {},
   "outputs": [],
   "source": []
  }
 ],
 "metadata": {
  "kernelspec": {
   "display_name": "test_dev_vrs_installation",
   "language": "python",
   "name": "python3"
  },
  "language_info": {
   "codemirror_mode": {
    "name": "ipython",
    "version": 3
   },
   "file_extension": ".py",
   "mimetype": "text/x-python",
   "name": "python",
   "nbconvert_exporter": "python",
   "pygments_lexer": "ipython3",
   "version": "3.9.15"
  },
  "orig_nbformat": 4
 },
 "nbformat": 4,
 "nbformat_minor": 2
}
