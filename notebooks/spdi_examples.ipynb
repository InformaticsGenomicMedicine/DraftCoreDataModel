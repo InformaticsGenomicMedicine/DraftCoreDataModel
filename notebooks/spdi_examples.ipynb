{
 "cells": [
  {
   "cell_type": "code",
   "execution_count": null,
   "metadata": {},
   "outputs": [],
   "source": [
    "# import sys\n",
    "# sys.path.append('..')"
   ]
  },
  {
   "cell_type": "code",
   "execution_count": null,
   "metadata": {},
   "outputs": [],
   "source": [
    "# old example use maybe later\n",
    "# spdi_expression = SPDI(sequence='NC_000001.11',position=161629780,deletion='T',insertion='T')"
   ]
  },
  {
   "cell_type": "code",
   "execution_count": 1,
   "metadata": {},
   "outputs": [
    {
     "name": "stderr",
     "output_type": "stream",
     "text": [
      "/Users/M278428/opt/anaconda3/envs/test_dev_vrs_installation/lib/python3.9/site-packages/python_jsonschema_objects/__init__.py:49: UserWarning: Schema version http://json-schema.org/draft-07/schema not recognized. Some keywords and features may not be supported.\n",
      "  warnings.warn(\n"
     ]
    }
   ],
   "source": [
    "# Import SPDI class \n",
    "from src.spdi.spdi_class import SPDI\n",
    "\n",
    "# SPDI translation method\n",
    "from src.spdi.spdi_utils import SPDITranslate\n",
    "spdiTranslate = SPDITranslate()"
   ]
  },
  {
   "cell_type": "markdown",
   "metadata": {},
   "source": [
    "#### Creating a SPDI Expression\n",
    "* spdi_class.py is able to create SPDI objects with validation steps that check all 4 attributes."
   ]
  },
  {
   "cell_type": "code",
   "execution_count": null,
   "metadata": {},
   "outputs": [],
   "source": [
    "#Example Data that we will be using to demonstrate some of the functionality of spdi_class.py. \n",
    "spdiList = ['NM_001267550.2:80230:G:A','NM_001256850.1:1365:G:A','NC_012920.1:1554:A:G','NM_000097.7:920:A:C']"
   ]
  },
  {
   "cell_type": "code",
   "execution_count": 6,
   "metadata": {},
   "outputs": [
    {
     "name": "stdout",
     "output_type": "stream",
     "text": [
      "SPDI object creation successfull!\n"
     ]
    }
   ],
   "source": [
    "# Creating a SPDI object with spdiList data.\n",
    "# SPDI class has 4 attributes: sequence, position, deletion, insertion\n",
    "# Validation steps have been created for each attribute.\n",
    "# If the data is not in the correct format, the object will not be created.\n",
    "spdi_expression_1 = SPDI(sequence = 'NM_001267550.2', position = '80230', deletion = 'G', insertion = 'A')\n",
    "spdi_expression_2 = SPDI(sequence = 'NM_001256850.1', position = '1365', deletion = 'G', insertion = 'A')\n",
    "spdi_expression_3 = SPDI(sequence = 'NC_012920.1', position = '1554', deletion = 'A', insertion = 'G')\n",
    "spdi_expression_4 = SPDI(sequence = 'NM_000097.7', position = '920', deletion = 'A', insertion = 'C')\n",
    "\n",
    "print('SPDI object creation successfull!')\n",
    "# print(spdi_expression_1,spdi_expression_2,spdi_expression_3,spdi_expression_4,sep='\\n')"
   ]
  },
  {
   "cell_type": "markdown",
   "metadata": {},
   "source": [
    "#### Methods inside of the spdi_class.py that is able to convert a SPDI object to a string and dictionary."
   ]
  },
  {
   "cell_type": "code",
   "execution_count": null,
   "metadata": {},
   "outputs": [],
   "source": [
    "# Converting the SPDI object to a string using SPDI class method: to_string()\n",
    "# The string format is: sequence:position:deletion:insertion\n",
    "spdiExample1 = spdi_expression_1.to_string()"
   ]
  },
  {
   "cell_type": "code",
   "execution_count": null,
   "metadata": {},
   "outputs": [],
   "source": [
    "# Taking a SPDI object and converting it to a SPDI dictionary\n",
    "spdi_expression_1.to_dict()"
   ]
  },
  {
   "cell_type": "markdown",
   "metadata": {},
   "source": [
    "#### SPDI Translation\n",
    "* spdi_utils.py is designed to translate SPDI expression to HGVS expressions and VRS expressions.\n",
    "* This module is able to preform these translations by utilizing outside resources such as the vrs-python translator module and the NCBI Variation Services API."
   ]
  },
  {
   "cell_type": "code",
   "execution_count": null,
   "metadata": {},
   "outputs": [],
   "source": [
    "\n",
    "# Taking a SPDI string and converting it to a rightshift HGVS expression\n",
    "hgvsExpression = spdiTranslate.from_spdi_to_rightshift_hgvs(spdiExample1)\n",
    "\n",
    "hgvsExpression"
   ]
  },
  {
   "cell_type": "code",
   "execution_count": null,
   "metadata": {},
   "outputs": [],
   "source": [
    "# Preforming the same operation as above but this time we are showing the extra features that are available.\n",
    "# Validate attribute is used to validate the spdi expression using the NCBI API. \n",
    "#TODO: not sure if we should implement this, because its not very good validator compared to what i have created.\n",
    "#TODO: Discuss with Bob\n",
    "\n",
    "# Output format is used to specify the output format of the HGVS expression.\n",
    "# The default output format is 'string', which returns a string. the other option is 'parse', which uses the hgvs package from biocommons to return a hgvs parse object.\n",
    "# The other option is 'string', which returns a string.\n",
    "\n",
    "hgvsExpression = spdiTranslate.from_spdi_to_rightshift_hgvs(spdiExample1,validate = True,output_format='parse')\n",
    "\n",
    "# hgvsExpression = spdiTranslate.from_spdi_to_rightshift_hgvs(spdiExample1,validate = False,output_format='string')\n",
    "\n",
    "hgvsExpression"
   ]
  },
  {
   "cell_type": "code",
   "execution_count": null,
   "metadata": {},
   "outputs": [],
   "source": [
    "# Converting the SPDI string into a vrs object.\n",
    "\n",
    "# With validation and output_format arguments\n",
    "# Output format is used to specify the output format of the VRS expression.\n",
    "# The default output format is obj, which returns a vrs object. The other option is string and dictionary.\n",
    "\n",
    "vrsExpression = spdiTranslate.from_spdi_to_vrs(spdiExample1,validate=True,output_format='obj')\n",
    "\n",
    "# vrsExpression = spdiTranslate.from_spdi_to_vrs(spdiExample1,validate=True,output_format='dict')\n",
    "\n",
    "# vrsExpression= spdiTranslate.from_spdi_to_vrs(spdiExample1,validate=True,output_format='json')\n",
    "\n",
    "vrsExpression"
   ]
  },
  {
   "cell_type": "markdown",
   "metadata": {},
   "source": [
    "#### Additional SPDI expression that you don't typically see. "
   ]
  },
  {
   "cell_type": "code",
   "execution_count": null,
   "metadata": {},
   "outputs": [],
   "source": [
    "# SPDI examples: \n",
    "ex1 = 'NC_000017.11:83129587:TTGWCACATGATTG:TTG'\n",
    "ex2 = 'NC_000003.12:16894810:W:'"
   ]
  },
  {
   "cell_type": "code",
   "execution_count": null,
   "metadata": {},
   "outputs": [],
   "source": [
    "#One thing to point out that validation steps were adjusted in order to follow IUPAC nucleotide codes. \n",
    "# Citation:  https://www.bioinformatics.org/sms/iupac.html\n",
    "\n",
    "#Cretating a SPDI object\n",
    "ex1SPDI = SPDI(sequence='NC_000017.11',position=83129587,deletion='TTG',insertion='TTGWCACATGATTG')\n",
    "ex1SPDI\n",
    "\n",
    "spdi_example_1 = ex1SPDI.to_string()"
   ]
  },
  {
   "cell_type": "code",
   "execution_count": null,
   "metadata": {},
   "outputs": [],
   "source": [
    "hgvsTranslate_example1 = spdiTranslate.from_spdi_to_rightshift_hgvs(expression=spdi_example_1)\n",
    "hgvsTranslate_example1"
   ]
  },
  {
   "cell_type": "code",
   "execution_count": null,
   "metadata": {},
   "outputs": [],
   "source": [
    "vrsTranslate_example1 = spdiTranslate.from_spdi_to_vrs(expression=spdi_example_1,output_format='dict')\n",
    "vrsTranslate_example1"
   ]
  },
  {
   "cell_type": "code",
   "execution_count": null,
   "metadata": {},
   "outputs": [],
   "source": [
    "#Error occurs in the validation but these are truly SPDI expressions\n",
    "ex2SPDI = SPDI(sequence='NC_000003.12',position=16894810,deletion='',insertion='W')\n",
    "\n",
    "spdi_example_2 = ex2SPDI.to_string()"
   ]
  },
  {
   "cell_type": "code",
   "execution_count": null,
   "metadata": {},
   "outputs": [],
   "source": [
    "hgvsTranslate_example2 = spdiTranslate.from_spdi_to_rightshift_hgvs(expression=spdi_example_2)\n",
    "hgvsTranslate_example2"
   ]
  },
  {
   "cell_type": "code",
   "execution_count": null,
   "metadata": {},
   "outputs": [],
   "source": [
    "vrsTranslate_example2 = spdiTranslate.from_spdi_to_vrs(expression=spdi_example_2,output_format='dict')\n",
    "vrsTranslate_example2"
   ]
  }
 ],
 "metadata": {
  "kernelspec": {
   "display_name": "test_dev_vrs_installation",
   "language": "python",
   "name": "python3"
  },
  "language_info": {
   "codemirror_mode": {
    "name": "ipython",
    "version": 3
   },
   "file_extension": ".py",
   "mimetype": "text/x-python",
   "name": "python",
   "nbconvert_exporter": "python",
   "pygments_lexer": "ipython3",
   "version": "3.9.15"
  },
  "orig_nbformat": 4
 },
 "nbformat": 4,
 "nbformat_minor": 2
}
