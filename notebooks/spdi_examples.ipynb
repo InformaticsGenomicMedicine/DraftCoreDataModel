{
 "cells": [
  {
   "cell_type": "code",
   "execution_count": 1,
   "metadata": {},
   "outputs": [
    {
     "name": "stderr",
     "output_type": "stream",
     "text": [
      "/Users/M278428/opt/anaconda3/envs/test_dev_vrs_installation/lib/python3.9/site-packages/python_jsonschema_objects/__init__.py:49: UserWarning: Schema version http://json-schema.org/draft-07/schema not recognized. Some keywords and features may not be supported.\n",
      "  warnings.warn(\n"
     ]
    }
   ],
   "source": [
    "import sys\n",
    "sys.path.append('..')\n",
    "\n",
    "# Import SPDI class \n",
    "from src.spdi.spdi_class import SPDI\n",
    "\n",
    "# SPDI translation method\n",
    "from src.spdi.spdi_utils import SPDITranslate\n",
    "spdiTranslate = SPDITranslate()"
   ]
  },
  {
   "cell_type": "markdown",
   "metadata": {},
   "source": [
    "#### Creating a SPDI Expression"
   ]
  },
  {
   "cell_type": "code",
   "execution_count": null,
   "metadata": {},
   "outputs": [],
   "source": [
    "# Creating a SPDI object\n",
    "spdi_expression = SPDI(sequence='NC_000001.11',position=161629780,insertion='T',deletion='T')\n",
    "spdi_expression\n"
   ]
  },
  {
   "cell_type": "markdown",
   "metadata": {},
   "source": [
    "#### Methods in SPDI CLASS\n",
    "\n",
    "* spdi_class.py"
   ]
  },
  {
   "cell_type": "code",
   "execution_count": null,
   "metadata": {},
   "outputs": [],
   "source": [
    "# Taking a SPDI object and converting it to a SPDI string\n",
    "spdi_str = spdi_expression.to_string()\n",
    "spdi_str"
   ]
  },
  {
   "cell_type": "code",
   "execution_count": null,
   "metadata": {},
   "outputs": [],
   "source": [
    "# Taking a SPDI object and converting it to a SPDI dictionary\n",
    "spdi_dict = spdi_expression.to_dict()\n",
    "spdi_dict"
   ]
  },
  {
   "cell_type": "markdown",
   "metadata": {},
   "source": [
    "#### SPDI Translation\n",
    "* Using spdi_utils.py"
   ]
  },
  {
   "cell_type": "code",
   "execution_count": null,
   "metadata": {},
   "outputs": [],
   "source": [
    "# Taking a SPDI string and converting it to a rightshift HGVS expression\n",
    "hgvs_expression = spdiTranslate.from_spdi_to_rightshift_hgvs(spdi_str)\n",
    "hgvs_expression"
   ]
  },
  {
   "cell_type": "code",
   "execution_count": null,
   "metadata": {},
   "outputs": [],
   "source": [
    "# Taking a SPDI string and converting it to a rightshift HGVS expression\n",
    "# without validation and with a parse output of the HGVS expressions\n",
    "parse_hgvs_expression = spdiTranslate.from_spdi_to_rightshift_hgvs(expression=spdi_str,validate = False,format_output='parse')\n",
    "parse_hgvs_expression"
   ]
  },
  {
   "cell_type": "code",
   "execution_count": null,
   "metadata": {},
   "outputs": [],
   "source": [
    "# Taking a SPDI string and converting it to a VRS object\n",
    "# with validation and with format_output to be object\n",
    "vrs_expresion_obj = spdiTranslate.from_spdi_to_vrs(spdi_str,validate=True,format_output='obj')\n",
    "vrs_expresion_obj"
   ]
  },
  {
   "cell_type": "code",
   "execution_count": null,
   "metadata": {},
   "outputs": [],
   "source": [
    "# Taking a SPDI string and converting it to a VRS dictionary\n",
    "# with validation and with format_output to be dictionary\n",
    "vrs_expresion_dict = spdiTranslate.from_spdi_to_vrs(spdi_str,validate=True,format_output='dict')\n",
    "vrs_expresion_dict"
   ]
  },
  {
   "cell_type": "code",
   "execution_count": null,
   "metadata": {},
   "outputs": [],
   "source": [
    "# Taking a SPDI string and converting it to a VRS JSON\n",
    "# with validation and with format_output to be JSON\n",
    "vrs_expresion_json= spdiTranslate.from_spdi_to_vrs(spdi_str,validate=True,format_output='json')\n",
    "vrs_expresion_json"
   ]
  }
 ],
 "metadata": {
  "kernelspec": {
   "display_name": "test_dev_vrs_installation",
   "language": "python",
   "name": "python3"
  },
  "language_info": {
   "codemirror_mode": {
    "name": "ipython",
    "version": 3
   },
   "file_extension": ".py",
   "mimetype": "text/x-python",
   "name": "python",
   "nbconvert_exporter": "python",
   "pygments_lexer": "ipython3",
   "version": "3.9.15"
  },
  "orig_nbformat": 4
 },
 "nbformat": 4,
 "nbformat_minor": 2
}
