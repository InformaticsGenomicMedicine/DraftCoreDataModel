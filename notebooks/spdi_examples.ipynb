{
 "cells": [
  {
   "cell_type": "code",
   "execution_count": 1,
   "metadata": {},
   "outputs": [],
   "source": [
    "import sys\n",
    "sys.path.append('..')"
   ]
  },
  {
   "cell_type": "code",
   "execution_count": 2,
   "metadata": {},
   "outputs": [
    {
     "name": "stderr",
     "output_type": "stream",
     "text": [
      "/Users/M278428/opt/anaconda3/envs/test_dev_vrs_installation/lib/python3.9/site-packages/python_jsonschema_objects/__init__.py:49: UserWarning: Schema version http://json-schema.org/draft-07/schema not recognized. Some keywords and features may not be supported.\n",
      "  warnings.warn(\n"
     ]
    }
   ],
   "source": [
    "# Import SPDI class \n",
    "from src.spdi.spdi_class import SPDI\n",
    "\n",
    "# SPDI translation method\n",
    "from src.spdi.spdi_utils import SPDITranslate\n",
    "spdiTranslate = SPDITranslate()"
   ]
  },
  {
   "cell_type": "markdown",
   "metadata": {},
   "source": [
    "#### Creating a SPDI Expression"
   ]
  },
  {
   "cell_type": "code",
   "execution_count": 3,
   "metadata": {},
   "outputs": [
    {
     "data": {
      "text/plain": [
       "<src.spdi.spdi_class.SPDI at 0x7f8c430fcfd0>"
      ]
     },
     "execution_count": 3,
     "metadata": {},
     "output_type": "execute_result"
    }
   ],
   "source": [
    "# Creating a SPDI object\n",
    "spdi_expression = SPDI(sequence='NC_000001.11',position=161629780,insertion='T',deletion='T')\n",
    "spdi_expression\n"
   ]
  },
  {
   "cell_type": "markdown",
   "metadata": {},
   "source": [
    "#### Methods in SPDI CLASS\n",
    "\n",
    "* spdi_class.py"
   ]
  },
  {
   "cell_type": "code",
   "execution_count": 4,
   "metadata": {},
   "outputs": [
    {
     "data": {
      "text/plain": [
       "'NC_000001.11:161629780:T:T'"
      ]
     },
     "execution_count": 4,
     "metadata": {},
     "output_type": "execute_result"
    }
   ],
   "source": [
    "# Taking a SPDI object and converting it to a SPDI string\n",
    "spdi_str = spdi_expression.to_string()\n",
    "spdi_str"
   ]
  },
  {
   "cell_type": "code",
   "execution_count": 5,
   "metadata": {},
   "outputs": [
    {
     "data": {
      "text/plain": [
       "{'sequence': 'NC_000001.11',\n",
       " 'position': 161629780,\n",
       " 'deletion': 'T',\n",
       " 'insertion': 'T'}"
      ]
     },
     "execution_count": 5,
     "metadata": {},
     "output_type": "execute_result"
    }
   ],
   "source": [
    "# Taking a SPDI object and converting it to a SPDI dictionary\n",
    "spdi_dict = spdi_expression.to_dict()\n",
    "spdi_dict"
   ]
  },
  {
   "cell_type": "markdown",
   "metadata": {},
   "source": [
    "#### SPDI Translation\n",
    "* Using spdi_utils.py"
   ]
  },
  {
   "cell_type": "code",
   "execution_count": 6,
   "metadata": {},
   "outputs": [
    {
     "data": {
      "text/plain": [
       "'NC_000001.11:g.161629781='"
      ]
     },
     "execution_count": 6,
     "metadata": {},
     "output_type": "execute_result"
    }
   ],
   "source": [
    "# Taking a SPDI string and converting it to a rightshift HGVS expression\n",
    "hgvs_expression = spdiTranslate.from_spdi_to_rightshift_hgvs(spdi_str)\n",
    "hgvs_expression"
   ]
  },
  {
   "cell_type": "code",
   "execution_count": 7,
   "metadata": {},
   "outputs": [
    {
     "data": {
      "text/plain": [
       "SequenceVariant(ac=NC_000001.11, type=g, posedit=161629781=, gene=None)"
      ]
     },
     "execution_count": 7,
     "metadata": {},
     "output_type": "execute_result"
    }
   ],
   "source": [
    "# Taking a SPDI string and converting it to a rightshift HGVS expression\n",
    "# without validation and with a parse output of the HGVS expressions\n",
    "parse_hgvs_expression = spdiTranslate.from_spdi_to_rightshift_hgvs(expression=spdi_str,validate = False,output_format='parse')\n",
    "parse_hgvs_expression"
   ]
  },
  {
   "cell_type": "code",
   "execution_count": 8,
   "metadata": {},
   "outputs": [
    {
     "data": {
      "text/plain": [
       "<Allele _id=<Literal<str> ga4gh:VA.g0DrpsYsVp9QTURGJj9FWqGc_yMUeimD> location=<SequenceLocation _id=<Literal<str> ga4gh:VSL.VFv5ccgTy-vP0N0EyCi8lSr1ktZUvtqJ> interval=<SequenceInterval end=<Number type=<Literal<str> Number> value=<Literal<int> 161629781>> start=<Number type=<Literal<str> Number> value=<Literal<int> 161629780>> type=<Literal<str> SequenceInterval>> sequence_id=<Literal<str> ga4gh:SQ.Ya6Rs7DHhDeg7YaOSg1EoNi3U_nQ9SvO> type=<Literal<str> SequenceLocation>> state=<LiteralSequenceExpression sequence=<Literal<str> T> type=<Literal<str> LiteralSequenceExpression>> type=<Literal<str> Allele>>"
      ]
     },
     "execution_count": 8,
     "metadata": {},
     "output_type": "execute_result"
    }
   ],
   "source": [
    "# Taking a SPDI string and converting it to a VRS object\n",
    "# with validation and with format_output to be object\n",
    "vrs_expresion_obj = spdiTranslate.from_spdi_to_vrs(spdi_str,validate=True,output_format='obj')\n",
    "vrs_expresion_obj"
   ]
  },
  {
   "cell_type": "code",
   "execution_count": 9,
   "metadata": {},
   "outputs": [
    {
     "data": {
      "text/plain": [
       "{'_id': 'ga4gh:VA.g0DrpsYsVp9QTURGJj9FWqGc_yMUeimD',\n",
       " 'type': 'Allele',\n",
       " 'location': {'_id': 'ga4gh:VSL.VFv5ccgTy-vP0N0EyCi8lSr1ktZUvtqJ',\n",
       "  'type': 'SequenceLocation',\n",
       "  'sequence_id': 'ga4gh:SQ.Ya6Rs7DHhDeg7YaOSg1EoNi3U_nQ9SvO',\n",
       "  'interval': {'type': 'SequenceInterval',\n",
       "   'start': {'type': 'Number', 'value': 161629780},\n",
       "   'end': {'type': 'Number', 'value': 161629781}}},\n",
       " 'state': {'type': 'LiteralSequenceExpression', 'sequence': 'T'}}"
      ]
     },
     "execution_count": 9,
     "metadata": {},
     "output_type": "execute_result"
    }
   ],
   "source": [
    "# Taking a SPDI string and converting it to a VRS dictionary\n",
    "# with validation and with format_output to be dictionary\n",
    "vrs_expresion_dict = spdiTranslate.from_spdi_to_vrs(spdi_str,validate=True,output_format='dict')\n",
    "vrs_expresion_dict"
   ]
  },
  {
   "cell_type": "code",
   "execution_count": 10,
   "metadata": {},
   "outputs": [
    {
     "data": {
      "text/plain": [
       "'{\"_id\": \"ga4gh:VA.g0DrpsYsVp9QTURGJj9FWqGc_yMUeimD\", \"type\": \"Allele\", \"location\": {\"_id\": \"ga4gh:VSL.VFv5ccgTy-vP0N0EyCi8lSr1ktZUvtqJ\", \"type\": \"SequenceLocation\", \"sequence_id\": \"ga4gh:SQ.Ya6Rs7DHhDeg7YaOSg1EoNi3U_nQ9SvO\", \"interval\": {\"type\": \"SequenceInterval\", \"start\": {\"type\": \"Number\", \"value\": 161629780}, \"end\": {\"type\": \"Number\", \"value\": 161629781}}}, \"state\": {\"type\": \"LiteralSequenceExpression\", \"sequence\": \"T\"}}'"
      ]
     },
     "execution_count": 10,
     "metadata": {},
     "output_type": "execute_result"
    }
   ],
   "source": [
    "# Taking a SPDI string and converting it to a VRS JSON\n",
    "# with validation and with format_output to be JSON\n",
    "vrs_expresion_json= spdiTranslate.from_spdi_to_vrs(spdi_str,validate=True,output_format='json')\n",
    "vrs_expresion_json"
   ]
  },
  {
   "cell_type": "code",
   "execution_count": 11,
   "metadata": {},
   "outputs": [],
   "source": [
    "#SPDI Strange examples: \n",
    "ex1 = 'NC_000017.11:83129587:TTGWCACATGATTG:TTG'\n",
    "ex2 = 'NC_000003.12:16894810:W:'"
   ]
  },
  {
   "cell_type": "code",
   "execution_count": 12,
   "metadata": {},
   "outputs": [],
   "source": [
    "#Cretating a SPDI object\n",
    "#Error occurs in the validation but these are truly SPDI expressions\n",
    "cr_spdi = SPDI(sequence='NC_000017.11',position=83129587,insertion='TTGWCACATGATTG',deletion='TTG')"
   ]
  },
  {
   "cell_type": "code",
   "execution_count": 13,
   "metadata": {},
   "outputs": [],
   "source": [
    "#Error occurs in the validation but these are truly SPDI expressions\n",
    "cr_spdi2 = SPDI(sequence='NC_000003.12',position=16894810,insertion='W',deletion='')"
   ]
  },
  {
   "cell_type": "code",
   "execution_count": 14,
   "metadata": {},
   "outputs": [
    {
     "data": {
      "text/plain": [
       "'NC_000017.11:g.83129591_83129601del'"
      ]
     },
     "execution_count": 14,
     "metadata": {},
     "output_type": "execute_result"
    }
   ],
   "source": [
    "trans_to_hgvs = spdiTranslate.from_spdi_to_rightshift_hgvs(expression=ex1)\n",
    "trans_to_hgvs"
   ]
  },
  {
   "cell_type": "code",
   "execution_count": 15,
   "metadata": {},
   "outputs": [
    {
     "data": {
      "text/plain": [
       "'NC_000003.12:g.16894811del'"
      ]
     },
     "execution_count": 15,
     "metadata": {},
     "output_type": "execute_result"
    }
   ],
   "source": [
    "trans_to_hgvs2 = spdiTranslate.from_spdi_to_rightshift_hgvs(expression=ex2)\n",
    "trans_to_hgvs2"
   ]
  },
  {
   "cell_type": "code",
   "execution_count": 16,
   "metadata": {},
   "outputs": [
    {
     "data": {
      "text/plain": [
       "<Allele _id=<Literal<str> ga4gh:VA.uMh32FdgdocWldFZL5Pi7RxOwvXJX_Md> location=<SequenceLocation _id=<Literal<str> ga4gh:VSL.8eHx9-4dIsZIUD6Od9WU-a06qNJKi8ra> interval=<SequenceInterval end=<Number type=<Literal<str> Number> value=<Literal<int> 83129601>> start=<Number type=<Literal<str> Number> value=<Literal<int> 83129587>> type=<Literal<str> SequenceInterval>> sequence_id=<Literal<str> ga4gh:SQ.dLZ15tNO1Ur0IcGjwc3Sdi_0A6Yf4zm7> type=<Literal<str> SequenceLocation>> state=<LiteralSequenceExpression sequence=<Literal<str> TTG> type=<Literal<str> LiteralSequenceExpression>> type=<Literal<str> Allele>>"
      ]
     },
     "execution_count": 16,
     "metadata": {},
     "output_type": "execute_result"
    }
   ],
   "source": [
    "trans_to_vrs = spdiTranslate.from_spdi_to_vrs(expression=ex1)\n",
    "trans_to_vrs"
   ]
  },
  {
   "cell_type": "code",
   "execution_count": 17,
   "metadata": {},
   "outputs": [
    {
     "data": {
      "text/plain": [
       "<Allele _id=<Literal<str> ga4gh:VA.LDwtaWm1yS--3mHT84AsBM2g3c9zElNN> location=<SequenceLocation _id=<Literal<str> ga4gh:VSL.-gPFR8xJpy5aWeQS6BzfMQOUe2LsJeb-> interval=<SequenceInterval end=<Number type=<Literal<str> Number> value=<Literal<int> 16894811>> start=<Number type=<Literal<str> Number> value=<Literal<int> 16894810>> type=<Literal<str> SequenceInterval>> sequence_id=<Literal<str> ga4gh:SQ.Zu7h9AggXxhTaGVsy7h_EZSChSZGcmgX> type=<Literal<str> SequenceLocation>> state=<LiteralSequenceExpression sequence=<Literal<str> > type=<Literal<str> LiteralSequenceExpression>> type=<Literal<str> Allele>>"
      ]
     },
     "execution_count": 17,
     "metadata": {},
     "output_type": "execute_result"
    }
   ],
   "source": [
    "trans_to_vrs2 = spdiTranslate.from_spdi_to_vrs(expression=ex2)\n",
    "trans_to_vrs2"
   ]
  }
 ],
 "metadata": {
  "kernelspec": {
   "display_name": "test_dev_vrs_installation",
   "language": "python",
   "name": "python3"
  },
  "language_info": {
   "codemirror_mode": {
    "name": "ipython",
    "version": 3
   },
   "file_extension": ".py",
   "mimetype": "text/x-python",
   "name": "python",
   "nbconvert_exporter": "python",
   "pygments_lexer": "ipython3",
   "version": "3.9.15"
  },
  "orig_nbformat": 4
 },
 "nbformat": 4,
 "nbformat_minor": 2
}
