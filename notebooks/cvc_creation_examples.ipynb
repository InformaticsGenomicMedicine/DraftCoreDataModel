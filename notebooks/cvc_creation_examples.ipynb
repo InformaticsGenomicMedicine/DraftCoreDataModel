{
 "cells": [
  {
   "cell_type": "code",
   "execution_count": 1,
   "metadata": {},
   "outputs": [
    {
     "name": "stderr",
     "output_type": "stream",
     "text": [
      "/Users/M278428/opt/anaconda3/envs/test_dev_vrs_installation/lib/python3.9/site-packages/python_jsonschema_objects/__init__.py:49: UserWarning: Schema version http://json-schema.org/draft-07/schema not recognized. Some keywords and features may not be supported.\n",
      "  warnings.warn(\n"
     ]
    }
   ],
   "source": [
    "from src.core_variant import CoreVariantClass"
   ]
  },
  {
   "cell_type": "markdown",
   "metadata": {},
   "source": [
    "#### Creating a CoreVariantClass Object\n",
    "* The goal of the CoreVariantClass object is to be able to contain metadata that can be translated into various expressions such as VRS, HGVS, SPDI, and FHIR.\n",
    "* Required attributes: origCoordSystem, seqType,refAllele, altAllele, start, end, and (chrom and genomeBuild or sequenceId).\n",
    "* Not Required attributes: allelicState,geneSymbol, hgncID\n",
    "* For more information regarding the validation steps that are implemented in the CoreVariantClass, refer to the core_variant.py module."
   ]
  },
  {
   "cell_type": "code",
   "execution_count": 2,
   "metadata": {},
   "outputs": [
    {
     "data": {
      "text/plain": [
       "CoreVariantClass(0-based interbase,DNA,C,T,44908821,44908822,None,None,None,None,None,NC_000019.10,{})"
      ]
     },
     "execution_count": 2,
     "metadata": {},
     "output_type": "execute_result"
    }
   ],
   "source": [
    "# Creating a CoreVariantClass object \n",
    "# Example Variant: 'NC_000007.14:55181230::GGCT'\n",
    "cvc = CoreVariantClass(\n",
    "    origCoordSystem='0-based interbase',\n",
    "    seqType='DNA',\n",
    "    refAllele='',\n",
    "    altAllele='GGCT',\n",
    "    start=55181230,\n",
    "    end=55181230,\n",
    "    allelicState=None,\n",
    "    geneSymbol=None,\n",
    "    hgncId=None,\n",
    "    chrom=None,\n",
    "    genomeBuild=None,\n",
    "    sequenceId='NC_000007.14')\n",
    "cvc\n",
    "\n",
    "#Other Example \n",
    "# Creating a CoreVariantClass object \n",
    "# Example Variant Representation in 0-based interbase instead of hgvs 1-based counting: NC_000019.10:g.44908822C>T\n",
    "\n",
    "cvc2 = CoreVariantClass(\n",
    "    origCoordSystem='0-based interbase',\n",
    "    seqType='DNA',\n",
    "    refAllele='C',\n",
    "    altAllele='T',\n",
    "    start=44908821,\n",
    "    end=44908822,\n",
    "    allelicState=None,\n",
    "    geneSymbol=None,\n",
    "    hgncId=None,\n",
    "    chrom=None,\n",
    "    genomeBuild=None,\n",
    "    sequenceId='NC_000019.10')\n",
    "cvc2"
   ]
  },
  {
   "cell_type": "markdown",
   "metadata": {},
   "source": [
    "#### CoreVariantClass Methods\n",
    "* Methods include \n",
    "    * Return initial parameters that were inputted\n",
    "    * Return object as string, dictionary, or json\n",
    "    * Normalize CoreVariantClass"
   ]
  },
  {
   "cell_type": "code",
   "execution_count": 3,
   "metadata": {},
   "outputs": [
    {
     "data": {
      "text/plain": [
       "{'origCoordSystem': '0-based interbase',\n",
       " 'seqType': 'DNA',\n",
       " 'refAllele': '',\n",
       " 'altAllele': 'GGCT',\n",
       " 'start': 55181230,\n",
       " 'end': 55181230,\n",
       " 'allelicState': None,\n",
       " 'geneSymbol': None,\n",
       " 'hgncId': None,\n",
       " 'chrom': None,\n",
       " 'genomeBuild': None,\n",
       " 'sequenceId': 'NC_000007.14',\n",
       " 'kwargs': {}}"
      ]
     },
     "execution_count": 3,
     "metadata": {},
     "output_type": "execute_result"
    }
   ],
   "source": [
    "# Return initial parameters\n",
    "cvc.init_params()"
   ]
  },
  {
   "cell_type": "code",
   "execution_count": 4,
   "metadata": {},
   "outputs": [
    {
     "name": "stdout",
     "output_type": "stream",
     "text": [
      "String format: CoreVariantClass(0-based interbase,DNA,,GGCT,55181230,55181230,None,None,None,None,None,NC_000007.14,{})\n",
      "Dictionary format: {'origCoordSystem': '0-based interbase', 'seqType': 'DNA', 'refAllele': '', 'altAllele': 'GGCT', 'start': 55181230, 'end': 55181230, 'allelicState': None, 'geneSymbol': None, 'hgncId': None, 'chrom': None, 'genomeBuild': None, 'sequenceId': 'NC_000007.14', 'kwargs': {}}\n",
      "JSON format: {\n",
      "  \"origCoordSystem\": \"0-based interbase\",\n",
      "  \"seqType\": \"DNA\",\n",
      "  \"refAllele\": \"\",\n",
      "  \"altAllele\": \"GGCT\",\n",
      "  \"start\": 55181230,\n",
      "  \"end\": 55181230,\n",
      "  \"allelicState\": null,\n",
      "  \"geneSymbol\": null,\n",
      "  \"hgncId\": null,\n",
      "  \"chrom\": null,\n",
      "  \"genomeBuild\": null,\n",
      "  \"sequenceId\": \"NC_000007.14\",\n",
      "  \"kwargs\": {}\n",
      "}\n"
     ]
    }
   ],
   "source": [
    "# Return as string\n",
    "print(f'String format: {repr(cvc)}')\n",
    "\n",
    "# Return as dictionary\n",
    "print(f'Dictionary format: {cvc.as_dict()}')\n",
    "\n",
    "# return as json\n",
    "print(f'JSON format: {cvc.as_json()}')"
   ]
  },
  {
   "cell_type": "code",
   "execution_count": 5,
   "metadata": {},
   "outputs": [
    {
     "data": {
      "text/plain": [
       "CoreVariantClass(1-based counting,DNA,A,T,22,22,None,None,None,None,None,NM_012345.6,{})"
      ]
     },
     "execution_count": 5,
     "metadata": {},
     "output_type": "execute_result"
    }
   ],
   "source": [
    "#TODO: this idea of normalizing needs to be revised \n",
    "\n",
    "# Creating a CoreVariantClass object \n",
    "#'NM_012345.6:c.22A>T'\n",
    "cvc3 = CoreVariantClass(\n",
    "    origCoordSystem='1-based counting',\n",
    "    seqType='DNA',\n",
    "    refAllele='A',\n",
    "    altAllele='T',\n",
    "    start=22, #TODO: refer to core_variant.py because i change this to allow start to = end. \n",
    "    end=22,\n",
    "    allelicState=None,\n",
    "    geneSymbol=None,\n",
    "    hgncId=None,\n",
    "    chrom=None,\n",
    "    genomeBuild=None,\n",
    "    sequenceId='NM_012345.6')\n",
    "cvc3"
   ]
  },
  {
   "cell_type": "code",
   "execution_count": 6,
   "metadata": {},
   "outputs": [
    {
     "name": "stdout",
     "output_type": "stream",
     "text": [
      "Normalized Object:\n"
     ]
    },
    {
     "data": {
      "text/plain": [
       "{'origCoordSystem': '0-based interbase',\n",
       " 'seqType': 'DNA',\n",
       " 'allelicState': None,\n",
       " 'associatedGene': {'geneSymbol': None, 'hgncId': None},\n",
       " 'refAllele': 'A',\n",
       " 'altAllele': 'T',\n",
       " 'position': {'chrom': None,\n",
       "  'genomeBuild': None,\n",
       "  'start': 21,\n",
       "  'end': 22,\n",
       "  'sequenceId': 'NM_012345.6'}}"
      ]
     },
     "execution_count": 6,
     "metadata": {},
     "output_type": "execute_result"
    }
   ],
   "source": [
    "# Normalizing from 1-based counting to 0-based interbase\n",
    "print('Normalized Object:')\n",
    "cvc3.normalized_data()"
   ]
  }
 ],
 "metadata": {
  "kernelspec": {
   "display_name": "test_dev_vrs_installation",
   "language": "python",
   "name": "python3"
  },
  "language_info": {
   "codemirror_mode": {
    "name": "ipython",
    "version": 3
   },
   "file_extension": ".py",
   "mimetype": "text/x-python",
   "name": "python",
   "nbconvert_exporter": "python",
   "pygments_lexer": "ipython3",
   "version": "3.9.15"
  }
 },
 "nbformat": 4,
 "nbformat_minor": 2
}
