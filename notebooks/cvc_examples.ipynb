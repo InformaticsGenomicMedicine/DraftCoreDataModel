{
 "cells": [
  {
   "cell_type": "code",
   "execution_count": 1,
   "metadata": {},
   "outputs": [
    {
     "name": "stderr",
     "output_type": "stream",
     "text": [
      "/Users/M278428/opt/anaconda3/envs/test_dev_vrs_installation/lib/python3.9/site-packages/python_jsonschema_objects/__init__.py:49: UserWarning: Schema version http://json-schema.org/draft-07/schema not recognized. Some keywords and features may not be supported.\n",
      "  warnings.warn(\n"
     ]
    }
   ],
   "source": [
    "from src.core_variant import CoreVariantClass\n",
    "from src.core_variant_translate import CVCTranslator\n",
    "cvc_trans = CVCTranslator()"
   ]
  },
  {
   "cell_type": "markdown",
   "metadata": {},
   "source": [
    "#### Creating a CoreVariantClass Object\n",
    "* The goal of the CoreVariantClass object is to be able to contain metadata that can be translated into various expressions such as VRS, HGVS, SPDI, and FHIR.\n",
    "* Required attributes: origCoordSystem, seqType,refAllele, altAllele, start, end, and (chrom and genomeBuild or sequenceId).\n",
    "* Not Required attributes: allelicState,geneSymbol, hgncID\n",
    "* For more information regarding the validation steps that are implemented in the CoreVariantClass, refer to the core_variant.py module."
   ]
  },
  {
   "cell_type": "code",
   "execution_count": 2,
   "metadata": {},
   "outputs": [
    {
     "data": {
      "text/plain": [
       "CoreVariantClass(0-based interbase,DNA,G,A,80005,80006,None,None,None,None,None,NM_001267550.2,{})"
      ]
     },
     "execution_count": 2,
     "metadata": {},
     "output_type": "execute_result"
    }
   ],
   "source": [
    "# Creating a CoreVariantClass object \n",
    "cvc = CoreVariantClass(\n",
    "    origCoordSystem='0-based interbase',\n",
    "    seqType='DNA',\n",
    "    refAllele='G',\n",
    "    altAllele='A',\n",
    "    start=80005,\n",
    "    end=80006,\n",
    "    allelicState=None,\n",
    "    geneSymbol=None,\n",
    "    hgncId=None,\n",
    "    chrom=None,\n",
    "    genomeBuild=None,\n",
    "    sequenceId='NM_001267550.2')\n",
    "cvc"
   ]
  },
  {
   "cell_type": "markdown",
   "metadata": {},
   "source": [
    "#### CoreVariantClass Methods\n",
    "* Methods include \n",
    "    * Return initial parameters that were inputted\n",
    "    * Return object as string, dictionary, or json\n",
    "    * Normalize CoreVariantClass"
   ]
  },
  {
   "cell_type": "code",
   "execution_count": 5,
   "metadata": {},
   "outputs": [
    {
     "data": {
      "text/plain": [
       "{'origCoordSystem': '0-based interbase',\n",
       " 'seqType': 'DNA',\n",
       " 'refAllele': 'G',\n",
       " 'altAllele': 'A',\n",
       " 'start': 80005,\n",
       " 'end': 80006,\n",
       " 'allelicState': None,\n",
       " 'geneSymbol': None,\n",
       " 'hgncId': None,\n",
       " 'chrom': None,\n",
       " 'genomeBuild': None,\n",
       " 'sequenceId': 'NM_001267550.2',\n",
       " 'kwargs': {}}"
      ]
     },
     "execution_count": 5,
     "metadata": {},
     "output_type": "execute_result"
    }
   ],
   "source": [
    "# Return initial parameters\n",
    "cvc.init_params()"
   ]
  },
  {
   "cell_type": "code",
   "execution_count": 24,
   "metadata": {},
   "outputs": [
    {
     "name": "stdout",
     "output_type": "stream",
     "text": [
      "String format: CoreVariantClass(0-based interbase,DNA,G,A,80005,80006,None,None,None,None,None,NM_001267550.2,{})\n",
      "Dictionary format: {'origCoordSystem': '0-based interbase', 'seqType': 'DNA', 'refAllele': 'G', 'altAllele': 'A', 'start': 80005, 'end': 80006, 'allelicState': None, 'geneSymbol': None, 'hgncId': None, 'chrom': None, 'genomeBuild': None, 'sequenceId': 'NM_001267550.2', 'kwargs': {}}\n",
      "JSON format: {\n",
      "  \"origCoordSystem\": \"0-based interbase\",\n",
      "  \"seqType\": \"DNA\",\n",
      "  \"refAllele\": \"G\",\n",
      "  \"altAllele\": \"A\",\n",
      "  \"start\": 80005,\n",
      "  \"end\": 80006,\n",
      "  \"allelicState\": null,\n",
      "  \"geneSymbol\": null,\n",
      "  \"hgncId\": null,\n",
      "  \"chrom\": null,\n",
      "  \"genomeBuild\": null,\n",
      "  \"sequenceId\": \"NM_001267550.2\",\n",
      "  \"kwargs\": {}\n",
      "}\n"
     ]
    }
   ],
   "source": [
    "# Return as string\n",
    "print(f'String format: {repr(cvc)}')\n",
    "\n",
    "# Return as dictionary\n",
    "print(f'Dictionary format: {cvc.as_dict()}')\n",
    "\n",
    "# return as json\n",
    "print(f'JSON format: {cvc.as_json()}')"
   ]
  },
  {
   "cell_type": "code",
   "execution_count": 34,
   "metadata": {},
   "outputs": [
    {
     "data": {
      "text/plain": [
       "CoreVariantClass(1-based counting,DNA,G,A,1141,1141,None,None,None,None,None,NM_001256850.1,{})"
      ]
     },
     "execution_count": 34,
     "metadata": {},
     "output_type": "execute_result"
    }
   ],
   "source": [
    "# Creating a CoreVariantClass object \n",
    "cvc2 = CoreVariantClass(\n",
    "    origCoordSystem='1-based counting',\n",
    "    seqType='DNA',\n",
    "    refAllele='G',\n",
    "    altAllele='A',\n",
    "    start=1141, #TODO: refer to core_variant.py because i change this to allow start to = end. \n",
    "    end=1141,\n",
    "    allelicState=None,\n",
    "    geneSymbol=None,\n",
    "    hgncId=None,\n",
    "    chrom=None,\n",
    "    genomeBuild=None,\n",
    "    sequenceId='NM_001256850.1')\n",
    "cvc2"
   ]
  },
  {
   "cell_type": "code",
   "execution_count": 33,
   "metadata": {},
   "outputs": [
    {
     "name": "stdout",
     "output_type": "stream",
     "text": [
      "Normalized Object:\n"
     ]
    },
    {
     "data": {
      "text/plain": [
       "{'origCoordSystem': '0-based interbase',\n",
       " 'seqType': 'DNA',\n",
       " 'allelicState': None,\n",
       " 'associatedGene': {'geneSymbol': None, 'hgncId': None},\n",
       " 'refAllele': 'G',\n",
       " 'altAllele': 'A',\n",
       " 'position': {'chrom': None,\n",
       "  'genomeBuild': None,\n",
       "  'start': 1140,\n",
       "  'end': 1141,\n",
       "  'sequenceId': 'NM_001256850.1'}}"
      ]
     },
     "execution_count": 33,
     "metadata": {},
     "output_type": "execute_result"
    }
   ],
   "source": [
    "print('Normalized Object:')\n",
    "cvc2.normalized_data()"
   ]
  }
 ],
 "metadata": {
  "kernelspec": {
   "display_name": "test_dev_vrs_installation",
   "language": "python",
   "name": "python3"
  },
  "language_info": {
   "codemirror_mode": {
    "name": "ipython",
    "version": 3
   },
   "file_extension": ".py",
   "mimetype": "text/x-python",
   "name": "python",
   "nbconvert_exporter": "python",
   "pygments_lexer": "ipython3",
   "version": "3.9.15"
  }
 },
 "nbformat": 4,
 "nbformat_minor": 2
}
