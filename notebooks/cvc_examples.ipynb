{
 "cells": [
  {
   "cell_type": "code",
   "execution_count": 3,
   "metadata": {},
   "outputs": [],
   "source": [
    "from src.core_variant import CoreVariantClass"
   ]
  },
  {
   "cell_type": "markdown",
   "metadata": {},
   "source": [
    "#### Creating a `CoreVariantClass` Object\n",
    "\n",
    "The purpose of the `CoreVariantClass` object is to contain metadata that can be translated into various expressions such as VRS, HGVS, SPDI, and FHIR.\n",
    "\n",
    "**Required Attributes:**\n",
    "- `origCoordSystem`\n",
    "- `seqType`\n",
    "- `refAllele`\n",
    "- `altAllele`\n",
    "- `start`\n",
    "- `end`\n",
    "- `(chrom` and `genomeBuild` or `sequenceId`)\n",
    "\n",
    "**Not Required Attributes:**\n",
    "- `allelicState`\n",
    "- `geneSymbol`\n",
    "- `hgncID`\n",
    "\n",
    "For further information regarding the validation steps implemented in the `CoreVariantClass`, please refer to the `core_variant.py` module.\n"
   ]
  },
  {
   "cell_type": "code",
   "execution_count": 4,
   "metadata": {},
   "outputs": [
    {
     "data": {
      "text/plain": [
       "CoreVariantClass(0-based interbase,DNA,A,T,27453448,27453449,None,IFT172,None,2,GRCh38,NC_000002.12,{})"
      ]
     },
     "execution_count": 4,
     "metadata": {},
     "output_type": "execute_result"
    }
   ],
   "source": [
    "cvc = CoreVariantClass(\n",
    "    origCoordSystem=\"0-based interbase\",\n",
    "    seqType=\"DNA\",\n",
    "    refAllele=\"A\",\n",
    "    altAllele=\"T\",\n",
    "    start=27453448,\n",
    "    end=27453449,\n",
    "    allelicState=None,\n",
    "    geneSymbol=\"IFT172\",\n",
    "    hgncId=None,\n",
    "    chrom=\"chr 2\",\n",
    "    genomeBuild=\"GRCh38\",\n",
    "    sequenceId=\"NC_000002.12\"\n",
    ")\n",
    "cvc"
   ]
  },
  {
   "cell_type": "code",
   "execution_count": 5,
   "metadata": {},
   "outputs": [
    {
     "name": "stdout",
     "output_type": "stream",
     "text": [
      "Normalized CVC Object:\n"
     ]
    },
    {
     "data": {
      "text/plain": [
       "{'origCoordSystem': '0-based interbase',\n",
       " 'seqType': 'DNA',\n",
       " 'allelicState': None,\n",
       " 'associatedGene': {'geneSymbol': 'IFT172', 'hgncId': None},\n",
       " 'refAllele': 'A',\n",
       " 'altAllele': 'T',\n",
       " 'position': {'chrom': '2',\n",
       "  'genomeBuild': 'GRCh38',\n",
       "  'start': 27453448,\n",
       "  'end': 27453449,\n",
       "  'sequenceId': 'NC_000002.12'}}"
      ]
     },
     "execution_count": 5,
     "metadata": {},
     "output_type": "execute_result"
    }
   ],
   "source": [
    "print('Normalized CVC Object:')\n",
    "cvc.normalized_data()"
   ]
  },
  {
   "cell_type": "code",
   "execution_count": 6,
   "metadata": {},
   "outputs": [],
   "source": [
    "from src.cvc_to_variant_translate import ToTranslate\n",
    "cvc_to = ToTranslate()"
   ]
  },
  {
   "cell_type": "code",
   "execution_count": 7,
   "metadata": {},
   "outputs": [
    {
     "data": {
      "text/plain": [
       "'NC_000002.12:g.27453449C>T'"
      ]
     },
     "execution_count": 7,
     "metadata": {},
     "output_type": "execute_result"
    }
   ],
   "source": [
    "#Translating the cvc object into a HGVS expression\n",
    "cvc_to.cvc_to_hgvs(cvc)"
   ]
  },
  {
   "cell_type": "code",
   "execution_count": 8,
   "metadata": {},
   "outputs": [
    {
     "data": {
      "text/plain": [
       "'NC_000002.12:27453448:A:T'"
      ]
     },
     "execution_count": 8,
     "metadata": {},
     "output_type": "execute_result"
    }
   ],
   "source": [
    "#Translating the cvc object into a SPDI expression\n",
    "cvc_to.cvc_to_spdi(cvc)"
   ]
  },
  {
   "cell_type": "code",
   "execution_count": 9,
   "metadata": {},
   "outputs": [
    {
     "data": {
      "text/plain": [
       "{'_id': 'ga4gh:VA.fXvhngewkkyVwzEeSJRr5tro8Jcol6Q-',\n",
       " 'type': 'Allele',\n",
       " 'location': {'_id': 'ga4gh:VSL.nLMbYalHO4OEI2axqkyTMCQxrH98UpDN',\n",
       "  'type': 'SequenceLocation',\n",
       "  'sequence_id': 'ga4gh:SQ.pnAqCRBrTsUoBghSD1yp_jXWSmlbdh4g',\n",
       "  'interval': {'type': 'SequenceInterval',\n",
       "   'start': {'type': 'Number', 'value': 27453448},\n",
       "   'end': {'type': 'Number', 'value': 27453449}}},\n",
       " 'state': {'type': 'LiteralSequenceExpression', 'sequence': 'T'}}"
      ]
     },
     "execution_count": 9,
     "metadata": {},
     "output_type": "execute_result"
    }
   ],
   "source": [
    "#Translating the cvc object into a VRS expression\n",
    "vrs = cvc_to.cvc_to_vrs(cvc)\n",
    "vrs.as_dict()"
   ]
  },
  {
   "cell_type": "code",
   "execution_count": 10,
   "metadata": {},
   "outputs": [],
   "source": [
    "from src.variant_to_cvc_translate import CVCTranslator\n",
    "tocvc = CVCTranslator()"
   ]
  },
  {
   "cell_type": "code",
   "execution_count": 11,
   "metadata": {},
   "outputs": [
    {
     "data": {
      "text/plain": [
       "CoreVariantClass(0-based interbase,DNA,C,T,27453448,27453449,None,None,None,None,None,NC_000002.12,{})"
      ]
     },
     "execution_count": 11,
     "metadata": {},
     "output_type": "execute_result"
    }
   ],
   "source": [
    "#Translating the HGVS expression into a CVC object\n",
    "tocvc.hgvs_to_cvc('NC_000002.12:g.27453449C>T')"
   ]
  },
  {
   "cell_type": "code",
   "execution_count": 12,
   "metadata": {},
   "outputs": [
    {
     "data": {
      "text/plain": [
       "CoreVariantClass(0-based interbase,DNA,C,T,27453448,27453449,None,None,None,None,None,NC_000002.12,{})"
      ]
     },
     "execution_count": 12,
     "metadata": {},
     "output_type": "execute_result"
    }
   ],
   "source": [
    "#Translating the SPDI expression into a CVC object\n",
    "tocvc.spdi_to_cvc('NC_000002.12:27453448:C:T')"
   ]
  },
  {
   "cell_type": "code",
   "execution_count": 13,
   "metadata": {},
   "outputs": [
    {
     "data": {
      "text/plain": [
       "CoreVariantClass(0-based interbase,DNA,C,T,27453448,27453449,None,None,None,None,None,NC_000002.12,{})"
      ]
     },
     "execution_count": 13,
     "metadata": {},
     "output_type": "execute_result"
    }
   ],
   "source": [
    "#Translating the VRS expression into a CVC object\n",
    "tocvc.vrs_to_cvc(vrs)"
   ]
  }
 ],
 "metadata": {
  "kernelspec": {
   "display_name": "test_dev_vrs_installation",
   "language": "python",
   "name": "python3"
  },
  "language_info": {
   "codemirror_mode": {
    "name": "ipython",
    "version": 3
   },
   "file_extension": ".py",
   "mimetype": "text/x-python",
   "name": "python",
   "nbconvert_exporter": "python",
   "pygments_lexer": "ipython3",
   "version": "3.11.5"
  }
 },
 "nbformat": 4,
 "nbformat_minor": 2
}
