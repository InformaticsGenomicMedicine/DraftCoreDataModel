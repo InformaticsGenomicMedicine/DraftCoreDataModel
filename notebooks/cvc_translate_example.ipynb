{
 "cells": [
  {
   "cell_type": "code",
   "execution_count": 1,
   "metadata": {},
   "outputs": [
    {
     "name": "stderr",
     "output_type": "stream",
     "text": [
      "/Users/M278428/opt/anaconda3/envs/test_dev_vrs_installation/lib/python3.9/site-packages/python_jsonschema_objects/__init__.py:49: UserWarning: Schema version http://json-schema.org/draft-07/schema not recognized. Some keywords and features may not be supported.\n",
      "  warnings.warn(\n"
     ]
    }
   ],
   "source": [
    "from src.core_variant import CoreVariantClass\n",
    "from src.cvc_to_translate import ToTranslate\n",
    "\n",
    "tt = ToTranslate()"
   ]
  },
  {
   "cell_type": "code",
   "execution_count": 2,
   "metadata": {},
   "outputs": [
    {
     "data": {
      "text/plain": [
       "CoreVariantClass(0-based interbase,DNA,G,A,80230,80231,None,None,None,None,None,NM_001267550.2,{})"
      ]
     },
     "execution_count": 2,
     "metadata": {},
     "output_type": "execute_result"
    }
   ],
   "source": [
    "# Creating a CoreVariantClass object \n",
    "# NM_001267550.2:80230:G:A\n",
    "exampleSPDI = CoreVariantClass(\n",
    "    origCoordSystem='0-based interbase',\n",
    "    seqType='DNA',\n",
    "    refAllele='G',\n",
    "    altAllele='A',\n",
    "    start=80230,\n",
    "    end=80231,\n",
    "    allelicState=None,\n",
    "    geneSymbol=None,\n",
    "    hgncId=None,\n",
    "    chrom=None,\n",
    "    genomeBuild=None,\n",
    "    sequenceId='NM_001267550.2')\n",
    "exampleSPDI"
   ]
  },
  {
   "cell_type": "code",
   "execution_count": 3,
   "metadata": {},
   "outputs": [
    {
     "data": {
      "text/plain": [
       "'NM_001267550.2:80230:G:A'"
      ]
     },
     "execution_count": 3,
     "metadata": {},
     "output_type": "execute_result"
    }
   ],
   "source": [
    "tt.cvc_to_spdi(exampleSPDI,output_format=\"string\")"
   ]
  },
  {
   "cell_type": "code",
   "execution_count": 4,
   "metadata": {},
   "outputs": [
    {
     "name": "stdout",
     "output_type": "stream",
     "text": [
      "CoreVariantClass(1-based counting,DNA,C,G,32936732,32936732,None,None,None,None,None,NC_000013.11,{})\n",
      "NORMALIZED EXAMPLE:\n",
      "{'origCoordSystem': '0-based interbase', 'seqType': 'DNA', 'refAllele': 'C', 'altAllele': 'G', 'start': 32936731, 'end': 32936732, 'allelicState': None, 'geneSymbol': None, 'hgncId': None, 'chrom': None, 'genomeBuild': None, 'sequenceId': 'NC_000013.11', 'kwargs': {}}\n"
     ]
    }
   ],
   "source": [
    "# HGVS Example: NC_000013.11:g.32936732C>G\n",
    "exampleHGVS = CoreVariantClass(\n",
    "    origCoordSystem='1-based counting',\n",
    "    seqType='DNA',\n",
    "    refAllele='C',\n",
    "    altAllele='G',\n",
    "    start=32936732,\n",
    "    end=32936732,\n",
    "    allelicState=None,\n",
    "    geneSymbol=None,\n",
    "    hgncId=None,\n",
    "    chrom=None,\n",
    "    genomeBuild=None,\n",
    "    sequenceId='NC_000013.11')\n",
    "\n",
    "print(exampleHGVS)\n",
    "normalizeExampleHGVS = exampleHGVS.init_normalized_data()\n",
    "print('NORMALIZED EXAMPLE:')\n",
    "print(normalizeExampleHGVS)"
   ]
  },
  {
   "cell_type": "code",
   "execution_count": 5,
   "metadata": {},
   "outputs": [
    {
     "data": {
      "text/plain": [
       "'NC_000013.11:g.32936732C>G'"
      ]
     },
     "execution_count": 5,
     "metadata": {},
     "output_type": "execute_result"
    }
   ],
   "source": [
    "tt.cvc_to_hgvs(exampleHGVS)"
   ]
  },
  {
   "cell_type": "code",
   "execution_count": 6,
   "metadata": {},
   "outputs": [],
   "source": [
    "exampleVRS = CoreVariantClass(\n",
    "    origCoordSystem='0-based interbase',\n",
    "    seqType='DNA',\n",
    "    refAllele='C',\n",
    "    altAllele='G',\n",
    "    start=32936731,\n",
    "    end=32936732,\n",
    "    allelicState=None,\n",
    "    geneSymbol=None,\n",
    "    hgncId=None,\n",
    "    chrom=None,\n",
    "    genomeBuild=None,\n",
    "    sequenceId='NC_000013.11')\n"
   ]
  },
  {
   "cell_type": "code",
   "execution_count": 7,
   "metadata": {},
   "outputs": [
    {
     "data": {
      "text/plain": [
       "{'_id': 'ga4gh:VA.hMfrqZuECxo2yyGLltnim_q71QDkK-HR',\n",
       " 'type': 'Allele',\n",
       " 'location': {'_id': 'ga4gh:VSL.iSZclbNW8T95cXDuNvLMvm6xJd2g4pTn',\n",
       "  'type': 'SequenceLocation',\n",
       "  'sequence_id': 'ga4gh:SQ._0wi-qoDrvram155UmcSC-zA5ZK4fpLT',\n",
       "  'interval': {'type': 'SequenceInterval',\n",
       "   'start': {'type': 'Number', 'value': 32936731},\n",
       "   'end': {'type': 'Number', 'value': 32936732}}},\n",
       " 'state': {'type': 'LiteralSequenceExpression', 'sequence': 'G'}}"
      ]
     },
     "execution_count": 7,
     "metadata": {},
     "output_type": "execute_result"
    }
   ],
   "source": [
    "tt.cvc_to_vrs(exampleVRS).as_dict()"
   ]
  }
 ],
 "metadata": {
  "kernelspec": {
   "display_name": "test_dev_vrs_installation",
   "language": "python",
   "name": "python3"
  },
  "language_info": {
   "codemirror_mode": {
    "name": "ipython",
    "version": 3
   },
   "file_extension": ".py",
   "mimetype": "text/x-python",
   "name": "python",
   "nbconvert_exporter": "python",
   "pygments_lexer": "ipython3",
   "version": "3.9.15"
  }
 },
 "nbformat": 4,
 "nbformat_minor": 2
}
