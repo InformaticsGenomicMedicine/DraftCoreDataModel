{
 "cells": [
  {
   "cell_type": "code",
   "execution_count": 1,
   "metadata": {},
   "outputs": [
    {
     "name": "stderr",
     "output_type": "stream",
     "text": [
      "/Users/M278428/opt/anaconda3/envs/test_dev_vrs_installation/lib/python3.9/site-packages/python_jsonschema_objects/__init__.py:49: UserWarning: Schema version http://json-schema.org/draft-07/schema not recognized. Some keywords and features may not be supported.\n",
      "  warnings.warn(\n"
     ]
    }
   ],
   "source": [
    "\n",
    "from src.hgvsExtra.hgvs_utils import HGVSTranslate\n",
    "from src.spdi.spdi_utils import SPDITranslate\n",
    "from src.vrs.vrs_utils import VrsTranslate\n",
    "from src.core_variant_translate import CVCTranslator\n",
    "\n",
    "from src.core_variant import CoreVariantClass\n",
    "\n",
    "\n",
    "spdiTranslate = SPDITranslate()\n",
    "hgvsTranslate = HGVSTranslate()\n",
    "vrsTranslate = VrsTranslate()\n",
    "cvc_trans = CVCTranslator()\n",
    "\n"
   ]
  },
  {
   "cell_type": "code",
   "execution_count": 60,
   "metadata": {},
   "outputs": [
    {
     "name": "stdout",
     "output_type": "stream",
     "text": [
      "{'origCoordSystem': '0-based interbase', 'seqType': 'DNA', 'refAllele': 'G', 'altAllele': 'A', 'start': 80005, 'end': 80006, 'allelicState': None, 'geneSymbol': None, 'hgncId': None, 'chrom': None, 'genomeBuild': None, 'sequenceId': 'NM_001267550.2', 'kwargs': {}}\n",
      "{'origCoordSystem': '0-based interbase', 'seqType': 'DNA', 'refAllele': 'G', 'altAllele': 'A', 'start': 1140, 'end': 1141, 'allelicState': None, 'geneSymbol': None, 'hgncId': None, 'chrom': None, 'genomeBuild': None, 'sequenceId': 'NM_001256850.1', 'kwargs': {}}\n",
      "{'origCoordSystem': '0-based interbase', 'seqType': 'DNA', 'refAllele': 'A', 'altAllele': 'G', 'start': 1554, 'end': 1555, 'allelicState': None, 'geneSymbol': None, 'hgncId': None, 'chrom': None, 'genomeBuild': None, 'sequenceId': 'NC_012920.1', 'kwargs': {}}\n",
      "{'origCoordSystem': '0-based interbase', 'seqType': 'DNA', 'refAllele': 'A', 'altAllele': 'C', 'start': 813, 'end': 814, 'allelicState': None, 'geneSymbol': None, 'hgncId': None, 'chrom': None, 'genomeBuild': None, 'sequenceId': 'NM_000097.7', 'kwargs': {}}\n"
     ]
    }
   ],
   "source": [
    "examples = ['NM_001267550.2:c.80006G>A','NM_001256850.1:c.1141G>A','NC_012920.1:m.1555A>G','NM_000097.7:c.814A>C']\n",
    "for example in examples: \n",
    "    print(cvc_trans.hgvs_to_cvc(example).as_dict())"
   ]
  },
  {
   "cell_type": "code",
   "execution_count": 63,
   "metadata": {},
   "outputs": [
    {
     "data": {
      "text/html": [
       "<div>\n",
       "<style scoped>\n",
       "    .dataframe tbody tr th:only-of-type {\n",
       "        vertical-align: middle;\n",
       "    }\n",
       "\n",
       "    .dataframe tbody tr th {\n",
       "        vertical-align: top;\n",
       "    }\n",
       "\n",
       "    .dataframe thead th {\n",
       "        text-align: right;\n",
       "    }\n",
       "</style>\n",
       "<table border=\"1\" class=\"dataframe\">\n",
       "  <thead>\n",
       "    <tr style=\"text-align: right;\">\n",
       "      <th></th>\n",
       "      <th>hgvs</th>\n",
       "      <th>spdi</th>\n",
       "      <th>vrs</th>\n",
       "      <th>cvc</th>\n",
       "    </tr>\n",
       "  </thead>\n",
       "  <tbody>\n",
       "    <tr>\n",
       "      <th>0</th>\n",
       "      <td>NM_001267550.2:c.80006G&gt;A</td>\n",
       "      <td>NM_001267550.2:80230:G:A</td>\n",
       "      <td>{'_id': 'ga4gh:VA.FVGP3rA1nyBh3XrS7BFWQRFNXw4z...</td>\n",
       "      <td>{'origCoordSystem': '0-based interbase', 'seqT...</td>\n",
       "    </tr>\n",
       "    <tr>\n",
       "      <th>1</th>\n",
       "      <td>NM_001256850.1:c.1141G&gt;A</td>\n",
       "      <td>NM_001256850.1:1365:G:A</td>\n",
       "      <td>{'_id': 'ga4gh:VA._o6i8w1jJYoaH7XCklAMCDEYwNtx...</td>\n",
       "      <td>{'origCoordSystem': '0-based interbase', 'seqT...</td>\n",
       "    </tr>\n",
       "    <tr>\n",
       "      <th>2</th>\n",
       "      <td>NC_012920.1:m.1555A&gt;G</td>\n",
       "      <td>NC_012920.1:1554:A:G</td>\n",
       "      <td>{'_id': 'ga4gh:VT.305KRLAkb69gtJQsYr-U_0YkgqAM...</td>\n",
       "      <td>{'origCoordSystem': '0-based interbase', 'seqT...</td>\n",
       "    </tr>\n",
       "    <tr>\n",
       "      <th>3</th>\n",
       "      <td>NM_000097.7:c.814A&gt;C</td>\n",
       "      <td>NM_000097.7:920:A:C</td>\n",
       "      <td>{'_id': 'ga4gh:VA.faEaaUvSVzf_xEEUUn9LbqYDD7pZ...</td>\n",
       "      <td>{'origCoordSystem': '0-based interbase', 'seqT...</td>\n",
       "    </tr>\n",
       "  </tbody>\n",
       "</table>\n",
       "</div>"
      ],
      "text/plain": [
       "                        hgvs                      spdi  \\\n",
       "0  NM_001267550.2:c.80006G>A  NM_001267550.2:80230:G:A   \n",
       "1   NM_001256850.1:c.1141G>A   NM_001256850.1:1365:G:A   \n",
       "2      NC_012920.1:m.1555A>G      NC_012920.1:1554:A:G   \n",
       "3       NM_000097.7:c.814A>C       NM_000097.7:920:A:C   \n",
       "\n",
       "                                                 vrs  \\\n",
       "0  {'_id': 'ga4gh:VA.FVGP3rA1nyBh3XrS7BFWQRFNXw4z...   \n",
       "1  {'_id': 'ga4gh:VA._o6i8w1jJYoaH7XCklAMCDEYwNtx...   \n",
       "2  {'_id': 'ga4gh:VT.305KRLAkb69gtJQsYr-U_0YkgqAM...   \n",
       "3  {'_id': 'ga4gh:VA.faEaaUvSVzf_xEEUUn9LbqYDD7pZ...   \n",
       "\n",
       "                                                 cvc  \n",
       "0  {'origCoordSystem': '0-based interbase', 'seqT...  \n",
       "1  {'origCoordSystem': '0-based interbase', 'seqT...  \n",
       "2  {'origCoordSystem': '0-based interbase', 'seqT...  \n",
       "3  {'origCoordSystem': '0-based interbase', 'seqT...  "
      ]
     },
     "execution_count": 63,
     "metadata": {},
     "output_type": "execute_result"
    }
   ],
   "source": [
    "import pandas as pd\n",
    "\n",
    "data = {\n",
    "    \"hgvs\":['NM_001267550.2:c.80006G>A','NM_001256850.1:c.1141G>A','NC_012920.1:m.1555A>G','NM_000097.7:c.814A>C'],\n",
    "    \"spdi\":['NM_001267550.2:80230:G:A','NM_001256850.1:1365:G:A','NC_012920.1:1554:A:G','NM_000097.7:920:A:C'],\n",
    "    \"vrs\": [{'_id': 'ga4gh:VA.FVGP3rA1nyBh3XrS7BFWQRFNXw4zXzMi', 'type': 'Allele', 'location': {'_id': 'ga4gh:VSL.5qmmawOpWP7Gckltg2t2bvR9UumlXeTk', 'type': 'SequenceLocation', 'sequence_id': 'ga4gh:SQ.anxusr2xpHohwCtHliVIYnrMwDSYteSO', 'interval': {'type': 'SequenceInterval', 'start': {'type': 'Number', 'value': 80230}, 'end': {'type': 'Number', 'value': 80231}}}, 'state': {'type': 'LiteralSequenceExpression', 'sequence': 'A'}},\n",
    "            {'_id': 'ga4gh:VA._o6i8w1jJYoaH7XCklAMCDEYwNtxHf1r', 'type': 'Allele', 'location': {'_id': 'ga4gh:VSL.mMDpLR_Kk9H0O9DD3UmTlY0Xc09lvSFJ', 'type': 'SequenceLocation', 'sequence_id': 'ga4gh:SQ.TmxAKpjTN6uS6syq9-hkWs6ldxbNB1qj', 'interval': {'type': 'SequenceInterval', 'start': {'type': 'Number', 'value': 1365}, 'end': {'type': 'Number', 'value': 1366}}}, 'state': {'type': 'LiteralSequenceExpression', 'sequence': 'A'}},\n",
    "            {'_id': 'ga4gh:VT.305KRLAkb69gtJQsYr-U_0YkgqAM1dWL', 'type': 'Text', 'definition': 'NC_012920.1:m.1555A>G'},\n",
    "            {'_id': 'ga4gh:VA.faEaaUvSVzf_xEEUUn9LbqYDD7pZNxyZ', 'type': 'Allele', 'location': {'_id': 'ga4gh:VSL.rGLAS9puMo4ZSpgkGTvLh5kexCv-j_aW', 'type': 'SequenceLocation', 'sequence_id': 'ga4gh:SQ.R7FCrQKk_2a5OEvLRm9rGSXu4E3PNHkP', 'interval': {'type': 'SequenceInterval', 'start': {'type': 'Number', 'value': 920}, 'end': {'type': 'Number', 'value': 921}}}, 'state': {'type': 'LiteralSequenceExpression', 'sequence': 'C'}}],\n",
    "    'cvc': [\n",
    "        {'origCoordSystem': '0-based interbase', 'seqType': 'DNA', 'refAllele': 'G', 'altAllele': 'A', 'start': 80005, 'end': 80006, 'allelicState': None, 'geneSymbol': None, 'hgncId': None, 'chrom': None, 'genomeBuild': None, 'sequenceId': 'NM_001267550.2', 'kwargs': {}},\n",
    "        {'origCoordSystem': '0-based interbase', 'seqType': 'DNA', 'refAllele': 'G', 'altAllele': 'A', 'start': 1140, 'end': 1141, 'allelicState': None, 'geneSymbol': None, 'hgncId': None, 'chrom': None, 'genomeBuild': None, 'sequenceId': 'NM_001256850.1', 'kwargs': {}},\n",
    "        {'origCoordSystem': '0-based interbase', 'seqType': 'DNA', 'refAllele': 'A', 'altAllele': 'G', 'start': 1554, 'end': 1555, 'allelicState': None, 'geneSymbol': None, 'hgncId': None, 'chrom': None, 'genomeBuild': None, 'sequenceId': 'NC_012920.1', 'kwargs': {}},\n",
    "        {'origCoordSystem': '0-based interbase', 'seqType': 'DNA', 'refAllele': 'A', 'altAllele': 'C', 'start': 813, 'end': 814, 'allelicState': None, 'geneSymbol': None, 'hgncId': None, 'chrom': None, 'genomeBuild': None, 'sequenceId': 'NM_000097.7', 'kwargs': {}},\n",
    "    ]\n",
    "}\n",
    "\n",
    "df = pd.DataFrame(data)\n",
    "df"
   ]
  }
 ],
 "metadata": {
  "kernelspec": {
   "display_name": "test_dev_vrs_installation",
   "language": "python",
   "name": "python3"
  },
  "language_info": {
   "codemirror_mode": {
    "name": "ipython",
    "version": 3
   },
   "file_extension": ".py",
   "mimetype": "text/x-python",
   "name": "python",
   "nbconvert_exporter": "python",
   "pygments_lexer": "ipython3",
   "version": "3.9.15"
  }
 },
 "nbformat": 4,
 "nbformat_minor": 2
}
