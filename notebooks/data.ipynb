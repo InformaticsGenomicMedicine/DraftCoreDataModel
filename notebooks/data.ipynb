{
 "cells": [
  {
   "cell_type": "code",
   "execution_count": null,
   "metadata": {},
   "outputs": [],
   "source": [
    "# Finish these examples:\n",
    "# look into the deletion example\n",
    "# rewrite the test\n",
    "# clean up notebooks\n",
    "# make use sarah examples through out the notebooks\n",
    "\n",
    "\n",
    "# expression deletions in hgvs in ambigous \n",
    "# im starting with a different type of structure to cvc\n"
   ]
  },
  {
   "cell_type": "code",
   "execution_count": 10,
   "metadata": {},
   "outputs": [],
   "source": [
    "from src.core_variant import CoreVariantClass\n",
    "from src.cvc_to_translate import ToTranslate\n",
    "cvc_to_variation = ToTranslate()"
   ]
  },
  {
   "cell_type": "code",
   "execution_count": 11,
   "metadata": {},
   "outputs": [
    {
     "name": "stdout",
     "output_type": "stream",
     "text": [
      "CoreVariantClass(0-based interbase,DNA,,ATA,113901365,113901365,None,AP4B1,None,1,GRCh37,NC_000001.11,{})\n",
      "CoreVariantClass(0-based interbase,DNA,,CGTTCTCTACCAGCTGC,134824705,134824705,None,COL5A1,None,9,GRCh37,NC_000009.12,{})\n"
     ]
    }
   ],
   "source": [
    "# Inserion Examples\n",
    "# Defining two instersion as cvc\n",
    "\n",
    "ins_ex1 = CoreVariantClass(\n",
    "    origCoordSystem= '0-based interbase',\n",
    "    seqType= 'DNA',\n",
    "    refAllele='',\n",
    "    altAllele='ATA',\n",
    "    start = 113901365,\n",
    "    end = 113901365,\n",
    "    geneSymbol='AP4B1',\n",
    "    hgncId=None,\n",
    "    chrom= 'chr 1',\n",
    "    genomeBuild='GRCh37',\n",
    "    sequenceId='NC_000001.11',\n",
    "\n",
    ")\n",
    "\n",
    "print(ins_ex1)\n",
    "\n",
    "ins_ex2 = CoreVariantClass(\n",
    "    origCoordSystem= '0-based interbase',\n",
    "    seqType= 'DNA',\n",
    "    refAllele='',\n",
    "    altAllele='CGTTCTCTACCAGCTGC',\n",
    "    start = 134824705,\n",
    "    end = 134824705,\n",
    "    geneSymbol='COL5A1',\n",
    "    hgncId=None,\n",
    "    chrom= 'chr 9',\n",
    "    genomeBuild='GRCh37',\n",
    "    sequenceId='NC_000009.12',\n",
    ")\n",
    "\n",
    "print(ins_ex2)\n"
   ]
  },
  {
   "cell_type": "code",
   "execution_count": 37,
   "metadata": {},
   "outputs": [
    {
     "name": "stdout",
     "output_type": "stream",
     "text": [
      "Insertion Example\n",
      "HGVS: NC_000001.11:g.113901365_113901366insATA\n",
      "SPDI: NC_000001.11:113901365::ATA\n",
      "VRS: {\"_id\": \"ga4gh:VA.J9BMdktHGGjE843oD0T_bwUV6WxojkCW\", \"type\": \"Allele\", \"location\": {\"_id\": \"ga4gh:VSL.TMxdXtmi4ctcTRipHMD6py1Nv1kLMyJd\", \"type\": \"SequenceLocation\", \"sequence_id\": \"ga4gh:SQ.Ya6Rs7DHhDeg7YaOSg1EoNi3U_nQ9SvO\", \"interval\": {\"type\": \"SequenceInterval\", \"start\": {\"type\": \"Number\", \"value\": 113901365}, \"end\": {\"type\": \"Number\", \"value\": 113901365}}}, \"state\": {\"type\": \"LiteralSequenceExpression\", \"sequence\": \"ATA\"}}\n",
      "----------------- \n",
      "\n",
      "Insertion Example\n",
      "HGVS: NC_000009.12:g.134824705_134824706insCGTTCTCTACCAGCTGC\n",
      "SPDI: NC_000009.12:134824705::CGTTCTCTACCAGCTGC\n",
      "VRS: {\"_id\": \"ga4gh:VA.kYmgdh3e7fpUwGCaxo2evZ3Jjvi_D8d6\", \"type\": \"Allele\", \"location\": {\"_id\": \"ga4gh:VSL.2mzp0ihod6GjiSeFVdPRNWdGjX6NGhnZ\", \"type\": \"SequenceLocation\", \"sequence_id\": \"ga4gh:SQ.KEO-4XBcm1cxeo_DIQ8_ofqGUkp4iZhI\", \"interval\": {\"type\": \"SequenceInterval\", \"start\": {\"type\": \"Number\", \"value\": 134824705}, \"end\": {\"type\": \"Number\", \"value\": 134824705}}}, \"state\": {\"type\": \"LiteralSequenceExpression\", \"sequence\": \"CGTTCTCTACCAGCTGC\"}}\n",
      "----------------- \n",
      "\n"
     ]
    }
   ],
   "source": [
    "insertion_examples = [ins_ex1, ins_ex2]\n",
    "# preforming translations from CVC to HGVS, SPDI, and VRS\n",
    "for example in insertion_examples:\n",
    "    print('Insertion Example')\n",
    "    print(f'HGVS: {cvc_to_variation.cvc_to_hgvs(example)}')\n",
    "    print(f'SPDI: {cvc_to_variation.cvc_to_spdi(example)}')\n",
    "    print(f'VRS: {cvc_to_variation.cvc_to_vrs(example.as_dict())}')\n",
    "    print('-----------------', '\\n')\n",
    "\n",
    "# print cvc asa the starting point\n",
    "# better formated vrs\n",
    "\n",
    "\n"
   ]
  },
  {
   "cell_type": "markdown",
   "metadata": {},
   "source": [
    "### Sarah Examples:\n",
    "\n",
    "#### Example 1 - Insertion (https://www.ncbi.nlm.nih.gov/clinvar/variation/1344775/)\n",
    "- HGVS genomic: NC_000001.11:g.113901365_113901366insATA\n",
    "- Canonical SPDI: NC_000001.11:113901365::ATA\n",
    "\n",
    "#### Example 2 - Insertion (https://www.ncbi.nlm.nih.gov/clinvar/variation/930317/)\n",
    "- HGVS genomic: NC_000009.12:g.134824705_134824706insCGTTCTCTACCAGCTGC\n",
    "- Canonical SPDI: NC_000009.12:134824705::CGTTCTCTACCAGCTGC\n"
   ]
  },
  {
   "cell_type": "code",
   "execution_count": 3,
   "metadata": {},
   "outputs": [
    {
     "name": "stdout",
     "output_type": "stream",
     "text": [
      "CoreVariantClass(0-based interbase,DNA,C,T,27453448,27453449,None,IFT172,None,2,GRCh37,NC_000002.12,{})\n",
      "CoreVariantClass(0-based interbase,DNA,A,T,15560606,15560607,None,CC2D2A,None,4,GRCh37,NC_000004.12,{})\n"
     ]
    }
   ],
   "source": [
    "# Substitution Examples\n",
    "sub_ex1 = CoreVariantClass(\n",
    "    origCoordSystem='0-based interbase',\n",
    "    seqType='DNA',\n",
    "    refAllele='C',\n",
    "    altAllele='T',\n",
    "    start =27453448,\n",
    "    end = 27453449,\n",
    "    geneSymbol='IFT172',\n",
    "    hgncId=None,\n",
    "    chrom= 'chr 2',\n",
    "    genomeBuild= 'GRCh37',\n",
    "    sequenceId='NC_000002.12')\n",
    "\n",
    "print(sub_ex1)\n",
    "\n",
    "sub_ex2 = CoreVariantClass(\n",
    "    origCoordSystem='0-based interbase',\n",
    "    seqType='DNA',\n",
    "    refAllele='A',\n",
    "    altAllele='T',\n",
    "    start = 15560606,\n",
    "    end = 15560607,\n",
    "    geneSymbol= 'CC2D2A',\n",
    "    hgncId=None,\n",
    "    chrom= 'chr 4',\n",
    "    genomeBuild='GRCh37',\n",
    "    sequenceId='NC_000004.12')\n",
    "\n",
    "print(sub_ex2)"
   ]
  },
  {
   "cell_type": "code",
   "execution_count": 25,
   "metadata": {},
   "outputs": [
    {
     "name": "stdout",
     "output_type": "stream",
     "text": [
      "Substitution Examples\n",
      "HGVS: NC_000002.12:g.27453449C>T\n",
      "SPDI: NC_000002.12:27453448:C:T\n",
      "VRS: {'_id': 'ga4gh:VA.fXvhngewkkyVwzEeSJRr5tro8Jcol6Q-', 'type': 'Allele', 'location': {'_id': 'ga4gh:VSL.nLMbYalHO4OEI2axqkyTMCQxrH98UpDN', 'type': 'SequenceLocation', 'sequence_id': 'ga4gh:SQ.pnAqCRBrTsUoBghSD1yp_jXWSmlbdh4g', 'interval': {'type': 'SequenceInterval', 'start': {'type': 'Number', 'value': 27453448}, 'end': {'type': 'Number', 'value': 27453449}}}, 'state': {'type': 'LiteralSequenceExpression', 'sequence': 'T'}}\n",
      "----------------- \n",
      "\n",
      "Substitution Examples\n",
      "HGVS: NC_000004.12:g.15560607A>T\n",
      "SPDI: NC_000004.12:15560606:A:T\n",
      "VRS: {'_id': 'ga4gh:VA.0yUR6mNfhWuFw3M72v1Mq3L_ab_crMUY', 'type': 'Allele', 'location': {'_id': 'ga4gh:VSL.TVHFkYX90WBQK8YT_skSCg5VOscVFJLq', 'type': 'SequenceLocation', 'sequence_id': 'ga4gh:SQ.HxuclGHh0XCDuF8x6yQrpHUBL7ZntAHc', 'interval': {'type': 'SequenceInterval', 'start': {'type': 'Number', 'value': 15560606}, 'end': {'type': 'Number', 'value': 15560607}}}, 'state': {'type': 'LiteralSequenceExpression', 'sequence': 'T'}}\n",
      "----------------- \n",
      "\n"
     ]
    }
   ],
   "source": [
    "substitution_examples = [sub_ex1, sub_ex2]\n",
    "\n",
    "for example in substitution_examples:\n",
    "    print(\"Substitution Examples\")\n",
    "    print(f'HGVS: {cvc_to_variation.cvc_to_hgvs(example)}')\n",
    "    print(f'SPDI: {cvc_to_variation.cvc_to_spdi(example)}')\n",
    "    print(f'VRS: {cvc_to_variation.cvc_to_vrs(example).as_dict()}')\n",
    "    print('-----------------', '\\n')"
   ]
  },
  {
   "cell_type": "markdown",
   "metadata": {},
   "source": [
    "### Sarah Examples:\n",
    "\n",
    "#### Example 1 - Substitution (https://www.ncbi.nlm.nih.gov/clinvar/variation/835613/)\n",
    "- HGVS genomic: NC_000002.12:g.27453449C>T\n",
    "- Canonical SPDI: NC_000002.12:27453448:C:T\n",
    "\n",
    "#### Example 2 - Substitution (https://www.ncbi.nlm.nih.gov/clinvar/variation/217604/)\n",
    "- HGVS genomic: NC_000004.12:g.15560607A>T\n",
    "- Canonical SPDI: NC_000004.12:15560606:A:T\n"
   ]
  },
  {
   "cell_type": "code",
   "execution_count": 4,
   "metadata": {},
   "outputs": [
    {
     "name": "stdout",
     "output_type": "stream",
     "text": [
      "CoreVariantClass(0-based interbase,DNA,CA,GAT,166043788,166043790,None,SCN1A,None,2,GRCh38,NC_000002.12,{})\n",
      "CoreVariantClass(0-based interbase,DNA,A,CC,8058795,8058796,None,GATA3,None,10,GRCh38,NC_000010.11,{})\n"
     ]
    }
   ],
   "source": [
    "# Insertion Deletion Examples\n",
    "\n",
    "indel_ex1 = CoreVariantClass(\n",
    "    origCoordSystem='0-based interbase',\n",
    "    seqType='DNA',\n",
    "    refAllele='CA',\n",
    "    altAllele='GAT',\n",
    "    start = 166043788,\n",
    "    end = 166043790,\n",
    "    geneSymbol= 'SCN1A',\n",
    "    hgncId=None,\n",
    "    chrom= 'chr 2',\n",
    "    genomeBuild='GRCh38',\n",
    "    sequenceId='NC_000002.12')\n",
    "\n",
    "print(indel_ex1)\n",
    "\n",
    "indel_ex2 = CoreVariantClass(\n",
    "    origCoordSystem='0-based interbase',\n",
    "    seqType='DNA',\n",
    "    refAllele='A',\n",
    "    altAllele='CC',\n",
    "    start = 8058795,\n",
    "    end = 8058796,\n",
    "    geneSymbol= 'GATA3',\n",
    "    hgncId=None,\n",
    "    chrom= 'chr 10',\n",
    "    genomeBuild='GRCh38',\n",
    "    sequenceId='NC_000010.11')\n",
    "\n",
    "print(indel_ex2)\n"
   ]
  },
  {
   "cell_type": "code",
   "execution_count": 27,
   "metadata": {},
   "outputs": [
    {
     "name": "stdout",
     "output_type": "stream",
     "text": [
      "Insertion Deletion Examples\n",
      "HGVS: NC_000002.12:g.166043789_166043790delinsGAT\n",
      "SPDI: NC_000002.12:166043788:CA:GAT\n",
      "VRS: {'_id': 'ga4gh:VA.I0biXWOvxxmy4jjxsMqQVgy0Q91CJY7x', 'type': 'Allele', 'location': {'_id': 'ga4gh:VSL.E3BkYwqHo3ETPtXyM_oAzzcpbb07zJ3W', 'type': 'SequenceLocation', 'sequence_id': 'ga4gh:SQ.pnAqCRBrTsUoBghSD1yp_jXWSmlbdh4g', 'interval': {'type': 'SequenceInterval', 'start': {'type': 'Number', 'value': 166043788}, 'end': {'type': 'Number', 'value': 166043790}}}, 'state': {'type': 'LiteralSequenceExpression', 'sequence': 'GAT'}}\n",
      "----------------- \n",
      "\n",
      "Insertion Deletion Examples\n",
      "HGVS: NC_000010.11:g.8058796delinsCC\n",
      "SPDI: NC_000010.11:8058795:A:CC\n",
      "VRS: {'_id': 'ga4gh:VA.wL7Fbskfd2IVJwlboN3Rt_8C6_x4r8sy', 'type': 'Allele', 'location': {'_id': 'ga4gh:VSL.SYp0Ombl1XpgwsKEQFYgKbE9KgoV9SUL', 'type': 'SequenceLocation', 'sequence_id': 'ga4gh:SQ.ss8r_wB0-b9r44TQTMmVTI92884QvBiB', 'interval': {'type': 'SequenceInterval', 'start': {'type': 'Number', 'value': 8058795}, 'end': {'type': 'Number', 'value': 8058796}}}, 'state': {'type': 'LiteralSequenceExpression', 'sequence': 'CC'}}\n",
      "----------------- \n",
      "\n"
     ]
    }
   ],
   "source": [
    "insertion_deletion_examples = [indel_ex1, indel_ex2]\n",
    "\n",
    "for example in insertion_deletion_examples:\n",
    "    print('Insertion Deletion Examples')\n",
    "    print(f'HGVS: {cvc_to_variation.cvc_to_hgvs(example)}')\n",
    "    print(f'SPDI: {cvc_to_variation.cvc_to_spdi(example)}')\n",
    "    print(f'VRS: {cvc_to_variation.cvc_to_vrs(example).as_dict()}')\n",
    "    print('-----------------', '\\n')"
   ]
  },
  {
   "cell_type": "markdown",
   "metadata": {},
   "source": [
    "### Sarah Examples:\n",
    "\n",
    "#### Example 1 - Insertion Deletion (Indel) (https://www.ncbi.nlm.nih.gov/clinvar/variation/931239/)\n",
    "- HGVS genomic: NC_000002.12:g.166043789_166043790delinsGAT\n",
    "- Canonical SPDI: NC_000002.12:166043788:CA:GAT\n",
    "\n",
    "#### Example 2 - Insertion Deletion (Indel) (https://www.ncbi.nlm.nih.gov/clinvar/variation/931057/)\n",
    "- HGVS genomic: NC_000010.11:g.8058796delinsCC\n",
    "- Canonical SPDI: NC_000010.11:8058795:A:CC\n"
   ]
  },
  {
   "cell_type": "code",
   "execution_count": 30,
   "metadata": {},
   "outputs": [
    {
     "name": "stdout",
     "output_type": "stream",
     "text": [
      "CoreVariantClass(0-based interbase,DNA,G,G,88007815,88007816,None,PKD2,None,4,GRCh38,NC_000004.12,{})\n"
     ]
    }
   ],
   "source": [
    "# Identity Example\n",
    "\n",
    "ident_ex1 = CoreVariantClass(\n",
    "    origCoordSystem='0-based interbase',\n",
    "    seqType='DNA',\n",
    "    refAllele='G',\n",
    "    altAllele='G',\n",
    "    start = 88007815,\n",
    "    end = 88007816,\n",
    "    geneSymbol= 'PKD2',\n",
    "    hgncId=None,\n",
    "    chrom= 'chr 4',\n",
    "    genomeBuild='GRCh38',\n",
    "    sequenceId='NC_000004.12')\n",
    "\n",
    "print(ident_ex1)"
   ]
  },
  {
   "cell_type": "code",
   "execution_count": 31,
   "metadata": {},
   "outputs": [
    {
     "name": "stdout",
     "output_type": "stream",
     "text": [
      "Identity Example\n",
      "HGVS: NC_000004.12:g.88007816=\n",
      "SPDI: NC_000004.12:88007815:G:G\n",
      "VRS: {'_id': 'ga4gh:VA.eT7IpRxd5CiyJEq8sE6AgobdwgY62NxG', 'type': 'Allele', 'location': {'_id': 'ga4gh:VSL.Iud8aOpjNALanhgWtq1sU6aQE5uK4ywU', 'type': 'SequenceLocation', 'sequence_id': 'ga4gh:SQ.HxuclGHh0XCDuF8x6yQrpHUBL7ZntAHc', 'interval': {'type': 'SequenceInterval', 'start': {'type': 'Number', 'value': 88007815}, 'end': {'type': 'Number', 'value': 88007816}}}, 'state': {'type': 'LiteralSequenceExpression', 'sequence': 'G'}}\n",
      "----------------- \n",
      "\n"
     ]
    }
   ],
   "source": [
    "for example in [ident_ex1]:\n",
    "    print('Identity Example')\n",
    "    print(f'HGVS: {cvc_to_variation.cvc_to_hgvs(ident_ex1)}')\n",
    "    print(f'SPDI: {cvc_to_variation.cvc_to_spdi(ident_ex1)}')\n",
    "    print(f'VRS: {cvc_to_variation.cvc_to_vrs(ident_ex1).as_dict()}')\n",
    "    print('-----------------', '\\n')"
   ]
  },
  {
   "cell_type": "markdown",
   "metadata": {},
   "source": [
    "### Sarah Examples:\n",
    "\n",
    "#### Example 1 - Identity (https://www.ncbi.nlm.nih.gov/snp/rs1805044#hgvs_tab)\n",
    "- HGVS genomic: NC_000004.12:g.88007816=\n",
    "- Canonical SPDI: NC_000004.12:88007815:G:G\n"
   ]
  },
  {
   "cell_type": "code",
   "execution_count": 32,
   "metadata": {},
   "outputs": [
    {
     "name": "stdout",
     "output_type": "stream",
     "text": [
      "CoreVariantClass(0-based interbase,DNA,TGAGCTTCCA,TGAGCTTCCATGAGCTTCCA,5880117,5880127,None,NPHP4,None,1,GRCh38,NC_000001.11,{})\n"
     ]
    }
   ],
   "source": [
    "# Duplication Example\n",
    "\n",
    "dup_ex1 = CoreVariantClass(\n",
    "    origCoordSystem='0-based interbase',\n",
    "    seqType='DNA',\n",
    "    refAllele='TGAGCTTCCA',\n",
    "    altAllele='TGAGCTTCCATGAGCTTCCA',\n",
    "    start = 5880117,\n",
    "    end = 5880127,\n",
    "    geneSymbol= 'NPHP4',\n",
    "    hgncId=None,\n",
    "    chrom= 'chr 1',\n",
    "    genomeBuild='GRCh38',\n",
    "    sequenceId='NC_000001.11')\n",
    "\n",
    "print(dup_ex1)"
   ]
  },
  {
   "cell_type": "code",
   "execution_count": 34,
   "metadata": {},
   "outputs": [
    {
     "name": "stdout",
     "output_type": "stream",
     "text": [
      "Duplication Example\n",
      "HGVS: NC_000001.11:g.5880118_5880127dup\n",
      "SPDI: NC_000001.11:5880117:TGAGCTTCCA:TGAGCTTCCATGAGCTTCCA\n",
      "VRS: {'_id': 'ga4gh:VA.OpO3jwlmnhvpmEs2v9orWvMIa7UPb1To', 'type': 'Allele', 'location': {'_id': 'ga4gh:VSL.veKlh4sQPAIr1HNoqjmsm7qZa0FNfjI9', 'type': 'SequenceLocation', 'sequence_id': 'ga4gh:SQ.Ya6Rs7DHhDeg7YaOSg1EoNi3U_nQ9SvO', 'interval': {'type': 'SequenceInterval', 'start': {'type': 'Number', 'value': 5880117}, 'end': {'type': 'Number', 'value': 5880127}}}, 'state': {'type': 'LiteralSequenceExpression', 'sequence': 'TGAGCTTCCATGAGCTTCCA'}}\n",
      "----------------- \n",
      "\n"
     ]
    }
   ],
   "source": [
    "for example in [dup_ex1]:\n",
    "    print('Duplication Example')\n",
    "    print(f'HGVS: {cvc_to_variation.cvc_to_hgvs(dup_ex1)}')\n",
    "    print(f'SPDI: {cvc_to_variation.cvc_to_spdi(dup_ex1)}')\n",
    "    print(f'VRS: {cvc_to_variation.cvc_to_vrs(dup_ex1).as_dict()}')\n",
    "    print('-----------------', '\\n')"
   ]
  },
  {
   "cell_type": "markdown",
   "metadata": {},
   "source": [
    "### Sarah Examples:\n",
    "\n",
    "#### Example 1 - Duplication (https://www.ncbi.nlm.nih.gov/clinvar/variation/1297092/)\n",
    "- HGVS genomic: NC_000001.11:g.5880118_5880127dup\n",
    "- Canonical SPDI: NC_000001.11:5880117:TGAGCTTCCA:TGAGCTTCCATGAGCTTCCA"
   ]
  }
 ],
 "metadata": {
  "kernelspec": {
   "display_name": "DraftCoreDataModel-MMFV8Z-X",
   "language": "python",
   "name": "python3"
  },
  "language_info": {
   "codemirror_mode": {
    "name": "ipython",
    "version": 3
   },
   "file_extension": ".py",
   "mimetype": "text/x-python",
   "name": "python",
   "nbconvert_exporter": "python",
   "pygments_lexer": "ipython3",
   "version": "3.11.5"
  }
 },
 "nbformat": 4,
 "nbformat_minor": 2
}
