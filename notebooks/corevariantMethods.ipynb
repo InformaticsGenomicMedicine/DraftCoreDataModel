{
 "cells": [
  {
   "cell_type": "code",
   "execution_count": 9,
   "metadata": {},
   "outputs": [],
   "source": [
    "import sys\n",
    "sys.path.append('..')\n",
    "from src.core_variant import CoreVariantClass"
   ]
  },
  {
   "cell_type": "code",
   "execution_count": 10,
   "metadata": {},
   "outputs": [
    {
     "name": "stdout",
     "output_type": "stream",
     "text": [
      "Initial Parameters\n",
      "{'origCoordSystem': '0-based interbase', 'seqType': 'dna', 'refAllele': 'ctg', 'altAllele': 'A', 'start': 12345, 'end': 12346, 'allelicState': 'heterozygous', 'geneSymbol': 'GENE1', 'hgncId': 123, 'chrom': 'chr 3', 'genomeBuild': 'T2T-CHM13', 'sequenceId': 'NC_000001.10', 'extra': {'notes': 'Testing the **kwargs'}}\n",
      "Represent object as a Dictionary\n",
      "{'origCoordSystem': '0-based interbase', 'seqType': 'DNA', 'refAllele': 'CTG', 'altAllele': 'A', 'start': 12345, 'end': 12346, 'allelicState': 'heterozygous', 'geneSymbol': 'GENE1', 'hgncId': 123, 'chrom': '3', 'genomeBuild': 'T2T-CHM13', 'sequenceId': 'NC_000001.10', 'extra': {'notes': 'Testing the **kwargs'}}\n",
      "Represent object as a Json\n",
      "{\n",
      "  \"origCoordSystem\": \"0-based interbase\",\n",
      "  \"seqType\": \"DNA\",\n",
      "  \"refAllele\": \"CTG\",\n",
      "  \"altAllele\": \"A\",\n",
      "  \"start\": 12345,\n",
      "  \"end\": 12346,\n",
      "  \"allelicState\": \"heterozygous\",\n",
      "  \"geneSymbol\": \"GENE1\",\n",
      "  \"hgncId\": 123,\n",
      "  \"chrom\": \"3\",\n",
      "  \"genomeBuild\": \"T2T-CHM13\",\n",
      "  \"sequenceId\": \"NC_000001.10\",\n",
      "  \"extra\": {\n",
      "    \"notes\": \"Testing the **kwargs\"\n",
      "  }\n",
      "}\n",
      "Normalized Examples\n",
      "{'origCoordSystem': '0-based interbase', 'seqType': 'DNA', 'allelicState': 'heterozygous', 'associatedGene': {'geneSymbol': 'GENE1', 'hgncId': 123}, 'refAllele': 'CTG', 'altAllele': 'A', 'position': {'chrom': '3', 'genomeBuild': 'T2T-CHM13', 'start': 12345, 'end': 12346, 'sequenceId': 'NC_000001.10'}}\n"
     ]
    }
   ],
   "source": [
    "Example1 = CoreVariantClass(origCoordSystem='0-based interbase',seqType='dna',\n",
    "                        refAllele='ctg',altAllele='A',start=12345,end=12346,allelicState= 'heterozygous',geneSymbol='GENE1',hgncId=123,\n",
    "                        chrom='chr 3', genomeBuild='T2T-CHM13', sequenceId='NC_000001.10',notes = 'Testing the **kwargs')\n",
    "Example1\n",
    "\n",
    "print(f\"Initial Parameters\\n{Example1.init_params()}\")\n",
    "print(f\"Represent object as a Dictionary\\n{Example1.as_dict()}\")\n",
    "print(f\"Represent object as a Json\\n{Example1.as_json()}\")\n",
    "print(f\"Normalized Examples\\n{Example1.normalized_data()}\")"
   ]
  },
  {
   "cell_type": "code",
   "execution_count": 11,
   "metadata": {},
   "outputs": [
    {
     "name": "stdout",
     "output_type": "stream",
     "text": [
      "Initial Parameters\n",
      "{'origCoordSystem': '1-based counting', 'seqType': 'rna', 'refAllele': 'AGUC', 'altAllele': 'AAA', 'start': 12345, 'end': 12346, 'allelicState': 'homozygous', 'geneSymbol': 'GENE2', 'hgncId': 89123, 'chrom': '2', 'genomeBuild': 'T2T-CHM13', 'sequenceId': 'NC_000001.14', 'extra': {'notes': {'test': 'should work'}}}\n",
      "Represent object as a Dictionary\n",
      "{'origCoordSystem': '1-based counting', 'seqType': 'RNA', 'refAllele': 'AGUC', 'altAllele': 'AAA', 'start': 12345, 'end': 12346, 'allelicState': 'homozygous', 'geneSymbol': 'GENE2', 'hgncId': 89123, 'chrom': '2', 'genomeBuild': 'T2T-CHM13', 'sequenceId': 'NC_000001.14', 'extra': {'notes': {'test': 'should work'}}}\n",
      "Represent object as a Json\n",
      "{\n",
      "  \"origCoordSystem\": \"1-based counting\",\n",
      "  \"seqType\": \"RNA\",\n",
      "  \"refAllele\": \"AGUC\",\n",
      "  \"altAllele\": \"AAA\",\n",
      "  \"start\": 12345,\n",
      "  \"end\": 12346,\n",
      "  \"allelicState\": \"homozygous\",\n",
      "  \"geneSymbol\": \"GENE2\",\n",
      "  \"hgncId\": 89123,\n",
      "  \"chrom\": \"2\",\n",
      "  \"genomeBuild\": \"T2T-CHM13\",\n",
      "  \"sequenceId\": \"NC_000001.14\",\n",
      "  \"extra\": {\n",
      "    \"notes\": {\n",
      "      \"test\": \"should work\"\n",
      "    }\n",
      "  }\n",
      "}\n"
     ]
    },
    {
     "ename": "ValueError",
     "evalue": "Data can not be normalized, origCoordSystem is not set to \"0-based interbase\".",
     "output_type": "error",
     "traceback": [
      "\u001b[0;31m---------------------------------------------------------------------------\u001b[0m",
      "\u001b[0;31mValueError\u001b[0m                                Traceback (most recent call last)",
      "\u001b[1;32m/Users/M278428/Documents/rf_lab_projects/DraftCoreDataModel/notebooks/corevariantMethods.ipynb Cell 3\u001b[0m line \u001b[0;36m1\n\u001b[1;32m      <a href='vscode-notebook-cell:/Users/M278428/Documents/rf_lab_projects/DraftCoreDataModel/notebooks/corevariantMethods.ipynb#X11sZmlsZQ%3D%3D?line=7'>8</a>\u001b[0m \u001b[39mprint\u001b[39m(\u001b[39mf\u001b[39m\u001b[39m\"\u001b[39m\u001b[39mRepresent object as a Json\u001b[39m\u001b[39m\\n\u001b[39;00m\u001b[39m{\u001b[39;00mExample2\u001b[39m.\u001b[39mas_json()\u001b[39m}\u001b[39;00m\u001b[39m\"\u001b[39m)\n\u001b[1;32m      <a href='vscode-notebook-cell:/Users/M278428/Documents/rf_lab_projects/DraftCoreDataModel/notebooks/corevariantMethods.ipynb#X11sZmlsZQ%3D%3D?line=8'>9</a>\u001b[0m \u001b[39m# We currently have this method only work if the origCoordSystem is = '0-based interbase'\u001b[39;00m\n\u001b[0;32m---> <a href='vscode-notebook-cell:/Users/M278428/Documents/rf_lab_projects/DraftCoreDataModel/notebooks/corevariantMethods.ipynb#X11sZmlsZQ%3D%3D?line=9'>10</a>\u001b[0m \u001b[39mprint\u001b[39m(\u001b[39mf\u001b[39m\u001b[39m\"\u001b[39m\u001b[39mNormalized Examples\u001b[39m\u001b[39m\\n\u001b[39;00m\u001b[39m{\u001b[39;00mExample2\u001b[39m.\u001b[39mnormalized_data()\u001b[39m}\u001b[39;00m\u001b[39m\"\u001b[39m)\n",
      "File \u001b[0;32m~/Documents/rf_lab_projects/DraftCoreDataModel/notebooks/../src/core_variant.py:103\u001b[0m, in \u001b[0;36mCoreVariantClass.normalized_data\u001b[0;34m(self)\u001b[0m\n\u001b[1;32m     88\u001b[0m     \u001b[39mreturn\u001b[39;00m {\n\u001b[1;32m     89\u001b[0m     \u001b[39m'\u001b[39m\u001b[39morigCoordSystem\u001b[39m\u001b[39m'\u001b[39m: \u001b[39mself\u001b[39m\u001b[39m.\u001b[39morigCoordSystem,\n\u001b[1;32m     90\u001b[0m     \u001b[39m'\u001b[39m\u001b[39mseqType\u001b[39m\u001b[39m'\u001b[39m:  \u001b[39mself\u001b[39m\u001b[39m.\u001b[39mseqType,\n\u001b[0;32m   (...)\u001b[0m\n\u001b[1;32m    100\u001b[0m         \u001b[39m'\u001b[39m\u001b[39msequenceId\u001b[39m\u001b[39m'\u001b[39m:\u001b[39mself\u001b[39m\u001b[39m.\u001b[39msequenceId}\n\u001b[1;32m    101\u001b[0m         }\n\u001b[1;32m    102\u001b[0m \u001b[39melse\u001b[39;00m:\n\u001b[0;32m--> 103\u001b[0m     \u001b[39mraise\u001b[39;00m \u001b[39mValueError\u001b[39;00m(\u001b[39m'\u001b[39m\u001b[39mData can not be normalized, origCoordSystem is not set to \u001b[39m\u001b[39m\"\u001b[39m\u001b[39m0-based interbase\u001b[39m\u001b[39m\"\u001b[39m\u001b[39m.\u001b[39m\u001b[39m'\u001b[39m)\n",
      "\u001b[0;31mValueError\u001b[0m: Data can not be normalized, origCoordSystem is not set to \"0-based interbase\"."
     ]
    }
   ],
   "source": [
    "Example2 = CoreVariantClass(origCoordSystem='1-based counting',seqType='rna',\n",
    "                        refAllele='AGUC',altAllele='AAA',start=12345,end=12346,allelicState= 'homozygous',geneSymbol='GENE2',hgncId=89123,\n",
    "                        chrom='2', genomeBuild='GRCh38.p14', sequenceId='NC_000001.14',notes = {'test':'should work'})\n",
    "Example2\n",
    "\n",
    "print(f\"Initial Parameters\\n{Example2.init_params()}\")\n",
    "print(f\"Represent object as a Dictionary\\n{Example2.as_dict()}\")\n",
    "print(f\"Represent object as a Json\\n{Example2.as_json()}\")\n",
    "# We currently have this method only work if the origCoordSystem is = '0-based interbase'\n",
    "print(f\"Normalized Examples\\n{Example2.normalized_data()}\")"
   ]
  },
  {
   "cell_type": "code",
   "execution_count": 15,
   "metadata": {},
   "outputs": [
    {
     "name": "stdout",
     "output_type": "stream",
     "text": [
      "Initial Parameters\n",
      "{'origCoordSystem': '0-based counting', 'seqType': 'Protein', 'refAllele': 'A', 'altAllele': 'P', 'start': 3223, 'end': 4442, 'allelicState': 'homozygous', 'geneSymbol': 'GENE3', 'hgncId': 4941, 'chrom': 'MT', 'genomeBuild': 'NCBI Build 36.1', 'sequenceId': 'NC_000001.14', 'extra': {'notes': {'test': 'should work'}}}\n",
      "Represent object as a Dictionary\n",
      "{'origCoordSystem': '0-based counting', 'seqType': 'PROTEIN', 'refAllele': 'A', 'altAllele': 'P', 'start': 3223, 'end': 4442, 'allelicState': 'homozygous', 'geneSymbol': 'GENE3', 'hgncId': 4941, 'chrom': 'MT', 'genomeBuild': 'NCBI Build 36.1', 'sequenceId': 'NC_000001.14', 'extra': {'notes': {'test': 'should work'}}}\n",
      "Represent object as a Json\n",
      "{\n",
      "  \"origCoordSystem\": \"0-based counting\",\n",
      "  \"seqType\": \"PROTEIN\",\n",
      "  \"refAllele\": \"A\",\n",
      "  \"altAllele\": \"P\",\n",
      "  \"start\": 3223,\n",
      "  \"end\": 4442,\n",
      "  \"allelicState\": \"homozygous\",\n",
      "  \"geneSymbol\": \"GENE3\",\n",
      "  \"hgncId\": 4941,\n",
      "  \"chrom\": \"MT\",\n",
      "  \"genomeBuild\": \"NCBI Build 36.1\",\n",
      "  \"sequenceId\": \"NC_000001.14\",\n",
      "  \"extra\": {\n",
      "    \"notes\": {\n",
      "      \"test\": \"should work\"\n",
      "    }\n",
      "  }\n",
      "}\n"
     ]
    },
    {
     "ename": "ValueError",
     "evalue": "Data can not be normalized, origCoordSystem is not set to \"0-based interbase\".",
     "output_type": "error",
     "traceback": [
      "\u001b[0;31m---------------------------------------------------------------------------\u001b[0m",
      "\u001b[0;31mValueError\u001b[0m                                Traceback (most recent call last)",
      "\u001b[1;32m/Users/M278428/Documents/rf_lab_projects/DraftCoreDataModel/notebooks/corevariantMethods.ipynb Cell 4\u001b[0m line \u001b[0;36m1\n\u001b[1;32m      <a href='vscode-notebook-cell:/Users/M278428/Documents/rf_lab_projects/DraftCoreDataModel/notebooks/corevariantMethods.ipynb#X12sZmlsZQ%3D%3D?line=7'>8</a>\u001b[0m \u001b[39mprint\u001b[39m(\u001b[39mf\u001b[39m\u001b[39m\"\u001b[39m\u001b[39mRepresent object as a Json\u001b[39m\u001b[39m\\n\u001b[39;00m\u001b[39m{\u001b[39;00mExample3\u001b[39m.\u001b[39mas_json()\u001b[39m}\u001b[39;00m\u001b[39m\"\u001b[39m)\n\u001b[1;32m      <a href='vscode-notebook-cell:/Users/M278428/Documents/rf_lab_projects/DraftCoreDataModel/notebooks/corevariantMethods.ipynb#X12sZmlsZQ%3D%3D?line=8'>9</a>\u001b[0m \u001b[39m# We currently have this method only work if the origCoordSystem is = '0-based interbase'\u001b[39;00m\n\u001b[0;32m---> <a href='vscode-notebook-cell:/Users/M278428/Documents/rf_lab_projects/DraftCoreDataModel/notebooks/corevariantMethods.ipynb#X12sZmlsZQ%3D%3D?line=9'>10</a>\u001b[0m \u001b[39mprint\u001b[39m(\u001b[39mf\u001b[39m\u001b[39m\"\u001b[39m\u001b[39mNormalized Examples\u001b[39m\u001b[39m\\n\u001b[39;00m\u001b[39m{\u001b[39;00mExample3\u001b[39m.\u001b[39mnormalized_data()\u001b[39m}\u001b[39;00m\u001b[39m\"\u001b[39m)\n",
      "File \u001b[0;32m~/Documents/rf_lab_projects/DraftCoreDataModel/notebooks/../src/core_variant.py:103\u001b[0m, in \u001b[0;36mCoreVariantClass.normalized_data\u001b[0;34m(self)\u001b[0m\n\u001b[1;32m     88\u001b[0m     \u001b[39mreturn\u001b[39;00m {\n\u001b[1;32m     89\u001b[0m     \u001b[39m'\u001b[39m\u001b[39morigCoordSystem\u001b[39m\u001b[39m'\u001b[39m: \u001b[39mself\u001b[39m\u001b[39m.\u001b[39morigCoordSystem,\n\u001b[1;32m     90\u001b[0m     \u001b[39m'\u001b[39m\u001b[39mseqType\u001b[39m\u001b[39m'\u001b[39m:  \u001b[39mself\u001b[39m\u001b[39m.\u001b[39mseqType,\n\u001b[0;32m   (...)\u001b[0m\n\u001b[1;32m    100\u001b[0m         \u001b[39m'\u001b[39m\u001b[39msequenceId\u001b[39m\u001b[39m'\u001b[39m:\u001b[39mself\u001b[39m\u001b[39m.\u001b[39msequenceId}\n\u001b[1;32m    101\u001b[0m         }\n\u001b[1;32m    102\u001b[0m \u001b[39melse\u001b[39;00m:\n\u001b[0;32m--> 103\u001b[0m     \u001b[39mraise\u001b[39;00m \u001b[39mValueError\u001b[39;00m(\u001b[39m'\u001b[39m\u001b[39mData can not be normalized, origCoordSystem is not set to \u001b[39m\u001b[39m\"\u001b[39m\u001b[39m0-based interbase\u001b[39m\u001b[39m\"\u001b[39m\u001b[39m.\u001b[39m\u001b[39m'\u001b[39m)\n",
      "\u001b[0;31mValueError\u001b[0m: Data can not be normalized, origCoordSystem is not set to \"0-based interbase\"."
     ]
    }
   ],
   "source": [
    "Example3 = CoreVariantClass(origCoordSystem='0-based counting',seqType='Protein',\n",
    "                        refAllele='A',altAllele='P',start=3223,end=4442,allelicState= 'homozygous',geneSymbol='GENE3',hgncId=4941,\n",
    "                        chrom='MT', genomeBuild='NCBI Build 36.1', sequenceId='NC_000001.14',notes = {'test':'should work'})\n",
    "Example3\n",
    "\n",
    "print(f\"Initial Parameters\\n{Example3.init_params()}\")\n",
    "print(f\"Represent object as a Dictionary\\n{Example3.as_dict()}\")\n",
    "print(f\"Represent object as a Json\\n{Example3.as_json()}\")\n",
    "\n",
    "# We currently have this method only work if the origCoordSystem is = '0-based interbase'\n",
    "print(f\"Normalized Examples\\n{Example3.normalized_data()}\")"
   ]
  },
  {
   "cell_type": "code",
   "execution_count": null,
   "metadata": {},
   "outputs": [],
   "source": []
  }
 ],
 "metadata": {
  "kernelspec": {
   "display_name": "test_dev_vrs_installation",
   "language": "python",
   "name": "python3"
  },
  "language_info": {
   "codemirror_mode": {
    "name": "ipython",
    "version": 3
   },
   "file_extension": ".py",
   "mimetype": "text/x-python",
   "name": "python",
   "nbconvert_exporter": "python",
   "pygments_lexer": "ipython3",
   "version": "3.9.15"
  },
  "orig_nbformat": 4
 },
 "nbformat": 4,
 "nbformat_minor": 2
}
