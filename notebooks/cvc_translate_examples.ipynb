{
 "cells": [
  {
   "cell_type": "code",
   "execution_count": 3,
   "metadata": {},
   "outputs": [],
   "source": [
    "import sys\n",
    "sys.path.append('..')\n",
    "\n",
    "from src.core_variant import CoreVariantClass\n",
    "\n",
    "from src.corevariantclass_to import cvc_translate\n",
    "translate = cvc_translate()"
   ]
  },
  {
   "cell_type": "code",
   "execution_count": 12,
   "metadata": {},
   "outputs": [],
   "source": [
    "cvc_example = CoreVariantClass(origCoordSystem='0-based interbase',seqType='DNA',\n",
    "                        refAllele='C',altAllele='A',start=12345,end=12346,allelicState= 'heterozygous',geneSymbol='GENE1',hgncId=123,\n",
    "                        chrom=3, genomeBuild='GRCh38', sequenceId='NC_000001.10')\n",
    "\n",
    "expression = cvc_example.initParams()"
   ]
  },
  {
   "cell_type": "markdown",
   "metadata": {},
   "source": [
    "#### Translate CoreVariantClass to SPDI"
   ]
  },
  {
   "cell_type": "code",
   "execution_count": 13,
   "metadata": {},
   "outputs": [
    {
     "data": {
      "text/plain": [
       "'NC_000001.10:12345:C:A'"
      ]
     },
     "execution_count": 13,
     "metadata": {},
     "output_type": "execute_result"
    }
   ],
   "source": [
    "spdi_expression = translate.cvc_to_spdi(expression)\n",
    "spdi_expression\n"
   ]
  },
  {
   "cell_type": "markdown",
   "metadata": {},
   "source": [
    "#### CoreVariantClass to HGVS"
   ]
  },
  {
   "cell_type": "code",
   "execution_count": 14,
   "metadata": {},
   "outputs": [
    {
     "data": {
      "text/plain": [
       "'NC_000001.10:g.12346C>A'"
      ]
     },
     "execution_count": 14,
     "metadata": {},
     "output_type": "execute_result"
    }
   ],
   "source": [
    "hgvs_expression = translate.cvc_to_hgvs(expression)\n",
    "hgvs_expression"
   ]
  },
  {
   "cell_type": "markdown",
   "metadata": {},
   "source": [
    "#### CoreVariantClass to VRS"
   ]
  },
  {
   "cell_type": "code",
   "execution_count": 15,
   "metadata": {},
   "outputs": [
    {
     "data": {
      "text/plain": [
       "{'_id': 'ga4gh:VA.CWDQtAfFv3QnUqN3up3J1bs32JVSKFPk',\n",
       " 'type': 'Allele',\n",
       " 'location': {'_id': 'ga4gh:VSL.ixj_LC0E_4GQvm7dtG4r5gjf88lWRxU1',\n",
       "  'type': 'SequenceLocation',\n",
       "  'sequence_id': 'ga4gh:SQ.S_KjnFVz-FE7M0W6yoaUDgYxLPc1jyWU',\n",
       "  'interval': {'type': 'SequenceInterval',\n",
       "   'start': {'type': 'Number', 'value': 12345},\n",
       "   'end': {'type': 'Number', 'value': 12346}}},\n",
       " 'state': {'type': 'LiteralSequenceExpression', 'sequence': 'A'}}"
      ]
     },
     "execution_count": 15,
     "metadata": {},
     "output_type": "execute_result"
    }
   ],
   "source": [
    "vrs_expression = translate.cvc_to_vrs(expression)\n",
    "vrs_expression"
   ]
  }
 ],
 "metadata": {
  "kernelspec": {
   "display_name": "test_dev_vrs_installation",
   "language": "python",
   "name": "python3"
  },
  "language_info": {
   "codemirror_mode": {
    "name": "ipython",
    "version": 3
   },
   "file_extension": ".py",
   "mimetype": "text/x-python",
   "name": "python",
   "nbconvert_exporter": "python",
   "pygments_lexer": "ipython3",
   "version": "3.9.15"
  },
  "orig_nbformat": 4
 },
 "nbformat": 4,
 "nbformat_minor": 2
}
