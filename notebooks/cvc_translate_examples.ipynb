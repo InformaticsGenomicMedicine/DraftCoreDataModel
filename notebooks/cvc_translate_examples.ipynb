{
 "cells": [
  {
   "cell_type": "markdown",
   "metadata": {},
   "source": [
    "# TODO: clean this up."
   ]
  },
  {
   "cell_type": "code",
   "execution_count": null,
   "metadata": {},
   "outputs": [],
   "source": [
    "from src.core_variant import CoreVariantClass\n",
    "from src.core_variant_translate import CVCTranslator\n",
    "\n",
    "cvc_trans = CVCTranslator()"
   ]
  },
  {
   "cell_type": "code",
   "execution_count": null,
   "metadata": {},
   "outputs": [],
   "source": [
    "# Creating a CoreVariantClass object \n",
    "# NM_001267550.2:80230:G:A\n",
    "cvc = CoreVariantClass(\n",
    "    origCoordSystem='0-based interbase',\n",
    "    seqType='DNA',\n",
    "    refAllele='G',\n",
    "    altAllele='A',\n",
    "    start=80230,\n",
    "    end=80231,\n",
    "    allelicState=None,\n",
    "    geneSymbol=None,\n",
    "    hgncId=None,\n",
    "    chrom=None,\n",
    "    genomeBuild=None,\n",
    "    sequenceId='NM_001267550.2')\n",
    "cvc"
   ]
  },
  {
   "cell_type": "markdown",
   "metadata": {},
   "source": [
    "#### Methods inside of the core_variant_translate.py"
   ]
  },
  {
   "cell_type": "code",
   "execution_count": null,
   "metadata": {},
   "outputs": [],
   "source": [
    "#Translating CoreVariantClass to SPDI with different output formats\n",
    "\n",
    "print(cvc_trans.cvc_to_spdi(cvc,output_format=\"string\"))\n",
    "\n",
    "# print(cvc_trans.cvc_to_spdi(cvc,output_format=\"obj\"))\n",
    "# print(cvc_trans.cvc_to_spdi(cvc,output_format=\"dict\"))"
   ]
  },
  {
   "cell_type": "code",
   "execution_count": null,
   "metadata": {},
   "outputs": [],
   "source": [
    "#Translating CoreVariantClass to HGVS with different output formats\n",
    "\n",
    "print(cvc_trans.cvc_to_hgvs(cvc,output_format=\"string\"))\n",
    "\n",
    "# print(cvc_trans.cvc_to_hgvs(cvc,output_format=\"parse\"))\n"
   ]
  },
  {
   "cell_type": "code",
   "execution_count": null,
   "metadata": {},
   "outputs": [],
   "source": [
    "#Translating CoreVariantClass to VRS with different output formats\n",
    "\n",
    "print(cvc_trans.cvc_to_vrs(cvc,output_format=\"dict\"))\n",
    "# print(cvc_trans.cvc_to_vrs(cvc,output_format=\"obj\"))\n",
    "# print(cvc_trans.cvc_to_vrs(cvc,output_format=\"json\"))\n"
   ]
  },
  {
   "cell_type": "markdown",
   "metadata": {},
   "source": [
    "NOTE: THe translations above are working because we are writting them from a SPDI start. Because the translations under the hood use the api to translate SPDI to HGVS \n",
    "then SPDI to VRS. \n",
    "\n",
    "NOTE: These translations do not work if we go from the context of HGVS. Meaning that if we built a CVC based on the HGVS expression and then we say cvc_to_spdi() this will not work because of the way the mapping of the reference sequence works. "
   ]
  },
  {
   "cell_type": "code",
   "execution_count": null,
   "metadata": {},
   "outputs": [],
   "source": [
    "print(cvc_trans.spdi_to_cvc('NM_001267550.2:80230:G:A'))"
   ]
  },
  {
   "cell_type": "code",
   "execution_count": null,
   "metadata": {},
   "outputs": [],
   "source": [
    "print(cvc_trans.hgvs_to_cvc('NM_001267550.2:c.80006G>A'))"
   ]
  },
  {
   "cell_type": "code",
   "execution_count": null,
   "metadata": {},
   "outputs": [],
   "source": [
    "from ga4gh.vrs import models\n",
    "\n",
    "allele = models.Allele(\n",
    "location = models.SequenceLocation(\n",
    "    sequence_id = 'ga4gh:SQ.anxusr2xpHohwCtHliVIYnrMwDSYteSO',\n",
    "    interval = models.SequenceInterval(\n",
    "        start = models.Number(value=80230, type=\"Number\"),\n",
    "        end = models.Number(value=80231, type=\"Number\"),\n",
    "        type=\"SequenceInterval\"\n",
    "    ),\n",
    "    type=\"SequenceLocation\"),\n",
    "state = models.SequenceExpression(\n",
    "    sequence = \"A\",\n",
    "    type=\"LiteralSequenceExpression\"\n",
    "),\n",
    "type=\"Allele\")\n",
    "\n",
    "allele\n",
    "\n",
    "print(cvc_trans.vrs_to_cvc(allele))"
   ]
  },
  {
   "cell_type": "code",
   "execution_count": null,
   "metadata": {},
   "outputs": [],
   "source": [
    "#'NM_012345.6:c.22A>T'\n",
    "cvc2 = CoreVariantClass(\n",
    "    origCoordSystem='1-based counting',\n",
    "    seqType='DNA',\n",
    "    refAllele='A',\n",
    "    altAllele='T',\n",
    "    start=22, #TODO: refer to core_variant.py because i change this to allow start to = end. \n",
    "    end=22,\n",
    "    allelicState=None,\n",
    "    geneSymbol=None,\n",
    "    hgncId=None,\n",
    "    chrom=None,\n",
    "    genomeBuild=None,\n",
    "    sequenceId='NM_012345.6')\n",
    "\n"
   ]
  },
  {
   "cell_type": "code",
   "execution_count": null,
   "metadata": {},
   "outputs": [],
   "source": [
    "cvc2.normalized_data()"
   ]
  },
  {
   "cell_type": "code",
   "execution_count": null,
   "metadata": {},
   "outputs": [],
   "source": [
    "print(cvc_trans.cvc_to_spdi(cvc2,output_format=\"string\"))\n"
   ]
  },
  {
   "cell_type": "markdown",
   "metadata": {},
   "source": [
    "HGVS \n",
    "    Expression -> 'NM_012345.6:c.22A>T'\n",
    "    Position -> 22\n",
    "\n",
    "Translate: \n",
    "\n",
    "VRS \n",
    "    'end': {'value': 22, 'type': Number}, #They set the position to the end\n",
    "    'start': {'value': 21, 'type': Number}, # \n",
    "\n",
    "\n",
    "SPDI\n",
    "    Expression -> 'NM_012345.6:21:1:T'\n",
    "    Position -> 21\n",
    "\n",
    "VRS\n",
    "    'end': {'value': 22, 'type': Number},\n",
    "    'start': {'value': 21, 'type': Number},"
   ]
  },
  {
   "cell_type": "code",
   "execution_count": null,
   "metadata": {},
   "outputs": [],
   "source": [
    "import hgvs.parser\n",
    "hp = hgvs.parser.Parser()\n",
    "# NM_012345.6:c.22A>T\n",
    "# \"NM_001267550.2:80230:G:A\" -> spdi\n",
    "# \"NM_001267550.2:c.80006G>A\" -> hgvs\n",
    "parsed_variant = hp.parse_hgvs_variant('NM_001267550.2:c.80006G>A')\n",
    "print(parsed_variant.posedit.pos.start)\n",
    "print(parsed_variant.posedit.pos.end)"
   ]
  },
  {
   "cell_type": "code",
   "execution_count": null,
   "metadata": {},
   "outputs": [],
   "source": [
    "cvc = CoreVariantClass(\n",
    "    origCoordSystem='0-based interbase',\n",
    "    seqType='DNA',\n",
    "    refAllele='G',\n",
    "    altAllele='A',\n",
    "    start=80230,\n",
    "    end=80231,\n",
    "    allelicState=None,\n",
    "    geneSymbol=None,\n",
    "    hgncId=None,\n",
    "    chrom=None,\n",
    "    genomeBuild=None,\n",
    "    sequenceId='NM_001267550.2')\n",
    "# print(cvc_trans.cvc_to_spdi(cvc,output_format=\"string\"))\n",
    "print(cvc_trans.cvc_to_hgvs(cvc,output_format=\"string\"))"
   ]
  },
  {
   "cell_type": "code",
   "execution_count": null,
   "metadata": {},
   "outputs": [],
   "source": [
    "cvc = CoreVariantClass(\n",
    "    origCoordSystem='1-based counting',\n",
    "    seqType='DNA',\n",
    "    refAllele='G',\n",
    "    altAllele='A',\n",
    "    start=80006,\n",
    "    end=80006,\n",
    "    allelicState=None,\n",
    "    geneSymbol=None,\n",
    "    hgncId=None,\n",
    "    chrom=None,\n",
    "    genomeBuild=None,\n",
    "    sequenceId='NM_001267550.2')\n"
   ]
  },
  {
   "cell_type": "code",
   "execution_count": null,
   "metadata": {},
   "outputs": [],
   "source": [
    "cvc_norm = CoreVariantClass(\n",
    "    origCoordSystem='0-based interbase',\n",
    "    seqType='DNA',\n",
    "    refAllele='G',\n",
    "    altAllele='A',\n",
    "    start=80005,\n",
    "    end=80006,\n",
    "    allelicState=None,\n",
    "    geneSymbol=None,\n",
    "    hgncId=None,\n",
    "    chrom=None,\n",
    "    genomeBuild=None,\n",
    "    sequenceId='NM_001267550.2')\n",
    "\n",
    "print(cvc_trans.cvc_to_spdi(cvc_norm,output_format=\"string\"))\n"
   ]
  },
  {
   "cell_type": "code",
   "execution_count": null,
   "metadata": {},
   "outputs": [],
   "source": [
    "from ga4gh.core import sha512t24u, ga4gh_digest, ga4gh_identify, ga4gh_serialize\n",
    "from ga4gh.vrs import __version__, models, normalize\n",
    "from ga4gh.vrs.dataproxy import SeqRepoRESTDataProxy\n",
    "from biocommons.seqrepo import SeqRepo\n",
    "\n",
    "seqrepo_rest_service_url = \"https://services.genomicmedlab.org/seqrepo\"\n",
    "dp = SeqRepoRESTDataProxy(base_url=seqrepo_rest_service_url)"
   ]
  },
  {
   "cell_type": "code",
   "execution_count": null,
   "metadata": {},
   "outputs": [],
   "source": [
    "translated_sequence_ids = dp.translate_sequence_identifier(\n",
    "            'ga4gh:SQ.IIB53T8CNeJJdUqzn9V_JnRtQadwWCbl', namespace=\"refseq\"\n",
    "        )\n",
    "translated_sequence_ids[0]"
   ]
  },
  {
   "cell_type": "code",
   "execution_count": null,
   "metadata": {},
   "outputs": [],
   "source": [
    "translated_sequence_ids[0].split(\":\")[1]"
   ]
  },
  {
   "cell_type": "code",
   "execution_count": null,
   "metadata": {},
   "outputs": [],
   "source": [
    "from src.api.seqrepo_api import SeqRepoAPI\n",
    "cn = SeqRepoAPI(\"https://services.genomicmedlab.org/seqrepo\")\n",
    "dp = cn.dp\n",
    "from ga4gh.vrs.utils.hgvs_tools import HgvsTools\n",
    "from bioutils.accessions import coerce_namespace\n",
    "import hgvs.parser\n",
    "import hgvs.location\n",
    "import hgvs.posedit\n",
    "import hgvs.edit\n",
    "import hgvs.sequencevariant\n",
    "import hgvs.dataproviders.uta\n",
    "\n",
    "# # Translating cvc to hgvs, based off of the _to_hgvs() expression in translator:\n",
    "# https://github.com/ga4gh/vrs-python/blob/439b4084762d327de3f9988aecfe9963131aa14d/src/ga4gh/vrs/extras/variation_normalizer_rest_dp.py#L16\n",
    "\n",
    "def _get_hgvs_tools():\n",
    "    \"\"\" Only create UTA db connection if needed. There will be one connection per translator.\n",
    "    \"\"\"\n",
    "    #NOTE: i added hgvs_tools = None, but i might not need this when i create a class.\n",
    "    hgvs_tools = None\n",
    "    if hgvs_tools is None:\n",
    "        uta_conn = hgvs.dataproviders.uta.connect()\n",
    "        hgvs_tools = HgvsTools(uta_conn)\n",
    "        return hgvs_tools\n",
    "\n",
    "def _get_letter_prefix(refseq):\n",
    "    letter_prefix = {\n",
    "        'NM_':'n',\n",
    "        'NP_':'p',\n",
    "        'NG_':'g',\n",
    "        'NC_':'g',\n",
    "    }\n",
    "    sequence_prefix = refseq.split(\":\")[0][:3]\n",
    "\n",
    "    letter = letter_prefix.get(sequence_prefix)\n",
    "    \n",
    "    if letter is None:\n",
    "            raise ValueError(\"Unknown reference sequence type.\")\n",
    "    \n",
    "    return letter\n",
    "\n",
    "def cvc_to_hgvs(expression):\n",
    "    \n",
    "    if expression.origCoordSystem != \"0-based interbase\":\n",
    "        raise ValueError(\"The origCoordsystem must equal 0-based interbase.\")\n",
    "\n",
    "    sequence_id = str(expression.sequenceId)\n",
    "    aliases = dp.translate_sequence_identifier(sequence_id, 'refseq')\n",
    "    refseq = aliases[0].split(\":\")[1]\n",
    "    letter = _get_letter_prefix(refseq)\n",
    "    if letter == \"p\":\n",
    "        raise ValueError(\"Only nucleic acid variation is currently supported\")\n",
    "    \n",
    "    #TODO: We need to take aliases[0].split(':')[1]\n",
    "    # then we can get rid of what i did on the bottom. for now we only want the refseq.\n",
    "    # aliases = dp.translate_sequence_identifier(sequence_id, 'refseq')\n",
    "    # TODO: redo this part dont like the !=1 part\n",
    "    # stypes = list(set(t for t in (ir_stype(a) for a in aliases) if t))\n",
    "    # if len(stypes) != 1:\n",
    "    #     raise ValueError(f\"Couldn't infer sequence type for {sequence_id} ({stypes})\")\n",
    "    # stype = stypes[0]\n",
    "    # if stype == \"p\": \n",
    "    #     raise ValueError(\"Only nucleic acid variation is currently supported\")\n",
    "    else:\n",
    "        start, end = expression.start, expression.end\n",
    "        # ib: 0 1 2 3 4 5\n",
    "        #  h:  1 2 3 4 5\n",
    "        if start == end:    # insert: hgvs uses *exclusive coords*\n",
    "            ref = None\n",
    "            end += 1\n",
    "        else:               # else: hgvs uses *inclusive coords*\n",
    "            ref = dp.get_sequence(sequence_id, start, end)\n",
    "            start += 1\n",
    "        print(start, end)\n",
    "        ival = hgvs.location.Interval(\n",
    "            start=hgvs.location.SimplePosition(base=start),\n",
    "            end=hgvs.location.SimplePosition(base=end))\n",
    "        # TODO: double check if this is correct. not sure if im using the alt allele correctly\n",
    "        alt = str(expression.altAllele) or None  # \"\" => None\n",
    "        print(ref, alt)\n",
    "        edit = hgvs.edit.NARefAlt(ref=ref, alt=alt)\n",
    "\n",
    "    posedit = hgvs.posedit.PosEdit(pos=ival, edit=edit)\n",
    "    var = hgvs.sequencevariant.SequenceVariant(\n",
    "        ac=refseq,\n",
    "        type=letter,\n",
    "        posedit=posedit)\n",
    "    \n",
    "    # refseq = aliases[0].split(\":\")[1]\n",
    "    # var.ac = refseq\n",
    "    # TODO: need to double check this. Not sure why vrs python stopped using it. \n",
    "    hgvs_tools = _get_hgvs_tools()\n",
    "    parsed = hgvs_tools.parse(str(var))\n",
    "    var = hgvs_tools.normalize(parsed)\n",
    "    return str(var)"
   ]
  },
  {
   "cell_type": "code",
   "execution_count": null,
   "metadata": {},
   "outputs": [],
   "source": [
    "# \"NM_001267550.2:c.80006G>A\" -> hgvs\n",
    "\n",
    "cvc = CoreVariantClass(\n",
    "    origCoordSystem='1-based counting',\n",
    "    seqType='DNA',\n",
    "    refAllele='G',\n",
    "    altAllele='A',\n",
    "    start=80005,\n",
    "    end=80006,\n",
    "    allelicState=None,\n",
    "    geneSymbol=None,\n",
    "    hgncId=None,\n",
    "    chrom=None,\n",
    "    genomeBuild=None,\n",
    "    sequenceId='NM_001267550.2')\n",
    "\n",
    "cvc_to_hgvs(cvc)"
   ]
  },
  {
   "cell_type": "code",
   "execution_count": null,
   "metadata": {},
   "outputs": [],
   "source": [
    "#NC_000013.11:g.32936732C>G\n",
    "cvc2 = CoreVariantClass(\n",
    "    origCoordSystem='0-based interbase',\n",
    "    seqType='DNA',\n",
    "    refAllele='C',\n",
    "    altAllele='G',\n",
    "    start=32936731,\n",
    "\n",
    "    end=32936732,\n",
    "    allelicState=None,\n",
    "    geneSymbol=None,\n",
    "    hgncId=None,\n",
    "    chrom=None,\n",
    "    genomeBuild=None,\n",
    "    sequenceId='NC_000013.11')\n",
    "\n",
    "cvc_to_hgvs(cvc2)\n",
    "cvc2"
   ]
  },
  {
   "cell_type": "code",
   "execution_count": null,
   "metadata": {},
   "outputs": [],
   "source": [
    "cvc3 = CoreVariantClass(\n",
    "    origCoordSystem='1-based counting',\n",
    "    seqType='DNA',\n",
    "    refAllele='C',\n",
    "    altAllele='G',\n",
    "    start=32936732,\n",
    "    end=32936732,\n",
    "    allelicState=None,\n",
    "    geneSymbol=None,\n",
    "    hgncId=None,\n",
    "    chrom=None,\n",
    "    genomeBuild=None,\n",
    "    sequenceId='NC_000013.11')\n",
    "cvc3.init_normalized_data()"
   ]
  },
  {
   "cell_type": "code",
   "execution_count": null,
   "metadata": {},
   "outputs": [],
   "source": [
    "cvc2.normalized_data()"
   ]
  },
  {
   "cell_type": "code",
   "execution_count": null,
   "metadata": {},
   "outputs": [],
   "source": [
    "cvc_spdi = CoreVariantClass(\n",
    "    origCoordSystem='0-based interbase',\n",
    "    seqType='DNA',\n",
    "    refAllele='G',\n",
    "    altAllele='A',\n",
    "    start=20230,\n",
    "    end=20231,\n",
    "    allelicState=None,\n",
    "    geneSymbol=None,\n",
    "    hgncId=None,\n",
    "    chrom=None,\n",
    "    genomeBuild=None,\n",
    "    sequenceId='NM_001267550.2')\n",
    "\n",
    "cvc_trans.cvc_to_spdi(cvc_spdi,output_format=\"dict\")"
   ]
  },
  {
   "cell_type": "code",
   "execution_count": null,
   "metadata": {},
   "outputs": [],
   "source": [
    "#NC_000013.11:g.32936732C>G\n",
    "cvc3 = CoreVariantClass(\n",
    "    origCoordSystem='0-based interbase',\n",
    "    seqType='DNA',\n",
    "    refAllele='C',\n",
    "    altAllele='G',\n",
    "    start=32936730,\n",
    "    end=32936732,\n",
    "    allelicState=None,\n",
    "    geneSymbol=None,\n",
    "    hgncId=None,\n",
    "    chrom=None,\n",
    "    genomeBuild=None,\n",
    "    sequenceId='NC_000013.11')\n",
    "\n",
    "cvc_trans.cvc_to_spdi(cvc3,output_format='string')\n"
   ]
  },
  {
   "cell_type": "code",
   "execution_count": null,
   "metadata": {},
   "outputs": [],
   "source": [
    "cvc_trans.cvc_to_vrs(cvc3,output_format='dict')"
   ]
  },
  {
   "cell_type": "code",
   "execution_count": 1,
   "metadata": {},
   "outputs": [
    {
     "name": "stderr",
     "output_type": "stream",
     "text": [
      "/Users/M278428/opt/anaconda3/envs/test_dev_vrs_installation/lib/python3.9/site-packages/python_jsonschema_objects/__init__.py:49: UserWarning: Schema version http://json-schema.org/draft-07/schema not recognized. Some keywords and features may not be supported.\n",
      "  warnings.warn(\n"
     ]
    }
   ],
   "source": [
    "from src.core_variant import CoreVariantClass\n",
    "from src.cvc_to_translate import ToTranslate\n",
    "\n",
    "tt = ToTranslate()"
   ]
  },
  {
   "cell_type": "code",
   "execution_count": 2,
   "metadata": {},
   "outputs": [
    {
     "data": {
      "text/plain": [
       "CoreVariantClass(0-based interbase,DNA,G,A,80230,80231,None,None,None,None,None,NM_001267550.2,{})"
      ]
     },
     "execution_count": 2,
     "metadata": {},
     "output_type": "execute_result"
    }
   ],
   "source": [
    "# Creating a CoreVariantClass object \n",
    "# NM_001267550.2:80230:G:A\n",
    "exampleSPDI = CoreVariantClass(\n",
    "    origCoordSystem='0-based interbase',\n",
    "    seqType='DNA',\n",
    "    refAllele='G',\n",
    "    altAllele='A',\n",
    "    start=80230,\n",
    "    end=80231,\n",
    "    allelicState=None,\n",
    "    geneSymbol=None,\n",
    "    hgncId=None,\n",
    "    chrom=None,\n",
    "    genomeBuild=None,\n",
    "    sequenceId='NM_001267550.2')\n",
    "exampleSPDI"
   ]
  },
  {
   "cell_type": "code",
   "execution_count": 3,
   "metadata": {},
   "outputs": [
    {
     "data": {
      "text/plain": [
       "'NM_001267550.2:80230:G:A'"
      ]
     },
     "execution_count": 3,
     "metadata": {},
     "output_type": "execute_result"
    }
   ],
   "source": [
    "tt.cvc_to_spdi(exampleSPDI,output_format=\"string\")"
   ]
  },
  {
   "cell_type": "code",
   "execution_count": 4,
   "metadata": {},
   "outputs": [
    {
     "name": "stdout",
     "output_type": "stream",
     "text": [
      "CoreVariantClass(1-based counting,DNA,C,G,32936732,32936732,None,None,None,None,None,NC_000013.11,{})\n",
      "NORMALIZED EXAMPLE:\n",
      "{'origCoordSystem': '0-based interbase', 'seqType': 'DNA', 'refAllele': 'C', 'altAllele': 'G', 'start': 32936731, 'end': 32936732, 'allelicState': None, 'geneSymbol': None, 'hgncId': None, 'chrom': None, 'genomeBuild': None, 'sequenceId': 'NC_000013.11', 'kwargs': {}}\n"
     ]
    }
   ],
   "source": [
    "# HGVS Example: NC_000013.11:g.32936732C>G\n",
    "exampleHGVS = CoreVariantClass(\n",
    "    origCoordSystem='1-based counting',\n",
    "    seqType='DNA',\n",
    "    refAllele='C',\n",
    "    altAllele='G',\n",
    "    start=32936732,\n",
    "    end=32936732,\n",
    "    allelicState=None,\n",
    "    geneSymbol=None,\n",
    "    hgncId=None,\n",
    "    chrom=None,\n",
    "    genomeBuild=None,\n",
    "    sequenceId='NC_000013.11')\n",
    "\n",
    "print(exampleHGVS)\n",
    "normalizeExampleHGVS = exampleHGVS.init_normalized_data()\n",
    "print('NORMALIZED EXAMPLE:')\n",
    "print(normalizeExampleHGVS)"
   ]
  },
  {
   "cell_type": "code",
   "execution_count": 5,
   "metadata": {},
   "outputs": [
    {
     "data": {
      "text/plain": [
       "'NC_000013.11:g.32936732C>G'"
      ]
     },
     "execution_count": 5,
     "metadata": {},
     "output_type": "execute_result"
    }
   ],
   "source": [
    "tt.cvc_to_hgvs(exampleHGVS)"
   ]
  },
  {
   "cell_type": "code",
   "execution_count": 6,
   "metadata": {},
   "outputs": [],
   "source": [
    "exampleVRS = CoreVariantClass(\n",
    "    origCoordSystem='0-based interbase',\n",
    "    seqType='DNA',\n",
    "    refAllele='C',\n",
    "    altAllele='G',\n",
    "    start=32936731,\n",
    "    end=32936732,\n",
    "    allelicState=None,\n",
    "    geneSymbol=None,\n",
    "    hgncId=None,\n",
    "    chrom=None,\n",
    "    genomeBuild=None,\n",
    "    sequenceId='NC_000013.11')\n"
   ]
  },
  {
   "cell_type": "code",
   "execution_count": 7,
   "metadata": {},
   "outputs": [
    {
     "data": {
      "text/plain": [
       "{'_id': 'ga4gh:VA.hMfrqZuECxo2yyGLltnim_q71QDkK-HR',\n",
       " 'type': 'Allele',\n",
       " 'location': {'_id': 'ga4gh:VSL.iSZclbNW8T95cXDuNvLMvm6xJd2g4pTn',\n",
       "  'type': 'SequenceLocation',\n",
       "  'sequence_id': 'ga4gh:SQ._0wi-qoDrvram155UmcSC-zA5ZK4fpLT',\n",
       "  'interval': {'type': 'SequenceInterval',\n",
       "   'start': {'type': 'Number', 'value': 32936731},\n",
       "   'end': {'type': 'Number', 'value': 32936732}}},\n",
       " 'state': {'type': 'LiteralSequenceExpression', 'sequence': 'G'}}"
      ]
     },
     "execution_count": 7,
     "metadata": {},
     "output_type": "execute_result"
    }
   ],
   "source": [
    "tt.cvc_to_vrs(exampleVRS).as_dict()"
   ]
  }
 ],
 "metadata": {
  "kernelspec": {
   "display_name": "test_dev_vrs_installation",
   "language": "python",
   "name": "python3"
  },
  "language_info": {
   "codemirror_mode": {
    "name": "ipython",
    "version": 3
   },
   "file_extension": ".py",
   "mimetype": "text/x-python",
   "name": "python",
   "nbconvert_exporter": "python",
   "pygments_lexer": "ipython3",
   "version": "3.9.15"
  }
 },
 "nbformat": 4,
 "nbformat_minor": 2
}
