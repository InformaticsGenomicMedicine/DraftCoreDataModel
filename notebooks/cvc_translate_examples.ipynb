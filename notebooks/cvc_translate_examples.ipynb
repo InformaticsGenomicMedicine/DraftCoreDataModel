{
 "cells": [
  {
   "cell_type": "code",
   "execution_count": 1,
   "metadata": {},
   "outputs": [
    {
     "name": "stderr",
     "output_type": "stream",
     "text": [
      "/Users/M278428/opt/anaconda3/envs/test_dev_vrs_installation/lib/python3.9/site-packages/python_jsonschema_objects/__init__.py:49: UserWarning: Schema version http://json-schema.org/draft-07/schema not recognized. Some keywords and features may not be supported.\n",
      "  warnings.warn(\n"
     ]
    }
   ],
   "source": [
    "from src.core_variant import CoreVariantClass\n",
    "from src.core_variant_translate import CVCTranslator\n",
    "\n",
    "cvc_trans = CVCTranslator()"
   ]
  },
  {
   "cell_type": "code",
   "execution_count": 2,
   "metadata": {},
   "outputs": [
    {
     "data": {
      "text/plain": [
       "CoreVariantClass(0-based interbase,DNA,G,A,80005,80006,None,None,None,None,None,NM_001267550.2,{})"
      ]
     },
     "execution_count": 2,
     "metadata": {},
     "output_type": "execute_result"
    }
   ],
   "source": [
    "# Creating a CoreVariantClass object \n",
    "cvc = CoreVariantClass(\n",
    "    origCoordSystem='0-based interbase',\n",
    "    seqType='DNA',\n",
    "    refAllele='G',\n",
    "    altAllele='A',\n",
    "    start=80005,\n",
    "    end=80006,\n",
    "    allelicState=None,\n",
    "    geneSymbol=None,\n",
    "    hgncId=None,\n",
    "    chrom=None,\n",
    "    genomeBuild=None,\n",
    "    sequenceId='NM_001267550.2')\n",
    "cvc"
   ]
  },
  {
   "cell_type": "markdown",
   "metadata": {},
   "source": [
    "#### Methods inside of the core_variant_translate.py"
   ]
  },
  {
   "cell_type": "code",
   "execution_count": 4,
   "metadata": {},
   "outputs": [
    {
     "name": "stdout",
     "output_type": "stream",
     "text": [
      "NM_001267550.2:80005:G:A\n"
     ]
    }
   ],
   "source": [
    "#Translating core variant class to spdi with different output formats\n",
    "\n",
    "print(cvc_trans.cvc_to_spdi(cvc,output_format=\"string\"))\n",
    "\n",
    "# print(cvc_trans.cvc_to_spdi(cvc,output_format=\"obj\"))\n",
    "# print(cvc_trans.cvc_to_spdi(cvc,output_format=\"dict\"))"
   ]
  },
  {
   "cell_type": "code",
   "execution_count": null,
   "metadata": {},
   "outputs": [],
   "source": []
  }
 ],
 "metadata": {
  "kernelspec": {
   "display_name": "test_dev_vrs_installation",
   "language": "python",
   "name": "python3"
  },
  "language_info": {
   "codemirror_mode": {
    "name": "ipython",
    "version": 3
   },
   "file_extension": ".py",
   "mimetype": "text/x-python",
   "name": "python",
   "nbconvert_exporter": "python",
   "pygments_lexer": "ipython3",
   "version": "3.9.15"
  }
 },
 "nbformat": 4,
 "nbformat_minor": 2
}
