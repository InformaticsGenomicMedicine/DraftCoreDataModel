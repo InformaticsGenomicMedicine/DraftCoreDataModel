{
 "cells": [
  {
   "cell_type": "code",
   "execution_count": 1,
   "metadata": {},
   "outputs": [],
   "source": [
    "#RUN FOR GITHUB CODESPACE\n",
    "import sys\n",
    "import warnings\n",
    "\n",
    "sys.path.append('..')\n",
    "warnings.filterwarnings('ignore')"
   ]
  },
  {
   "cell_type": "markdown",
   "metadata": {},
   "source": [
    "### Creating a `CoreVariantClass` Object\n",
    "\n",
    "#### Introduction\n",
    "The purpose of the `CoreVariantClass` object is to contain metadata that can be translated into various expressions such as VRS, HGVS, SPDI, and FHIR. This class ensures consistent handling of variant data across different standards. For further information regarding the validation steps implemented in the `CoreVariantClass`, please refer to the `core_variant.py` module.\n",
    "\n",
    "#### Required Attributes\n",
    "List and describe each required attribute.\n",
    "\n",
    "| Attribute      | Description                                                       |\n",
    "|----------------|-------------------------------------------------------------------|\n",
    "| `origCoordSystem` | The original coordinate system used                              |\n",
    "| `seqType`        | The type of sequence                                              |\n",
    "| `refAllele`      | The reference allele                                              |\n",
    "| `altAllele`      | The alternate allele                                              |\n",
    "| `start`          | The start position                                                |\n",
    "| `end`            | The end position                                                  |\n",
    "| `chrom`          | The chromosome identifer (if using chrom/genomeBuild pair)        |\n",
    "| `genomeBuild`    | The genome build (if using chrom/genomeBuild pair)                |\n",
    "| `sequenceId`     | The sequence identifier (alternative to chrom/genomeBuild pair)   |\n",
    "\n",
    "#### Optional Attributes\n",
    "List and describe each optional attribute.\n",
    "\n",
    "| Attribute    | Description                                                       |\n",
    "|--------------|-------------------------------------------------------------------|\n",
    "| `allelicState` | The state of the allele (e.g., heterozygous, homozygous)          |\n",
    "| `geneSymbol`   | The gene symbol                                           |\n",
    "| `hgncID`       | The HGNC identifier of the gene "
   ]
  },
  {
   "cell_type": "code",
   "execution_count": 2,
   "metadata": {},
   "outputs": [],
   "source": [
    "from src.core_variant import CoreVariantClass"
   ]
  },
  {
   "cell_type": "code",
   "execution_count": 3,
   "metadata": {},
   "outputs": [
    {
     "data": {
      "text/plain": [
       "CoreVariantClass(0-based interbase,DNA,C,T,27453448,27453449,None,IFT172,None,2,GRCh38,NC_000002.12,{})"
      ]
     },
     "execution_count": 3,
     "metadata": {},
     "output_type": "execute_result"
    }
   ],
   "source": [
    "#cite: https://www.ncbi.nlm.nih.gov/clinvar/variation/835613/?oq=NC_000002.12:g.27453449C%3ET&m=NM_015662.3(IFT172):c.3886G%3EA%20(p.Val1296Met)\n",
    "\n",
    "cvc = CoreVariantClass(\n",
    "    origCoordSystem=\"0-based interbase\",\n",
    "    seqType=\"DNA\",\n",
    "    refAllele=\"C\",\n",
    "    altAllele=\"T\",\n",
    "    start=27453448,\n",
    "    end=27453449,\n",
    "    allelicState=None,\n",
    "    geneSymbol=\"IFT172\",\n",
    "    hgncId=None,\n",
    "    chrom=\"chr 2\",\n",
    "    genomeBuild=\"GRCh38\",\n",
    "    sequenceId=\"NC_000002.12\"\n",
    ")\n",
    "cvc"
   ]
  },
  {
   "cell_type": "code",
   "execution_count": 4,
   "metadata": {},
   "outputs": [
    {
     "name": "stdout",
     "output_type": "stream",
     "text": [
      "Normalized CVC Object:\n"
     ]
    },
    {
     "data": {
      "text/plain": [
       "{'origCoordSystem': '0-based interbase',\n",
       " 'seqType': 'DNA',\n",
       " 'allelicState': None,\n",
       " 'associatedGene': {'geneSymbol': 'IFT172', 'hgncId': None},\n",
       " 'refAllele': 'C',\n",
       " 'altAllele': 'T',\n",
       " 'position': {'chrom': '2',\n",
       "  'genomeBuild': 'GRCh38',\n",
       "  'start': 27453448,\n",
       "  'end': 27453449,\n",
       "  'sequenceId': 'NC_000002.12'}}"
      ]
     },
     "execution_count": 4,
     "metadata": {},
     "output_type": "execute_result"
    }
   ],
   "source": [
    "print('Normalized CVC Object:')\n",
    "cvc.normalized_data()"
   ]
  }
 ],
 "metadata": {
  "kernelspec": {
   "display_name": "DraftCoreDataModel-MMFV8Z-X",
   "language": "python",
   "name": "python3"
  },
  "language_info": {
   "codemirror_mode": {
    "name": "ipython",
    "version": 3
   },
   "file_extension": ".py",
   "mimetype": "text/x-python",
   "name": "python",
   "nbconvert_exporter": "python",
   "pygments_lexer": "ipython3",
   "version": "3.11.5"
  }
 },
 "nbformat": 4,
 "nbformat_minor": 2
}
