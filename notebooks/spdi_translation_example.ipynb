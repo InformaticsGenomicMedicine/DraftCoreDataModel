{
 "cells": [
  {
   "cell_type": "code",
   "execution_count": 1,
   "metadata": {},
   "outputs": [],
   "source": [
    "#RUN FOR GITHUB CODESPACE\n",
    "import sys\n",
    "import warnings\n",
    "\n",
    "sys.path.append('..')\n",
    "warnings.filterwarnings('ignore')"
   ]
  },
  {
   "cell_type": "code",
   "execution_count": 2,
   "metadata": {},
   "outputs": [],
   "source": [
    "import json\n",
    "from src.spdi.spdi_class import SPDI\n",
    "from src.spdi.spdi_utils import SPDITranslate\n",
    "from src.variant_to_cvc_translate import CVCTranslatorTo"
   ]
  },
  {
   "cell_type": "code",
   "execution_count": 3,
   "metadata": {},
   "outputs": [],
   "source": [
    "spdi_translator = SPDITranslate()\n",
    "cvc_translator_to = CVCTranslatorTo()"
   ]
  },
  {
   "cell_type": "code",
   "execution_count": 4,
   "metadata": {},
   "outputs": [],
   "source": [
    "spdi_example_data = [\n",
    "    # Example of Deletion\n",
    "    {'sequence': 'NC_000001.11', 'position': '1014263', 'deletion': 'CC', 'insertion': 'C'},\n",
    "    # Example of Insertion\n",
    "    {'sequence': 'NC_000001.11', 'position': '113901365', 'deletion': '', 'insertion': 'ATA'},\n",
    "    # Example of Duplication\n",
    "    {'sequence': 'NC_000001.11', 'position': '5880117', 'deletion': 'TGAGCTTCCA', 'insertion': 'TGAGCTTCCATGAGCTTCCA'}\n",
    "    ]"
   ]
  },
  {
   "cell_type": "markdown",
   "metadata": {},
   "source": [
    "### SPDI Module Overview\n",
    "\n",
    "The `SPDI` module provides functionality for creating, validating, and representing SPDI expressions.\n",
    "\n",
    "\n",
    "#### Features\n",
    "- **Validation of SPDI Expressions**: SPDI expressions undergo validation to ensure adherence to the SPDI format rules.\n",
    "- **Representation Conversion**: SPDI objects can be converted to strings or dictionaries, enhancing their usability and interoperability.\n",
    "\n",
    "#### Dependencies\n",
    "The SPDI module does not have external dependencies and operates solely on Python's built-in functionality.\n"
   ]
  },
  {
   "cell_type": "code",
   "execution_count": 5,
   "metadata": {},
   "outputs": [
    {
     "name": "stdout",
     "output_type": "stream",
     "text": [
      "SPDI objects created:\n"
     ]
    },
    {
     "data": {
      "text/plain": [
       "[<src.spdi.spdi_class.SPDI at 0x10c9e3fd0>,\n",
       " <src.spdi.spdi_class.SPDI at 0x112c6b9d0>,\n",
       " <src.spdi.spdi_class.SPDI at 0x1109ea150>]"
      ]
     },
     "execution_count": 5,
     "metadata": {},
     "output_type": "execute_result"
    }
   ],
   "source": [
    "spdi_objects= []\n",
    "print(\"SPDI objects created:\")\n",
    "for spdi in spdi_example_data: \n",
    "    spdi_objects.append(SPDI(**spdi))\n",
    "spdi_objects"
   ]
  },
  {
   "cell_type": "markdown",
   "metadata": {},
   "source": [
    "### spdi_utils Module Overview\n",
    "\n",
    "The SPDITranslate module facilitates the translation of SPDI expressions to HGVS and VRS formats. It utilizes external APIs for translation. \n",
    "\n",
    "#### Features\n",
    "\n",
    "- **Translation to Right-Shift HGVS**: Converts SPDI expressions to right shift HGVS using the NCBI Variation Services API.\n",
    "- **Translation to VRS**: Translates SPDI expressions to VRS using the VRS python translator module.\n",
    "\n",
    "#### Dependencies\n",
    "- **External APIs**:\n",
    "  - Biocmmons SeqRepo API\n",
    "  - NCBI Variation Services API\n"
   ]
  },
  {
   "cell_type": "code",
   "execution_count": 6,
   "metadata": {},
   "outputs": [
    {
     "name": "stdout",
     "output_type": "stream",
     "text": [
      "SPDI Expression: NC_000001.11:1014263:CC:C\n",
      "Translated to HGVS: NC_000001.11:g.1014265del\n",
      "\n",
      "SPDI Expression: NC_000001.11:113901365::ATA\n",
      "Translated to HGVS: NC_000001.11:g.113901365_113901366insATA\n",
      "\n",
      "SPDI Expression: NC_000001.11:5880117:TGAGCTTCCA:TGAGCTTCCATGAGCTTCCA\n",
      "Translated to HGVS: NC_000001.11:g.5880118_5880127dup\n",
      "\n"
     ]
    }
   ],
   "source": [
    "# Translating SPDI expression to a rightshift HGVS expression\n",
    "for spdi in spdi_objects:\n",
    "    print(f'SPDI Expression: {spdi.to_string()}') \n",
    "    print(f'Translated to HGVS: {spdi_translator.from_spdi_to_rightshift_hgvs(spdi)}\\n')\n"
   ]
  },
  {
   "cell_type": "code",
   "execution_count": 7,
   "metadata": {},
   "outputs": [
    {
     "name": "stdout",
     "output_type": "stream",
     "text": [
      "SPDI Expression: NC_000001.11:1014263:CC:C\n",
      "Translated to VRS:\n",
      "{\n",
      "  \"_id\": \"ga4gh:VA.BmF3zr2l6XLpLaK8GInM6Q3Emc3JyPD3\",\n",
      "  \"type\": \"Allele\",\n",
      "  \"location\": {\n",
      "    \"_id\": \"ga4gh:VSL.i6Of9s2jVDuJ4vwU6sCeG-jT7ygmlfx6\",\n",
      "    \"type\": \"SequenceLocation\",\n",
      "    \"sequence_id\": \"ga4gh:SQ.Ya6Rs7DHhDeg7YaOSg1EoNi3U_nQ9SvO\",\n",
      "    \"interval\": {\n",
      "      \"type\": \"SequenceInterval\",\n",
      "      \"start\": {\n",
      "        \"type\": \"Number\",\n",
      "        \"value\": 1014263\n",
      "      },\n",
      "      \"end\": {\n",
      "        \"type\": \"Number\",\n",
      "        \"value\": 1014265\n",
      "      }\n",
      "    }\n",
      "  },\n",
      "  \"state\": {\n",
      "    \"type\": \"LiteralSequenceExpression\",\n",
      "    \"sequence\": \"C\"\n",
      "  }\n",
      "}\n",
      "\n",
      "SPDI Expression: NC_000001.11:113901365::ATA\n",
      "Translated to VRS:\n",
      "{\n",
      "  \"_id\": \"ga4gh:VA.J9BMdktHGGjE843oD0T_bwUV6WxojkCW\",\n",
      "  \"type\": \"Allele\",\n",
      "  \"location\": {\n",
      "    \"_id\": \"ga4gh:VSL.TMxdXtmi4ctcTRipHMD6py1Nv1kLMyJd\",\n",
      "    \"type\": \"SequenceLocation\",\n",
      "    \"sequence_id\": \"ga4gh:SQ.Ya6Rs7DHhDeg7YaOSg1EoNi3U_nQ9SvO\",\n",
      "    \"interval\": {\n",
      "      \"type\": \"SequenceInterval\",\n",
      "      \"start\": {\n",
      "        \"type\": \"Number\",\n",
      "        \"value\": 113901365\n",
      "      },\n",
      "      \"end\": {\n",
      "        \"type\": \"Number\",\n",
      "        \"value\": 113901365\n",
      "      }\n",
      "    }\n",
      "  },\n",
      "  \"state\": {\n",
      "    \"type\": \"LiteralSequenceExpression\",\n",
      "    \"sequence\": \"ATA\"\n",
      "  }\n",
      "}\n",
      "\n",
      "SPDI Expression: NC_000001.11:5880117:TGAGCTTCCA:TGAGCTTCCATGAGCTTCCA\n",
      "Translated to VRS:\n",
      "{\n",
      "  \"_id\": \"ga4gh:VA.OpO3jwlmnhvpmEs2v9orWvMIa7UPb1To\",\n",
      "  \"type\": \"Allele\",\n",
      "  \"location\": {\n",
      "    \"_id\": \"ga4gh:VSL.veKlh4sQPAIr1HNoqjmsm7qZa0FNfjI9\",\n",
      "    \"type\": \"SequenceLocation\",\n",
      "    \"sequence_id\": \"ga4gh:SQ.Ya6Rs7DHhDeg7YaOSg1EoNi3U_nQ9SvO\",\n",
      "    \"interval\": {\n",
      "      \"type\": \"SequenceInterval\",\n",
      "      \"start\": {\n",
      "        \"type\": \"Number\",\n",
      "        \"value\": 5880117\n",
      "      },\n",
      "      \"end\": {\n",
      "        \"type\": \"Number\",\n",
      "        \"value\": 5880127\n",
      "      }\n",
      "    }\n",
      "  },\n",
      "  \"state\": {\n",
      "    \"type\": \"LiteralSequenceExpression\",\n",
      "    \"sequence\": \"TGAGCTTCCATGAGCTTCCA\"\n",
      "  }\n",
      "}\n",
      "\n"
     ]
    }
   ],
   "source": [
    "# Translating SPDI expression to a VRS expression\n",
    "for spdi in spdi_objects:\n",
    "    print(f'SPDI Expression: {spdi.to_string()}') \n",
    "    print(f'Translated to VRS:\\n{json.dumps(spdi_translator.from_spdi_to_vrs(spdi).as_dict(),indent = 2)}\\n')"
   ]
  },
  {
   "cell_type": "code",
   "execution_count": 8,
   "metadata": {},
   "outputs": [
    {
     "name": "stdout",
     "output_type": "stream",
     "text": [
      "SPDI Expression: NC_000001.11:1014263:CC:C\n",
      "Translated to CVC:\n",
      "CoreVariantClass(0-based interbase,DNA,CC,C,1014263,1014265,None,None,None,None,None,NC_000001.11,{})\n",
      "\n",
      "SPDI Expression: NC_000001.11:113901365::ATA\n",
      "Translated to CVC:\n",
      "CoreVariantClass(0-based interbase,DNA,,ATA,113901365,113901365,None,None,None,None,None,NC_000001.11,{})\n",
      "\n",
      "SPDI Expression: NC_000001.11:5880117:TGAGCTTCCA:TGAGCTTCCATGAGCTTCCA\n",
      "Translated to CVC:\n",
      "CoreVariantClass(0-based interbase,DNA,TGAGCTTCCA,TGAGCTTCCATGAGCTTCCA,5880117,5880127,None,None,None,None,None,NC_000001.11,{})\n",
      "\n"
     ]
    }
   ],
   "source": [
    "#Translations form SPDI to CVC to done using the variant_to_cvc_translate.py module.\n",
    "for spdi in spdi_objects: \n",
    "    print(f'SPDI Expression: {spdi.to_string()}') \n",
    "    print(f'Translated to CVC:\\n{cvc_translator_to.spdi_to_cvc(spdi.to_string())}\\n')"
   ]
  }
 ],
 "metadata": {
  "kernelspec": {
   "display_name": "DraftCoreDataModel-MMFV8Z-X",
   "language": "python",
   "name": "python3"
  },
  "language_info": {
   "codemirror_mode": {
    "name": "ipython",
    "version": 3
   },
   "file_extension": ".py",
   "mimetype": "text/x-python",
   "name": "python",
   "nbconvert_exporter": "python",
   "pygments_lexer": "ipython3",
   "version": "3.11.5"
  }
 },
 "nbformat": 4,
 "nbformat_minor": 2
}
