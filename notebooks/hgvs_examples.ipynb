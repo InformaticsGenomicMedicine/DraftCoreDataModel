{
 "cells": [
  {
   "cell_type": "markdown",
   "metadata": {},
   "source": [
    "### HGVSTranslate Module Overview\n",
    "\n",
    "The `HGVSTranslate` module facilitates the translation of HGVS expressions to SPDI and VRS formats. It utilizes external APIs for translation and validation.\n",
    "\n",
    "#### Features\n",
    "- **Translation to VRS**: Translates HGVS expressions to VRS using the VRS python translator module.\n",
    "- **Translation to SPDI**: Converts HGVS expressions to SPDI using the NCBI Variation Services API.\n",
    "- **HGVS Expression Validation**: HGVS expressions are validated using the biocommons hgvs package.\n",
    "\n",
    "#### Dependencies\n",
    "- **External APIs**:\n",
    "  - Biocmmons SeqRepo API\n",
    "  - NCBI Variation Services API\n",
    "  <!-- VICC Variation Normalizer API -->\n",
    "- **Python Packages**:\n",
    "  - biocommons-hgvs\n"
   ]
  },
  {
   "cell_type": "code",
   "execution_count": 11,
   "metadata": {},
   "outputs": [],
   "source": [
    "# import sys\n",
    "# sys.path.append('..')\n",
    "\n",
    "import json\n",
    "\n",
    "# Importing the necessary module for HGVSTranslate\n",
    "from src.hgvsExtra.hgvs_utils import HGVSTranslate\n",
    "\n",
    "# Creating an instance of the HGVSTranslate class\n",
    "hgvs_translator = HGVSTranslate()\n"
   ]
  },
  {
   "cell_type": "markdown",
   "metadata": {},
   "source": [
    "#### Example Data"
   ]
  },
  {
   "cell_type": "code",
   "execution_count": 10,
   "metadata": {},
   "outputs": [
    {
     "data": {
      "text/plain": [
       "['NC_000001.11:g.1014265del',\n",
       " 'NC_000001.11:g.113901365_113901366insATA',\n",
       " 'NC_000001.11:g.5880118_5880127dup']"
      ]
     },
     "execution_count": 10,
     "metadata": {},
     "output_type": "execute_result"
    }
   ],
   "source": [
    "hgvs_example_data = [\n",
    "    # Example of Deletion\n",
    "    'NC_000001.11:g.1014265del',\n",
    "    # Example of Insertion\n",
    "    'NC_000001.11:g.113901365_113901366insATA',\n",
    "    # Example of Duplication\n",
    "    'NC_000001.11:g.5880118_5880127dup'\n",
    "]\n",
    "hgvs_example_data"
   ]
  },
  {
   "cell_type": "markdown",
   "metadata": {},
   "source": [
    "#### HGVS Methods"
   ]
  },
  {
   "cell_type": "code",
   "execution_count": 32,
   "metadata": {},
   "outputs": [
    {
     "name": "stdout",
     "output_type": "stream",
     "text": [
      "HGVS Expression: NC_000001.11:g.1014265del\n",
      "Translated to SPDI: NC_000001.11:1014263:CC:C\n",
      "\n",
      "HGVS Expression: NC_000001.11:g.113901365_113901366insATA\n",
      "Translated to SPDI: NC_000001.11:113901365::ATA\n",
      "\n",
      "HGVS Expression: NC_000001.11:g.5880118_5880127dup\n",
      "Translated to SPDI: NC_000001.11:5880117:TGAGCTTCCA:TGAGCTTCCATGAGCTTCCA\n",
      "\n"
     ]
    }
   ],
   "source": [
    "# Translate HGVS expression to SPDI\n",
    "for hgvs in hgvs_example_data:\n",
    "    print(f'HGVS Expression: {hgvs}')\n",
    "    print(f'Translated to SPDI: {hgvs_translator.from_hgvs_to_spdi(hgvs)}\\n')"
   ]
  },
  {
   "cell_type": "code",
   "execution_count": 35,
   "metadata": {},
   "outputs": [
    {
     "name": "stdout",
     "output_type": "stream",
     "text": [
      "HGVS Expression: NC_000001.11:g.1014265del\n",
      "Translated to VRS:\n",
      "{\n",
      "  \"_id\": \"ga4gh:VA.BmF3zr2l6XLpLaK8GInM6Q3Emc3JyPD3\",\n",
      "  \"type\": \"Allele\",\n",
      "  \"location\": {\n",
      "    \"_id\": \"ga4gh:VSL.i6Of9s2jVDuJ4vwU6sCeG-jT7ygmlfx6\",\n",
      "    \"type\": \"SequenceLocation\",\n",
      "    \"sequence_id\": \"ga4gh:SQ.Ya6Rs7DHhDeg7YaOSg1EoNi3U_nQ9SvO\",\n",
      "    \"interval\": {\n",
      "      \"type\": \"SequenceInterval\",\n",
      "      \"start\": {\n",
      "        \"type\": \"Number\",\n",
      "        \"value\": 1014263\n",
      "      },\n",
      "      \"end\": {\n",
      "        \"type\": \"Number\",\n",
      "        \"value\": 1014265\n",
      "      }\n",
      "    }\n",
      "  },\n",
      "  \"state\": {\n",
      "    \"type\": \"LiteralSequenceExpression\",\n",
      "    \"sequence\": \"C\"\n",
      "  }\n",
      "}\n",
      "\n",
      "HGVS Expression: NC_000001.11:g.113901365_113901366insATA\n",
      "Translated to VRS:\n",
      "{\n",
      "  \"_id\": \"ga4gh:VA.J9BMdktHGGjE843oD0T_bwUV6WxojkCW\",\n",
      "  \"type\": \"Allele\",\n",
      "  \"location\": {\n",
      "    \"_id\": \"ga4gh:VSL.TMxdXtmi4ctcTRipHMD6py1Nv1kLMyJd\",\n",
      "    \"type\": \"SequenceLocation\",\n",
      "    \"sequence_id\": \"ga4gh:SQ.Ya6Rs7DHhDeg7YaOSg1EoNi3U_nQ9SvO\",\n",
      "    \"interval\": {\n",
      "      \"type\": \"SequenceInterval\",\n",
      "      \"start\": {\n",
      "        \"type\": \"Number\",\n",
      "        \"value\": 113901365\n",
      "      },\n",
      "      \"end\": {\n",
      "        \"type\": \"Number\",\n",
      "        \"value\": 113901365\n",
      "      }\n",
      "    }\n",
      "  },\n",
      "  \"state\": {\n",
      "    \"type\": \"LiteralSequenceExpression\",\n",
      "    \"sequence\": \"ATA\"\n",
      "  }\n",
      "}\n",
      "\n",
      "HGVS Expression: NC_000001.11:g.5880118_5880127dup\n",
      "Translated to VRS:\n",
      "{\n",
      "  \"_id\": \"ga4gh:VA.OpO3jwlmnhvpmEs2v9orWvMIa7UPb1To\",\n",
      "  \"type\": \"Allele\",\n",
      "  \"location\": {\n",
      "    \"_id\": \"ga4gh:VSL.veKlh4sQPAIr1HNoqjmsm7qZa0FNfjI9\",\n",
      "    \"type\": \"SequenceLocation\",\n",
      "    \"sequence_id\": \"ga4gh:SQ.Ya6Rs7DHhDeg7YaOSg1EoNi3U_nQ9SvO\",\n",
      "    \"interval\": {\n",
      "      \"type\": \"SequenceInterval\",\n",
      "      \"start\": {\n",
      "        \"type\": \"Number\",\n",
      "        \"value\": 5880117\n",
      "      },\n",
      "      \"end\": {\n",
      "        \"type\": \"Number\",\n",
      "        \"value\": 5880127\n",
      "      }\n",
      "    }\n",
      "  },\n",
      "  \"state\": {\n",
      "    \"type\": \"LiteralSequenceExpression\",\n",
      "    \"sequence\": \"TGAGCTTCCATGAGCTTCCA\"\n",
      "  }\n",
      "}\n",
      "\n"
     ]
    }
   ],
   "source": [
    "for hgvs in hgvs_example_data:\n",
    "    print(f'HGVS Expression: {hgvs}')\n",
    "    print(f'Translated to VRS:\\n{json.dumps(hgvs_translator.hgvs_to_vrs_trans(hgvs).as_dict(), indent=2)}\\n')"
   ]
  },
  {
   "cell_type": "markdown",
   "metadata": {},
   "source": [
    "### CVCTranslator Module Overview\n",
    "\n",
    "The `CVCTranslator` module offers functionality for translating variations from HGVS, SPDI, or VRS formats into a standardized representation known as `CoreVariantClass`.\n",
    "\n",
    "#### Features\n",
    "- **SPDI to CoreVariantClass Translation**: Translates SPDI expressions into CoreVariantClass objects.\n",
    "\n",
    "- **HGVS to CoreVariantClass Translation**: Translates HGVS expressions into CoreVariantClass objects.\n",
    "\n",
    "- **VRS to CoreVariantClass Translation**: Translates VRS expressions into CoreVariantClass objects.\n",
    "\n",
    "#### Dependencies\n",
    "- **External APIs**:\n",
    "  - Biocmmons SeqRepo API\n",
    "  - NCBI Variation Services API\n",
    "\n",
    "- **Python Packages**:\n",
    "  - bioutils.normalize\n",
    "  - hgvs"
   ]
  },
  {
   "cell_type": "code",
   "execution_count": 6,
   "metadata": {},
   "outputs": [],
   "source": [
    "from src.variant_to_cvc_translate import CVCTranslator\n",
    "cvc_translator = CVCTranslator()"
   ]
  },
  {
   "cell_type": "code",
   "execution_count": 37,
   "metadata": {},
   "outputs": [
    {
     "name": "stdout",
     "output_type": "stream",
     "text": [
      "HGVS Expression: NC_000001.11:g.1014265del\n",
      "Translated to CVC:\n",
      "CoreVariantClass(0-based interbase,DNA,CC,C,1014263,1014265,None,None,None,None,None,NC_000001.11,{})\n",
      "\n",
      "HGVS Expression: NC_000001.11:g.113901365_113901366insATA\n",
      "Translated to CVC:\n",
      "CoreVariantClass(0-based interbase,DNA,,ATA,113901365,113901365,None,None,None,None,None,NC_000001.11,{})\n",
      "\n",
      "HGVS Expression: NC_000001.11:g.5880118_5880127dup\n",
      "Translated to CVC:\n",
      "CoreVariantClass(0-based interbase,DNA,TGAGCTTCCA,TGAGCTTCCATGAGCTTCCA,5880117,5880127,None,None,None,None,None,NC_000001.11,{})\n",
      "\n"
     ]
    }
   ],
   "source": [
    "for hgvs in hgvs_example_data:\n",
    "    print(f'HGVS Expression: {hgvs}') \n",
    "    print(f'Translated to CVC:\\n{cvc_translator.hgvs_to_cvc(hgvs)}\\n')"
   ]
  }
 ],
 "metadata": {
  "kernelspec": {
   "display_name": "test_dev_vrs_installation",
   "language": "python",
   "name": "python3"
  },
  "language_info": {
   "codemirror_mode": {
    "name": "ipython",
    "version": 3
   },
   "file_extension": ".py",
   "mimetype": "text/x-python",
   "name": "python",
   "nbconvert_exporter": "python",
   "pygments_lexer": "ipython3",
   "version": "3.11.5"
  },
  "orig_nbformat": 4
 },
 "nbformat": 4,
 "nbformat_minor": 2
}
