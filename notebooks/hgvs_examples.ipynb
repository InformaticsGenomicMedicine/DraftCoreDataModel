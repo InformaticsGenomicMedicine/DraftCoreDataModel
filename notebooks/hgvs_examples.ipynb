{
 "cells": [
  {
   "cell_type": "code",
   "execution_count": 1,
   "metadata": {},
   "outputs": [],
   "source": [
    "#RUN FOR GITHUB CODESPACE\n",
    "import sys\n",
    "import warnings\n",
    "\n",
    "sys.path.append('..')\n",
    "warnings.filterwarnings('ignore')"
   ]
  },
  {
   "cell_type": "code",
   "execution_count": 2,
   "metadata": {},
   "outputs": [],
   "source": [
    "import json\n",
    "# Importing the necessary module for HGVSTranslate\n",
    "from src.hgvsExtra.hgvs_utils import HGVSTranslate\n",
    "\n",
    "# Creating an instance of the HGVSTranslate class\n",
    "hgvs_translator = HGVSTranslate()\n"
   ]
  },
  {
   "cell_type": "markdown",
   "metadata": {},
   "source": [
    "### hgvs_utils Module Overview\n",
    "\n",
    "The `hgvs_utils` module facilitates the translation of HGVS expressions to SPDI and VRS formats. It utilizes external APIs for translation and validation.\n",
    "\n",
    "#### Features\n",
    "- **Translation to VRS**: Translates HGVS expressions to VRS using the VRS python translator module.\n",
    "- **Translation to SPDI**: Converts HGVS expressions to SPDI using the NCBI Variation Services API.\n",
    "- **HGVS Expression Validation**: HGVS expressions are validated using the biocommons hgvs package.\n",
    "\n",
    "#### Dependencies\n",
    "- **External APIs**:\n",
    "  - Biocmmons SeqRepo API\n",
    "  - NCBI Variation Services API\n",
    "  <!-- VICC Variation Normalizer API -->\n",
    "- **Python Packages**:\n",
    "  - biocommons-hgvs\n"
   ]
  },
  {
   "cell_type": "markdown",
   "metadata": {},
   "source": [
    "#### Example Data from DataBase"
   ]
  },
  {
   "cell_type": "code",
   "execution_count": 3,
   "metadata": {},
   "outputs": [],
   "source": [
    "from database.db_operation import DbOperation\n",
    "\n",
    "#Connect to gold standard database\n",
    "db = DbOperation('../database/gsdb_v2.db')\n",
    "\n",
    "#Convert database to pandas dataframe\n",
    "df = db.get_combined_in_df()\n",
    "\n",
    "#Capturing the cvc data in the dataframe\n",
    "hgvs_data = db.extract_values(df,'hgvs')[:3]"
   ]
  },
  {
   "cell_type": "markdown",
   "metadata": {},
   "source": [
    "#### HGVS Methods"
   ]
  },
  {
   "cell_type": "code",
   "execution_count": 4,
   "metadata": {},
   "outputs": [
    {
     "name": "stdout",
     "output_type": "stream",
     "text": [
      "HGVS Expression: NC_000001.11:g.1014265del\n",
      "Translated to SPDI: NC_000001.11:1014263:CC:C\n",
      "\n",
      "HGVS Expression: NC_000001.11:g.15445656_15445660del\n",
      "Translated to SPDI: NC_000001.11:15445654:GCATCG:G\n",
      "\n",
      "HGVS Expression: NC_000016.10:g.1510946_1510947del\n",
      "Translated to SPDI: NC_000016.10:1510945:AG:\n",
      "\n"
     ]
    }
   ],
   "source": [
    "# Translate HGVS expression to SPDI\n",
    "for hgvs in hgvs_data:\n",
    "    print(f'HGVS Expression: {hgvs}')\n",
    "    print(f'Translated to SPDI: {hgvs_translator.from_hgvs_to_spdi(hgvs)}\\n')"
   ]
  },
  {
   "cell_type": "code",
   "execution_count": 5,
   "metadata": {},
   "outputs": [
    {
     "name": "stdout",
     "output_type": "stream",
     "text": [
      "HGVS Expression: NC_000001.11:g.1014265del\n",
      "Translated to VRS:\n",
      "{'_id': 'ga4gh:VA.BmF3zr2l6XLpLaK8GInM6Q3Emc3JyPD3', 'type': 'Allele', 'location': {'_id': 'ga4gh:VSL.i6Of9s2jVDuJ4vwU6sCeG-jT7ygmlfx6', 'type': 'SequenceLocation', 'sequence_id': 'ga4gh:SQ.Ya6Rs7DHhDeg7YaOSg1EoNi3U_nQ9SvO', 'interval': {'type': 'SequenceInterval', 'start': {'type': 'Number', 'value': 1014263}, 'end': {'type': 'Number', 'value': 1014265}}}, 'state': {'type': 'LiteralSequenceExpression', 'sequence': 'C'}}\n",
      "\n",
      "HGVS Expression: NC_000001.11:g.15445656_15445660del\n",
      "Translated to VRS:\n",
      "{'_id': 'ga4gh:VA.5CfKpT5tErBj7PNtqdub7VOliwHEQLvs', 'type': 'Allele', 'location': {'_id': 'ga4gh:VSL.z-j8mH9v1lJf-MsQosxg_8gtRA1zKhuE', 'type': 'SequenceLocation', 'sequence_id': 'ga4gh:SQ.Ya6Rs7DHhDeg7YaOSg1EoNi3U_nQ9SvO', 'interval': {'type': 'SequenceInterval', 'start': {'type': 'Number', 'value': 15445654}, 'end': {'type': 'Number', 'value': 15445660}}}, 'state': {'type': 'LiteralSequenceExpression', 'sequence': 'G'}}\n",
      "\n",
      "HGVS Expression: NC_000016.10:g.1510946_1510947del\n",
      "Translated to VRS:\n",
      "{'_id': 'ga4gh:VA.BAzdGf6SGQgUBZCADrRGSS61qYzhDWgy', 'type': 'Allele', 'location': {'_id': 'ga4gh:VSL.CFA82oReGyKLEaLcmWDyzOkd3L8nhvDV', 'type': 'SequenceLocation', 'sequence_id': 'ga4gh:SQ.yC_0RBj3fgBlvgyAuycbzdubtLxq-rE0', 'interval': {'type': 'SequenceInterval', 'start': {'type': 'Number', 'value': 1510945}, 'end': {'type': 'Number', 'value': 1510947}}}, 'state': {'type': 'LiteralSequenceExpression', 'sequence': ''}}\n",
      "\n"
     ]
    }
   ],
   "source": [
    "for hgvs in hgvs_data:\n",
    "    print(f'HGVS Expression: {hgvs}')\n",
    "    print(f'Translated to VRS:\\n{hgvs_translator.hgvs_to_vrs_trans(hgvs).as_dict()}\\n')"
   ]
  },
  {
   "cell_type": "markdown",
   "metadata": {},
   "source": [
    "### variant_to_cvc_translate Module Overview\n",
    "\n",
    "The `variant_to_cvc_translate` module offers functionality for translating variations from HGVS, SPDI, or VRS formats into the `CoreVariantClass`.\n",
    "\n",
    "#### Features\n",
    "- **SPDI to CoreVariantClass Translation**: Translates SPDI expressions into CoreVariantClass objects.\n",
    "\n",
    "- **HGVS to CoreVariantClass Translation**: Translates HGVS expressions into CoreVariantClass objects.\n",
    "\n",
    "- **VRS to CoreVariantClass Translation**: Translates VRS expressions into CoreVariantClass objects.\n",
    "\n",
    "#### Dependencies\n",
    "- **External APIs**:\n",
    "  - Biocmmons SeqRepo API\n",
    "  - NCBI Variation Services API\n",
    "\n",
    "- **Python Packages**:\n",
    "  - bioutils.normalize\n",
    "  - hgvs"
   ]
  },
  {
   "cell_type": "code",
   "execution_count": 6,
   "metadata": {},
   "outputs": [],
   "source": [
    "from src.variant_to_cvc_translate import CVCTranslator\n",
    "cvc_translator = CVCTranslator()"
   ]
  },
  {
   "cell_type": "code",
   "execution_count": 7,
   "metadata": {},
   "outputs": [
    {
     "name": "stdout",
     "output_type": "stream",
     "text": [
      "HGVS Expression: NC_000001.11:g.1014265del\n",
      "Translated to CVC:\n",
      "CoreVariantClass(0-based interbase,DNA,CC,C,1014263,1014265,None,None,None,None,None,NC_000001.11,{})\n",
      "\n",
      "HGVS Expression: NC_000001.11:g.15445656_15445660del\n",
      "Translated to CVC:\n",
      "CoreVariantClass(0-based interbase,DNA,GCATCG,G,15445654,15445660,None,None,None,None,None,NC_000001.11,{})\n",
      "\n",
      "HGVS Expression: NC_000016.10:g.1510946_1510947del\n",
      "Translated to CVC:\n",
      "CoreVariantClass(0-based interbase,DNA,AG,,1510945,1510947,None,None,None,None,None,NC_000016.10,{})\n",
      "\n"
     ]
    }
   ],
   "source": [
    "for hgvs in hgvs_data:\n",
    "    print(f'HGVS Expression: {hgvs}') \n",
    "    print(f'Translated to CVC:\\n{cvc_translator.hgvs_to_cvc(hgvs)}\\n')"
   ]
  },
  {
   "cell_type": "code",
   "execution_count": 8,
   "metadata": {},
   "outputs": [
    {
     "name": "stdout",
     "output_type": "stream",
     "text": [
      "NM_181798.1:1262:G:T\n"
     ]
    }
   ],
   "source": [
    "\n",
    "example = 'NM_181798.1:n.1263G>T' #NM_001331029.1:n.872A>G'\n",
    "print(hgvs_translator.from_hgvs_to_spdi(example,validate=False))\n"
   ]
  },
  {
   "cell_type": "code",
   "execution_count": 9,
   "metadata": {},
   "outputs": [
    {
     "name": "stdout",
     "output_type": "stream",
     "text": [
      "{'_id': 'ga4gh:VA.2U3VttSZjpAOkf5BDKuSvaSbjnY9wUqg', 'type': 'Allele', 'location': {'_id': 'ga4gh:VSL.1nuRIkFWraP9ob21j9n-IC4RRlnrbQzk', 'type': 'SequenceLocation', 'sequence_id': 'ga4gh:SQ.KN07u-RFqd1dTyOWOG98HnOq87Nq-ZIg', 'interval': {'type': 'SequenceInterval', 'start': {'type': 'Number', 'value': 1262}, 'end': {'type': 'Number', 'value': 1263}}}, 'state': {'type': 'LiteralSequenceExpression', 'sequence': 'T'}}\n"
     ]
    }
   ],
   "source": [
    "print(hgvs_translator.hgvs_to_vrs_trans(example,validate=False).as_dict())"
   ]
  }
 ],
 "metadata": {
  "kernelspec": {
   "display_name": "test_dev_vrs_installation",
   "language": "python",
   "name": "python3"
  },
  "language_info": {
   "codemirror_mode": {
    "name": "ipython",
    "version": 3
   },
   "file_extension": ".py",
   "mimetype": "text/x-python",
   "name": "python",
   "nbconvert_exporter": "python",
   "pygments_lexer": "ipython3",
   "version": "3.11.5"
  },
  "orig_nbformat": 4
 },
 "nbformat": 4,
 "nbformat_minor": 2
}
