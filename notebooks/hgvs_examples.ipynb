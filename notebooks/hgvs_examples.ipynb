{
 "cells": [
  {
   "cell_type": "code",
   "execution_count": 1,
   "metadata": {},
   "outputs": [],
   "source": [
    "# import sys\n",
    "# sys.path.append('..')"
   ]
  },
  {
   "cell_type": "code",
   "execution_count": 2,
   "metadata": {},
   "outputs": [
    {
     "name": "stderr",
     "output_type": "stream",
     "text": [
      "/Users/M278428/.local/share/virtualenvs/DraftCoreDataModel-MMFV8Z-X/lib/python3.11/site-packages/python_jsonschema_objects/__init__.py:46: UserWarning: Schema version http://json-schema.org/draft-07/schema not recognized. Some keywords and features may not be supported.\n",
      "  warnings.warn(\n"
     ]
    }
   ],
   "source": [
    "# SPDI translation \n",
    "from src.hgvsExtra.hgvs_utils import HGVSTranslate\n",
    "\n",
    "hgvsTranslate = HGVSTranslate()"
   ]
  },
  {
   "cell_type": "markdown",
   "metadata": {},
   "source": [
    "#### HGVS Translation\n",
    "* hgvs_utils.py is designed to translate HGVS expression to SPDI expressions and VRS expressions.\n",
    "* This module is able to preform these translations by utilizing outside resources such as the VICC Variation Normalizer API and the NCBI Variation Services API.\n",
    "* hgvs package created by biocommons is used to validate the hgvs expression inside of each translation method."
   ]
  },
  {
   "cell_type": "code",
   "execution_count": 3,
   "metadata": {},
   "outputs": [],
   "source": [
    "#Example Data that we will be using to demonstrate some of the functionality of hgvs_utils.py. \n",
    "# hgvsList = ['NM_001267550.2:c.80006G>A','NM_001256850.1:c.1141G>A','NC_012920.1:m.1555A>G','NM_000097.7:c.814A>C']\n",
    "hgvsList = [\"NC_000007.14:g.55181230_55181231insGGCT\",\"NC_000019.10:g.44908822C>T\",\"NC_000007.14:g.55181220del\",\"NC_000023.11:g.32386323delinsGA\",\"NC_000013.11:g.32936732=\",\"NC_000013.11:g.19993838_19993839dup\"]"
   ]
  },
  {
   "cell_type": "markdown",
   "metadata": {},
   "source": [
    "#### HGVS Methods"
   ]
  },
  {
   "cell_type": "code",
   "execution_count": 4,
   "metadata": {},
   "outputs": [
    {
     "name": "stdout",
     "output_type": "stream",
     "text": [
      "NC_000007.14:55181230::GGCT\n",
      "NC_000019.10:44908821:C:T\n",
      "NC_000007.14:55181219:T:\n",
      "NC_000023.11:32386322:T:GA\n",
      "NC_000013.11:32936731:C:C\n",
      "NC_000013.11:19993837:GT:GTGT\n"
     ]
    }
   ],
   "source": [
    "# Translate HGVS expression to SPDI\n",
    "for hgvs in hgvsList:\n",
    "    print(hgvsTranslate.from_hgvs_to_spdi(hgvs))"
   ]
  },
  {
   "cell_type": "code",
   "execution_count": 5,
   "metadata": {},
   "outputs": [
    {
     "name": "stdout",
     "output_type": "stream",
     "text": [
      "[{'_id': 'ga4gh:VA.JKGCs07cFu2wlDydCAe2ea06jMFXyK56', 'type': 'Allele', 'location': {'_id': 'ga4gh:VSL.SdvAZCNKh5kf6ClsiOOmw_88fbkFPTqG', 'type': 'SequenceLocation', 'sequence_id': 'ga4gh:SQ.F-LrLMe1SRpfUZHkQmvkVKFEGaoDeHul', 'interval': {'type': 'SequenceInterval', 'start': {'type': 'Number', 'value': 55181230}, 'end': {'type': 'Number', 'value': 55181230}}}, 'state': {'type': 'LiteralSequenceExpression', 'sequence': 'GGCT'}}]\n",
      "[{'_id': 'ga4gh:VA.CxiA_hvYbkD8Vqwjhx5AYuyul4mtlkpD', 'type': 'Allele', 'location': {'_id': 'ga4gh:VSL.QrRSuBj-VScAGV_gEdxNgsnh41jYH1Kg', 'type': 'SequenceLocation', 'sequence_id': 'ga4gh:SQ.IIB53T8CNeJJdUqzn9V_JnRtQadwWCbl', 'interval': {'type': 'SequenceInterval', 'start': {'type': 'Number', 'value': 44908821}, 'end': {'type': 'Number', 'value': 44908822}}}, 'state': {'type': 'LiteralSequenceExpression', 'sequence': 'T'}}]\n",
      "[{'_id': 'ga4gh:VA.h6WuolTwZJYZh86qP2a8YVA1WXpHuY_X', 'type': 'Allele', 'location': {'_id': 'ga4gh:VSL.kB_ok6Eka0225QwwbOKtvcYZBz7Z0mSR', 'type': 'SequenceLocation', 'sequence_id': 'ga4gh:SQ.F-LrLMe1SRpfUZHkQmvkVKFEGaoDeHul', 'interval': {'type': 'SequenceInterval', 'start': {'type': 'Number', 'value': 55181219}, 'end': {'type': 'Number', 'value': 55181220}}}, 'state': {'type': 'LiteralSequenceExpression', 'sequence': ''}}]\n",
      "[{'_id': 'ga4gh:VA.HH3RHjZymrie-09X8aR2SMf1ULMlee6u', 'type': 'Allele', 'location': {'_id': 'ga4gh:VSL.tS45HvJapFexhxmbHe6SBn7dGuC46sni', 'type': 'SequenceLocation', 'sequence_id': 'ga4gh:SQ.w0WZEvgJF0zf_P4yyTzjjv9oW1z61HHP', 'interval': {'type': 'SequenceInterval', 'start': {'type': 'Number', 'value': 32386322}, 'end': {'type': 'Number', 'value': 32386323}}}, 'state': {'type': 'LiteralSequenceExpression', 'sequence': 'GA'}}]\n",
      "[{'_id': 'ga4gh:VA.DkZLLMnwoH6zIncSRh2c05nzCNLdTqHl', 'type': 'Allele', 'location': {'_id': 'ga4gh:VSL.iSZclbNW8T95cXDuNvLMvm6xJd2g4pTn', 'type': 'SequenceLocation', 'sequence_id': 'ga4gh:SQ._0wi-qoDrvram155UmcSC-zA5ZK4fpLT', 'interval': {'type': 'SequenceInterval', 'start': {'type': 'Number', 'value': 32936731}, 'end': {'type': 'Number', 'value': 32936732}}}, 'state': {'type': 'LiteralSequenceExpression', 'sequence': 'C'}}]\n",
      "[{'_id': 'ga4gh:VA.S3eUS2hlp6q4pSv4u2CbN0OPMusMUnHZ', 'type': 'Allele', 'location': {'_id': 'ga4gh:VSL.nW80UuWsc9bgMncP24FLII6qx8aouNki', 'type': 'SequenceLocation', 'sequence_id': 'ga4gh:SQ._0wi-qoDrvram155UmcSC-zA5ZK4fpLT', 'interval': {'type': 'SequenceInterval', 'start': {'type': 'Number', 'value': 19993837}, 'end': {'type': 'Number', 'value': 19993839}}}, 'state': {'type': 'LiteralSequenceExpression', 'sequence': 'GTGT'}}]\n"
     ]
    }
   ],
   "source": [
    "# Translating HGVS expression to VRS dictionary\n",
    "for hgvs in hgvsList: \n",
    "    print(hgvsTranslate.from_hgvs_to_vrs(hgvs))\n"
   ]
  },
  {
   "cell_type": "code",
   "execution_count": 6,
   "metadata": {},
   "outputs": [],
   "source": [
    "from src.core_variant_translate import CVCTranslator\n",
    "cvcTranslator = CVCTranslator()"
   ]
  },
  {
   "cell_type": "code",
   "execution_count": 7,
   "metadata": {},
   "outputs": [
    {
     "name": "stdout",
     "output_type": "stream",
     "text": [
      "CoreVariantClass(0-based interbase,DNA,,GGCT,55181230,55181230,None,None,None,None,None,NC_000007.14,{})\n",
      "CoreVariantClass(0-based interbase,DNA,C,T,44908821,44908822,None,None,None,None,None,NC_000019.10,{})\n",
      "CoreVariantClass(0-based interbase,DNA,T,,55181219,55181220,None,None,None,None,None,NC_000007.14,{})\n",
      "CoreVariantClass(0-based interbase,DNA,T,GA,32386322,32386323,None,None,None,None,None,NC_000023.11,{})\n",
      "CoreVariantClass(0-based interbase,DNA,C,C,32936731,32936732,None,None,None,None,None,NC_000013.11,{})\n",
      "CoreVariantClass(0-based interbase,DNA,GT,GTGT,19993837,19993839,None,None,None,None,None,NC_000013.11,{})\n"
     ]
    }
   ],
   "source": [
    "for hgvs in hgvsList: \n",
    "    print(cvcTranslator.hgvs_to_cvc(hgvs))"
   ]
  }
 ],
 "metadata": {
  "kernelspec": {
   "display_name": "test_dev_vrs_installation",
   "language": "python",
   "name": "python3"
  },
  "language_info": {
   "codemirror_mode": {
    "name": "ipython",
    "version": 3
   },
   "file_extension": ".py",
   "mimetype": "text/x-python",
   "name": "python",
   "nbconvert_exporter": "python",
   "pygments_lexer": "ipython3",
   "version": "3.11.5"
  },
  "orig_nbformat": 4
 },
 "nbformat": 4,
 "nbformat_minor": 2
}
