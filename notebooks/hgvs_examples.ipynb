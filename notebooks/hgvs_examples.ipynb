{
 "cells": [
  {
   "cell_type": "code",
   "execution_count": 4,
   "metadata": {},
   "outputs": [
    {
     "name": "stderr",
     "output_type": "stream",
     "text": [
      "/Users/M278428/opt/anaconda3/envs/test_dev_vrs_installation/lib/python3.9/site-packages/python_jsonschema_objects/__init__.py:49: UserWarning: Schema version http://json-schema.org/draft-07/schema not recognized. Some keywords and features may not be supported.\n",
      "  warnings.warn(\n"
     ]
    }
   ],
   "source": [
    "# SPDI translation \n",
    "from src.hgvsExtra.hgvs_utils import HGVSTranslate\n",
    "\n",
    "hgvsTranslate = HGVSTranslate()"
   ]
  },
  {
   "cell_type": "markdown",
   "metadata": {},
   "source": [
    "#### HGVS Translation\n",
    "* hgvs_utils.py is designed to translate HGVS expression to SPDI expressions and VRS expressions.\n",
    "* This module is able to preform these translations by utilizing outside resources such as the VICC Variation Normalizer API and the NCBI Variation Services API.\n",
    "* hgvs package created by biocommons is used to validate the hgvs expression inside of each translation method."
   ]
  },
  {
   "cell_type": "code",
   "execution_count": 9,
   "metadata": {},
   "outputs": [],
   "source": [
    "#Example Data that we will be using to demonstrate some of the functionality of hgvs_utils.py. \n",
    "hgvsList = ['NM_001267550.2:c.80006G>A','NM_001256850.1:c.1141G>A','NC_012920.1:m.1555A>G','NM_000097.7:c.814A>C']"
   ]
  },
  {
   "cell_type": "markdown",
   "metadata": {},
   "source": [
    "#### HGVS Methods"
   ]
  },
  {
   "cell_type": "code",
   "execution_count": 10,
   "metadata": {},
   "outputs": [
    {
     "name": "stdout",
     "output_type": "stream",
     "text": [
      "NM_001267550.2:80230:G:A\n",
      "NM_001256850.1:1365:G:A\n",
      "NC_012920.1:1554:A:G\n",
      "NM_000097.7:920:A:C\n"
     ]
    }
   ],
   "source": [
    "# Translate HGVS expression to SPDI\n",
    "for hgvs in hgvsList:\n",
    "    print(hgvsTranslate.from_hgvs_to_spdi(hgvs))"
   ]
  },
  {
   "cell_type": "code",
   "execution_count": 11,
   "metadata": {},
   "outputs": [
    {
     "name": "stdout",
     "output_type": "stream",
     "text": [
      "[{'_id': 'ga4gh:VA.FVGP3rA1nyBh3XrS7BFWQRFNXw4zXzMi', 'type': 'Allele', 'location': {'_id': 'ga4gh:VSL.5qmmawOpWP7Gckltg2t2bvR9UumlXeTk', 'type': 'SequenceLocation', 'sequence_id': 'ga4gh:SQ.anxusr2xpHohwCtHliVIYnrMwDSYteSO', 'interval': {'type': 'SequenceInterval', 'start': {'type': 'Number', 'value': 80230}, 'end': {'type': 'Number', 'value': 80231}}}, 'state': {'type': 'LiteralSequenceExpression', 'sequence': 'A'}}]\n",
      "[{'_id': 'ga4gh:VA._o6i8w1jJYoaH7XCklAMCDEYwNtxHf1r', 'type': 'Allele', 'location': {'_id': 'ga4gh:VSL.mMDpLR_Kk9H0O9DD3UmTlY0Xc09lvSFJ', 'type': 'SequenceLocation', 'sequence_id': 'ga4gh:SQ.TmxAKpjTN6uS6syq9-hkWs6ldxbNB1qj', 'interval': {'type': 'SequenceInterval', 'start': {'type': 'Number', 'value': 1365}, 'end': {'type': 'Number', 'value': 1366}}}, 'state': {'type': 'LiteralSequenceExpression', 'sequence': 'A'}}]\n",
      "[{'_id': 'ga4gh:VT.305KRLAkb69gtJQsYr-U_0YkgqAM1dWL', 'type': 'Text', 'definition': 'NC_012920.1:m.1555A>G'}]\n",
      "[{'_id': 'ga4gh:VA.faEaaUvSVzf_xEEUUn9LbqYDD7pZNxyZ', 'type': 'Allele', 'location': {'_id': 'ga4gh:VSL.rGLAS9puMo4ZSpgkGTvLh5kexCv-j_aW', 'type': 'SequenceLocation', 'sequence_id': 'ga4gh:SQ.R7FCrQKk_2a5OEvLRm9rGSXu4E3PNHkP', 'interval': {'type': 'SequenceInterval', 'start': {'type': 'Number', 'value': 920}, 'end': {'type': 'Number', 'value': 921}}}, 'state': {'type': 'LiteralSequenceExpression', 'sequence': 'C'}}]\n"
     ]
    }
   ],
   "source": [
    "# Translating HGVS expression to VRS dictionary\n",
    "for hgvs in hgvsList: \n",
    "    print(hgvsTranslate.from_hgvs_to_vrs(hgvs))\n"
   ]
  },
  {
   "cell_type": "code",
   "execution_count": null,
   "metadata": {},
   "outputs": [],
   "source": []
  }
 ],
 "metadata": {
  "kernelspec": {
   "display_name": "test_dev_vrs_installation",
   "language": "python",
   "name": "python3"
  },
  "language_info": {
   "codemirror_mode": {
    "name": "ipython",
    "version": 3
   },
   "file_extension": ".py",
   "mimetype": "text/x-python",
   "name": "python",
   "nbconvert_exporter": "python",
   "pygments_lexer": "ipython3",
   "version": "3.9.15"
  },
  "orig_nbformat": 4
 },
 "nbformat": 4,
 "nbformat_minor": 2
}
