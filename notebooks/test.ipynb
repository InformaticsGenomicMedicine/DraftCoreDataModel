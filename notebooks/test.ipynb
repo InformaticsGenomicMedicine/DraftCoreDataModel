{
 "cells": [
  {
   "cell_type": "code",
   "execution_count": 1,
   "metadata": {},
   "outputs": [],
   "source": [
    "import hgvs.parser\n",
    "import hgvs.dataproviders.uta\n",
    "import hgvs.validator\n",
    "import hgvs.normalizer\n",
    "from hgvs.exceptions import HGVSError\n",
    "\n",
    "hp = hgvs.parser.Parser()\n",
    "hdp = hgvs.dataproviders.uta.connect()\n",
    "hn = hgvs.normalizer.Normalizer(hdp)\n",
    "vr = hgvs.validator.Validator(hdp=hdp)"
   ]
  },
  {
   "cell_type": "code",
   "execution_count": 2,
   "metadata": {},
   "outputs": [
    {
     "data": {
      "text/plain": [
       "'NC_000001.11:g.943043C>T'"
      ]
     },
     "execution_count": 2,
     "metadata": {},
     "output_type": "execute_result"
    }
   ],
   "source": [
    "expression = 'NC_000001.11:943043C>T'\n",
    "expression2 = 'NC_000001.11:g.943043C>T'\n",
    "def validate_hgvs_variants(expression):\n",
    "    \"\"\"Validate an HGVS expression.\n",
    "\n",
    "    Args:\n",
    "        expression (str): The HGVS expression to validate.\n",
    "\n",
    "    Raises:\n",
    "        HGVSError: If the validation fails.\n",
    "\n",
    "    Returns:\n",
    "        str: The validated HGVS expression.\n",
    "    \"\"\"\n",
    "    try:\n",
    "        parsed_variant = hp.parse_hgvs_variant(expression)  # Assuming hp is defined elsewhere\n",
    "        vr.validate(parsed_variant)  # Assuming vr is defined elsewhere\n",
    "        return expression\n",
    "    except HGVSError as e:\n",
    "        raise HGVSError(f\"Validation failed: {e}\")\n",
    "\n",
    "# Example usage:\n",
    "validated_expression = validate_hgvs_variants(expression2)\n",
    "validated_expression"
   ]
  },
  {
   "cell_type": "code",
   "execution_count": 3,
   "metadata": {},
   "outputs": [
    {
     "name": "stderr",
     "output_type": "stream",
     "text": [
      "/Users/M278428/opt/anaconda3/envs/test_dev_vrs_installation/lib/python3.9/site-packages/python_jsonschema_objects/__init__.py:49: UserWarning: Schema version http://json-schema.org/draft-07/schema not recognized. Some keywords and features may not be supported.\n",
      "  warnings.warn(\n"
     ]
    }
   ],
   "source": [
    "import sys\n",
    "sys.path.append('..')\n",
    "from src.hgvsExtra.hgvs_utils import HGVSTranslate"
   ]
  },
  {
   "cell_type": "code",
   "execution_count": 4,
   "metadata": {},
   "outputs": [],
   "source": [
    "test = HGVSTranslate()"
   ]
  },
  {
   "cell_type": "code",
   "execution_count": 9,
   "metadata": {},
   "outputs": [
    {
     "data": {
      "text/plain": [
       "'NC_000001.11:943042:C:T'"
      ]
     },
     "execution_count": 9,
     "metadata": {},
     "output_type": "execute_result"
    }
   ],
   "source": [
    "test.from_hgvs_to_spdi(expression2)"
   ]
  },
  {
   "cell_type": "code",
   "execution_count": 5,
   "metadata": {},
   "outputs": [],
   "source": [
    "import sys\n",
    "sys.path.append('..')\n",
    "from src.spdi.spdi_class import SPDI"
   ]
  },
  {
   "cell_type": "code",
   "execution_count": 6,
   "metadata": {},
   "outputs": [],
   "source": [
    "spdi_expression = SPDI(sequence='NC_000001.11',position=161629780,insertion='T',deletion='T')"
   ]
  },
  {
   "cell_type": "code",
   "execution_count": 7,
   "metadata": {},
   "outputs": [
    {
     "ename": "HTTPError",
     "evalue": "Failed to validate SPDI expression: NC_000001.11:-1:T:T.",
     "output_type": "error",
     "traceback": [
      "\u001b[0;31m---------------------------------------------------------------------------\u001b[0m",
      "\u001b[0;31mHTTPError\u001b[0m                                 Traceback (most recent call last)",
      "\u001b[1;32m/Users/M278428/Documents/rf_lab_projects/DraftCoreDataModel/notebooks/test.ipynb Cell 7\u001b[0m line \u001b[0;36m1\n\u001b[0;32m----> <a href='vscode-notebook-cell:/Users/M278428/Documents/rf_lab_projects/DraftCoreDataModel/notebooks/test.ipynb#W5sZmlsZQ%3D%3D?line=0'>1</a>\u001b[0m spdi_expression \u001b[39m=\u001b[39m SPDI(sequence\u001b[39m=\u001b[39;49m\u001b[39m'\u001b[39;49m\u001b[39mNC_000001.11\u001b[39;49m\u001b[39m'\u001b[39;49m,position\u001b[39m=\u001b[39;49m\u001b[39m-\u001b[39;49m\u001b[39m1\u001b[39;49m,insertion\u001b[39m=\u001b[39;49m\u001b[39m'\u001b[39;49m\u001b[39mT\u001b[39;49m\u001b[39m'\u001b[39;49m,deletion\u001b[39m=\u001b[39;49m\u001b[39m'\u001b[39;49m\u001b[39mT\u001b[39;49m\u001b[39m'\u001b[39;49m)\n",
      "File \u001b[0;32m~/Documents/rf_lab_projects/DraftCoreDataModel/notebooks/../src/spdi/spdi_class.py:24\u001b[0m, in \u001b[0;36mSPDI.__init__\u001b[0;34m(self, sequence, position, deletion, insertion)\u001b[0m\n\u001b[1;32m     22\u001b[0m spdi \u001b[39m=\u001b[39m \u001b[39mf\u001b[39m\u001b[39m\"\u001b[39m\u001b[39m{\u001b[39;00msequence\u001b[39m}\u001b[39;00m\u001b[39m:\u001b[39m\u001b[39m{\u001b[39;00mposition\u001b[39m}\u001b[39;00m\u001b[39m:\u001b[39m\u001b[39m{\u001b[39;00mdeletion\u001b[39m}\u001b[39;00m\u001b[39m:\u001b[39m\u001b[39m{\u001b[39;00minsertion\u001b[39m}\u001b[39;00m\u001b[39m\"\u001b[39m\n\u001b[1;32m     23\u001b[0m \u001b[39m# TODO: test new method\u001b[39;00m\n\u001b[0;32m---> 24\u001b[0m \u001b[39mself\u001b[39;49m\u001b[39m.\u001b[39;49mapi\u001b[39m.\u001b[39;49mvalidate_spdi(spdi)\n",
      "File \u001b[0;32m~/Documents/rf_lab_projects/DraftCoreDataModel/notebooks/../src/api/ncbi_variation_services_api.py:60\u001b[0m, in \u001b[0;36mVarServAPI.validate_spdi\u001b[0;34m(self, spdi_id)\u001b[0m\n\u001b[1;32m     55\u001b[0m \u001b[39melse\u001b[39;00m:\n\u001b[1;32m     56\u001b[0m     \u001b[39mtry\u001b[39;00m:\n\u001b[1;32m     57\u001b[0m         \u001b[39m# TODO: delete once tested/ check message \u001b[39;00m\n\u001b[1;32m     58\u001b[0m         \u001b[39m# error_json = response.json()\u001b[39;00m\n\u001b[1;32m     59\u001b[0m         \u001b[39m# error_message = error_json['error']['message']\u001b[39;00m\n\u001b[0;32m---> 60\u001b[0m         \u001b[39mraise\u001b[39;00m requests\u001b[39m.\u001b[39mHTTPError(\u001b[39mf\u001b[39m\u001b[39m'\u001b[39m\u001b[39mFailed to validate SPDI expression: \u001b[39m\u001b[39m{\u001b[39;00mspdi_id\u001b[39m}\u001b[39;00m\u001b[39m.\u001b[39m\u001b[39m'\u001b[39m) \u001b[39m# Error Message: {error_message}\u001b[39;00m\n\u001b[1;32m     61\u001b[0m     \u001b[39mexcept\u001b[39;00m json\u001b[39m.\u001b[39mJSONDecodeError:\n\u001b[1;32m     62\u001b[0m         \u001b[39mraise\u001b[39;00m requests\u001b[39m.\u001b[39mHTTPError(\u001b[39mf\u001b[39m\u001b[39m'\u001b[39m\u001b[39mFailed to parse error response as JSON: \u001b[39m\u001b[39m{\u001b[39;00mresponse\u001b[39m.\u001b[39mtext\u001b[39m}\u001b[39;00m\u001b[39m'\u001b[39m)\n",
      "\u001b[0;31mHTTPError\u001b[0m: Failed to validate SPDI expression: NC_000001.11:-1:T:T."
     ]
    }
   ],
   "source": [
    "spdi_expression = SPDI(sequence='NC_000001.11',position=-1,insertion='T',deletion='T')"
   ]
  }
 ],
 "metadata": {
  "kernelspec": {
   "display_name": "test_dev_vrs_installation",
   "language": "python",
   "name": "python3"
  },
  "language_info": {
   "codemirror_mode": {
    "name": "ipython",
    "version": 3
   },
   "file_extension": ".py",
   "mimetype": "text/x-python",
   "name": "python",
   "nbconvert_exporter": "python",
   "pygments_lexer": "ipython3",
   "version": "3.9.15"
  }
 },
 "nbformat": 4,
 "nbformat_minor": 2
}
