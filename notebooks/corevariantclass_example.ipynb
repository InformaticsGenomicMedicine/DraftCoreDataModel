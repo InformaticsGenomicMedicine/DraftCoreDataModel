{
 "cells": [
  {
   "cell_type": "code",
   "execution_count": 1,
   "metadata": {},
   "outputs": [],
   "source": [
    "import sys\n",
    "sys.path.append('..')"
   ]
  },
  {
   "cell_type": "code",
   "execution_count": 2,
   "metadata": {},
   "outputs": [],
   "source": [
    "from src.core_variant import CoreVariantClass"
   ]
  },
  {
   "cell_type": "markdown",
   "metadata": {},
   "source": [
    "### Example 1"
   ]
  },
  {
   "cell_type": "code",
   "execution_count": 3,
   "metadata": {},
   "outputs": [],
   "source": [
    "example = CoreVariantClass(origCoordSystem='0-based interbase',seqType='DNA',\n",
    "                        refAllele='C',altAllele='A',start=12345,end=12346,\n",
    "                        allelicState= 'heterozygous',geneSymbol='GENE1',hgncId=123,\n",
    "                        chrom=3, genomeBuild='GRCh38', sequenceId='NC_000001.10')\n"
   ]
  },
  {
   "cell_type": "markdown",
   "metadata": {},
   "source": [
    "#### Demonstrating the initParams method from the CoreVariantClass module"
   ]
  },
  {
   "cell_type": "code",
   "execution_count": 4,
   "metadata": {},
   "outputs": [
    {
     "data": {
      "text/plain": [
       "{'origCoordSystem': '0-based interbase',\n",
       " 'seqType': 'DNA',\n",
       " 'allelicState': 'heterozygous',\n",
       " 'geneSymbol': 'GENE1',\n",
       " 'hgncId': 123,\n",
       " 'refAllele': 'C',\n",
       " 'altAllele': 'A',\n",
       " 'chrom': 3,\n",
       " 'genomeBuild': 'GRCh38',\n",
       " 'start': 12345,\n",
       " 'end': 12346,\n",
       " 'sequenceId': 'NC_000001.10'}"
      ]
     },
     "execution_count": 4,
     "metadata": {},
     "output_type": "execute_result"
    }
   ],
   "source": [
    "example.initParams()"
   ]
  },
  {
   "cell_type": "markdown",
   "metadata": {},
   "source": [
    "#### Demonstrating the normalized data method from the CoreVariantClass module"
   ]
  },
  {
   "cell_type": "code",
   "execution_count": 5,
   "metadata": {},
   "outputs": [
    {
     "data": {
      "text/plain": [
       "{'origCoordSystem': '0-based interbase',\n",
       " 'seqType': 'DNA',\n",
       " 'allelicState': 'heterozygous',\n",
       " 'associatedGene': {'geneSymbol': 'GENE1', 'hgncId': 123},\n",
       " 'refAllele': 'C',\n",
       " 'altAllele': 'A',\n",
       " 'position': {'chrom': 3,\n",
       "  'genomeBuild': 'GRCh38',\n",
       "  'start': 12345,\n",
       "  'end': 12346,\n",
       "  'sequenceId': 'NC_000001.10'}}"
      ]
     },
     "execution_count": 5,
     "metadata": {},
     "output_type": "execute_result"
    }
   ],
   "source": [
    "example.normalizedData()"
   ]
  },
  {
   "cell_type": "markdown",
   "metadata": {},
   "source": [
    "### Example 2"
   ]
  },
  {
   "cell_type": "code",
   "execution_count": 6,
   "metadata": {},
   "outputs": [],
   "source": [
    "example2 = CoreVariantClass(origCoordSystem='1-based counting',seqType='DNA',\n",
    "                        refAllele='C',altAllele='A',start=12346,end=12347,\n",
    "                        allelicState= 'heterozygous',geneSymbol='GENE1',hgncId=123,\n",
    "                        chrom=3, genomeBuild='GRCh38', sequenceId='NC_000001.10')"
   ]
  },
  {
   "cell_type": "markdown",
   "metadata": {},
   "source": [
    "#### Demonstrating the initParams method from the CoreVariantClass module"
   ]
  },
  {
   "cell_type": "code",
   "execution_count": 7,
   "metadata": {},
   "outputs": [
    {
     "data": {
      "text/plain": [
       "{'origCoordSystem': '1-based counting',\n",
       " 'seqType': 'DNA',\n",
       " 'allelicState': 'heterozygous',\n",
       " 'geneSymbol': 'GENE1',\n",
       " 'hgncId': 123,\n",
       " 'refAllele': 'C',\n",
       " 'altAllele': 'A',\n",
       " 'chrom': 3,\n",
       " 'genomeBuild': 'GRCh38',\n",
       " 'start': 12346,\n",
       " 'end': 12347,\n",
       " 'sequenceId': 'NC_000001.10'}"
      ]
     },
     "execution_count": 7,
     "metadata": {},
     "output_type": "execute_result"
    }
   ],
   "source": [
    "example2.initParams()"
   ]
  },
  {
   "cell_type": "markdown",
   "metadata": {},
   "source": [
    "#### Demonstrating how the normalizedData() will not work if the origCoordSystem is not equal to 0-based interbase."
   ]
  },
  {
   "cell_type": "code",
   "execution_count": 8,
   "metadata": {},
   "outputs": [
    {
     "ename": "ValueError",
     "evalue": "Invalid origCoordSystem. Data can not be normalized",
     "output_type": "error",
     "traceback": [
      "\u001b[0;31m---------------------------------------------------------------------------\u001b[0m",
      "\u001b[0;31mValueError\u001b[0m                                Traceback (most recent call last)",
      "\u001b[1;32m/Users/M278428/Documents/rf_lab_projects/DraftCoreDataModel/notebooks/corevariantclass_example.ipynb Cell 14\u001b[0m in \u001b[0;36m1\n\u001b[0;32m----> <a href='vscode-notebook-cell:/Users/M278428/Documents/rf_lab_projects/DraftCoreDataModel/notebooks/corevariantclass_example.ipynb#X16sZmlsZQ%3D%3D?line=0'>1</a>\u001b[0m example2\u001b[39m.\u001b[39;49mnormalizedData()\n",
      "File \u001b[0;32m~/Documents/rf_lab_projects/DraftCoreDataModel/notebooks/../src/core_variant.py:77\u001b[0m, in \u001b[0;36mCoreVariantClass.normalizedData\u001b[0;34m(self)\u001b[0m\n\u001b[1;32m     61\u001b[0m     \u001b[39mreturn\u001b[39;00m {\n\u001b[1;32m     62\u001b[0m     \u001b[39m'\u001b[39m\u001b[39morigCoordSystem\u001b[39m\u001b[39m'\u001b[39m: \u001b[39mself\u001b[39m\u001b[39m.\u001b[39morigCoordSystem,\n\u001b[1;32m     63\u001b[0m     \u001b[39m'\u001b[39m\u001b[39mseqType\u001b[39m\u001b[39m'\u001b[39m:  \u001b[39mself\u001b[39m\u001b[39m.\u001b[39m_validate_seqType(\u001b[39mself\u001b[39m\u001b[39m.\u001b[39mseqType),\n\u001b[0;32m   (...)\u001b[0m\n\u001b[1;32m     74\u001b[0m         }\n\u001b[1;32m     75\u001b[0m     }\n\u001b[1;32m     76\u001b[0m \u001b[39melse\u001b[39;00m:\n\u001b[0;32m---> 77\u001b[0m     \u001b[39mraise\u001b[39;00m \u001b[39mValueError\u001b[39;00m(\u001b[39m'\u001b[39m\u001b[39mInvalid origCoordSystem. Data can not be normalized\u001b[39m\u001b[39m'\u001b[39m)\n",
      "\u001b[0;31mValueError\u001b[0m: Invalid origCoordSystem. Data can not be normalized"
     ]
    }
   ],
   "source": [
    "example2.normalizedData()"
   ]
  }
 ],
 "metadata": {
  "kernelspec": {
   "display_name": "test_dev_vrs_installation",
   "language": "python",
   "name": "python3"
  },
  "language_info": {
   "codemirror_mode": {
    "name": "ipython",
    "version": 3
   },
   "file_extension": ".py",
   "mimetype": "text/x-python",
   "name": "python",
   "nbconvert_exporter": "python",
   "pygments_lexer": "ipython3",
   "version": "3.9.15"
  },
  "orig_nbformat": 4
 },
 "nbformat": 4,
 "nbformat_minor": 2
}
