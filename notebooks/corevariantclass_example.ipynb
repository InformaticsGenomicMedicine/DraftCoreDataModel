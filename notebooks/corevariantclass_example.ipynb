{
 "cells": [
  {
   "cell_type": "code",
   "execution_count": 1,
   "metadata": {},
   "outputs": [],
   "source": [
    "import sys\n",
    "sys.path.append('..')"
   ]
  },
  {
   "cell_type": "code",
   "execution_count": 2,
   "metadata": {},
   "outputs": [],
   "source": [
    "from src.core_variant import CoreVariantClass"
   ]
  },
  {
   "cell_type": "code",
   "execution_count": 3,
   "metadata": {},
   "outputs": [],
   "source": [
    "example = CoreVariantClass(origCoordSystem='0-based interbase',seqType='DnA',\n",
    "                        refAllele='1',altAllele='2',start=1,end=2,\n",
    "                        allelicState = 'Heterozygous',geneSymbol='hi',hgncId=10,\n",
    "                        chrom='MT', genomeBuild='b38', sequenceId='NC_000004.11')\n"
   ]
  },
  {
   "cell_type": "markdown",
   "metadata": {},
   "source": [
    "#### Demonstrating the initParams method from the CoreVariantClass module"
   ]
  },
  {
   "cell_type": "code",
   "execution_count": 4,
   "metadata": {},
   "outputs": [
    {
     "data": {
      "text/plain": [
       "{'origCoordSystem': '0-based interbase',\n",
       " 'seqType': 'DnA',\n",
       " 'allelicState': 'Heterozygous',\n",
       " 'geneSymbol': 'hi',\n",
       " 'hgncId': 10,\n",
       " 'refAllele': '1',\n",
       " 'altAllele': '2',\n",
       " 'chrom': 'MT',\n",
       " 'genomeBuild': 'b38',\n",
       " 'start': 1,\n",
       " 'end': 2,\n",
       " 'sequenceId': 'NC_000004.11'}"
      ]
     },
     "execution_count": 4,
     "metadata": {},
     "output_type": "execute_result"
    }
   ],
   "source": [
    "example.initParams()"
   ]
  },
  {
   "cell_type": "markdown",
   "metadata": {},
   "source": [
    "#### Demonstrating the normalized data method from the CoreVariantClass module"
   ]
  },
  {
   "cell_type": "code",
   "execution_count": 5,
   "metadata": {},
   "outputs": [
    {
     "data": {
      "text/plain": [
       "{'origCoordSystem': '0-based interbase',\n",
       " 'seqType': 'DNA',\n",
       " 'allelicState': 'heterozygous',\n",
       " 'associatedGene': {'geneSymbol': 'hi', 'hgncId': 10},\n",
       " 'refAllele': '1',\n",
       " 'altAllele': '2',\n",
       " 'position': {'chrom': 'MT',\n",
       "  'genomeBuild': 'b38',\n",
       "  'start': 1,\n",
       "  'end': 2,\n",
       "  'sequenceId': 'NC_000004.11'}}"
      ]
     },
     "execution_count": 5,
     "metadata": {},
     "output_type": "execute_result"
    }
   ],
   "source": [
    "example.normalizedData()"
   ]
  }
 ],
 "metadata": {
  "kernelspec": {
   "display_name": "test_dev_vrs_installation",
   "language": "python",
   "name": "python3"
  },
  "language_info": {
   "codemirror_mode": {
    "name": "ipython",
    "version": 3
   },
   "file_extension": ".py",
   "mimetype": "text/x-python",
   "name": "python",
   "nbconvert_exporter": "python",
   "pygments_lexer": "ipython3",
   "version": "3.9.15"
  },
  "orig_nbformat": 4
 },
 "nbformat": 4,
 "nbformat_minor": 2
}
