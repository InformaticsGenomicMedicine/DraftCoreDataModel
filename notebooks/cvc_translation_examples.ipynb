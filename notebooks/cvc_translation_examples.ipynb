{
 "cells": [
  {
   "cell_type": "code",
   "execution_count": 1,
   "metadata": {},
   "outputs": [],
   "source": [
    "#RUN FOR GITHUB CODESPACE\n",
    "import sys\n",
    "import warnings\n",
    "\n",
    "sys.path.append('..')\n",
    "warnings.filterwarnings('ignore')"
   ]
  },
  {
   "cell_type": "code",
   "execution_count": 2,
   "metadata": {},
   "outputs": [],
   "source": [
    "from src.core_variant import CoreVariantClass\n",
    "from src.cvc_to_variant_translate import CVCTranslatorFrom\n",
    "from src.variant_to_cvc_translate import CVCTranslatorTo"
   ]
  },
  {
   "cell_type": "code",
   "execution_count": 3,
   "metadata": {},
   "outputs": [],
   "source": [
    "#NOTE: ToTranslate and CVCTranslator were separated for review purposes, will be planning to combine these two modules together. \n",
    "cvc_translator_from = CVCTranslatorFrom()\n",
    "cvc_translator_to = CVCTranslatorTo()"
   ]
  },
  {
   "cell_type": "markdown",
   "metadata": {},
   "source": [
    "### cvc_to_variant_translate Module Overview\n",
    "\n",
    "The `cvc_to_variant_translate` module offers functionality for translating variations from `CoreVariantClass` into `HGVS`, `SPDI`, or `VRS`.\n",
    "\n",
    "#### Features\n",
    "- **CoreVariantClass to SPDI Translation**: Translates `CoreVariantClass` expressions into `SPDI` expression.\n",
    "- **CoreVariantClass to HGVS Translation**: Translates `CoreVariantClass` expressions into `HGVS` expression.\n",
    "- **CoreVariantClass to VRS Translation**: Translates `CoreVariantClass` expressions into `VRS` expression.\n",
    "\n",
    "#### Dependencies\n",
    "- **External APIs**:\n",
    "  - Biocommons SeqRepo API\n",
    "  - NCBI Variation Services API\n",
    "\n",
    "- **Python Packages**:\n",
    "  - `vrs-python`\n",
    "  - `hgvs`\n"
   ]
  },
  {
   "cell_type": "code",
   "execution_count": 4,
   "metadata": {},
   "outputs": [
    {
     "data": {
      "text/plain": [
       "CoreVariantClass(0-based interbase,DNA,C,T,27453448,27453449,None,IFT172,None,2,GRCh38,NC_000002.12,{})"
      ]
     },
     "execution_count": 4,
     "metadata": {},
     "output_type": "execute_result"
    }
   ],
   "source": [
    "cvc = CoreVariantClass(\n",
    "    origCoordSystem=\"0-based interbase\",\n",
    "    seqType=\"DNA\",\n",
    "    refAllele=\"C\",\n",
    "    altAllele=\"T\",\n",
    "    start=27453448,\n",
    "    end=27453449,\n",
    "    allelicState=None,\n",
    "    geneSymbol=\"IFT172\",\n",
    "    hgncId=None,\n",
    "    chrom=\"chr 2\",\n",
    "    genomeBuild=\"GRCh38\",\n",
    "    sequenceId=\"NC_000002.12\"\n",
    ")\n",
    "cvc"
   ]
  },
  {
   "cell_type": "code",
   "execution_count": 5,
   "metadata": {},
   "outputs": [
    {
     "data": {
      "text/plain": [
       "'NC_000002.12:g.27453449C>T'"
      ]
     },
     "execution_count": 5,
     "metadata": {},
     "output_type": "execute_result"
    }
   ],
   "source": [
    "hgvs_example = cvc_translator_from.cvc_to_hgvs(cvc)\n",
    "hgvs_example"
   ]
  },
  {
   "cell_type": "code",
   "execution_count": 6,
   "metadata": {},
   "outputs": [
    {
     "data": {
      "text/plain": [
       "'NC_000002.12:27453448:C:T'"
      ]
     },
     "execution_count": 6,
     "metadata": {},
     "output_type": "execute_result"
    }
   ],
   "source": [
    "spdi_example = cvc_translator_from.cvc_to_spdi(cvc)\n",
    "spdi_example"
   ]
  },
  {
   "cell_type": "code",
   "execution_count": 7,
   "metadata": {},
   "outputs": [
    {
     "data": {
      "text/plain": [
       "{'_id': 'ga4gh:VA.fXvhngewkkyVwzEeSJRr5tro8Jcol6Q-',\n",
       " 'type': 'Allele',\n",
       " 'location': {'_id': 'ga4gh:VSL.nLMbYalHO4OEI2axqkyTMCQxrH98UpDN',\n",
       "  'type': 'SequenceLocation',\n",
       "  'sequence_id': 'ga4gh:SQ.pnAqCRBrTsUoBghSD1yp_jXWSmlbdh4g',\n",
       "  'interval': {'type': 'SequenceInterval',\n",
       "   'start': {'type': 'Number', 'value': 27453448},\n",
       "   'end': {'type': 'Number', 'value': 27453449}}},\n",
       " 'state': {'type': 'LiteralSequenceExpression', 'sequence': 'T'}}"
      ]
     },
     "execution_count": 7,
     "metadata": {},
     "output_type": "execute_result"
    }
   ],
   "source": [
    "vrs_example = cvc_translator_from.cvc_to_vrs(cvc)\n",
    "vrs_example.as_dict()"
   ]
  },
  {
   "cell_type": "markdown",
   "metadata": {},
   "source": [
    "### variant_to_cvc_translate Module Overview\n",
    "\n",
    "The `variant_to_cvc_translate` module offers functionality for translating variations from `HGVS`, `SPDI`, or `VRS` formats into the `CoreVariantClass`.\n",
    "\n",
    "#### Features\n",
    "- **SPDI to CoreVariantClass Translation**: Translates `SPDI` expressions into `CoreVariantClass` objects.\n",
    "- **HGVS to CoreVariantClass Translation**: Translates `HGVS` expressions into `CoreVariantClass` objects.\n",
    "- **VRS to CoreVariantClass Translation**: Translates `VRS` expressions into `CoreVariantClass` objects.\n",
    "\n",
    "#### Dependencies\n",
    "- **External APIs**:\n",
    "  - Biocommons SeqRepo API\n",
    "  - NCBI Variation Services API\n",
    "\n",
    "- **Python Packages**:\n",
    "  - bioutils.normalize\n",
    "  - hgvs\n"
   ]
  },
  {
   "cell_type": "code",
   "execution_count": 8,
   "metadata": {},
   "outputs": [
    {
     "data": {
      "text/plain": [
       "CoreVariantClass(0-based interbase,DNA,C,T,27453448,27453449,None,None,None,None,None,NC_000002.12,{})"
      ]
     },
     "execution_count": 8,
     "metadata": {},
     "output_type": "execute_result"
    }
   ],
   "source": [
    "cvc_translator_to.hgvs_to_cvc(hgvs_example)"
   ]
  },
  {
   "cell_type": "code",
   "execution_count": 9,
   "metadata": {},
   "outputs": [
    {
     "data": {
      "text/plain": [
       "CoreVariantClass(0-based interbase,DNA,C,T,27453448,27453449,None,None,None,None,None,NC_000002.12,{})"
      ]
     },
     "execution_count": 9,
     "metadata": {},
     "output_type": "execute_result"
    }
   ],
   "source": [
    "cvc_translator_to.spdi_to_cvc(spdi_example)"
   ]
  },
  {
   "cell_type": "code",
   "execution_count": 10,
   "metadata": {},
   "outputs": [
    {
     "data": {
      "text/plain": [
       "CoreVariantClass(0-based interbase,DNA,C,T,27453448,27453449,None,None,None,None,None,NC_000002.12,{})"
      ]
     },
     "execution_count": 10,
     "metadata": {},
     "output_type": "execute_result"
    }
   ],
   "source": [
    "cvc_translator_to.vrs_to_cvc(vrs_example)"
   ]
  }
 ],
 "metadata": {
  "kernelspec": {
   "display_name": "DraftCoreDataModel-MMFV8Z-X",
   "language": "python",
   "name": "python3"
  },
  "language_info": {
   "codemirror_mode": {
    "name": "ipython",
    "version": 3
   },
   "file_extension": ".py",
   "mimetype": "text/x-python",
   "name": "python",
   "nbconvert_exporter": "python",
   "pygments_lexer": "ipython3",
   "version": "3.11.5"
  }
 },
 "nbformat": 4,
 "nbformat_minor": 2
}
