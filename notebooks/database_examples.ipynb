{
 "cells": [
  {
   "cell_type": "code",
   "execution_count": 3,
   "metadata": {},
   "outputs": [],
   "source": [
    "import sys\n",
    "sys.path.append('..')"
   ]
  },
  {
   "cell_type": "code",
   "execution_count": 4,
   "metadata": {},
   "outputs": [],
   "source": [
    "from src.database.database_extract import request_local_api\n",
    "extract = request_local_api()"
   ]
  },
  {
   "cell_type": "markdown",
   "metadata": {},
   "source": [
    "#### Extracting examples based on rowID"
   ]
  },
  {
   "cell_type": "code",
   "execution_count": 5,
   "metadata": {},
   "outputs": [
    {
     "ename": "AttributeError",
     "evalue": "'request_local_api' object has no attribute 'cursor'",
     "output_type": "error",
     "traceback": [
      "\u001b[0;31m---------------------------------------------------------------------------\u001b[0m",
      "\u001b[0;31mAttributeError\u001b[0m                            Traceback (most recent call last)",
      "Cell \u001b[0;32mIn [5], line 1\u001b[0m\n\u001b[0;32m----> 1\u001b[0m example \u001b[38;5;241m=\u001b[39m \u001b[43mextract\u001b[49m\u001b[38;5;241;43m.\u001b[39;49m\u001b[43mgetExample\u001b[49m\u001b[43m(\u001b[49m\u001b[43mrowId\u001b[49m\u001b[38;5;241;43m=\u001b[39;49m\u001b[38;5;241;43m1\u001b[39;49m\u001b[43m)\u001b[49m\n\u001b[1;32m      2\u001b[0m example\n",
      "File \u001b[0;32m~/Documents/rf_lab_projects/DraftCoreDataModel/src/database/database_extract.py:52\u001b[0m, in \u001b[0;36mrequest_local_api.getExample\u001b[0;34m(self, rowId)\u001b[0m\n\u001b[1;32m     49\u001b[0m     \u001b[38;5;28;01mreturn\u001b[39;00m e\n\u001b[1;32m     51\u001b[0m \u001b[38;5;28;01mfinally\u001b[39;00m:\n\u001b[0;32m---> 52\u001b[0m     \u001b[38;5;28;43mself\u001b[39;49m\u001b[38;5;241;43m.\u001b[39;49m\u001b[43mcursor\u001b[49m\u001b[38;5;241m.\u001b[39mclose()\n\u001b[1;32m     53\u001b[0m     \u001b[38;5;28mself\u001b[39m\u001b[38;5;241m.\u001b[39mconnect\u001b[38;5;241m.\u001b[39mclose()\n",
      "\u001b[0;31mAttributeError\u001b[0m: 'request_local_api' object has no attribute 'cursor'"
     ]
    }
   ],
   "source": [
    "example = extract.getExample(rowId=1)\n",
    "example"
   ]
  },
  {
   "cell_type": "markdown",
   "metadata": {},
   "source": [
    "#### Extracting all the examples in the DemoDatabase"
   ]
  },
  {
   "cell_type": "code",
   "execution_count": 6,
   "metadata": {},
   "outputs": [
    {
     "data": {
      "text/plain": [
       "[(1,\n",
       "  '0-based interbase',\n",
       "  'DNA',\n",
       "  'C',\n",
       "  'A',\n",
       "  12345,\n",
       "  12346,\n",
       "  '3',\n",
       "  'GRCh38',\n",
       "  'NC_000001.10',\n",
       "  'heterozygous',\n",
       "  'GENE1',\n",
       "  123,\n",
       "  'NC_000001.10:12345:C:A',\n",
       "  'spdi_str',\n",
       "  'NC_000001.10:12345:C:A',\n",
       "  'NC_000001.10:g.12346C>A',\n",
       "  {'_id': 'ga4gh:VA.CWDQtAfFv3QnUqN3up3J1bs32JVSKFPk',\n",
       "   'type': 'Allele',\n",
       "   'state': {'type': 'LiteralSequenceExpression', 'sequence': 'A'},\n",
       "   'location': {'_id': 'ga4gh:VSL.ixj_LC0E_4GQvm7dtG4r5gjf88lWRxU1',\n",
       "    'type': 'SequenceLocation',\n",
       "    'interval': {'end': {'type': 'Number', 'value': 12346},\n",
       "     'type': 'SequenceInterval',\n",
       "     'start': {'type': 'Number', 'value': 12345}},\n",
       "    'sequence_id': 'ga4gh:SQ.S_KjnFVz-FE7M0W6yoaUDgYxLPc1jyWU'}}),\n",
       " (2,\n",
       "  '0-based interbase',\n",
       "  'DNA',\n",
       "  'A',\n",
       "  'ACAG',\n",
       "  55972968,\n",
       "  55972972,\n",
       "  '4',\n",
       "  'GRCh38',\n",
       "  'NC_000004.11',\n",
       "  'homozygous',\n",
       "  'KDR',\n",
       "  1234,\n",
       "  'NC_000004.11:55972968:A:ACAG',\n",
       "  'spdi_str',\n",
       "  'NC_000004.11:55972968:A:ACAG',\n",
       "  'NC_000004.11:g.55972971_55972973dup',\n",
       "  {'_id': 'ga4gh:VA.niXsdxsUqpwZFFC2BLgg-mn4h8rHJ1yv',\n",
       "   'type': 'Allele',\n",
       "   'state': {'type': 'LiteralSequenceExpression', 'sequence': 'CAGCAGC'},\n",
       "   'location': {'_id': 'ga4gh:VSL.DHM-FCc76H_ev4UpbsY2av_RDj1u0K-o',\n",
       "    'type': 'SequenceLocation',\n",
       "    'interval': {'end': {'type': 'Number', 'value': 55972973},\n",
       "     'type': 'SequenceInterval',\n",
       "     'start': {'type': 'Number', 'value': 55972969}},\n",
       "    'sequence_id': 'ga4gh:SQ.iy7Zfceb5_VGtTQzJ-v5JpPbpeifHD_V'}})]"
      ]
     },
     "execution_count": 6,
     "metadata": {},
     "output_type": "execute_result"
    }
   ],
   "source": [
    "example_all = extract.getAllExamples()\n",
    "example_all"
   ]
  },
  {
   "cell_type": "markdown",
   "metadata": {},
   "source": [
    "#### Converting a row from the data from DemoCoreLiteDB into a core variant class"
   ]
  },
  {
   "cell_type": "code",
   "execution_count": 7,
   "metadata": {},
   "outputs": [
    {
     "data": {
      "text/plain": [
       "{'origCoordSystem': '0-based interbase',\n",
       " 'seqType': 'DNA',\n",
       " 'allelicState': 'heterozygous',\n",
       " 'geneSymbol': 'GENE1',\n",
       " 'hgncId': 123,\n",
       " 'refAllele': 'C',\n",
       " 'altAllele': 'A',\n",
       " 'chrom': '3',\n",
       " 'genomeBuild': 'GRCh38',\n",
       " 'start': 12345,\n",
       " 'end': 12346,\n",
       " 'sequenceId': 'NC_000001.10'}"
      ]
     },
     "execution_count": 7,
     "metadata": {},
     "output_type": "execute_result"
    }
   ],
   "source": [
    "example_cvc = extract.db_to_cvc(rowId=1)\n",
    "example_cvc"
   ]
  }
 ],
 "metadata": {
  "kernelspec": {
   "display_name": "test_dev_vrs_installation",
   "language": "python",
   "name": "python3"
  },
  "language_info": {
   "codemirror_mode": {
    "name": "ipython",
    "version": 3
   },
   "file_extension": ".py",
   "mimetype": "text/x-python",
   "name": "python",
   "nbconvert_exporter": "python",
   "pygments_lexer": "ipython3",
   "version": "3.9.15"
  },
  "orig_nbformat": 4
 },
 "nbformat": 4,
 "nbformat_minor": 2
}
