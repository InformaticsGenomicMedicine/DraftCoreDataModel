{
 "cells": [
  {
   "cell_type": "code",
   "execution_count": 1,
   "metadata": {},
   "outputs": [],
   "source": [
    "#RUN FOR GITHUB CODESPACE\n",
    "import sys\n",
    "import warnings\n",
    "\n",
    "sys.path.append('..')\n",
    "warnings.filterwarnings('ignore')\n"
   ]
  },
  {
   "cell_type": "code",
   "execution_count": 2,
   "metadata": {},
   "outputs": [],
   "source": [
    "from database.db_operation import DbOperation"
   ]
  },
  {
   "cell_type": "markdown",
   "metadata": {},
   "source": [
    "### Goldstandard Database Notebook\n",
    "\n",
    "This notebook will demonstrate the usage of the Goldstandard database (GSDB). GSDB is composed of 3 tables with the following schema:\n",
    "\n",
    "**Expression:**\n",
    "- id\n",
    "- variation_id \n",
    "- profile_id\n",
    "- description\n",
    "- value\n",
    "\n",
    "**Profile:**\n",
    "- id\n",
    "- name\n",
    "- version\n",
    "- description\n",
    "\n",
    "**Variation:**\n",
    "- id\n",
    "- xref\n",
    "- description\n",
    "\n",
    "A 4th view table is created called CombineData that is a virtual table of combinations of the three tables. It includes Profile.name, Profile.version, Variation.xref, Expression.value. This table will be represented as a pandas DataFrame and will be used for various translations shown below. \n",
    "\n",
    "**Note:** This database is in alpha stage and has the potential to change in schema and data.\n",
    "\n"
   ]
  },
  {
   "cell_type": "markdown",
   "metadata": {},
   "source": [
    "#### Example Database"
   ]
  },
  {
   "cell_type": "code",
   "execution_count": 3,
   "metadata": {},
   "outputs": [],
   "source": [
    "#Connect to gold standard database\n",
    "db = DbOperation('../database/gsdb_v2.db')\n",
    "\n",
    "#Convert database to pandas DataFrame\n",
    "df = db.get_combined_in_df()"
   ]
  },
  {
   "cell_type": "code",
   "execution_count": 4,
   "metadata": {},
   "outputs": [
    {
     "data": {
      "text/html": [
       "<div>\n",
       "<style scoped>\n",
       "    .dataframe tbody tr th:only-of-type {\n",
       "        vertical-align: middle;\n",
       "    }\n",
       "\n",
       "    .dataframe tbody tr th {\n",
       "        vertical-align: top;\n",
       "    }\n",
       "\n",
       "    .dataframe thead th {\n",
       "        text-align: right;\n",
       "    }\n",
       "</style>\n",
       "<table border=\"1\" class=\"dataframe\">\n",
       "  <thead>\n",
       "    <tr style=\"text-align: right;\">\n",
       "      <th></th>\n",
       "      <th>name</th>\n",
       "      <th>version</th>\n",
       "      <th>description</th>\n",
       "      <th>xref</th>\n",
       "      <th>value</th>\n",
       "    </tr>\n",
       "  </thead>\n",
       "  <tbody>\n",
       "    <tr>\n",
       "      <th>0</th>\n",
       "      <td>cvc</td>\n",
       "      <td>0.1</td>\n",
       "      <td>Deletion</td>\n",
       "      <td>https://www.ncbi.nlm.nih.gov/clinvar/variation...</td>\n",
       "      <td>{'origCoordSystem': '0-based interbase', 'seqT...</td>\n",
       "    </tr>\n",
       "    <tr>\n",
       "      <th>1</th>\n",
       "      <td>spdi</td>\n",
       "      <td>0.1</td>\n",
       "      <td>Deletion</td>\n",
       "      <td>https://www.ncbi.nlm.nih.gov/clinvar/variation...</td>\n",
       "      <td>NC_000001.11:1014263:CC:C</td>\n",
       "    </tr>\n",
       "    <tr>\n",
       "      <th>2</th>\n",
       "      <td>hgvs</td>\n",
       "      <td>0.1</td>\n",
       "      <td>Deletion</td>\n",
       "      <td>https://www.ncbi.nlm.nih.gov/clinvar/variation...</td>\n",
       "      <td>NC_000001.11:g.1014265del</td>\n",
       "    </tr>\n",
       "    <tr>\n",
       "      <th>3</th>\n",
       "      <td>vrs</td>\n",
       "      <td>1.3</td>\n",
       "      <td>Deletion</td>\n",
       "      <td>https://www.ncbi.nlm.nih.gov/clinvar/variation...</td>\n",
       "      <td>{'_id': 'ga4gh:VA.BmF3zr2l6XLpLaK8GInM6Q3Emc3J...</td>\n",
       "    </tr>\n",
       "    <tr>\n",
       "      <th>4</th>\n",
       "      <td>cvc</td>\n",
       "      <td>0.1</td>\n",
       "      <td>Deletion</td>\n",
       "      <td>https://www.ncbi.nlm.nih.gov/clinvar/variation...</td>\n",
       "      <td>{'origCoordSystem': '0-based interbase', 'seqT...</td>\n",
       "    </tr>\n",
       "  </tbody>\n",
       "</table>\n",
       "</div>"
      ],
      "text/plain": [
       "   name version description  \\\n",
       "0   cvc     0.1    Deletion   \n",
       "1  spdi     0.1    Deletion   \n",
       "2  hgvs     0.1    Deletion   \n",
       "3   vrs     1.3    Deletion   \n",
       "4   cvc     0.1    Deletion   \n",
       "\n",
       "                                                xref  \\\n",
       "0  https://www.ncbi.nlm.nih.gov/clinvar/variation...   \n",
       "1  https://www.ncbi.nlm.nih.gov/clinvar/variation...   \n",
       "2  https://www.ncbi.nlm.nih.gov/clinvar/variation...   \n",
       "3  https://www.ncbi.nlm.nih.gov/clinvar/variation...   \n",
       "4  https://www.ncbi.nlm.nih.gov/clinvar/variation...   \n",
       "\n",
       "                                               value  \n",
       "0  {'origCoordSystem': '0-based interbase', 'seqT...  \n",
       "1                          NC_000001.11:1014263:CC:C  \n",
       "2                          NC_000001.11:g.1014265del  \n",
       "3  {'_id': 'ga4gh:VA.BmF3zr2l6XLpLaK8GInM6Q3Emc3J...  \n",
       "4  {'origCoordSystem': '0-based interbase', 'seqT...  "
      ]
     },
     "execution_count": 4,
     "metadata": {},
     "output_type": "execute_result"
    }
   ],
   "source": [
    "#A view of the database in a pandas DataFrame.\n",
    "df.head()"
   ]
  },
  {
   "cell_type": "markdown",
   "metadata": {},
   "source": [
    "### cvc_to_variant_translate Module Overview\n",
    "\n",
    "The `cvc_to_variant_translate` module offers functionality for translating variations from `CoreVariantClass` into HGVS, SPDI, or VRS formats.\n",
    "\n",
    "#### Features\n",
    "\n",
    "- **CoreVariantClass to HGVS Translation**: Translates CVC expressions into HGVS.\n",
    "\n",
    "- **CoreVariantClass to SPDI Translation**: Translates CVC expressions into SPDI.\n",
    "\n",
    "- **CoreVariantClass to VRS Translation**: Translates CVC expressions into VRS.\n",
    "\n",
    "#### Dependencies\n",
    "- **External APIs**:\n",
    "  - Biocmmons SeqRepo API\n",
    "  - NCBI Variation Services API\n",
    "\n",
    "- **Python Packages**:\n",
    "  - bioutils.normalize\n",
    "  - hgvs"
   ]
  },
  {
   "cell_type": "code",
   "execution_count": 5,
   "metadata": {},
   "outputs": [],
   "source": [
    "from src.core_variant import CoreVariantClass\n",
    "\n",
    "# Import module to preform the translations from cvc to hgvs,spdi, and vrs.\n",
    "from src.cvc_to_variant_translate import ToTranslate\n",
    "cvc_to = ToTranslate()"
   ]
  },
  {
   "cell_type": "code",
   "execution_count": 6,
   "metadata": {},
   "outputs": [
    {
     "name": "stdout",
     "output_type": "stream",
     "text": [
      "CVC Expression: {'origCoordSystem': '0-based interbase', 'seqType': 'DNA', 'refAllele': 'CC', 'altAllele': 'C', 'start': 1014263, 'end': 1014265, 'allelicState': None, 'geneSymbol': None, 'hgncId': None, 'chrom': None, 'genomeBuild': None, 'sequenceId': 'NC_000001.11'}\n",
      "\n",
      "Translated to HGVS: NC_000001.11:g.1014265del\n",
      "\n",
      "Translated to SPDI: NC_000001.11:1014263:CC:C\n",
      "\n",
      "Translated to VRS: {'_id': 'ga4gh:VA.BmF3zr2l6XLpLaK8GInM6Q3Emc3JyPD3', 'type': 'Allele', 'location': {'_id': 'ga4gh:VSL.i6Of9s2jVDuJ4vwU6sCeG-jT7ygmlfx6', 'type': 'SequenceLocation', 'sequence_id': 'ga4gh:SQ.Ya6Rs7DHhDeg7YaOSg1EoNi3U_nQ9SvO', 'interval': {'type': 'SequenceInterval', 'start': {'type': 'Number', 'value': 1014263}, 'end': {'type': 'Number', 'value': 1014265}}}, 'state': {'type': 'LiteralSequenceExpression', 'sequence': 'C'}}\n",
      "\n"
     ]
    }
   ],
   "source": [
    "#Bellow we will be demonstrating various method that will allow us to translate from teh CoreVarientClass to HGVS,SPDI, and VRS expressions.\n",
    "# This Cell is showing an overview of us capturing one cvc example from the DataFrame and translating it into the various expressions. \n",
    "example = db.extract_values(df,'cvc')[:1]\n",
    "\n",
    "\n",
    "for data in example:\n",
    "    print(f'CVC Expression: {data}\\n')\n",
    "    print(f'Translated to HGVS: {cvc_to.cvc_to_hgvs(CoreVariantClass(**data))}\\n')\n",
    "    print(f'Translated to SPDI: {cvc_to.cvc_to_spdi(CoreVariantClass(**data))}\\n')\n",
    "    print(f'Translated to VRS: {cvc_to.cvc_to_vrs(CoreVariantClass(**data)).as_dict()}\\n')"
   ]
  },
  {
   "cell_type": "markdown",
   "metadata": {},
   "source": [
    "#### More Example Data"
   ]
  },
  {
   "cell_type": "code",
   "execution_count": 7,
   "metadata": {},
   "outputs": [],
   "source": [
    "#Capturing the cvc data in the DataFrame\n",
    "cvc_data = db.extract_values(df,'cvc')[:3]"
   ]
  },
  {
   "cell_type": "code",
   "execution_count": 8,
   "metadata": {},
   "outputs": [
    {
     "name": "stdout",
     "output_type": "stream",
     "text": [
      "CVC Expression: {'origCoordSystem': '0-based interbase', 'seqType': 'DNA', 'refAllele': 'CC', 'altAllele': 'C', 'start': 1014263, 'end': 1014265, 'allelicState': None, 'geneSymbol': None, 'hgncId': None, 'chrom': None, 'genomeBuild': None, 'sequenceId': 'NC_000001.11'}\n",
      "Translated to HGVS: NC_000001.11:g.1014265del\n",
      "\n",
      "CVC Expression: {'origCoordSystem': '0-based interbase', 'seqType': 'DNA', 'refAllele': 'GCATCG', 'altAllele': 'G', 'start': 15445654, 'end': 15445660, 'allelicState': None, 'geneSymbol': None, 'hgncId': None, 'chrom': None, 'genomeBuild': None, 'sequenceId': 'NC_000001.11'}\n",
      "Translated to HGVS: NC_000001.11:g.15445656_15445660del\n",
      "\n",
      "CVC Expression: {'origCoordSystem': '0-based interbase', 'seqType': 'DNA', 'refAllele': 'AG', 'altAllele': '', 'start': 1510945, 'end': 1510947, 'allelicState': None, 'geneSymbol': None, 'hgncId': None, 'chrom': None, 'genomeBuild': None, 'sequenceId': 'NC_000016.10'}\n",
      "Translated to HGVS: NC_000016.10:g.1510946_1510947del\n",
      "\n"
     ]
    }
   ],
   "source": [
    "#Translating the cvc object into a HGVS expression\n",
    "for data in cvc_data:\n",
    "    print(f'CVC Expression: {data}')\n",
    "    print(f'Translated to HGVS: {cvc_to.cvc_to_hgvs(CoreVariantClass(**data))}\\n')\n"
   ]
  },
  {
   "cell_type": "code",
   "execution_count": 9,
   "metadata": {},
   "outputs": [
    {
     "name": "stdout",
     "output_type": "stream",
     "text": [
      "CVC Expression: {'origCoordSystem': '0-based interbase', 'seqType': 'DNA', 'refAllele': 'CC', 'altAllele': 'C', 'start': 1014263, 'end': 1014265, 'allelicState': None, 'geneSymbol': None, 'hgncId': None, 'chrom': None, 'genomeBuild': None, 'sequenceId': 'NC_000001.11'}\n",
      "Translated to SPDI: NC_000001.11:1014263:CC:C\n",
      "\n",
      "CVC Expression: {'origCoordSystem': '0-based interbase', 'seqType': 'DNA', 'refAllele': 'GCATCG', 'altAllele': 'G', 'start': 15445654, 'end': 15445660, 'allelicState': None, 'geneSymbol': None, 'hgncId': None, 'chrom': None, 'genomeBuild': None, 'sequenceId': 'NC_000001.11'}\n",
      "Translated to SPDI: NC_000001.11:15445654:GCATCG:G\n",
      "\n",
      "CVC Expression: {'origCoordSystem': '0-based interbase', 'seqType': 'DNA', 'refAllele': 'AG', 'altAllele': '', 'start': 1510945, 'end': 1510947, 'allelicState': None, 'geneSymbol': None, 'hgncId': None, 'chrom': None, 'genomeBuild': None, 'sequenceId': 'NC_000016.10'}\n",
      "Translated to SPDI: NC_000016.10:1510945:AG:\n",
      "\n"
     ]
    }
   ],
   "source": [
    "#Translating the cvc object into a SPDI expression\n",
    "for data in cvc_data:\n",
    "    print(f'CVC Expression: {data}')\n",
    "    print(f'Translated to SPDI: {cvc_to.cvc_to_spdi(CoreVariantClass(**data))}\\n')\n"
   ]
  },
  {
   "cell_type": "code",
   "execution_count": 10,
   "metadata": {},
   "outputs": [
    {
     "name": "stdout",
     "output_type": "stream",
     "text": [
      "CVC Expression: {'origCoordSystem': '0-based interbase', 'seqType': 'DNA', 'refAllele': 'CC', 'altAllele': 'C', 'start': 1014263, 'end': 1014265, 'allelicState': None, 'geneSymbol': None, 'hgncId': None, 'chrom': None, 'genomeBuild': None, 'sequenceId': 'NC_000001.11'}\n",
      "Translated to VRS: {'_id': 'ga4gh:VA.BmF3zr2l6XLpLaK8GInM6Q3Emc3JyPD3', 'type': 'Allele', 'location': {'_id': 'ga4gh:VSL.i6Of9s2jVDuJ4vwU6sCeG-jT7ygmlfx6', 'type': 'SequenceLocation', 'sequence_id': 'ga4gh:SQ.Ya6Rs7DHhDeg7YaOSg1EoNi3U_nQ9SvO', 'interval': {'type': 'SequenceInterval', 'start': {'type': 'Number', 'value': 1014263}, 'end': {'type': 'Number', 'value': 1014265}}}, 'state': {'type': 'LiteralSequenceExpression', 'sequence': 'C'}}\n",
      "\n",
      "CVC Expression: {'origCoordSystem': '0-based interbase', 'seqType': 'DNA', 'refAllele': 'GCATCG', 'altAllele': 'G', 'start': 15445654, 'end': 15445660, 'allelicState': None, 'geneSymbol': None, 'hgncId': None, 'chrom': None, 'genomeBuild': None, 'sequenceId': 'NC_000001.11'}\n",
      "Translated to VRS: {'_id': 'ga4gh:VA.5CfKpT5tErBj7PNtqdub7VOliwHEQLvs', 'type': 'Allele', 'location': {'_id': 'ga4gh:VSL.z-j8mH9v1lJf-MsQosxg_8gtRA1zKhuE', 'type': 'SequenceLocation', 'sequence_id': 'ga4gh:SQ.Ya6Rs7DHhDeg7YaOSg1EoNi3U_nQ9SvO', 'interval': {'type': 'SequenceInterval', 'start': {'type': 'Number', 'value': 15445654}, 'end': {'type': 'Number', 'value': 15445660}}}, 'state': {'type': 'LiteralSequenceExpression', 'sequence': 'G'}}\n",
      "\n",
      "CVC Expression: {'origCoordSystem': '0-based interbase', 'seqType': 'DNA', 'refAllele': 'AG', 'altAllele': '', 'start': 1510945, 'end': 1510947, 'allelicState': None, 'geneSymbol': None, 'hgncId': None, 'chrom': None, 'genomeBuild': None, 'sequenceId': 'NC_000016.10'}\n",
      "Translated to VRS: {'_id': 'ga4gh:VA.BAzdGf6SGQgUBZCADrRGSS61qYzhDWgy', 'type': 'Allele', 'location': {'_id': 'ga4gh:VSL.CFA82oReGyKLEaLcmWDyzOkd3L8nhvDV', 'type': 'SequenceLocation', 'sequence_id': 'ga4gh:SQ.yC_0RBj3fgBlvgyAuycbzdubtLxq-rE0', 'interval': {'type': 'SequenceInterval', 'start': {'type': 'Number', 'value': 1510945}, 'end': {'type': 'Number', 'value': 1510947}}}, 'state': {'type': 'LiteralSequenceExpression', 'sequence': ''}}\n",
      "\n"
     ]
    }
   ],
   "source": [
    "#Translating the cvc object into a VRS expression\n",
    "for data in cvc_data:\n",
    "    print(f'CVC Expression: {data}')\n",
    "    print(f'Translated to VRS: {cvc_to.cvc_to_vrs(CoreVariantClass(**data)).as_dict()}\\n')\n"
   ]
  }
 ],
 "metadata": {
  "kernelspec": {
   "display_name": "DraftCoreDataModel-MMFV8Z-X",
   "language": "python",
   "name": "python3"
  },
  "language_info": {
   "codemirror_mode": {
    "name": "ipython",
    "version": 3
   },
   "file_extension": ".py",
   "mimetype": "text/x-python",
   "name": "python",
   "nbconvert_exporter": "python",
   "pygments_lexer": "ipython3",
   "version": "3.11.5"
  }
 },
 "nbformat": 4,
 "nbformat_minor": 2
}
