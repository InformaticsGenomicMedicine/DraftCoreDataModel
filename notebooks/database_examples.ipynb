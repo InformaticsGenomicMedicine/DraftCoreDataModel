{
 "cells": [
  {
   "cell_type": "code",
   "execution_count": 3,
   "metadata": {},
   "outputs": [],
   "source": [
    "import sys\n",
    "sys.path.append('..')"
   ]
  },
  {
   "cell_type": "code",
   "execution_count": 4,
   "metadata": {},
   "outputs": [],
   "source": [
    "from src.database_extract import request_local_api\n",
    "extract = request_local_api()"
   ]
  },
  {
   "cell_type": "markdown",
   "metadata": {},
   "source": [
    "#### Extracting examples based on rowID"
   ]
  },
  {
   "cell_type": "code",
   "execution_count": 5,
   "metadata": {},
   "outputs": [
    {
     "data": {
      "text/plain": [
       "{'id': 1,\n",
       " 'origcoordsystem': '0-based interbase',\n",
       " 'seqtype': 'DNA',\n",
       " 'refallele': 'C',\n",
       " 'altallele': 'A',\n",
       " 'startcoord': 12345,\n",
       " 'endcoord': 12346,\n",
       " 'chrom': '3',\n",
       " 'genomebuild': 'GRCh38',\n",
       " 'sequenceid': 'NC_000001.10',\n",
       " 'allelicstate': 'heterozygous',\n",
       " 'genesymbol': 'GENE1',\n",
       " 'hgncid': 123,\n",
       " 'originalvalue': 'NC_000001.10:12345:C:A',\n",
       " 'originaltype': 'spdi_str',\n",
       " 'normspdi': 'NC_000001.10:12345:C:A',\n",
       " 'normhgvs': 'NC_000001.10:g.12346C>A',\n",
       " 'normvrs': {'_id': 'ga4gh:VA.CWDQtAfFv3QnUqN3up3J1bs32JVSKFPk',\n",
       "  'type': 'Allele',\n",
       "  'state': {'type': 'LiteralSequenceExpression', 'sequence': 'A'},\n",
       "  'location': {'_id': 'ga4gh:VSL.ixj_LC0E_4GQvm7dtG4r5gjf88lWRxU1',\n",
       "   'type': 'SequenceLocation',\n",
       "   'interval': {'end': {'type': 'Number', 'value': 12346},\n",
       "    'type': 'SequenceInterval',\n",
       "    'start': {'type': 'Number', 'value': 12345}},\n",
       "   'sequence_id': 'ga4gh:SQ.S_KjnFVz-FE7M0W6yoaUDgYxLPc1jyWU'}}}"
      ]
     },
     "execution_count": 5,
     "metadata": {},
     "output_type": "execute_result"
    }
   ],
   "source": [
    "example = extract.getExample(rowId=1)\n",
    "example"
   ]
  },
  {
   "cell_type": "markdown",
   "metadata": {},
   "source": [
    "#### Extracting all the examples in the DemoDatabase"
   ]
  },
  {
   "cell_type": "code",
   "execution_count": 6,
   "metadata": {},
   "outputs": [
    {
     "data": {
      "text/plain": [
       "[(1,\n",
       "  '0-based interbase',\n",
       "  'DNA',\n",
       "  'C',\n",
       "  'A',\n",
       "  12345,\n",
       "  12346,\n",
       "  '3',\n",
       "  'GRCh38',\n",
       "  'NC_000001.10',\n",
       "  'heterozygous',\n",
       "  'GENE1',\n",
       "  123,\n",
       "  'NC_000001.10:12345:C:A',\n",
       "  'spdi_str',\n",
       "  'NC_000001.10:12345:C:A',\n",
       "  'NC_000001.10:g.12346C>A',\n",
       "  {'_id': 'ga4gh:VA.CWDQtAfFv3QnUqN3up3J1bs32JVSKFPk',\n",
       "   'type': 'Allele',\n",
       "   'state': {'type': 'LiteralSequenceExpression', 'sequence': 'A'},\n",
       "   'location': {'_id': 'ga4gh:VSL.ixj_LC0E_4GQvm7dtG4r5gjf88lWRxU1',\n",
       "    'type': 'SequenceLocation',\n",
       "    'interval': {'end': {'type': 'Number', 'value': 12346},\n",
       "     'type': 'SequenceInterval',\n",
       "     'start': {'type': 'Number', 'value': 12345}},\n",
       "    'sequence_id': 'ga4gh:SQ.S_KjnFVz-FE7M0W6yoaUDgYxLPc1jyWU'}}),\n",
       " (2,\n",
       "  '0-based interbase',\n",
       "  'DNA',\n",
       "  'A',\n",
       "  'ACAG',\n",
       "  55972968,\n",
       "  55972972,\n",
       "  '4',\n",
       "  'GRCh38',\n",
       "  'NC_000004.11',\n",
       "  'homozygous',\n",
       "  'KDR',\n",
       "  1234,\n",
       "  'NC_000004.11:55972968:A:ACAG',\n",
       "  'spdi_str',\n",
       "  'NC_000004.11:55972968:A:ACAG',\n",
       "  'NC_000004.11:g.55972971_55972973dup',\n",
       "  {'_id': 'ga4gh:VA.niXsdxsUqpwZFFC2BLgg-mn4h8rHJ1yv',\n",
       "   'type': 'Allele',\n",
       "   'state': {'type': 'LiteralSequenceExpression', 'sequence': 'CAGCAGC'},\n",
       "   'location': {'_id': 'ga4gh:VSL.DHM-FCc76H_ev4UpbsY2av_RDj1u0K-o',\n",
       "    'type': 'SequenceLocation',\n",
       "    'interval': {'end': {'type': 'Number', 'value': 55972973},\n",
       "     'type': 'SequenceInterval',\n",
       "     'start': {'type': 'Number', 'value': 55972969}},\n",
       "    'sequence_id': 'ga4gh:SQ.iy7Zfceb5_VGtTQzJ-v5JpPbpeifHD_V'}})]"
      ]
     },
     "execution_count": 6,
     "metadata": {},
     "output_type": "execute_result"
    }
   ],
   "source": [
    "example_all = extract.getAllExamples()\n",
    "example_all"
   ]
  },
  {
   "cell_type": "markdown",
   "metadata": {},
   "source": [
    "#### Converting a row from the data from DemoCoreLiteDB into a core variant class"
   ]
  },
  {
   "cell_type": "code",
   "execution_count": 7,
   "metadata": {},
   "outputs": [
    {
     "data": {
      "text/plain": [
       "{'origCoordSystem': '0-based interbase',\n",
       " 'seqType': 'DNA',\n",
       " 'allelicState': 'heterozygous',\n",
       " 'geneSymbol': 'GENE1',\n",
       " 'hgncId': 123,\n",
       " 'refAllele': 'C',\n",
       " 'altAllele': 'A',\n",
       " 'chrom': '3',\n",
       " 'genomeBuild': 'GRCh38',\n",
       " 'start': 12345,\n",
       " 'end': 12346,\n",
       " 'sequenceId': 'NC_000001.10'}"
      ]
     },
     "execution_count": 7,
     "metadata": {},
     "output_type": "execute_result"
    }
   ],
   "source": [
    "example_cvc = extract.db_to_cvc(rowId=1)\n",
    "example_cvc"
   ]
  }
 ],
 "metadata": {
  "kernelspec": {
   "display_name": "test_dev_vrs_installation",
   "language": "python",
   "name": "python3"
  },
  "language_info": {
   "codemirror_mode": {
    "name": "ipython",
    "version": 3
   },
   "file_extension": ".py",
   "mimetype": "text/x-python",
   "name": "python",
   "nbconvert_exporter": "python",
   "pygments_lexer": "ipython3",
   "version": "3.9.15"
  },
  "orig_nbformat": 4
 },
 "nbformat": 4,
 "nbformat_minor": 2
}
