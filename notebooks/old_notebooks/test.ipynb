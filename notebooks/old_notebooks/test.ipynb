{
 "cells": [
  {
   "cell_type": "code",
   "execution_count": null,
   "metadata": {},
   "outputs": [],
   "source": [
    "#NOTE: this notebook is for random test and brain storming ideas. DO NOT PAY ATTENTION TO THIS FILE\n",
    "\n",
    "\n",
    "\n",
    "\n",
    "\n",
    "\n",
    "\n",
    "\n",
    "\n",
    "\n"
   ]
  },
  {
   "cell_type": "code",
   "execution_count": 1,
   "metadata": {},
   "outputs": [],
   "source": [
    "import hgvs.parser\n",
    "import hgvs.dataproviders.uta\n",
    "import hgvs.validator\n",
    "import hgvs.normalizer\n",
    "from hgvs.exceptions import HGVSError\n",
    "\n",
    "hp = hgvs.parser.Parser()\n",
    "hdp = hgvs.dataproviders.uta.connect()\n",
    "hn = hgvs.normalizer.Normalizer(hdp)\n",
    "vr = hgvs.validator.Validator(hdp=hdp)"
   ]
  },
  {
   "cell_type": "code",
   "execution_count": 2,
   "metadata": {},
   "outputs": [
    {
     "data": {
      "text/plain": [
       "'NC_000001.11:g.943043C>T'"
      ]
     },
     "execution_count": 2,
     "metadata": {},
     "output_type": "execute_result"
    }
   ],
   "source": [
    "expression = 'NC_000001.11:943043C>T'\n",
    "expression2 = 'NC_000001.11:g.943043C>T'\n",
    "def validate_hgvs_variants(expression):\n",
    "    \"\"\"Validate an HGVS expression.\n",
    "\n",
    "    Args:\n",
    "        expression (str): The HGVS expression to validate.\n",
    "\n",
    "    Raises:\n",
    "        HGVSError: If the validation fails.\n",
    "\n",
    "    Returns:\n",
    "        str: The validated HGVS expression.\n",
    "    \"\"\"\n",
    "    try:\n",
    "        parsed_variant = hp.parse_hgvs_variant(expression)  # Assuming hp is defined elsewhere\n",
    "        vr.validate(parsed_variant)  # Assuming vr is defined elsewhere\n",
    "        return expression\n",
    "    except HGVSError as e:\n",
    "        raise HGVSError(f\"Validation failed: {e}\")\n",
    "\n",
    "# Example usage:\n",
    "validated_expression = validate_hgvs_variants(expression2)\n",
    "validated_expression"
   ]
  },
  {
   "cell_type": "code",
   "execution_count": 3,
   "metadata": {},
   "outputs": [
    {
     "name": "stderr",
     "output_type": "stream",
     "text": [
      "/Users/M278428/opt/anaconda3/envs/test_dev_vrs_installation/lib/python3.9/site-packages/python_jsonschema_objects/__init__.py:49: UserWarning: Schema version http://json-schema.org/draft-07/schema not recognized. Some keywords and features may not be supported.\n",
      "  warnings.warn(\n"
     ]
    }
   ],
   "source": [
    "import sys\n",
    "sys.path.append('..')\n",
    "from src.hgvsExtra.hgvs_utils import HGVSTranslate"
   ]
  },
  {
   "cell_type": "code",
   "execution_count": 4,
   "metadata": {},
   "outputs": [],
   "source": [
    "test = HGVSTranslate()"
   ]
  },
  {
   "cell_type": "code",
   "execution_count": 5,
   "metadata": {},
   "outputs": [
    {
     "data": {
      "text/plain": [
       "'Failed to validate HGVS expression: NC_000001.11:g.943043C>T.. Expression Error: NC_000001.11:g.943043C>T'"
      ]
     },
     "execution_count": 5,
     "metadata": {},
     "output_type": "execute_result"
    }
   ],
   "source": [
    "test.from_hgvs_to_spdi(expression2)"
   ]
  },
  {
   "cell_type": "code",
   "execution_count": 6,
   "metadata": {},
   "outputs": [],
   "source": [
    "import sys\n",
    "sys.path.append('..')\n",
    "from src.spdi.spdi_class import SPDI"
   ]
  },
  {
   "cell_type": "code",
   "execution_count": 7,
   "metadata": {},
   "outputs": [],
   "source": [
    "spdi_expression = SPDI(sequence='NC_000001.11',position=161629780,insertion='T',deletion='T')"
   ]
  },
  {
   "cell_type": "code",
   "execution_count": 8,
   "metadata": {},
   "outputs": [
    {
     "ename": "HTTPError",
     "evalue": "Failed to validate SPDI expression: NC_000001.11:-1:T:T.",
     "output_type": "error",
     "traceback": [
      "\u001b[0;31m---------------------------------------------------------------------------\u001b[0m",
      "\u001b[0;31mHTTPError\u001b[0m                                 Traceback (most recent call last)",
      "\u001b[1;32m/Users/M278428/Documents/rf_lab_projects/DraftCoreDataModel/notebooks/test.ipynb Cell 8\u001b[0m line \u001b[0;36m1\n\u001b[0;32m----> <a href='vscode-notebook-cell:/Users/M278428/Documents/rf_lab_projects/DraftCoreDataModel/notebooks/test.ipynb#X10sZmlsZQ%3D%3D?line=0'>1</a>\u001b[0m spdi_expression \u001b[39m=\u001b[39m SPDI(sequence\u001b[39m=\u001b[39;49m\u001b[39m'\u001b[39;49m\u001b[39mNC_000001.11\u001b[39;49m\u001b[39m'\u001b[39;49m,position\u001b[39m=\u001b[39;49m\u001b[39m-\u001b[39;49m\u001b[39m1\u001b[39;49m,insertion\u001b[39m=\u001b[39;49m\u001b[39m'\u001b[39;49m\u001b[39mT\u001b[39;49m\u001b[39m'\u001b[39;49m,deletion\u001b[39m=\u001b[39;49m\u001b[39m'\u001b[39;49m\u001b[39mT\u001b[39;49m\u001b[39m'\u001b[39;49m)\n",
      "File \u001b[0;32m~/Documents/rf_lab_projects/DraftCoreDataModel/notebooks/../src/spdi/spdi_class.py:24\u001b[0m, in \u001b[0;36mSPDI.__init__\u001b[0;34m(self, sequence, position, deletion, insertion)\u001b[0m\n\u001b[1;32m     22\u001b[0m spdi \u001b[39m=\u001b[39m \u001b[39mf\u001b[39m\u001b[39m\"\u001b[39m\u001b[39m{\u001b[39;00msequence\u001b[39m}\u001b[39;00m\u001b[39m:\u001b[39m\u001b[39m{\u001b[39;00mposition\u001b[39m}\u001b[39;00m\u001b[39m:\u001b[39m\u001b[39m{\u001b[39;00mdeletion\u001b[39m}\u001b[39;00m\u001b[39m:\u001b[39m\u001b[39m{\u001b[39;00minsertion\u001b[39m}\u001b[39;00m\u001b[39m\"\u001b[39m\n\u001b[1;32m     23\u001b[0m \u001b[39m# TODO: test new method\u001b[39;00m\n\u001b[0;32m---> 24\u001b[0m \u001b[39mself\u001b[39;49m\u001b[39m.\u001b[39;49mapi\u001b[39m.\u001b[39;49mvalidate_spdi(spdi)\n",
      "File \u001b[0;32m~/Documents/rf_lab_projects/DraftCoreDataModel/notebooks/../src/api/ncbi_variation_services_api.py:60\u001b[0m, in \u001b[0;36mVarServAPI.validate_spdi\u001b[0;34m(self, spdi_id)\u001b[0m\n\u001b[1;32m     55\u001b[0m \u001b[39melse\u001b[39;00m:\n\u001b[1;32m     56\u001b[0m     \u001b[39mtry\u001b[39;00m:\n\u001b[1;32m     57\u001b[0m         \u001b[39m# TODO: delete once tested/ check message \u001b[39;00m\n\u001b[1;32m     58\u001b[0m         \u001b[39m# error_json = response.json()\u001b[39;00m\n\u001b[1;32m     59\u001b[0m         \u001b[39m# error_message = error_json['error']['message']\u001b[39;00m\n\u001b[0;32m---> 60\u001b[0m         \u001b[39mraise\u001b[39;00m requests\u001b[39m.\u001b[39mHTTPError(\u001b[39mf\u001b[39m\u001b[39m'\u001b[39m\u001b[39mFailed to validate SPDI expression: \u001b[39m\u001b[39m{\u001b[39;00mspdi_id\u001b[39m}\u001b[39;00m\u001b[39m.\u001b[39m\u001b[39m'\u001b[39m) \u001b[39m# Error Message: {error_message}\u001b[39;00m\n\u001b[1;32m     61\u001b[0m     \u001b[39mexcept\u001b[39;00m json\u001b[39m.\u001b[39mJSONDecodeError:\n\u001b[1;32m     62\u001b[0m         \u001b[39mraise\u001b[39;00m requests\u001b[39m.\u001b[39mHTTPError(\u001b[39mf\u001b[39m\u001b[39m'\u001b[39m\u001b[39mFailed to parse error response as JSON: \u001b[39m\u001b[39m{\u001b[39;00mresponse\u001b[39m.\u001b[39mtext\u001b[39m}\u001b[39;00m\u001b[39m'\u001b[39m)\n",
      "\u001b[0;31mHTTPError\u001b[0m: Failed to validate SPDI expression: NC_000001.11:-1:T:T."
     ]
    }
   ],
   "source": [
    "spdi_expression = SPDI(sequence='NC_000001.11',position=-1,insertion='T',deletion='T')"
   ]
  },
  {
   "cell_type": "code",
   "execution_count": 9,
   "metadata": {},
   "outputs": [
    {
     "data": {
      "text/plain": [
       "'NC_000001.11:g.161629781='"
      ]
     },
     "execution_count": 9,
     "metadata": {},
     "output_type": "execute_result"
    }
   ],
   "source": [
    "import sys\n",
    "sys.path.append('..')\n",
    "from src.vrs.vrs_utils import VrsTranslate\n",
    "\n",
    "trl = VrsTranslate()\n",
    "a = {\"_id\": \"ga4gh:VA.g0DrpsYsVp9QTURGJj9FWqGc_yMUeimD\",\n",
    "      \"type\": \"Allele\",\"location\": {\"_id\": \"ga4gh:VSL.VFv5ccgTy-vP0N0EyCi8lSr1ktZUvtqJ\",\n",
    "                                    \"type\": \"SequenceLocation\",\"sequence_id\": \"ga4gh:SQ.Ya6Rs7DHhDeg7YaOSg1EoNi3U_nQ9SvO\",\n",
    "                                    \"interval\": {\"type\": \"SequenceInterval\",\"start\": {\"type\": \"Number\",\"value\": 161629780},\n",
    "                                                 \"end\": {\"type\": \"Number\",\"value\": 161629781}}},\"state\": {\"type\": \"LiteralSequenceExpression\",\"sequence\": \"T\"}}\n",
    "trl.from_vrs_to_normalize_hgvs(a)"
   ]
  },
  {
   "cell_type": "code",
   "execution_count": 10,
   "metadata": {},
   "outputs": [],
   "source": [
    "from src.api.seqrepo_api import SeqRepoAPI\n",
    "cn = SeqRepoAPI(\"https://services.genomicmedlab.org/seqrepo\")\n",
    "dp = cn.dp\n",
    "tlr = cn.tlr"
   ]
  },
  {
   "cell_type": "code",
   "execution_count": 11,
   "metadata": {},
   "outputs": [
    {
     "data": {
      "text/plain": [
       "<Allele _id=<Literal<str> ga4gh:VA.g0DrpsYsVp9QTURGJj9FWqGc_yMUeimD> location=<SequenceLocation _id=<Literal<str> ga4gh:VSL.VFv5ccgTy-vP0N0EyCi8lSr1ktZUvtqJ> interval=<SequenceInterval end=<Number type=<Literal<str> Number> value=<Literal<int> 161629781>> start=<Number type=<Literal<str> Number> value=<Literal<int> 161629780>> type=<Literal<str> SequenceInterval>> sequence_id=<Literal<str> ga4gh:SQ.Ya6Rs7DHhDeg7YaOSg1EoNi3U_nQ9SvO> type=<Literal<str> SequenceLocation>> state=<LiteralSequenceExpression sequence=<Literal<str> T> type=<Literal<str> LiteralSequenceExpression>> type=<Literal<str> Allele>>"
      ]
     },
     "execution_count": 11,
     "metadata": {},
     "output_type": "execute_result"
    }
   ],
   "source": [
    "vrs_object = tlr.translate_from(a, \"vrs\")\n",
    "vrs_object"
   ]
  },
  {
   "cell_type": "code",
   "execution_count": 12,
   "metadata": {},
   "outputs": [],
   "source": [
    "from src.api.variation_norm_api import VarNormRestApi\n",
    "vnorm = VarNormRestApi()\n"
   ]
  },
  {
   "cell_type": "code",
   "execution_count": 13,
   "metadata": {},
   "outputs": [
    {
     "ename": "AttributeError",
     "evalue": "'dict' object has no attribute 'as_dict'",
     "output_type": "error",
     "traceback": [
      "\u001b[0;31m---------------------------------------------------------------------------\u001b[0m",
      "\u001b[0;31mAttributeError\u001b[0m                            Traceback (most recent call last)",
      "\u001b[1;32m/Users/M278428/Documents/rf_lab_projects/DraftCoreDataModel/notebooks/test.ipynb Cell 13\u001b[0m line \u001b[0;36m1\n\u001b[0;32m----> <a href='vscode-notebook-cell:/Users/M278428/Documents/rf_lab_projects/DraftCoreDataModel/notebooks/test.ipynb#X15sZmlsZQ%3D%3D?line=0'>1</a>\u001b[0m vnorm\u001b[39m.\u001b[39;49mto_hgvs(a)\n",
      "File \u001b[0;32m~/opt/anaconda3/envs/test_dev_vrs_installation/lib/python3.9/site-packages/ga4gh/vrs/extras/variation_normalizer_rest_dp.py:22\u001b[0m, in \u001b[0;36mVariationNormalizerRESTDataProxy.to_hgvs\u001b[0;34m(self, vo, namespace)\u001b[0m\n\u001b[1;32m     16\u001b[0m \u001b[39mdef\u001b[39;00m \u001b[39mto_hgvs\u001b[39m(\u001b[39mself\u001b[39m, vo, namespace\u001b[39m=\u001b[39m\u001b[39m\"\u001b[39m\u001b[39mrefseq\u001b[39m\u001b[39m\"\u001b[39m):\n\u001b[1;32m     17\u001b[0m     \u001b[39m\"\"\"\u001b[39;00m\n\u001b[1;32m     18\u001b[0m \u001b[39m    tranlsate vrs allele object (vo) to hgvs format\u001b[39;00m\n\u001b[1;32m     19\u001b[0m \u001b[39m    Use this method if you don't have UTA installed locally or are unable\u001b[39;00m\n\u001b[1;32m     20\u001b[0m \u001b[39m    to reach the public UTA database due to port issues.\u001b[39;00m\n\u001b[1;32m     21\u001b[0m \u001b[39m    \"\"\"\u001b[39;00m\n\u001b[0;32m---> 22\u001b[0m     vo \u001b[39m=\u001b[39m vo\u001b[39m.\u001b[39;49mas_dict()\n\u001b[1;32m     23\u001b[0m     data \u001b[39m=\u001b[39m {\n\u001b[1;32m     24\u001b[0m         \u001b[39m\"\u001b[39m\u001b[39mvariation\u001b[39m\u001b[39m\"\u001b[39m: vo,\n\u001b[1;32m     25\u001b[0m         \u001b[39m\"\u001b[39m\u001b[39mnamespace\u001b[39m\u001b[39m\"\u001b[39m: namespace\n\u001b[1;32m     26\u001b[0m     }\n\u001b[1;32m     27\u001b[0m     r \u001b[39m=\u001b[39m requests\u001b[39m.\u001b[39mpost(\n\u001b[1;32m     28\u001b[0m         url \u001b[39m=\u001b[39m \u001b[39mf\u001b[39m\u001b[39m\"\u001b[39m\u001b[39m{\u001b[39;00m\u001b[39mself\u001b[39m\u001b[39m.\u001b[39mapi\u001b[39m}\u001b[39;00m\u001b[39m/vrs_allele_to_hgvs\u001b[39m\u001b[39m\"\u001b[39m,\n\u001b[1;32m     29\u001b[0m         json\u001b[39m=\u001b[39mdata,\n\u001b[1;32m     30\u001b[0m         headers\u001b[39m=\u001b[39m{ \u001b[39m\"\u001b[39m\u001b[39mContent-Type\u001b[39m\u001b[39m\"\u001b[39m: \u001b[39m\"\u001b[39m\u001b[39mapplication/json; charset=utf-8\u001b[39m\u001b[39m\"\u001b[39m },\n\u001b[1;32m     31\u001b[0m         timeout\u001b[39m=\u001b[39m\u001b[39m5\u001b[39m\n\u001b[1;32m     32\u001b[0m     )\n",
      "\u001b[0;31mAttributeError\u001b[0m: 'dict' object has no attribute 'as_dict'"
     ]
    }
   ],
   "source": [
    "vnorm.to_hgvs(a)"
   ]
  },
  {
   "cell_type": "code",
   "execution_count": 14,
   "metadata": {},
   "outputs": [],
   "source": [
    "b = {\"_id\": \"ga4gh:VA.s8vzlmFv83fcoJnNovFkp4pnE48weUh4\",\n",
    "        \"type\": \"Allele\",\"location\": {\"_id\": \"ga4gh:VSL.2tX8CXXY1z3HcbrXdGGTbmuqmYgNks6G\",\n",
    "                                      \"type\": \"SequenceLocation\",\"sequence_id\": \"ga4gh:SQ.Ya6Rs7DHhDeg7YaOSg1EoNi3U_nQ9SvO\",\n",
    "                                      \"interval\": {\"type\": \"SequenceInterval\",\"start\": {\"type\": \"Number\",\"value\": 943042},\n",
    "                                                   \"end\": {\"type\": \"Number\",\"value\": 943043}}},\"state\": {\"type\": \"LiteralSequenceExpression\",\"sequence\": \"T\"}}"
   ]
  },
  {
   "cell_type": "code",
   "execution_count": 15,
   "metadata": {},
   "outputs": [
    {
     "data": {
      "text/plain": [
       "{'_id': 'ga4gh:VA.g0DrpsYsVp9QTURGJj9FWqGc_yMUeimD',\n",
       " 'type': 'Allele',\n",
       " 'location': {'_id': 'ga4gh:VSL.VFv5ccgTy-vP0N0EyCi8lSr1ktZUvtqJ',\n",
       "  'type': 'SequenceLocation',\n",
       "  'sequence_id': 'ga4gh:SQ.Ya6Rs7DHhDeg7YaOSg1EoNi3U_nQ9SvO',\n",
       "  'interval': {'type': 'SequenceInterval',\n",
       "   'start': {'type': 'Number', 'value': 161629780},\n",
       "   'end': {'type': 'Number', 'value': 161629781}}},\n",
       " 'state': {'type': 'LiteralSequenceExpression', 'sequence': 'T'}}"
      ]
     },
     "execution_count": 15,
     "metadata": {},
     "output_type": "execute_result"
    }
   ],
   "source": [
    "a"
   ]
  },
  {
   "cell_type": "code",
   "execution_count": 24,
   "metadata": {},
   "outputs": [
    {
     "ename": "ValueError",
     "evalue": "Unable to parse data as vrs variation",
     "output_type": "error",
     "traceback": [
      "\u001b[0;31m---------------------------------------------------------------------------\u001b[0m",
      "\u001b[0;31mValueError\u001b[0m                                Traceback (most recent call last)",
      "\u001b[1;32m/Users/M278428/Documents/rf_lab_projects/DraftCoreDataModel/notebooks/test.ipynb Cell 16\u001b[0m line \u001b[0;36m1\n\u001b[0;32m----> <a href='vscode-notebook-cell:/Users/M278428/Documents/rf_lab_projects/DraftCoreDataModel/notebooks/test.ipynb#X21sZmlsZQ%3D%3D?line=0'>1</a>\u001b[0m vrs_dict \u001b[39m=\u001b[39m tlr\u001b[39m.\u001b[39;49mtranslate_from(\u001b[39m'\u001b[39;49m\u001b[39mNC_000001.11:161629780:T:T\u001b[39;49m\u001b[39m'\u001b[39;49m, \u001b[39m\"\u001b[39;49m\u001b[39mvrs\u001b[39;49m\u001b[39m\"\u001b[39;49m)\n",
      "File \u001b[0;32m~/opt/anaconda3/envs/test_dev_vrs_installation/lib/python3.9/site-packages/ga4gh/vrs/extras/translator.py:85\u001b[0m, in \u001b[0;36mTranslator.translate_from\u001b[0;34m(self, var, fmt, **kwargs)\u001b[0m\n\u001b[1;32m     83\u001b[0m     o \u001b[39m=\u001b[39m t(\u001b[39mself\u001b[39m, var, \u001b[39m*\u001b[39m\u001b[39m*\u001b[39mkwargs)\n\u001b[1;32m     84\u001b[0m     \u001b[39mif\u001b[39;00m o \u001b[39mis\u001b[39;00m \u001b[39mNone\u001b[39;00m:\n\u001b[0;32m---> 85\u001b[0m         \u001b[39mraise\u001b[39;00m \u001b[39mValueError\u001b[39;00m(\u001b[39mf\u001b[39m\u001b[39m\"\u001b[39m\u001b[39mUnable to parse data as \u001b[39m\u001b[39m{\u001b[39;00mfmt\u001b[39m}\u001b[39;00m\u001b[39m variation\u001b[39m\u001b[39m\"\u001b[39m)\n\u001b[1;32m     86\u001b[0m     \u001b[39mreturn\u001b[39;00m o\n\u001b[1;32m     88\u001b[0m \u001b[39mfor\u001b[39;00m _, t \u001b[39min\u001b[39;00m \u001b[39mself\u001b[39m\u001b[39m.\u001b[39mfrom_translators\u001b[39m.\u001b[39mitems():\n",
      "\u001b[0;31mValueError\u001b[0m: Unable to parse data as vrs variation"
     ]
    }
   ],
   "source": [
    "vrs_dict = tlr.translate_from(b, \"vrs\")"
   ]
  },
  {
   "cell_type": "code",
   "execution_count": null,
   "metadata": {},
   "outputs": [],
   "source": []
  },
  {
   "cell_type": "code",
   "execution_count": 17,
   "metadata": {},
   "outputs": [],
   "source": [
    "ex = 'NC_000001.11:g.161629781='\n",
    "ex2 = 'NC_000001.11:g.943043C>T'"
   ]
  },
  {
   "cell_type": "code",
   "execution_count": 18,
   "metadata": {},
   "outputs": [
    {
     "data": {
      "text/plain": [
       "SequenceVariant(ac=NC_000001.11, type=g, posedit=943043C>T, gene=None)"
      ]
     },
     "execution_count": 18,
     "metadata": {},
     "output_type": "execute_result"
    }
   ],
   "source": [
    "parsed_variant = hp.parse_hgvs_variant(ex2)\n",
    "parsed_variant"
   ]
  },
  {
   "cell_type": "code",
   "execution_count": 19,
   "metadata": {},
   "outputs": [
    {
     "data": {
      "text/plain": [
       "True"
      ]
     },
     "execution_count": 19,
     "metadata": {},
     "output_type": "execute_result"
    }
   ],
   "source": [
    "vr.validate(parsed_variant)"
   ]
  },
  {
   "cell_type": "code",
   "execution_count": 20,
   "metadata": {},
   "outputs": [],
   "source": [
    "from src.api.ncbi_variation_services_api import VarServAPI\n",
    "var = VarServAPI()\n",
    "\n",
    "def validate_hgvs_variant(expression):\n",
    "    \"\"\"Validate an HGVS expression.\n",
    "\n",
    "    Args:\n",
    "        expression (str): The HGVS expression to validate.\n",
    "\n",
    "    Raises:\n",
    "        HGVSError: If the validation fails.\n",
    "\n",
    "    Returns:\n",
    "        str: The validated HGVS expression.\n",
    "    \"\"\"\n",
    "    try:\n",
    "        parsed_variant = hp.parse_hgvs_variant(expression)\n",
    "        vr.validate(parsed_variant)\n",
    "        return expression\n",
    "    except HGVSError as e:\n",
    "        raise HGVSError(f\"Validation failed: {e}\")\n",
    "\n",
    "def from_hgvs_to_spdi(expression):\n",
    "    \"\"\"Translate HGVS expression to SPDI expression. (Using NCBI API)\n",
    "\n",
    "    Args:\n",
    "        expression (str): HGVS expression\n",
    "\n",
    "    Returns:\n",
    "        str: The SPDI representation of the HGVS expression.\n",
    "    \"\"\"\n",
    "    hgvs_expression = validate_hgvs_variant(expression)\n",
    "    print(hgvs_expression)\n",
    "    try:\n",
    "        return var.hgvs_to_spdi(hgvs_expression)\n",
    "    except Exception as e:\n",
    "        return f\"{e}. Expression Error: {hgvs_expression}\""
   ]
  },
  {
   "cell_type": "code",
   "execution_count": 21,
   "metadata": {},
   "outputs": [
    {
     "name": "stdout",
     "output_type": "stream",
     "text": [
      "NC_000001.11:g.161629781=\n"
     ]
    },
    {
     "data": {
      "text/plain": [
       "'NC_000001.11:161629780:T:T'"
      ]
     },
     "execution_count": 21,
     "metadata": {},
     "output_type": "execute_result"
    }
   ],
   "source": [
    "from_hgvs_to_spdi(ex)"
   ]
  },
  {
   "cell_type": "code",
   "execution_count": 22,
   "metadata": {},
   "outputs": [
    {
     "data": {
      "text/plain": [
       "'NC_000001.11:g.161629781='"
      ]
     },
     "execution_count": 22,
     "metadata": {},
     "output_type": "execute_result"
    }
   ],
   "source": [
    "ex"
   ]
  },
  {
   "cell_type": "code",
   "execution_count": 23,
   "metadata": {},
   "outputs": [
    {
     "data": {
      "text/plain": [
       "'NC_000001.11:g.943043C>T'"
      ]
     },
     "execution_count": 23,
     "metadata": {},
     "output_type": "execute_result"
    }
   ],
   "source": [
    "ex2"
   ]
  },
  {
   "cell_type": "code",
   "execution_count": 28,
   "metadata": {},
   "outputs": [
    {
     "data": {
      "text/plain": [
       "{'_id': 'ga4gh:VA.s8vzlmFv83fcoJnNovFkp4pnE48weUh4',\n",
       " 'type': 'Allele',\n",
       " 'location': {'_id': 'ga4gh:VSL.2tX8CXXY1z3HcbrXdGGTbmuqmYgNks6G',\n",
       "  'type': 'SequenceLocation',\n",
       "  'sequence_id': 'ga4gh:SQ.Ya6Rs7DHhDeg7YaOSg1EoNi3U_nQ9SvO',\n",
       "  'interval': {'type': 'SequenceInterval',\n",
       "   'start': {'type': 'Number', 'value': 943042},\n",
       "   'end': {'type': 'Number', 'value': 943043}}},\n",
       " 'state': {'type': 'LiteralSequenceExpression', 'sequence': 'T'}}"
      ]
     },
     "execution_count": 28,
     "metadata": {},
     "output_type": "execute_result"
    }
   ],
   "source": [
    "vrs_dict = tlr.translate_from('NC_000001.11:943042:C:T', \"spdi\")\n",
    "vrs_dict.as_dict()"
   ]
  },
  {
   "cell_type": "code",
   "execution_count": 9,
   "metadata": {},
   "outputs": [],
   "source": []
  },
  {
   "cell_type": "code",
   "execution_count": 10,
   "metadata": {},
   "outputs": [
    {
     "name": "stdout",
     "output_type": "stream",
     "text": [
      "DNA\n",
      "dict_keys(['NC_', 'NM_', 'NG_', 'NR_', 'NP_'])\n"
     ]
    },
    {
     "data": {
      "text/plain": [
       "'DNA'"
      ]
     },
     "execution_count": 10,
     "metadata": {},
     "output_type": "execute_result"
    }
   ],
   "source": [
    "match_refseq_to_regex('NC_000001.11')"
   ]
  },
  {
   "cell_type": "code",
   "execution_count": null,
   "metadata": {},
   "outputs": [],
   "source": []
  }
 ],
 "metadata": {
  "kernelspec": {
   "display_name": "test_dev_vrs_installation",
   "language": "python",
   "name": "python3"
  },
  "language_info": {
   "codemirror_mode": {
    "name": "ipython",
    "version": 3
   },
   "file_extension": ".py",
   "mimetype": "text/x-python",
   "name": "python",
   "nbconvert_exporter": "python",
   "pygments_lexer": "ipython3",
   "version": "3.9.15"
  }
 },
 "nbformat": 4,
 "nbformat_minor": 2
}
