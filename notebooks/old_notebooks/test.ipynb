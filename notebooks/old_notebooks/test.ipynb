{
 "cells": [
  {
   "cell_type": "code",
   "execution_count": null,
   "metadata": {},
   "outputs": [],
   "source": [
    "#NOTE: this notebook is for random test and brain storming ideas. DO NOT PAY ATTENTION TO THIS FILE\n",
    "\n",
    "\n",
    "\n",
    "\n",
    "\n",
    "\n",
    "\n",
    "\n",
    "\n",
    "\n"
   ]
  },
  {
   "cell_type": "code",
   "execution_count": null,
   "metadata": {},
   "outputs": [],
   "source": [
    "import hgvs.parser\n",
    "import hgvs.dataproviders.uta\n",
    "import hgvs.validator\n",
    "import hgvs.normalizer\n",
    "from hgvs.exceptions import HGVSError\n",
    "\n",
    "hp = hgvs.parser.Parser()\n",
    "hdp = hgvs.dataproviders.uta.connect()\n",
    "hn = hgvs.normalizer.Normalizer(hdp)\n",
    "vr = hgvs.validator.Validator(hdp=hdp)"
   ]
  },
  {
   "cell_type": "code",
   "execution_count": null,
   "metadata": {},
   "outputs": [],
   "source": [
    "expression = 'NC_000001.11:943043C>T'\n",
    "expression2 = 'NC_000001.11:g.943043C>T'\n",
    "def validate_hgvs_variants(expression):\n",
    "    \"\"\"Validate an HGVS expression.\n",
    "\n",
    "    Args:\n",
    "        expression (str): The HGVS expression to validate.\n",
    "\n",
    "    Raises:\n",
    "        HGVSError: If the validation fails.\n",
    "\n",
    "    Returns:\n",
    "        str: The validated HGVS expression.\n",
    "    \"\"\"\n",
    "    try:\n",
    "        parsed_variant = hp.parse_hgvs_variant(expression)  # Assuming hp is defined elsewhere\n",
    "        vr.validate(parsed_variant)  # Assuming vr is defined elsewhere\n",
    "        return expression\n",
    "    except HGVSError as e:\n",
    "        raise HGVSError(f\"Validation failed: {e}\")\n",
    "\n",
    "# Example usage:\n",
    "validated_expression = validate_hgvs_variants(expression2)\n",
    "validated_expression"
   ]
  },
  {
   "cell_type": "code",
   "execution_count": null,
   "metadata": {},
   "outputs": [],
   "source": [
    "import sys\n",
    "sys.path.append('..')\n",
    "from src.hgvsExtra.hgvs_utils import HGVSTranslate"
   ]
  },
  {
   "cell_type": "code",
   "execution_count": null,
   "metadata": {},
   "outputs": [],
   "source": [
    "test = HGVSTranslate()"
   ]
  },
  {
   "cell_type": "code",
   "execution_count": null,
   "metadata": {},
   "outputs": [],
   "source": [
    "test.from_hgvs_to_spdi(expression2)"
   ]
  },
  {
   "cell_type": "code",
   "execution_count": null,
   "metadata": {},
   "outputs": [],
   "source": [
    "import sys\n",
    "sys.path.append('..')\n",
    "from src.spdi.spdi_class import SPDI"
   ]
  },
  {
   "cell_type": "code",
   "execution_count": null,
   "metadata": {},
   "outputs": [],
   "source": [
    "spdi_expression = SPDI(sequence='NC_000001.11',position=161629780,insertion='T',deletion='T')"
   ]
  },
  {
   "cell_type": "code",
   "execution_count": null,
   "metadata": {},
   "outputs": [],
   "source": [
    "spdi_expression = SPDI(sequence='NC_000001.11',position=-1,insertion='T',deletion='T')"
   ]
  },
  {
   "cell_type": "code",
   "execution_count": null,
   "metadata": {},
   "outputs": [],
   "source": [
    "import sys\n",
    "sys.path.append('..')\n",
    "from src.vrs.vrs_utils import VrsTranslate\n",
    "\n",
    "trl = VrsTranslate()\n",
    "a = {\"_id\": \"ga4gh:VA.g0DrpsYsVp9QTURGJj9FWqGc_yMUeimD\",\n",
    "      \"type\": \"Allele\",\"location\": {\"_id\": \"ga4gh:VSL.VFv5ccgTy-vP0N0EyCi8lSr1ktZUvtqJ\",\n",
    "                                    \"type\": \"SequenceLocation\",\"sequence_id\": \"ga4gh:SQ.Ya6Rs7DHhDeg7YaOSg1EoNi3U_nQ9SvO\",\n",
    "                                    \"interval\": {\"type\": \"SequenceInterval\",\"start\": {\"type\": \"Number\",\"value\": 161629780},\n",
    "                                                 \"end\": {\"type\": \"Number\",\"value\": 161629781}}},\"state\": {\"type\": \"LiteralSequenceExpression\",\"sequence\": \"T\"}}\n",
    "trl.from_vrs_to_normalize_hgvs(a)"
   ]
  },
  {
   "cell_type": "code",
   "execution_count": null,
   "metadata": {},
   "outputs": [],
   "source": [
    "from src.api.seqrepo_api import SeqRepoAPI\n",
    "cn = SeqRepoAPI(\"https://services.genomicmedlab.org/seqrepo\")\n",
    "dp = cn.dp\n",
    "tlr = cn.tlr"
   ]
  },
  {
   "cell_type": "code",
   "execution_count": null,
   "metadata": {},
   "outputs": [],
   "source": [
    "vrs_object = tlr.translate_from(a, \"vrs\")\n",
    "vrs_object"
   ]
  },
  {
   "cell_type": "code",
   "execution_count": null,
   "metadata": {},
   "outputs": [],
   "source": [
    "from src.api.variation_norm_api import VarNormRestApi\n",
    "vnorm = VarNormRestApi()\n"
   ]
  },
  {
   "cell_type": "code",
   "execution_count": null,
   "metadata": {},
   "outputs": [],
   "source": [
    "vnorm.to_hgvs(a)"
   ]
  },
  {
   "cell_type": "code",
   "execution_count": null,
   "metadata": {},
   "outputs": [],
   "source": [
    "b = {\"_id\": \"ga4gh:VA.s8vzlmFv83fcoJnNovFkp4pnE48weUh4\",\n",
    "        \"type\": \"Allele\",\"location\": {\"_id\": \"ga4gh:VSL.2tX8CXXY1z3HcbrXdGGTbmuqmYgNks6G\",\n",
    "                                      \"type\": \"SequenceLocation\",\"sequence_id\": \"ga4gh:SQ.Ya6Rs7DHhDeg7YaOSg1EoNi3U_nQ9SvO\",\n",
    "                                      \"interval\": {\"type\": \"SequenceInterval\",\"start\": {\"type\": \"Number\",\"value\": 943042},\n",
    "                                                   \"end\": {\"type\": \"Number\",\"value\": 943043}}},\"state\": {\"type\": \"LiteralSequenceExpression\",\"sequence\": \"T\"}}"
   ]
  },
  {
   "cell_type": "code",
   "execution_count": null,
   "metadata": {},
   "outputs": [],
   "source": [
    "a"
   ]
  },
  {
   "cell_type": "code",
   "execution_count": null,
   "metadata": {},
   "outputs": [],
   "source": [
    "vrs_dict = tlr.translate_from(b, \"vrs\")"
   ]
  },
  {
   "cell_type": "code",
   "execution_count": null,
   "metadata": {},
   "outputs": [],
   "source": []
  },
  {
   "cell_type": "code",
   "execution_count": null,
   "metadata": {},
   "outputs": [],
   "source": [
    "ex = 'NC_000001.11:g.161629781='\n",
    "ex2 = 'NC_000001.11:g.943043C>T'"
   ]
  },
  {
   "cell_type": "code",
   "execution_count": null,
   "metadata": {},
   "outputs": [],
   "source": [
    "parsed_variant = hp.parse_hgvs_variant(ex2)\n",
    "parsed_variant"
   ]
  },
  {
   "cell_type": "code",
   "execution_count": null,
   "metadata": {},
   "outputs": [],
   "source": [
    "vr.validate(parsed_variant)"
   ]
  },
  {
   "cell_type": "code",
   "execution_count": null,
   "metadata": {},
   "outputs": [],
   "source": [
    "from src.api.ncbi_variation_services_api import VarServAPI\n",
    "var = VarServAPI()\n",
    "\n",
    "def validate_hgvs_variant(expression):\n",
    "    \"\"\"Validate an HGVS expression.\n",
    "\n",
    "    Args:\n",
    "        expression (str): The HGVS expression to validate.\n",
    "\n",
    "    Raises:\n",
    "        HGVSError: If the validation fails.\n",
    "\n",
    "    Returns:\n",
    "        str: The validated HGVS expression.\n",
    "    \"\"\"\n",
    "    try:\n",
    "        parsed_variant = hp.parse_hgvs_variant(expression)\n",
    "        vr.validate(parsed_variant)\n",
    "        return expression\n",
    "    except HGVSError as e:\n",
    "        raise HGVSError(f\"Validation failed: {e}\")\n",
    "\n",
    "def from_hgvs_to_spdi(expression):\n",
    "    \"\"\"Translate HGVS expression to SPDI expression. (Using NCBI API)\n",
    "\n",
    "    Args:\n",
    "        expression (str): HGVS expression\n",
    "\n",
    "    Returns:\n",
    "        str: The SPDI representation of the HGVS expression.\n",
    "    \"\"\"\n",
    "    hgvs_expression = validate_hgvs_variant(expression)\n",
    "    print(hgvs_expression)\n",
    "    try:\n",
    "        return var.hgvs_to_spdi(hgvs_expression)\n",
    "    except Exception as e:\n",
    "        return f\"{e}. Expression Error: {hgvs_expression}\""
   ]
  },
  {
   "cell_type": "code",
   "execution_count": null,
   "metadata": {},
   "outputs": [],
   "source": [
    "from_hgvs_to_spdi(ex)"
   ]
  },
  {
   "cell_type": "code",
   "execution_count": null,
   "metadata": {},
   "outputs": [],
   "source": [
    "ex"
   ]
  },
  {
   "cell_type": "code",
   "execution_count": null,
   "metadata": {},
   "outputs": [],
   "source": [
    "ex2"
   ]
  },
  {
   "cell_type": "code",
   "execution_count": null,
   "metadata": {},
   "outputs": [],
   "source": [
    "vrs_dict = tlr.translate_from('NC_000001.11:943042:C:T', \"spdi\")\n",
    "vrs_dict.as_dict()"
   ]
  },
  {
   "cell_type": "code",
   "execution_count": null,
   "metadata": {},
   "outputs": [],
   "source": []
  },
  {
   "cell_type": "code",
   "execution_count": null,
   "metadata": {},
   "outputs": [],
   "source": [
    "match_refseq_to_regex('NC_000001.11')"
   ]
  },
  {
   "cell_type": "code",
   "execution_count": null,
   "metadata": {},
   "outputs": [],
   "source": [
    "from bioutils.normalize import normalize\n",
    "from src.api.seqrepo_api import SeqRepoAPI\n",
    "from src.spdi.spdi_class import SPDI\n",
    "cn = SeqRepoAPI(\"https://services.genomicmedlab.org/seqrepo\")\n",
    "# from ga4gh.vrs.dataproxy import SequenceProxy\n",
    "\n"
   ]
  },
  {
   "cell_type": "code",
   "execution_count": null,
   "metadata": {},
   "outputs": [],
   "source": [
    "example = 'NM_001267550.2:80230:G:A'\n",
    "\n",
    "# try:\n",
    "#     del_len = int(spdi.deletion)\n",
    "# except ValueError:\n",
    "#     del_len = len(spdi.deletion)"
   ]
  },
  {
   "cell_type": "code",
   "execution_count": null,
   "metadata": {},
   "outputs": [],
   "source": [
    "sequence = dp.get_sequence('NM_001267550.2', 80225, 80235)\n",
    "sequence"
   ]
  },
  {
   "cell_type": "code",
   "execution_count": null,
   "metadata": {},
   "outputs": [],
   "source": [
    "# Look into it: voca normalization\n",
    "from bioutils.normalize import normalize, NormalizationMode\n",
    "\n",
    "def voca_normalize(expression: str) -> str: \n",
    "    start = int(expression.position)\n",
    "    try:\n",
    "        del_len = int(expression.deletion)\n",
    "    except ValueError:\n",
    "        del_len = len(expression.deletion)\n",
    "    end = start + del_len\n",
    "    print(start)\n",
    "    print(end)\n",
    "    sequence = dp.get_sequence(expression.sequence, start, end)\n",
    "    print(sequence)\n",
    "    # allele = normalize(sequence, interval=(start,end), alleles=(None,expression.insertion))\n",
    "\n",
    "    interval,base = normalize(sequence, interval=(start, end), alleles=(None,expression.insertion),bounds=(0, len(sequence)))\n",
    "\n",
    "\n",
    "    return interval,base"
   ]
  },
  {
   "cell_type": "code",
   "execution_count": null,
   "metadata": {},
   "outputs": [],
   "source": [
    "#NC_000003.12:195783878:GGAAGTGT:GGAAGTGTTGGTGACATGAAGAGGGGTGGCATGACCTGTGGATACTGAGGAAGTGT\n",
    "s,p,d,i = 'NC_000003.12:195783878:GGAAGTGT:GGAAGTGTTGGTGACATGAAGAGGGGTGGCATGACCTGTGGATACTGAGGAAGTGT'.split(':')\n",
    "exp = SPDI(sequence=s,position=p,deletion=d,insertion=i)\n",
    "interval,base = voca_normalize(expression=exp)\n",
    "print(interval)\n",
    "print(base)"
   ]
  },
  {
   "cell_type": "code",
   "execution_count": null,
   "metadata": {},
   "outputs": [],
   "source": [
    "from ga4gh.vrs.dataproxy import SequenceProxy, SeqRepoRESTDataProxy\n",
    "seqrepo_rest_service_url ='https://services.genomicmedlab.org/seqrepo'\n",
    "dp = SeqRepoRESTDataProxy(base_url=seqrepo_rest_service_url)"
   ]
  },
  {
   "cell_type": "code",
   "execution_count": null,
   "metadata": {},
   "outputs": [],
   "source": [
    "from ga4gh.vrs import models\n",
    "\n",
    "# VRS Examples based off of this hgvs expression: \"NC_000019.10:g.44908822C>T\"\n",
    "allele = models.Allele(\n",
    "location = models.SequenceLocation(\n",
    "    sequence_id = \"ga4gh:SQ.IIB53T8CNeJJdUqzn9V_JnRtQadwWCbl\", \n",
    "    interval = models.SequenceInterval(\n",
    "        start = models.Number(value=44908821, type=\"Number\"),\n",
    "        end = models.Number(value=44908822, type=\"Number\"),\n",
    "        type=\"SequenceInterval\"\n",
    "    ),\n",
    "    type=\"SequenceLocation\"),\n",
    "state = models.SequenceExpression(\n",
    "    sequence = \"T\",\n",
    "    type=\"LiteralSequenceExpression\"\n",
    "),\n",
    "type=\"Allele\")\n",
    "\n",
    "allele.location.sequence_id._value"
   ]
  },
  {
   "cell_type": "code",
   "execution_count": null,
   "metadata": {},
   "outputs": [],
   "source": [
    "sequence = SequenceProxy(dp,'NC_000001.11')\n",
    "sequence.__getitem__"
   ]
  },
  {
   "cell_type": "code",
   "execution_count": null,
   "metadata": {},
   "outputs": [],
   "source": [
    "test = 'NC_000001.11'\n",
    "test.__getitem__"
   ]
  },
  {
   "cell_type": "code",
   "execution_count": null,
   "metadata": {},
   "outputs": [],
   "source": [
    "def get_normalized_spdi(acc, pos, ref, alt):\n",
    "    # Need to serialise this if we can't keep all the RefSeq data in memory\n",
    "    with ref_seq_lock:\n",
    "        ref_seq_fasta = get_ref_seq(acc)\n",
    "        new_ival, new_alleles = normalize(ref_seq_fasta,\n",
    "                                          interval=(pos, pos + len(ref)),\n",
    "                                          alleles=(None, alt),\n",
    "                                          mode=NormalizationMode.EXPAND,\n",
    "                                          anchor_length=0,\n",
    "                                          trim=True)\n",
    "        return (f\"{acc}:{new_ival[0]}:{new_alleles[0]}:{new_alleles[1]}\")"
   ]
  },
  {
   "cell_type": "code",
   "execution_count": null,
   "metadata": {},
   "outputs": [],
   "source": []
  },
  {
   "cell_type": "code",
   "execution_count": null,
   "metadata": {},
   "outputs": [],
   "source": [
    "s,p,d,i = 'NC_000001.11:40819438:CTCCTCCT:CTCCT'.split(':')\n",
    "# expression = SPDI(sequence='NM_001267550.2',position='80230',insertion='G',deletion='A')\n",
    "expression = SPDI(sequence=s,position=p,insertion=d,deletion=i)\n",
    "\n",
    "expression"
   ]
  },
  {
   "cell_type": "code",
   "execution_count": null,
   "metadata": {},
   "outputs": [],
   "source": [
    "interval,base = voca_normalize(expression)\n"
   ]
  },
  {
   "cell_type": "code",
   "execution_count": null,
   "metadata": {},
   "outputs": [],
   "source": [
    "interval"
   ]
  },
  {
   "cell_type": "code",
   "execution_count": null,
   "metadata": {},
   "outputs": [],
   "source": [
    "base"
   ]
  },
  {
   "cell_type": "code",
   "execution_count": null,
   "metadata": {},
   "outputs": [],
   "source": []
  }
 ],
 "metadata": {
  "kernelspec": {
   "display_name": "test_dev_vrs_installation",
   "language": "python",
   "name": "python3"
  },
  "language_info": {
   "codemirror_mode": {
    "name": "ipython",
    "version": 3
   },
   "file_extension": ".py",
   "mimetype": "text/x-python",
   "name": "python",
   "nbconvert_exporter": "python",
   "pygments_lexer": "ipython3",
   "version": "3.9.15"
  }
 },
 "nbformat": 4,
 "nbformat_minor": 2
}
