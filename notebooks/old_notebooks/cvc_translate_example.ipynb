{
 "cells": [
  {
   "cell_type": "code",
   "execution_count": 16,
   "metadata": {},
   "outputs": [],
   "source": [
    "from src.core_variant import CoreVariantClass\n",
    "from src.cvc_to_translate import ToTranslate\n",
    "\n",
    "tt = ToTranslate()"
   ]
  },
  {
   "cell_type": "code",
   "execution_count": 17,
   "metadata": {},
   "outputs": [
    {
     "name": "stdout",
     "output_type": "stream",
     "text": [
      "CoreVariantClass(0-based interbase,DNA,,GGCT,55181230,55181230,None,None,None,None,None,NC_000007.14,{'kwargs': {}})\n",
      "CoreVariantClass(0-based interbase,DNA,C,T,44908821,44908822,None,None,None,None,None,NC_000019.10,{'kwargs': {}})\n",
      "CoreVariantClass(0-based interbase,DNA,T,,55181219,55181220,None,None,None,None,None,NC_000007.14,{'kwargs': {}})\n",
      "CoreVariantClass(0-based interbase,DNA,T,GA,32386322,32386323,None,None,None,None,None,NC_000023.11,{'kwargs': {}})\n",
      "CoreVariantClass(0-based interbase,DNA,C,C,32936731,32936732,None,None,None,None,None,NC_000013.11,{'kwargs': {}})\n",
      "CoreVariantClass(0-based interbase,DNA,GT,GTGT,19993837,19993839,None,None,None,None,None,NC_000013.11,{'kwargs': {}})\n"
     ]
    }
   ],
   "source": [
    "example_data = [\n",
    "        {'origCoordSystem': '0-based interbase', 'seqType': 'DNA', 'refAllele': '', 'altAllele': 'GGCT', 'start': 55181230, 'end': 55181230, 'allelicState': None, 'geneSymbol': None, 'hgncId': None, 'chrom': None, 'genomeBuild': None, 'sequenceId': 'NC_000007.14', 'kwargs': {}},\n",
    "        {'origCoordSystem': '0-based interbase', 'seqType': 'DNA', 'refAllele': 'C', 'altAllele': 'T', 'start': 44908821, 'end': 44908822, 'allelicState': None, 'geneSymbol': None, 'hgncId': None, 'chrom': None, 'genomeBuild': None, 'sequenceId': 'NC_000019.10', 'kwargs': {}},\n",
    "        {'origCoordSystem': '0-based interbase', 'seqType': 'DNA', 'refAllele': 'T', 'altAllele': '', 'start': 55181219, 'end': 55181220, 'allelicState': None, 'geneSymbol': None, 'hgncId': None, 'chrom': None, 'genomeBuild': None, 'sequenceId': 'NC_000007.14', 'kwargs': {}},\n",
    "        {'origCoordSystem': '0-based interbase', 'seqType': 'DNA', 'refAllele': 'T', 'altAllele': 'GA', 'start': 32386322, 'end': 32386323, 'allelicState': None, 'geneSymbol': None, 'hgncId': None, 'chrom': None, 'genomeBuild': None, 'sequenceId': 'NC_000023.11', 'kwargs': {}},\n",
    "        {'origCoordSystem': '0-based interbase', 'seqType': 'DNA', 'refAllele': 'C', 'altAllele': 'C', 'start': 32936731, 'end': 32936732, 'allelicState': None, 'geneSymbol': None, 'hgncId': None, 'chrom': None, 'genomeBuild': None, 'sequenceId': 'NC_000013.11', 'kwargs': {}},\n",
    "        {'origCoordSystem': '0-based interbase', 'seqType': 'DNA', 'refAllele': 'GT', 'altAllele': 'GTGT', 'start': 19993837, 'end': 19993839, 'allelicState': None, 'geneSymbol': None, 'hgncId': None, 'chrom': None, 'genomeBuild': None, 'sequenceId': 'NC_000013.11', 'kwargs': {}}\n",
    "        ]\n",
    "\n",
    "for example in example_data: \n",
    "    print(CoreVariantClass(**example))"
   ]
  },
  {
   "cell_type": "code",
   "execution_count": 10,
   "metadata": {},
   "outputs": [
    {
     "data": {
      "text/plain": [
       "CoreVariantClass(0-based interbase,DNA,G,A,80230,80231,None,None,None,None,None,NM_001267550.2,{})"
      ]
     },
     "execution_count": 10,
     "metadata": {},
     "output_type": "execute_result"
    }
   ],
   "source": [
    "# Creating a CoreVariantClass object \n",
    "# NM_001267550.2:80230:G:A\n",
    "exampleSPDI = CoreVariantClass(\n",
    "    origCoordSystem='0-based interbase',\n",
    "    seqType='DNA',\n",
    "    refAllele='G',\n",
    "    altAllele='A',\n",
    "    start=80230,\n",
    "    end=80231,\n",
    "    allelicState=None,\n",
    "    geneSymbol=None,\n",
    "    hgncId=None,\n",
    "    chrom=None,\n",
    "    genomeBuild=None,\n",
    "    sequenceId='NM_001267550.2')\n",
    "exampleSPDI"
   ]
  },
  {
   "cell_type": "code",
   "execution_count": 18,
   "metadata": {},
   "outputs": [
    {
     "name": "stdout",
     "output_type": "stream",
     "text": [
      "NC_000007.14:55181230::GGCT\n",
      "NC_000019.10:44908821:C:T\n",
      "NC_000007.14:55181219:T:\n",
      "NC_000023.11:32386322:T:GA\n",
      "NC_000013.11:32936731:C:C\n",
      "NC_000013.11:19993837:GT:GTGT\n"
     ]
    }
   ],
   "source": [
    "# tt.cvc_to_spdi(exampleSPDI,output_format=\"string\")\n",
    "for example in example_data: \n",
    "    print(tt.cvc_to_spdi(CoreVariantClass(**example)))"
   ]
  },
  {
   "cell_type": "code",
   "execution_count": 12,
   "metadata": {},
   "outputs": [
    {
     "name": "stdout",
     "output_type": "stream",
     "text": [
      "CoreVariantClass(1-based counting,DNA,C,G,32936732,32936732,None,None,None,None,None,NC_000013.11,{})\n",
      "NORMALIZED EXAMPLE:\n",
      "{'origCoordSystem': '0-based interbase', 'seqType': 'DNA', 'refAllele': 'C', 'altAllele': 'G', 'start': 32936731, 'end': 32936732, 'allelicState': None, 'geneSymbol': None, 'hgncId': None, 'chrom': None, 'genomeBuild': None, 'sequenceId': 'NC_000013.11', 'kwargs': {}}\n"
     ]
    }
   ],
   "source": [
    "# HGVS Example: NC_000013.11:g.32936732C>G\n",
    "#TODO: double check this example. this is the method you create to convert from 1-based to 0-based\n",
    "# exampleHGVS = CoreVariantClass(\n",
    "#     origCoordSystem='1-based counting',\n",
    "#     seqType='DNA',\n",
    "#     refAllele='C',\n",
    "#     altAllele='G',\n",
    "#     start=32936732,\n",
    "#     end=32936732,\n",
    "#     allelicState=None,\n",
    "#     geneSymbol=None,\n",
    "#     hgncId=None,\n",
    "#     chrom=None,\n",
    "#     genomeBuild=None,\n",
    "#     sequenceId='NC_000013.11')\n",
    "\n",
    "# print(exampleHGVS)\n",
    "# normalizeExampleHGVS = exampleHGVS.init_normalized_data()\n",
    "# print('NORMALIZED EXAMPLE:')\n",
    "# print(normalizeExampleHGVS)"
   ]
  },
  {
   "cell_type": "code",
   "execution_count": 19,
   "metadata": {},
   "outputs": [
    {
     "name": "stdout",
     "output_type": "stream",
     "text": [
      "NC_000007.14:g.55181230_55181231insGGCT\n",
      "NC_000019.10:g.44908822C>T\n",
      "NC_000007.14:g.55181220del\n",
      "NC_000023.11:g.32386323delinsGA\n",
      "NC_000013.11:g.32936732=\n",
      "NC_000013.11:g.19993838_19993839dup\n"
     ]
    },
    {
     "data": {
      "text/plain": [
       "('NC_000007.14:g.55181230_55181231insGGCT',)"
      ]
     },
     "execution_count": 19,
     "metadata": {},
     "output_type": "execute_result"
    }
   ],
   "source": [
    "for example in example_data: \n",
    "    print(tt.cvc_to_hgvs(CoreVariantClass(**example)))"
   ]
  },
  {
   "cell_type": "code",
   "execution_count": 3,
   "metadata": {},
   "outputs": [],
   "source": [
    "# exampleVRS = CoreVariantClass(\n",
    "#     origCoordSystem='0-based interbase',\n",
    "#     seqType='DNA',\n",
    "#     refAllele='C',\n",
    "#     altAllele='G',\n",
    "#     start=32936731,\n",
    "#     end=32936732,\n",
    "#     allelicState=None,\n",
    "#     geneSymbol=None,\n",
    "#     hgncId=None,\n",
    "#     chrom=None,\n",
    "#     genomeBuild=None,\n",
    "#     sequenceId='NC_000013.11')\n"
   ]
  },
  {
   "cell_type": "code",
   "execution_count": 20,
   "metadata": {},
   "outputs": [
    {
     "name": "stdout",
     "output_type": "stream",
     "text": [
      "{'_id': 'ga4gh:VA.JKGCs07cFu2wlDydCAe2ea06jMFXyK56', 'type': 'Allele', 'location': {'_id': 'ga4gh:VSL.SdvAZCNKh5kf6ClsiOOmw_88fbkFPTqG', 'type': 'SequenceLocation', 'sequence_id': 'ga4gh:SQ.F-LrLMe1SRpfUZHkQmvkVKFEGaoDeHul', 'interval': {'type': 'SequenceInterval', 'start': {'type': 'Number', 'value': 55181230}, 'end': {'type': 'Number', 'value': 55181230}}}, 'state': {'type': 'LiteralSequenceExpression', 'sequence': 'GGCT'}}\n",
      "{'_id': 'ga4gh:VA.CxiA_hvYbkD8Vqwjhx5AYuyul4mtlkpD', 'type': 'Allele', 'location': {'_id': 'ga4gh:VSL.QrRSuBj-VScAGV_gEdxNgsnh41jYH1Kg', 'type': 'SequenceLocation', 'sequence_id': 'ga4gh:SQ.IIB53T8CNeJJdUqzn9V_JnRtQadwWCbl', 'interval': {'type': 'SequenceInterval', 'start': {'type': 'Number', 'value': 44908821}, 'end': {'type': 'Number', 'value': 44908822}}}, 'state': {'type': 'LiteralSequenceExpression', 'sequence': 'T'}}\n",
      "{'_id': 'ga4gh:VA.h6WuolTwZJYZh86qP2a8YVA1WXpHuY_X', 'type': 'Allele', 'location': {'_id': 'ga4gh:VSL.kB_ok6Eka0225QwwbOKtvcYZBz7Z0mSR', 'type': 'SequenceLocation', 'sequence_id': 'ga4gh:SQ.F-LrLMe1SRpfUZHkQmvkVKFEGaoDeHul', 'interval': {'type': 'SequenceInterval', 'start': {'type': 'Number', 'value': 55181219}, 'end': {'type': 'Number', 'value': 55181220}}}, 'state': {'type': 'LiteralSequenceExpression', 'sequence': ''}}\n",
      "{'_id': 'ga4gh:VA.HH3RHjZymrie-09X8aR2SMf1ULMlee6u', 'type': 'Allele', 'location': {'_id': 'ga4gh:VSL.tS45HvJapFexhxmbHe6SBn7dGuC46sni', 'type': 'SequenceLocation', 'sequence_id': 'ga4gh:SQ.w0WZEvgJF0zf_P4yyTzjjv9oW1z61HHP', 'interval': {'type': 'SequenceInterval', 'start': {'type': 'Number', 'value': 32386322}, 'end': {'type': 'Number', 'value': 32386323}}}, 'state': {'type': 'LiteralSequenceExpression', 'sequence': 'GA'}}\n",
      "{'_id': 'ga4gh:VA.DkZLLMnwoH6zIncSRh2c05nzCNLdTqHl', 'type': 'Allele', 'location': {'_id': 'ga4gh:VSL.iSZclbNW8T95cXDuNvLMvm6xJd2g4pTn', 'type': 'SequenceLocation', 'sequence_id': 'ga4gh:SQ._0wi-qoDrvram155UmcSC-zA5ZK4fpLT', 'interval': {'type': 'SequenceInterval', 'start': {'type': 'Number', 'value': 32936731}, 'end': {'type': 'Number', 'value': 32936732}}}, 'state': {'type': 'LiteralSequenceExpression', 'sequence': 'C'}}\n",
      "{'_id': 'ga4gh:VA.S3eUS2hlp6q4pSv4u2CbN0OPMusMUnHZ', 'type': 'Allele', 'location': {'_id': 'ga4gh:VSL.nW80UuWsc9bgMncP24FLII6qx8aouNki', 'type': 'SequenceLocation', 'sequence_id': 'ga4gh:SQ._0wi-qoDrvram155UmcSC-zA5ZK4fpLT', 'interval': {'type': 'SequenceInterval', 'start': {'type': 'Number', 'value': 19993837}, 'end': {'type': 'Number', 'value': 19993839}}}, 'state': {'type': 'LiteralSequenceExpression', 'sequence': 'GTGT'}}\n"
     ]
    }
   ],
   "source": [
    "# tt.cvc_to_vrs(exampleVRS,normalize=True,output_format=\"dict\")\n",
    "\n",
    "\n",
    "for example in example_data: \n",
    "    print(tt.cvc_to_vrs(CoreVariantClass(**example),normalize=True,output_format=\"dict\"))"
   ]
  },
  {
   "cell_type": "code",
   "execution_count": 7,
   "metadata": {},
   "outputs": [
    {
     "data": {
      "text/plain": [
       "{'type': 'Allele',\n",
       " 'location': {'type': 'SequenceLocation',\n",
       "  'sequence_id': 'refseq:NC_000013.11',\n",
       "  'interval': {'type': 'SequenceInterval',\n",
       "   'start': {'type': 'Number', 'value': 32936731},\n",
       "   'end': {'type': 'Number', 'value': 32936732}}},\n",
       " 'state': {'type': 'LiteralSequenceExpression', 'sequence': 'G'}}"
      ]
     },
     "execution_count": 7,
     "metadata": {},
     "output_type": "execute_result"
    }
   ],
   "source": [
    "# tt.cvc_to_vrs(exampleVRS,normalize=False,output_format=\"dict\")"
   ]
  },
  {
   "cell_type": "code",
   "execution_count": null,
   "metadata": {},
   "outputs": [],
   "source": []
  }
 ],
 "metadata": {
  "kernelspec": {
   "display_name": "test_dev_vrs_installation",
   "language": "python",
   "name": "python3"
  },
  "language_info": {
   "codemirror_mode": {
    "name": "ipython",
    "version": 3
   },
   "file_extension": ".py",
   "mimetype": "text/x-python",
   "name": "python",
   "nbconvert_exporter": "python",
   "pygments_lexer": "ipython3",
   "version": "3.9.15"
  }
 },
 "nbformat": 4,
 "nbformat_minor": 2
}
