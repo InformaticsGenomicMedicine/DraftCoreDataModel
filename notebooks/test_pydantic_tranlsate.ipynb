{
 "cells": [
  {
   "cell_type": "code",
   "execution_count": 1,
   "metadata": {},
   "outputs": [
    {
     "name": "stderr",
     "output_type": "stream",
     "text": [
      "/Users/M278428/.local/share/virtualenvs/DraftCoreDataModel-MMFV8Z-X/lib/python3.11/site-packages/python_jsonschema_objects/__init__.py:46: UserWarning: Schema version http://json-schema.org/draft-07/schema not recognized. Some keywords and features may not be supported.\n",
      "  warnings.warn(\n"
     ]
    }
   ],
   "source": [
    "from src.pydan_cvc import pdCVC"
   ]
  },
  {
   "cell_type": "code",
   "execution_count": 2,
   "metadata": {},
   "outputs": [
    {
     "data": {
      "text/plain": [
       "pdCVC(origCoordSystem='0-based interbase', seqType='DNA', refAllele='', altAllele='GGCT', start=55181230, end=55181230, allelicState=None, geneSymbol=None, hgncId=None, chrom=None, genomeBuild=None, sequenceId='NC_000007.14')"
      ]
     },
     "execution_count": 2,
     "metadata": {},
     "output_type": "execute_result"
    }
   ],
   "source": [
    "cvc = pdCVC(\n",
    "    origCoordSystem='0-based interbase',\n",
    "    seqType='DNA',\n",
    "    refAllele='',\n",
    "    altAllele='GGCT',\n",
    "    start=55181230,\n",
    "    end=55181230,\n",
    "    allelicState=None,\n",
    "    geneSymbol=None,\n",
    "    hgncId=None,\n",
    "    chrom=None,\n",
    "    genomeBuild=None,\n",
    "    sequenceId='NC_000007.14')\n",
    "cvc"
   ]
  },
  {
   "cell_type": "code",
   "execution_count": 3,
   "metadata": {},
   "outputs": [],
   "source": [
    "from src.var_to import VarToCvc\n",
    "vartocvc = VarToCvc()"
   ]
  },
  {
   "cell_type": "code",
   "execution_count": 4,
   "metadata": {},
   "outputs": [
    {
     "data": {
      "text/plain": [
       "pdCVC(origCoordSystem='0-based interbase', seqType='DNA', refAllele='', altAllele='GGCT', start=55181230, end=55181230, allelicState=None, geneSymbol=None, hgncId=None, chrom=None, genomeBuild=None, sequenceId='NC_000007.14')"
      ]
     },
     "execution_count": 4,
     "metadata": {},
     "output_type": "execute_result"
    }
   ],
   "source": [
    "vartocvc.spdi_to_cvc('NC_000007.14:55181230::GGCT')"
   ]
  },
  {
   "cell_type": "code",
   "execution_count": 5,
   "metadata": {},
   "outputs": [
    {
     "data": {
      "text/plain": [
       "pdCVC(origCoordSystem='0-based interbase', seqType='DNA', refAllele='', altAllele='GGCT', start=55181230, end=55181230, allelicState=None, geneSymbol=None, hgncId=None, chrom=None, genomeBuild=None, sequenceId='NC_000007.14')"
      ]
     },
     "execution_count": 5,
     "metadata": {},
     "output_type": "execute_result"
    }
   ],
   "source": [
    "vartocvc.hgvs_to_cvc('NC_000007.14:g.55181230_55181231insGGCT')"
   ]
  },
  {
   "cell_type": "code",
   "execution_count": 6,
   "metadata": {},
   "outputs": [
    {
     "data": {
      "text/plain": [
       "pdCVC(origCoordSystem='0-based interbase', seqType='DNA', refAllele='', altAllele='GGCT', start=55181230, end=55181230, allelicState=None, geneSymbol=None, hgncId=None, chrom=None, genomeBuild=None, sequenceId='NC_000007.14')"
      ]
     },
     "execution_count": 6,
     "metadata": {},
     "output_type": "execute_result"
    }
   ],
   "source": [
    "from ga4gh.vrs import models\n",
    "\n",
    "# VRS Examples based off of this hgvs expression: \"NC_000019.10:g.44908822C>T\"\n",
    "allele = models.Allele(\n",
    "location = models.SequenceLocation(\n",
    "    sequence_id = \"ga4gh:SQ.F-LrLMe1SRpfUZHkQmvkVKFEGaoDeHul\", \n",
    "    interval = models.SequenceInterval(\n",
    "        start = models.Number(value=55181230, type=\"Number\"),\n",
    "        end = models.Number(value=55181230, type=\"Number\"),\n",
    "        type=\"SequenceInterval\"\n",
    "    ),\n",
    "    type=\"SequenceLocation\"),\n",
    "state = models.SequenceExpression(\n",
    "    sequence = \"GGCT\",\n",
    "    type=\"LiteralSequenceExpression\"\n",
    "),\n",
    "type=\"Allele\")\n",
    "\n",
    "vartocvc.vrs_to_cvc(allele)"
   ]
  },
  {
   "cell_type": "code",
   "execution_count": 7,
   "metadata": {},
   "outputs": [],
   "source": [
    "from src.cvc_to import CvcToVar\n",
    "cvctovar = CvcToVar()"
   ]
  },
  {
   "cell_type": "code",
   "execution_count": 8,
   "metadata": {},
   "outputs": [
    {
     "data": {
      "text/plain": [
       "'NC_000007.14:55181230::GGCT'"
      ]
     },
     "execution_count": 8,
     "metadata": {},
     "output_type": "execute_result"
    }
   ],
   "source": [
    "cvctovar.cvc_to_spdi(cvc, output_format='string')"
   ]
  },
  {
   "cell_type": "code",
   "execution_count": 9,
   "metadata": {},
   "outputs": [
    {
     "data": {
      "text/plain": [
       "'NC_000007.14:g.55181230_55181231insGGCT'"
      ]
     },
     "execution_count": 9,
     "metadata": {},
     "output_type": "execute_result"
    }
   ],
   "source": [
    "cvctovar.cvc_to_hgvs(cvc)"
   ]
  },
  {
   "cell_type": "code",
   "execution_count": 10,
   "metadata": {},
   "outputs": [
    {
     "data": {
      "text/plain": [
       "<Allele _id=<Literal<str> ga4gh:VA.JKGCs07cFu2wlDydCAe2ea06jMFXyK56> location=<SequenceLocation _id=<Literal<str> ga4gh:VSL.SdvAZCNKh5kf6ClsiOOmw_88fbkFPTqG> interval=<SequenceInterval end=<Number type=<Literal<str> Number> value=<Literal<int> 55181230>> start=<Number type=<Literal<str> Number> value=<Literal<int> 55181230>> type=<Literal<str> SequenceInterval>> sequence_id=<Literal<str> ga4gh:SQ.F-LrLMe1SRpfUZHkQmvkVKFEGaoDeHul> type=<Literal<str> SequenceLocation>> state=<LiteralSequenceExpression sequence=<Literal<str> GGCT> type=<Literal<str> LiteralSequenceExpression>> type=<Literal<str> Allele>>"
      ]
     },
     "execution_count": 10,
     "metadata": {},
     "output_type": "execute_result"
    }
   ],
   "source": [
    "cvctovar.cvc_to_vrs(cvc)"
   ]
  }
 ],
 "metadata": {
  "kernelspec": {
   "display_name": "DraftCoreDataModel-MMFV8Z-X",
   "language": "python",
   "name": "python3"
  },
  "language_info": {
   "codemirror_mode": {
    "name": "ipython",
    "version": 3
   },
   "file_extension": ".py",
   "mimetype": "text/x-python",
   "name": "python",
   "nbconvert_exporter": "python",
   "pygments_lexer": "ipython3",
   "version": "3.11.5"
  }
 },
 "nbformat": 4,
 "nbformat_minor": 2
}
