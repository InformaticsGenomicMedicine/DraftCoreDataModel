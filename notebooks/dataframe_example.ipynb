{
 "cells": [
  {
   "cell_type": "code",
   "execution_count": null,
   "metadata": {},
   "outputs": [],
   "source": [
    "from src.database.db_operation import DbOperation\n",
    "import pandas as pd\n",
    "import json"
   ]
  },
  {
   "cell_type": "code",
   "execution_count": null,
   "metadata": {},
   "outputs": [],
   "source": [
    "#Connect to gold standard database\n",
    "db = DbOperation('../src/database/gsdb.db')\n",
    "\n",
    "#Convert database to pandas dataframe\n",
    "df = db.get_combined_in_df()"
   ]
  },
  {
   "cell_type": "code",
   "execution_count": null,
   "metadata": {},
   "outputs": [],
   "source": [
    "#Extract cvc examples\n",
    "for value in df[df['name'] =='cvc']['value']:\n",
    "    print(json.loads(value))"
   ]
  }
 ],
 "metadata": {
  "language_info": {
   "name": "python"
  }
 },
 "nbformat": 4,
 "nbformat_minor": 2
}
