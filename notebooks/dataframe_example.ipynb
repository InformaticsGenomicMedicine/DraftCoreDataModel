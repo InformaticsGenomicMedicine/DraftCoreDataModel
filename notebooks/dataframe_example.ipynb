{
 "cells": [
  {
   "cell_type": "code",
   "execution_count": null,
   "metadata": {},
   "outputs": [],
   "source": [
    "# import sys\n",
    "# sys.path.append('..')"
   ]
  },
  {
   "cell_type": "code",
   "execution_count": 6,
   "metadata": {},
   "outputs": [],
   "source": [
    "from dotenv import load_dotenv\n",
    "load_dotenv()\n",
    "\n",
    "from src.database.db_operation import DbOperation\n",
    "import pandas as pd\n",
    "import json"
   ]
  },
  {
   "cell_type": "code",
   "execution_count": 7,
   "metadata": {},
   "outputs": [],
   "source": [
    "from src.database.db_operation import DbOperation\n",
    "import pandas as pd\n",
    "import json"
   ]
  },
  {
   "cell_type": "code",
   "execution_count": 8,
   "metadata": {},
   "outputs": [],
   "source": [
    "#Connect to gold standard database\n",
    "db = DbOperation('../src/database/gsdb.db')\n",
    "\n",
    "#Convert database to pandas dataframe\n",
    "df = db.get_combined_in_df()"
   ]
  },
  {
   "cell_type": "code",
   "execution_count": 9,
   "metadata": {},
   "outputs": [
    {
     "name": "stdout",
     "output_type": "stream",
     "text": [
      "{'origCoordSystem': '0-based interbase', 'seqType': 'DNA', 'refAllele': 'CC', 'altAllele': 'C', 'start': 1014263, 'end': 1014265, 'allelicState': None, 'geneSymbol': None, 'hgncId': None, 'chrom': None, 'genomeBuild': None, 'sequenceId': 'NC_000001.11'}\n",
      "{'origCoordSystem': '0-based interbase', 'seqType': 'DNA', 'refAllele': 'GCATCG', 'altAllele': 'G', 'start': 15445654, 'end': 15445660, 'allelicState': None, 'geneSymbol': None, 'hgncId': None, 'chrom': None, 'genomeBuild': None, 'sequenceId': 'NC_000001.11'}\n",
      "{'origCoordSystem': '0-based interbase', 'seqType': 'DNA', 'refAllele': 'AG', 'altAllele': '', 'start': 1510945, 'end': 1510947, 'allelicState': None, 'geneSymbol': None, 'hgncId': None, 'chrom': None, 'genomeBuild': None, 'sequenceId': 'NC_000016.10'}\n",
      "{'origCoordSystem': '0-based interbase', 'seqType': 'DNA', 'refAllele': '', 'altAllele': 'ATA', 'start': 113901365, 'end': 113901365, 'allelicState': None, 'geneSymbol': None, 'hgncId': None, 'chrom': None, 'genomeBuild': None, 'sequenceId': 'NC_000001.11'}\n",
      "{'origCoordSystem': '0-based interbase', 'seqType': 'DNA', 'refAllele': '', 'altAllele': 'CGTTCTCTACCAGCTGC', 'start': 134824705, 'end': 134824705, 'allelicState': None, 'geneSymbol': None, 'hgncId': None, 'chrom': None, 'genomeBuild': None, 'sequenceId': 'NC_000009.12'}\n",
      "{'origCoordSystem': '0-based interbase', 'seqType': 'DNA', 'refAllele': 'C', 'altAllele': 'T', 'start': 27453448, 'end': 27453449, 'allelicState': None, 'geneSymbol': None, 'hgncId': None, 'chrom': None, 'genomeBuild': None, 'sequenceId': 'NC_000002.12'}\n",
      "{'origCoordSystem': '0-based interbase', 'seqType': 'DNA', 'refAllele': 'A', 'altAllele': 'T', 'start': 15560606, 'end': 15560607, 'allelicState': None, 'geneSymbol': None, 'hgncId': None, 'chrom': None, 'genomeBuild': None, 'sequenceId': 'NC_000004.12'}\n",
      "{'origCoordSystem': '0-based interbase', 'seqType': 'DNA', 'refAllele': 'CA', 'altAllele': 'GAT', 'start': 166043788, 'end': 166043790, 'allelicState': None, 'geneSymbol': None, 'hgncId': None, 'chrom': None, 'genomeBuild': None, 'sequenceId': 'NC_000002.12'}\n",
      "{'origCoordSystem': '0-based interbase', 'seqType': 'DNA', 'refAllele': 'A', 'altAllele': 'CC', 'start': 8058795, 'end': 8058796, 'allelicState': None, 'geneSymbol': None, 'hgncId': None, 'chrom': None, 'genomeBuild': None, 'sequenceId': 'NC_000010.11'}\n",
      "{'origCoordSystem': '0-based interbase', 'seqType': 'DNA', 'refAllele': 'G', 'altAllele': 'G', 'start': 88007815, 'end': 88007816, 'allelicState': None, 'geneSymbol': None, 'hgncId': None, 'chrom': None, 'genomeBuild': None, 'sequenceId': 'NC_000004.12'}\n",
      "{'origCoordSystem': '0-based interbase', 'seqType': 'DNA', 'refAllele': 'TGAGCTTCCA', 'altAllele': 'TGAGCTTCCATGAGCTTCCA', 'start': 5880117, 'end': 5880127, 'allelicState': None, 'geneSymbol': None, 'hgncId': None, 'chrom': None, 'genomeBuild': None, 'sequenceId': 'NC_000001.11'}\n"
     ]
    }
   ],
   "source": [
    "#Extract cvc examples\n",
    "for value in df[df['name'] =='cvc']['value']:\n",
    "    print(json.loads(value))"
   ]
  },
  {
   "cell_type": "code",
   "execution_count": null,
   "metadata": {},
   "outputs": [],
   "source": []
  }
 ],
 "metadata": {
  "kernelspec": {
   "display_name": "DraftCoreDataModel-MMFV8Z-X",
   "language": "python",
   "name": "python3"
  },
  "language_info": {
   "codemirror_mode": {
    "name": "ipython",
    "version": 3
   },
   "file_extension": ".py",
   "mimetype": "text/x-python",
   "name": "python",
   "nbconvert_exporter": "python",
   "pygments_lexer": "ipython3",
   "version": "3.11.5"
  }
 },
 "nbformat": 4,
 "nbformat_minor": 2
}
