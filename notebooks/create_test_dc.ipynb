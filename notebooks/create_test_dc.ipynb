{
 "cells": [
  {
   "cell_type": "code",
   "execution_count": null,
   "metadata": {},
   "outputs": [],
   "source": [
    "import re \n",
    "import json\n",
    "from dataclasses import dataclass\n",
    "\n",
    "\n",
    "@dataclass\n",
    "class Test:\n",
    "    origCoordSystem: str\n",
    "    seqType: str\n",
    "\n",
    "    def __post_init__(self):\n",
    "        self.origCoordSystem = self._validate_orig_coord_system(self.origCoordSystem)\n",
    "        self.seqType = self._validate_seq_type(self.seqType)\n",
    "\n",
    "    def __str__(self):\n",
    "        return f\"{self.origCoordSystem}_{self.seqType}\"\n",
    "    \n",
    "    def __repr__(self):\n",
    "        return str(self)\n",
    "    \n",
    "    def get_initial_params(self):\n",
    "        return {k: v for k, v in self.__dict__.items() if not k.startswith('_')}\n",
    "    \n",
    "    def _validate_orig_coord_system(self, origCoordSystem):\n",
    "        value = origCoordSystem.strip()\n",
    "        allowedOrigCoordSystem = ('0-based interbase','0-based counting','1-based counting')\n",
    "        if value not in allowedOrigCoordSystem:\n",
    "            raise ValueError(f'Invalid origCoordSystem input: \"{origCoordSystem}\". Allowed types: {allowedOrigCoordSystem}.')\n",
    "        return value\n",
    "    \n",
    "    def _validate_seq_type(self,seqType):\n",
    "        value = seqType.upper().strip()\n",
    "        allowedSeqType = ('DNA','RNA','PROTEIN')\n",
    "        if value not in allowedSeqType:\n",
    "            raise ValueError(f'Invalid seqType input: \"{seqType}\". Allowed types: {allowedSeqType} (Case Insensitive).') \n",
    "        return value\n",
    "    \n",
    "    def to_dict(self):\n",
    "        return self.__dict__\n",
    "    \n",
    "    def to_json(self):\n",
    "        return json.dumps(self.to_dict())\n",
    "\n"
   ]
  },
  {
   "cell_type": "code",
   "execution_count": null,
   "metadata": {},
   "outputs": [],
   "source": [
    "# create an instance of the Test class\n",
    "test_instance = Test(origCoordSystem='0-based interbase', seqType='dna')\n",
    "\n",
    "# convert the instance to a dictionary\n",
    "test_dict = test_instance.to_dict()\n",
    "\n",
    "# print the dictionary\n",
    "print(test_dict)\n",
    "\n",
    "# convert the instance to a JSON string\n",
    "test_json = test_instance.to_json()\n",
    "\n",
    "# print the JSON string\n",
    "print(test_json)\n"
   ]
  },
  {
   "cell_type": "code",
   "execution_count": 12,
   "metadata": {},
   "outputs": [],
   "source": [
    "from dataclasses import dataclass\n",
    "from dataclasses import dataclass, asdict\n",
    "from src.api.ncbi_variation_services_api import VarServAPI\n",
    "import sys\n",
    "sys.path.append('..')\n",
    "\n",
    "@dataclass\n",
    "class SPDI:\n",
    "    sequence: str\n",
    "    position: int\n",
    "    deletion: str\n",
    "    insertion: str\n",
    "\n",
    "    def __post_init__(self):\n",
    "        \"\"\"Validate SPDI expression.\"\"\"\n",
    "        self.api = VarServAPI()\n",
    "        spdi = f\"{self.sequence}:{self.position}:{self.deletion}:{self.insertion}\"\n",
    "        self.api.validate_spdi(spdi)\n",
    "\n",
    "    def to_string(self) -> str:\n",
    "        \"\"\"Convert SPDI object to a string representation.\"\"\"\n",
    "        spdi_expression = f\"{self.sequence}:{self.position}:{self.deletion}:{self.insertion}\"\n",
    "        return spdi_expression \n",
    "\n",
    "    def to_dict(self) -> dict:\n",
    "        \"\"\"Convert SPDI object to a dictionary.\"\"\"\n",
    "        return {\n",
    "            'sequence': self.sequence,\n",
    "            'position': self.position,\n",
    "            'deletion': self.deletion,\n",
    "            'insertion': self.insertion\n",
    "        }\n",
    "    \n",
    "    def get_initial_params(self):\n",
    "        \"\"\"Return a dictionary of the initial parameters used to create the instance of the class.\"\"\"\n",
    "        return {k: v for k, v in self.__dict__.items() if not k.startswith('_')}\n"
   ]
  },
  {
   "cell_type": "code",
   "execution_count": 18,
   "metadata": {},
   "outputs": [
    {
     "ename": "HTTPError",
     "evalue": "Failed to validate SPDI expression: :1000:A:T.",
     "output_type": "error",
     "traceback": [
      "\u001b[0;31m---------------------------------------------------------------------------\u001b[0m",
      "\u001b[0;31mHTTPError\u001b[0m                                 Traceback (most recent call last)",
      "\u001b[1;32m/Users/M278428/Documents/rf_lab_projects/DraftCoreDataModel/notebooks/create_test_dc.ipynb Cell 4\u001b[0m line \u001b[0;36m2\n\u001b[1;32m      <a href='vscode-notebook-cell:/Users/M278428/Documents/rf_lab_projects/DraftCoreDataModel/notebooks/create_test_dc.ipynb#X10sZmlsZQ%3D%3D?line=0'>1</a>\u001b[0m \u001b[39m# create an instance of the SPDI class\u001b[39;00m\n\u001b[0;32m----> <a href='vscode-notebook-cell:/Users/M278428/Documents/rf_lab_projects/DraftCoreDataModel/notebooks/create_test_dc.ipynb#X10sZmlsZQ%3D%3D?line=1'>2</a>\u001b[0m spdi_instance \u001b[39m=\u001b[39m SPDI(sequence\u001b[39m=\u001b[39;49m\u001b[39m'\u001b[39;49m\u001b[39m'\u001b[39;49m, position\u001b[39m=\u001b[39;49m\u001b[39m1000\u001b[39;49m, deletion\u001b[39m=\u001b[39;49m\u001b[39m'\u001b[39;49m\u001b[39mA\u001b[39;49m\u001b[39m'\u001b[39;49m, insertion\u001b[39m=\u001b[39;49m\u001b[39m'\u001b[39;49m\u001b[39mT\u001b[39;49m\u001b[39m'\u001b[39;49m)\n\u001b[1;32m      <a href='vscode-notebook-cell:/Users/M278428/Documents/rf_lab_projects/DraftCoreDataModel/notebooks/create_test_dc.ipynb#X10sZmlsZQ%3D%3D?line=3'>4</a>\u001b[0m \u001b[39m# print the string representation of the instance\u001b[39;00m\n\u001b[1;32m      <a href='vscode-notebook-cell:/Users/M278428/Documents/rf_lab_projects/DraftCoreDataModel/notebooks/create_test_dc.ipynb#X10sZmlsZQ%3D%3D?line=4'>5</a>\u001b[0m \u001b[39mprint\u001b[39m(spdi_instance\u001b[39m.\u001b[39mto_string())\n",
      "File \u001b[0;32m<string>:7\u001b[0m, in \u001b[0;36m__init__\u001b[0;34m(self, sequence, position, deletion, insertion)\u001b[0m\n",
      "\u001b[1;32m/Users/M278428/Documents/rf_lab_projects/DraftCoreDataModel/notebooks/create_test_dc.ipynb Cell 4\u001b[0m line \u001b[0;36m1\n\u001b[1;32m     <a href='vscode-notebook-cell:/Users/M278428/Documents/rf_lab_projects/DraftCoreDataModel/notebooks/create_test_dc.ipynb#X10sZmlsZQ%3D%3D?line=14'>15</a>\u001b[0m \u001b[39mself\u001b[39m\u001b[39m.\u001b[39mapi \u001b[39m=\u001b[39m VarServAPI()\n\u001b[1;32m     <a href='vscode-notebook-cell:/Users/M278428/Documents/rf_lab_projects/DraftCoreDataModel/notebooks/create_test_dc.ipynb#X10sZmlsZQ%3D%3D?line=15'>16</a>\u001b[0m spdi \u001b[39m=\u001b[39m \u001b[39mf\u001b[39m\u001b[39m\"\u001b[39m\u001b[39m{\u001b[39;00m\u001b[39mself\u001b[39m\u001b[39m.\u001b[39msequence\u001b[39m}\u001b[39;00m\u001b[39m:\u001b[39m\u001b[39m{\u001b[39;00m\u001b[39mself\u001b[39m\u001b[39m.\u001b[39mposition\u001b[39m}\u001b[39;00m\u001b[39m:\u001b[39m\u001b[39m{\u001b[39;00m\u001b[39mself\u001b[39m\u001b[39m.\u001b[39mdeletion\u001b[39m}\u001b[39;00m\u001b[39m:\u001b[39m\u001b[39m{\u001b[39;00m\u001b[39mself\u001b[39m\u001b[39m.\u001b[39minsertion\u001b[39m}\u001b[39;00m\u001b[39m\"\u001b[39m\n\u001b[0;32m---> <a href='vscode-notebook-cell:/Users/M278428/Documents/rf_lab_projects/DraftCoreDataModel/notebooks/create_test_dc.ipynb#X10sZmlsZQ%3D%3D?line=16'>17</a>\u001b[0m \u001b[39mself\u001b[39;49m\u001b[39m.\u001b[39;49mapi\u001b[39m.\u001b[39;49mvalidate_spdi(spdi)\n",
      "File \u001b[0;32m~/Documents/rf_lab_projects/DraftCoreDataModel/notebooks/../src/api/ncbi_variation_services_api.py:60\u001b[0m, in \u001b[0;36mVarServAPI.validate_spdi\u001b[0;34m(self, spdi_id)\u001b[0m\n\u001b[1;32m     55\u001b[0m \u001b[39melse\u001b[39;00m:\n\u001b[1;32m     56\u001b[0m     \u001b[39mtry\u001b[39;00m:\n\u001b[1;32m     57\u001b[0m         \u001b[39m# TODO: delete once tested/ check message \u001b[39;00m\n\u001b[1;32m     58\u001b[0m         \u001b[39m# error_json = response.json()\u001b[39;00m\n\u001b[1;32m     59\u001b[0m         \u001b[39m# error_message = error_json['error']['message']\u001b[39;00m\n\u001b[0;32m---> 60\u001b[0m         \u001b[39mraise\u001b[39;00m requests\u001b[39m.\u001b[39mHTTPError(\u001b[39mf\u001b[39m\u001b[39m'\u001b[39m\u001b[39mFailed to validate SPDI expression: \u001b[39m\u001b[39m{\u001b[39;00mspdi_id\u001b[39m}\u001b[39;00m\u001b[39m.\u001b[39m\u001b[39m'\u001b[39m) \u001b[39m# Error Message: {error_message}\u001b[39;00m\n\u001b[1;32m     61\u001b[0m     \u001b[39mexcept\u001b[39;00m json\u001b[39m.\u001b[39mJSONDecodeError:\n\u001b[1;32m     62\u001b[0m         \u001b[39mraise\u001b[39;00m requests\u001b[39m.\u001b[39mHTTPError(\u001b[39mf\u001b[39m\u001b[39m'\u001b[39m\u001b[39mFailed to parse error response as JSON: \u001b[39m\u001b[39m{\u001b[39;00mresponse\u001b[39m.\u001b[39mtext\u001b[39m}\u001b[39;00m\u001b[39m'\u001b[39m)\n",
      "\u001b[0;31mHTTPError\u001b[0m: Failed to validate SPDI expression: :1000:A:T."
     ]
    }
   ],
   "source": [
    "# create an instance of the SPDI class\n",
    "spdi_instance = SPDI(sequence='', position=1000, deletion='A', insertion='T')\n",
    "\n",
    "# print the string representation of the instance\n",
    "print(spdi_instance.to_string())\n",
    "\n",
    "\n",
    "# get the initial parameters used to create the instance\n",
    "initial_params = spdi_instance.get_initial_params()\n",
    "\n",
    "# print the initial parameters\n",
    "print(initial_params)\n"
   ]
  },
  {
   "cell_type": "code",
   "execution_count": 21,
   "metadata": {},
   "outputs": [],
   "source": [
    "\n",
    "\n"
   ]
  },
  {
   "cell_type": "code",
   "execution_count": null,
   "metadata": {},
   "outputs": [],
   "source": []
  }
 ],
 "metadata": {
  "kernelspec": {
   "display_name": "test_dev_vrs_installation",
   "language": "python",
   "name": "python3"
  },
  "language_info": {
   "codemirror_mode": {
    "name": "ipython",
    "version": 3
   },
   "file_extension": ".py",
   "mimetype": "text/x-python",
   "name": "python",
   "nbconvert_exporter": "python",
   "pygments_lexer": "ipython3",
   "version": "3.9.15"
  }
 },
 "nbformat": 4,
 "nbformat_minor": 2
}
