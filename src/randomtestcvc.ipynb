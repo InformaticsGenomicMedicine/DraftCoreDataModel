{
 "cells": [
  {
   "cell_type": "code",
   "execution_count": 18,
   "metadata": {},
   "outputs": [],
   "source": [
    "from core_variant import CoreVariantClass"
   ]
  },
  {
   "cell_type": "code",
   "execution_count": 19,
   "metadata": {},
   "outputs": [],
   "source": [
    "cvc_example = CoreVariantClass(origCoordSystem='0-based interbase',seqType='dna',\n",
    "                        refAllele='C',altAllele='A',start=12345,end=12346,allelicState= 'heterozygous',geneSymbol='GENE1',hgncId=123,\n",
    "                        chrom='chr 3', genomeBuild='GRCh38', sequenceId='NC_000001.10',notes = 'Testing the **kwargs')\n"
   ]
  },
  {
   "cell_type": "code",
   "execution_count": 20,
   "metadata": {},
   "outputs": [
    {
     "data": {
      "text/plain": [
       "CoreVariantClass(0-based interbase,DNA,C,A,12345,12346,heterozygous,GENE1,123,3,GRCh38,NC_000001.10,{'notes': 'Testing the **kwargs'})"
      ]
     },
     "execution_count": 20,
     "metadata": {},
     "output_type": "execute_result"
    }
   ],
   "source": [
    "cvc_example"
   ]
  },
  {
   "cell_type": "code",
   "execution_count": 21,
   "metadata": {},
   "outputs": [
    {
     "data": {
      "text/plain": [
       "{'origCoordSystem': '0-based interbase',\n",
       " 'seqType': 'dna',\n",
       " 'refAllele': 'C',\n",
       " 'altAllele': 'A',\n",
       " 'start': 12345,\n",
       " 'end': 12346,\n",
       " 'allelicState': 'heterozygous',\n",
       " 'geneSymbol': 'GENE1',\n",
       " 'hgncId': 123,\n",
       " 'chrom': 'chr 3',\n",
       " 'genomeBuild': 'GRCh38',\n",
       " 'sequenceId': 'NC_000001.10',\n",
       " 'extra': {'notes': 'Testing the **kwargs'}}"
      ]
     },
     "execution_count": 21,
     "metadata": {},
     "output_type": "execute_result"
    }
   ],
   "source": [
    "cvc_example.init_params()"
   ]
  },
  {
   "cell_type": "code",
   "execution_count": 22,
   "metadata": {},
   "outputs": [
    {
     "data": {
      "text/plain": [
       "{'origCoordSystem': '0-based interbase',\n",
       " 'seqType': 'DNA',\n",
       " 'refAllele': 'C',\n",
       " 'altAllele': 'A',\n",
       " 'start': 12345,\n",
       " 'end': 12346,\n",
       " 'allelicState': 'heterozygous',\n",
       " 'geneSymbol': 'GENE1',\n",
       " 'hgncId': 123,\n",
       " 'chrom': '3',\n",
       " 'genomeBuild': 'GRCh38',\n",
       " 'sequenceId': 'NC_000001.10',\n",
       " 'extra': {'notes': 'Testing the **kwargs'}}"
      ]
     },
     "execution_count": 22,
     "metadata": {},
     "output_type": "execute_result"
    }
   ],
   "source": [
    "cvc_example.as_dict()"
   ]
  },
  {
   "cell_type": "code",
   "execution_count": 23,
   "metadata": {},
   "outputs": [
    {
     "data": {
      "text/plain": [
       "'{\"origCoordSystem\": \"0-based interbase\", \"seqType\": \"DNA\", \"refAllele\": \"C\", \"altAllele\": \"A\", \"start\": 12345, \"end\": 12346, \"allelicState\": \"heterozygous\", \"geneSymbol\": \"GENE1\", \"hgncId\": 123, \"chrom\": \"3\", \"genomeBuild\": \"GRCh38\", \"sequenceId\": \"NC_000001.10\", \"extra\": {\"notes\": \"Testing the **kwargs\"}}'"
      ]
     },
     "execution_count": 23,
     "metadata": {},
     "output_type": "execute_result"
    }
   ],
   "source": [
    "cvc_example.as_json()"
   ]
  },
  {
   "cell_type": "code",
   "execution_count": 24,
   "metadata": {},
   "outputs": [
    {
     "data": {
      "text/plain": [
       "{'origCoordSystem': '0-based interbase',\n",
       " 'seqType': 'DNA',\n",
       " 'allelicState': 'heterozygous',\n",
       " 'associatedGene': {'geneSymbol': 'GENE1', 'hgncId': 123},\n",
       " 'refAllele': 'C',\n",
       " 'altAllele': 'A',\n",
       " 'position': {'chrom': '3',\n",
       "  'genomeBuild': 'GRCh38',\n",
       "  'start': 12345,\n",
       "  'end': 12346,\n",
       "  'sequenceId': 'NC_000001.10'}}"
      ]
     },
     "execution_count": 24,
     "metadata": {},
     "output_type": "execute_result"
    }
   ],
   "source": [
    "cvc_example.normalized_data()"
   ]
  },
  {
   "cell_type": "code",
   "execution_count": null,
   "metadata": {},
   "outputs": [],
   "source": []
  }
 ],
 "metadata": {
  "kernelspec": {
   "display_name": "test_dev_vrs_installation",
   "language": "python",
   "name": "python3"
  },
  "language_info": {
   "codemirror_mode": {
    "name": "ipython",
    "version": 3
   },
   "file_extension": ".py",
   "mimetype": "text/x-python",
   "name": "python",
   "nbconvert_exporter": "python",
   "pygments_lexer": "ipython3",
   "version": "3.9.15"
  },
  "orig_nbformat": 4
 },
 "nbformat": 4,
 "nbformat_minor": 2
}
