{
 "cells": [
  {
   "cell_type": "code",
   "execution_count": 1,
   "metadata": {},
   "outputs": [],
   "source": [
    "from core_variant import CoreVariantClass"
   ]
  },
  {
   "cell_type": "code",
   "execution_count": 6,
   "metadata": {},
   "outputs": [
    {
     "ename": "ValueError",
     "evalue": "Invalid refAllele input: \"Z\". Value need to match regular expression patter: (^[ACDEFGHIKLMNPQRSTVWY]*$).",
     "output_type": "error",
     "traceback": [
      "\u001b[0;31m---------------------------------------------------------------------------\u001b[0m",
      "\u001b[0;31mValueError\u001b[0m                                Traceback (most recent call last)",
      "\u001b[1;32m/Users/M278428/Documents/rf_lab_projects/DraftCoreDataModel/src/randomtestcvc.ipynb Cell 2\u001b[0m line \u001b[0;36m1\n\u001b[0;32m----> <a href='vscode-notebook-cell:/Users/M278428/Documents/rf_lab_projects/DraftCoreDataModel/src/randomtestcvc.ipynb#W1sZmlsZQ%3D%3D?line=0'>1</a>\u001b[0m cvc_example \u001b[39m=\u001b[39m CoreVariantClass(origCoordSystem\u001b[39m=\u001b[39;49m\u001b[39m'\u001b[39;49m\u001b[39m0-based interbase\u001b[39;49m\u001b[39m'\u001b[39;49m,seqType\u001b[39m=\u001b[39;49m\u001b[39m'\u001b[39;49m\u001b[39mPROTEIN\u001b[39;49m\u001b[39m'\u001b[39;49m,\n\u001b[1;32m      <a href='vscode-notebook-cell:/Users/M278428/Documents/rf_lab_projects/DraftCoreDataModel/src/randomtestcvc.ipynb#W1sZmlsZQ%3D%3D?line=1'>2</a>\u001b[0m                         refAllele\u001b[39m=\u001b[39;49m\u001b[39m'\u001b[39;49m\u001b[39mZ\u001b[39;49m\u001b[39m'\u001b[39;49m,altAllele\u001b[39m=\u001b[39;49m\u001b[39m'\u001b[39;49m\u001b[39mA\u001b[39;49m\u001b[39m'\u001b[39;49m,start\u001b[39m=\u001b[39;49m\u001b[39m12345\u001b[39;49m,end\u001b[39m=\u001b[39;49m\u001b[39m12346\u001b[39;49m,allelicState\u001b[39m=\u001b[39;49m \u001b[39m'\u001b[39;49m\u001b[39mheterozygous\u001b[39;49m\u001b[39m'\u001b[39;49m,geneSymbol\u001b[39m=\u001b[39;49m\u001b[39m'\u001b[39;49m\u001b[39mGENE1\u001b[39;49m\u001b[39m'\u001b[39;49m,hgncId\u001b[39m=\u001b[39;49m\u001b[39m123\u001b[39;49m,\n\u001b[1;32m      <a href='vscode-notebook-cell:/Users/M278428/Documents/rf_lab_projects/DraftCoreDataModel/src/randomtestcvc.ipynb#W1sZmlsZQ%3D%3D?line=2'>3</a>\u001b[0m                         chrom\u001b[39m=\u001b[39;49m\u001b[39m'\u001b[39;49m\u001b[39mchr 3\u001b[39;49m\u001b[39m'\u001b[39;49m, genomeBuild\u001b[39m=\u001b[39;49m\u001b[39m'\u001b[39;49m\u001b[39mT2T-CHM13\u001b[39;49m\u001b[39m'\u001b[39;49m, sequenceId\u001b[39m=\u001b[39;49m\u001b[39m'\u001b[39;49m\u001b[39mNC_000001.10\u001b[39;49m\u001b[39m'\u001b[39;49m,notes \u001b[39m=\u001b[39;49m \u001b[39m'\u001b[39;49m\u001b[39mTesting the **kwargs\u001b[39;49m\u001b[39m'\u001b[39;49m)\n",
      "File \u001b[0;32m~/Documents/rf_lab_projects/DraftCoreDataModel/src/core_variant.py:32\u001b[0m, in \u001b[0;36mCoreVariantClass.__init__\u001b[0;34m(self, origCoordSystem, seqType, refAllele, altAllele, start, end, allelicState, geneSymbol, hgncId, chrom, genomeBuild, sequenceId, **kwargs)\u001b[0m\n\u001b[1;32m     30\u001b[0m \u001b[39mself\u001b[39m\u001b[39m.\u001b[39morigCoordSystem \u001b[39m=\u001b[39m \u001b[39mself\u001b[39m\u001b[39m.\u001b[39m_validate_orig_coord_system(origCoordSystem)\n\u001b[1;32m     31\u001b[0m \u001b[39mself\u001b[39m\u001b[39m.\u001b[39mseqType \u001b[39m=\u001b[39m \u001b[39mself\u001b[39m\u001b[39m.\u001b[39m_validate_seq_type(seqType)\n\u001b[0;32m---> 32\u001b[0m \u001b[39mself\u001b[39m\u001b[39m.\u001b[39mrefAllele \u001b[39m=\u001b[39m \u001b[39mself\u001b[39;49m\u001b[39m.\u001b[39;49m_validate_reference_allele(refAllele,\u001b[39m'\u001b[39;49m\u001b[39mrefAllele\u001b[39;49m\u001b[39m'\u001b[39;49m)\n\u001b[1;32m     33\u001b[0m \u001b[39mself\u001b[39m\u001b[39m.\u001b[39maltAllele \u001b[39m=\u001b[39m \u001b[39mself\u001b[39m\u001b[39m.\u001b[39m_validate_alternative_allele(altAllele,\u001b[39m'\u001b[39m\u001b[39maltAllele\u001b[39m\u001b[39m'\u001b[39m)\n\u001b[1;32m     34\u001b[0m \u001b[39mself\u001b[39m\u001b[39m.\u001b[39mstart \u001b[39m=\u001b[39m \u001b[39mself\u001b[39m\u001b[39m.\u001b[39m_validate_coordinates(start,\u001b[39m'\u001b[39m\u001b[39mstart\u001b[39m\u001b[39m'\u001b[39m)\n",
      "File \u001b[0;32m~/Documents/rf_lab_projects/DraftCoreDataModel/src/core_variant.py:192\u001b[0m, in \u001b[0;36mCoreVariantClass._validate_reference_allele\u001b[0;34m(self, value, attributeName)\u001b[0m\n\u001b[1;32m    190\u001b[0m \u001b[39melif\u001b[39;00m \u001b[39mself\u001b[39m\u001b[39m.\u001b[39mseqType \u001b[39m==\u001b[39m \u001b[39m'\u001b[39m\u001b[39mPROTEIN\u001b[39m\u001b[39m'\u001b[39m:\n\u001b[1;32m    191\u001b[0m     \u001b[39mif\u001b[39;00m \u001b[39mnot\u001b[39;00m re\u001b[39m.\u001b[39mmatch(pat[\u001b[39m'\u001b[39m\u001b[39mPROTEIN\u001b[39m\u001b[39m'\u001b[39m],val):\n\u001b[0;32m--> 192\u001b[0m         \u001b[39mraise\u001b[39;00m \u001b[39mValueError\u001b[39;00m(\u001b[39mf\u001b[39m\u001b[39m'\u001b[39m\u001b[39mInvalid \u001b[39m\u001b[39m{\u001b[39;00mattributeName\u001b[39m}\u001b[39;00m\u001b[39m input: \u001b[39m\u001b[39m\"\u001b[39m\u001b[39m{\u001b[39;00mval\u001b[39m}\u001b[39;00m\u001b[39m\"\u001b[39m\u001b[39m. Value need to match regular expression patter: (\u001b[39m\u001b[39m{\u001b[39;00mpat[\u001b[39m\"\u001b[39m\u001b[39mPROTEIN\u001b[39m\u001b[39m\"\u001b[39m]\u001b[39m}\u001b[39;00m\u001b[39m).\u001b[39m\u001b[39m'\u001b[39m)\n\u001b[1;32m    193\u001b[0m     \u001b[39mreturn\u001b[39;00m val\n",
      "\u001b[0;31mValueError\u001b[0m: Invalid refAllele input: \"Z\". Value need to match regular expression patter: (^[ACDEFGHIKLMNPQRSTVWY]*$)."
     ]
    }
   ],
   "source": [
    "cvc_example = CoreVariantClass(origCoordSystem='0-based interbase',seqType='PROTEIN',\n",
    "                        refAllele='Z',altAllele='A',start=12345,end=12346,allelicState= 'heterozygous',geneSymbol='GENE1',hgncId=123,\n",
    "                        chrom='chr 3', genomeBuild='T2T-CHM13', sequenceId='NC_000001.10',notes = 'Testing the **kwargs')\n"
   ]
  },
  {
   "cell_type": "code",
   "execution_count": 5,
   "metadata": {},
   "outputs": [
    {
     "data": {
      "text/plain": [
       "CoreVariantClass(0-based interbase,PROTEIN,T,A,12345,12346,heterozygous,GENE1,123,3,T2T-CHM13,NC_000001.10,{'notes': 'Testing the **kwargs'})"
      ]
     },
     "execution_count": 5,
     "metadata": {},
     "output_type": "execute_result"
    }
   ],
   "source": [
    "cvc_example"
   ]
  },
  {
   "cell_type": "code",
   "execution_count": null,
   "metadata": {},
   "outputs": [],
   "source": [
    "cvc_example.init_params()"
   ]
  },
  {
   "cell_type": "code",
   "execution_count": null,
   "metadata": {},
   "outputs": [],
   "source": [
    "cvc_example.as_dict()"
   ]
  },
  {
   "cell_type": "code",
   "execution_count": null,
   "metadata": {},
   "outputs": [],
   "source": [
    "cvc_example.as_json()"
   ]
  },
  {
   "cell_type": "code",
   "execution_count": null,
   "metadata": {},
   "outputs": [],
   "source": [
    "cvc_example.normalized_data()"
   ]
  },
  {
   "cell_type": "code",
   "execution_count": null,
   "metadata": {},
   "outputs": [],
   "source": []
  }
 ],
 "metadata": {
  "kernelspec": {
   "display_name": "test_dev_vrs_installation",
   "language": "python",
   "name": "python3"
  },
  "language_info": {
   "codemirror_mode": {
    "name": "ipython",
    "version": 3
   },
   "file_extension": ".py",
   "mimetype": "text/x-python",
   "name": "python",
   "nbconvert_exporter": "python",
   "pygments_lexer": "ipython3",
   "version": "3.9.15"
  },
  "orig_nbformat": 4
 },
 "nbformat": 4,
 "nbformat_minor": 2
}
