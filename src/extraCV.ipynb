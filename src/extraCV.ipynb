{
 "cells": [
  {
   "cell_type": "code",
   "execution_count": 5,
   "metadata": {},
   "outputs": [
    {
     "data": {
      "text/plain": [
       "CoreVariantClass(0-based interbase,PROTEIN,ALA,A,12345,12348,heterozygous,GENE1,123,3,T2T-CHM13,NC_000001.10,{'notes': 'Testing the **kwargs'})"
      ]
     },
     "execution_count": 5,
     "metadata": {},
     "output_type": "execute_result"
    }
   ],
   "source": [
    "import sys\n",
    "sys.path.append('..')\n",
    "from src.core_variant import CoreVariantClass\n",
    "\n",
    "Example1 = CoreVariantClass(origCoordSystem='0-based interbase',seqType='Protein',\n",
    "                        refAllele='ALA',altAllele='A',start=12345,end=12348,allelicState= 'heterozygous',geneSymbol='GENE1',hgncId=123,\n",
    "                        chrom='chr 3', genomeBuild='T2T-CHM13', sequenceId='NC_000001.10',notes = 'Testing the **kwargs')\n",
    "Example1"
   ]
  },
  {
   "cell_type": "code",
   "execution_count": null,
   "metadata": {},
   "outputs": [],
   "source": [
    "CoreVariantClass()"
   ]
  },
  {
   "cell_type": "code",
   "execution_count": null,
   "metadata": {},
   "outputs": [],
   "source": [
    "#TODO: comment on sequenceID to insure that it is NC or NM_\n",
    "\n",
    "\n",
    "from src.spdi.spdi_class import SPDI\n",
    "\n",
    "def cvc_to_spdi(expression,format_output):\n",
    "    \"\"\"_summary_\n",
    "\n",
    "    Args:\n",
    "        expression (_type_): _description_\n",
    "        format_output (_type_): _description_\n",
    "\n",
    "    Raises:\n",
    "        ValueError: _description_\n",
    "\n",
    "    Returns:\n",
    "        _type_: _description_\n",
    "    \"\"\"\n",
    "\n",
    "    if expression.origCoordSystem != \"0-based interbase\":\n",
    "        raise ValueError('The origCoordsystem must equal 0-based interbase.')\n",
    "\n",
    "    spdi_obj = SPDI(sequence=expression.sequenceId,\n",
    "                    position=expression.start,\n",
    "                    insertion=expression.refAllele,\n",
    "                    deletion=expression.altAllele)\n",
    "\n",
    "    if format_output == \"object\":\n",
    "        return spdi_obj\n",
    "    elif format_output == \"string\":\n",
    "        return spdi_obj.to_string()\n",
    "    elif format_output == 'dictionary':\n",
    "        return spdi_obj.to_dict()\n",
    "    else:\n",
    "        raise ValueError(\"Invalid output_format. Use 'object','string', or 'dictionary'.\")\n",
    "\n",
    "\n",
    "\n"
   ]
  },
  {
   "cell_type": "code",
   "execution_count": null,
   "metadata": {},
   "outputs": [],
   "source": [
    "print(cvc_to_spdi(Example1,format_output=\"object\"))\n",
    "print(cvc_to_spdi(Example1,format_output=\"string\"))\n",
    "print(cvc_to_spdi(Example1,format_output=\"dictionary\"))"
   ]
  },
  {
   "cell_type": "markdown",
   "metadata": {},
   "source": [
    "to_hgvs( format ): returns an HGVS object or string, as determined by the value of \"format\". This method can use the NCBI Var Services class to do the heavy lifting, or the hgvs package if we want to try to assemble it from scratch (probably harder)\n",
    "\n",
    "\n",
    "cvc --> hgvs\n",
    "\n",
    "cvc --> spdi --> hgvs\n",
    "(seqtype == Protein)\n",
    "\n"
   ]
  },
  {
   "cell_type": "markdown",
   "metadata": {},
   "source": [
    "to_vrs( format ): returns a VRS object or JSON structure, as determined by the value of \"format\". This method can use the VICC class to do the heavy lifting."
   ]
  }
 ],
 "metadata": {
  "kernelspec": {
   "display_name": "test_dev_vrs_installation",
   "language": "python",
   "name": "python3"
  },
  "language_info": {
   "codemirror_mode": {
    "name": "ipython",
    "version": 3
   },
   "file_extension": ".py",
   "mimetype": "text/x-python",
   "name": "python",
   "nbconvert_exporter": "python",
   "pygments_lexer": "ipython3",
   "version": "3.9.15"
  },
  "orig_nbformat": 4
 },
 "nbformat": 4,
 "nbformat_minor": 2
}
