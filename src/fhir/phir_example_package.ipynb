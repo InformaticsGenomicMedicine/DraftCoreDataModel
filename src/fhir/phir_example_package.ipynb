{
 "cells": [
  {
   "cell_type": "code",
   "execution_count": null,
   "metadata": {},
   "outputs": [],
   "source": [
    "Substitution: https://www.ncbi.nlm.nih.gov/clinvar/variation/839655/?new_evidence=true\n",
    "Passed biocommons.HGVS validation method\n",
    "​\n",
    "Example of HGVS expression: \n",
    "​\n",
    "NC_000001.11:g.943043C>T\n",
    "​\n",
    "\n",
    "​\n"
   ]
  },
  {
   "cell_type": "code",
   "execution_count": 7,
   "metadata": {},
   "outputs": [],
   "source": [
    "vrs_dictionary = {'_id': 'ga4gh:VA.s8vzlmFv83fcoJnNovFkp4pnE48weUh4',\n",
    " 'type': 'Allele',\n",
    " 'location': {'_id': 'ga4gh:VSL.2tX8CXXY1z3HcbrXdGGTbmuqmYgNks6G',\n",
    "  'type': 'SequenceLocation',\n",
    "  'sequence_id': 'ga4gh:SQ.Ya6Rs7DHhDeg7YaOSg1EoNi3U_nQ9SvO',\n",
    "  'interval': {'type': 'SequenceInterval',\n",
    "   'start': {'type': 'Number', 'value': 943042},\n",
    "   'end': {'type': 'Number', 'value': 943043}}},\n",
    " 'state': {'type': 'LiteralSequenceExpression', 'sequence': 'T'}}"
   ]
  },
  {
   "cell_type": "code",
   "execution_count": null,
   "metadata": {},
   "outputs": [],
   "source": [
    "{\n",
    "\t\"resourceType\" : \"MolecularSequence\",\n",
    "\t\"id\" : \"VRS_example_1\", #Can Be VRS ID or Regular name\n",
    "    \"identifier\":{\n",
    "        \"value\": \"ga4gh:VA.s8vzlmFv83fcoJnNovFkp4pnE48weUh4\" #VRS ID\n",
    "    },\n",
    "\t\"type\" : \"dna\", # VRS does not convey the Type (loss in translation): This was pulled from the reference sequence of hgvs.\n",
    "\t\"literal\" : [{\n",
    "\t  \"sequenceValue\" : \"T\" #VRS literal sequence expression \n",
    "\t}]\n",
    "}\n"
   ]
  },
  {
   "cell_type": "code",
   "execution_count": 22,
   "metadata": {},
   "outputs": [
    {
     "data": {
      "text/plain": [
       "'s8vzlmFv83fcoJnNovFkp4pnE48weUh4'"
      ]
     },
     "execution_count": 22,
     "metadata": {},
     "output_type": "execute_result"
    }
   ],
   "source": [
    "molecular_sequence_identifier_value = vrs_dictionary['_id'].split('.')[1]\n",
    "molecular_sequence_identifier_value"
   ]
  },
  {
   "cell_type": "code",
   "execution_count": 13,
   "metadata": {},
   "outputs": [
    {
     "data": {
      "text/plain": [
       "{'_id': 'ga4gh:VSL.2tX8CXXY1z3HcbrXdGGTbmuqmYgNks6G',\n",
       " 'type': 'SequenceLocation',\n",
       " 'sequence_id': 'ga4gh:SQ.Ya6Rs7DHhDeg7YaOSg1EoNi3U_nQ9SvO',\n",
       " 'interval': {'type': 'SequenceInterval',\n",
       "  'start': {'type': 'Number', 'value': 943042},\n",
       "  'end': {'type': 'Number', 'value': 943043}}}"
      ]
     },
     "execution_count": 13,
     "metadata": {},
     "output_type": "execute_result"
    }
   ],
   "source": [
    "vrs_dictionary['location']\n",
    "# FHIR Identifier -- Value"
   ]
  },
  {
   "cell_type": "code",
   "execution_count": 14,
   "metadata": {},
   "outputs": [
    {
     "data": {
      "text/plain": [
       "{'type': 'LiteralSequenceExpression', 'sequence': 'T'}"
      ]
     },
     "execution_count": 14,
     "metadata": {},
     "output_type": "execute_result"
    }
   ],
   "source": [
    "vrs_dictionary['state']"
   ]
  },
  {
   "cell_type": "markdown",
   "metadata": {},
   "source": [
    "NC_000001.11:g.943043C>T"
   ]
  },
  {
   "cell_type": "code",
   "execution_count": 1,
   "metadata": {},
   "outputs": [],
   "source": [
    "from fhir.resources.molecularsequence import MolecularSequence\n",
    "from fhir.resources.reference import Reference\n",
    "import json"
   ]
  },
  {
   "cell_type": "code",
   "execution_count": 5,
   "metadata": {},
   "outputs": [
    {
     "data": {
      "text/plain": [
       "[{'coordinateSystem': {'coding': [{'system': 'http://loinc.org',\n",
       "     'code': 'LA30100-4',\n",
       "     'display': '0-based interval counting'}],\n",
       "   'text': '0-based interval counting'},\n",
       "  'sequenceRange': {'low': {'value': 0}, 'high': {'value': 725}},\n",
       "  'startingSequence': {'reference': 'MolecularSequence/StartingSequenceExample',\n",
       "   'type': 'MolecularSequence',\n",
       "   'display': 'Starting Sequence Resource'},\n",
       "  'edit': [{'start': 0,\n",
       "    'end': 725,\n",
       "    'replacementSequence': {'reference': 'MolecularSequence/ReplacementSequenceExample',\n",
       "     'type': 'MolecularSequence',\n",
       "     'display': 'Replacement Sequence Resource'},\n",
       "    'replacedSequence': {'reference': 'MolecularSequence/ReplacedSequenceExample',\n",
       "     'type': 'MolecularSequence',\n",
       "     'display': 'Replaced Sequence Resource'}}]}]"
      ]
     },
     "execution_count": 5,
     "metadata": {},
     "output_type": "execute_result"
    }
   ],
   "source": [
    "with open('json_example.json', 'r') as file:\n",
    "    data = json.load(file)\n",
    "data "
   ]
  },
  {
   "cell_type": "code",
   "execution_count": 3,
   "metadata": {},
   "outputs": [],
   "source": [
    "example = MolecularSequence(\n",
    "    resourceType=\"MolecularSequence\",\n",
    "    id=\"sequence-complex-variant\",\n",
    "    type=\"dna\",\n",
    "    specimen=Reference(reference=\"Specimen/genetics-example1-somatic\",display=\"Molecular Specimen ID: MLD45-Z4-1234\"),\n",
    "    device=Reference(display=\"12 lead EKG Device Metric\"),\n",
    "    performer=Reference(reference=\"Organization/hl7\",display='HL7'))\n",
    "\n"
   ]
  },
  {
   "cell_type": "code",
   "execution_count": 4,
   "metadata": {},
   "outputs": [
    {
     "data": {
      "text/plain": [
       "MolecularSequence(resource_type='MolecularSequence', fhir_comments=None, id='sequence-complex-variant', implicitRules=None, implicitRules__ext=None, language=None, language__ext=None, meta=None, contained=None, extension=None, modifierExtension=None, text=None, device=Reference(resource_type='Reference', fhir_comments=None, extension=None, id=None, display='12 lead EKG Device Metric', display__ext=None, identifier=None, reference=None, reference__ext=None, type=None, type__ext=None), focus=None, formatted=None, identifier=None, literal=None, literal__ext=None, performer=Reference(resource_type='Reference', fhir_comments=None, extension=None, id=None, display='HL7', display__ext=None, identifier=None, reference='Organization/hl7', reference__ext=None, type=None, type__ext=None), relative=None, specimen=Reference(resource_type='Reference', fhir_comments=None, extension=None, id=None, display='Molecular Specimen ID: MLD45-Z4-1234', display__ext=None, identifier=None, reference='Specimen/genetics-example1-somatic', reference__ext=None, type=None, type__ext=None), subject=None, type='dna', type__ext=None)"
      ]
     },
     "execution_count": 4,
     "metadata": {},
     "output_type": "execute_result"
    }
   ],
   "source": [
    "example"
   ]
  },
  {
   "cell_type": "code",
   "execution_count": null,
   "metadata": {},
   "outputs": [],
   "source": [
    "## create a class fhir molecularsequence\n",
    "## follow the fhir specification _work_in_progress_2\n",
    "## make everything as a string\n",
    "##"
   ]
  }
 ],
 "metadata": {
  "kernelspec": {
   "display_name": "test_dev_vrs_installation",
   "language": "python",
   "name": "python3"
  },
  "language_info": {
   "codemirror_mode": {
    "name": "ipython",
    "version": 3
   },
   "file_extension": ".py",
   "mimetype": "text/x-python",
   "name": "python",
   "nbconvert_exporter": "python",
   "pygments_lexer": "ipython3",
   "version": "3.9.15"
  },
  "orig_nbformat": 4
 },
 "nbformat": 4,
 "nbformat_minor": 2
}
