{
 "cells": [
  {
   "cell_type": "code",
   "execution_count": 1,
   "metadata": {},
   "outputs": [],
   "source": [
    "from fhir.resources.moleculardefinition import MolecularDefinitionRepresentationLiteral\n",
    "\n",
    "MolDefReprLiteral = MolecularDefinitionRepresentationLiteral(\n",
    "    value = \"ATGAACAGACAAGTAAAAGACATGACAGYGATACTTTCCCAGAGCTGAAGTTAACAAATGCACCTGGTTC TTTTACTAAGTGTTCAAATACCAGTGAACTTAAAGAATTTGTCAATCCTAGCCTTCCAAGAGAAGAAAAA GAAGAGAAACTAGAAACAGTTAAAGTGTCTAATAATGCTGAAGACCCCAAAGATCTCATGTTAAGTGGAG AAAGGGTTTTGCAAACTGAAAGATCTGTAGAGAGTAGCAGTATTTCAYTGGTACCTGGTACTGATTATGG CACTCAGGAAAGTATCTCGTTACTGGAAGTTAGCACTCTAGGGAAGGCAAAAACAGAACCAAATAAATGT GTGAGTCAGTGTGCAGCATTTGAAAACCCCAAGGGACTAATTCATGGTTGTTCCAAAGATAATAGAAATG ACACAGAAGGCTTTAAGTATCCATTGGGACATGAAGTTAACCACAGTCGGGAAACAAGCATAGAAATGGA AGAAAGTGAACTTGATGCTCAGTATTTGCAGAATACATTCAAGGTTTCAAAGCGCCAGTCATTTGCTCYG TTTTCAAATCCAGGAAATGCAGAAGAGGAATGTGCAACATTCTCTGCCCACTCTGGGTCCTTAAAGAAAC AAAGTCCAAAAGTCACTTTTGAATGTGAACAAAAGGAAGAAAATCAAGGAAAGAATGAGTCTAATATCAA GCCTGTACAGACAGTTAATATCACTGCAGGCTTTCCTGTGGTTGGTCAGAAAGA\"\n",
    ")"
   ]
  },
  {
   "cell_type": "code",
   "execution_count": 2,
   "metadata": {},
   "outputs": [
    {
     "name": "stderr",
     "output_type": "stream",
     "text": [
      "/Users/M278428/.local/share/virtualenvs/DraftCoreDataModel-MMFV8Z-X/lib/python3.11/site-packages/python_jsonschema_objects/__init__.py:46: UserWarning: Schema version http://json-schema.org/draft-07/schema not recognized. Some keywords and features may not be supported.\n",
      "  warnings.warn(\n"
     ]
    }
   ],
   "source": [
    "from ga4gh.vrs import models\n"
   ]
  },
  {
   "cell_type": "code",
   "execution_count": 6,
   "metadata": {},
   "outputs": [
    {
     "data": {
      "text/plain": [
       "{'type': 'LiteralSequenceExpression', 'sequence': 'TT'}"
      ]
     },
     "execution_count": 6,
     "metadata": {},
     "output_type": "execute_result"
    }
   ],
   "source": [
    "models.LiteralSequenceExpression(type= \"LiteralSequenceExpression\",sequence = \"TT\").as_dict()"
   ]
  },
  {
   "cell_type": "code",
   "execution_count": null,
   "metadata": {},
   "outputs": [],
   "source": [
    "from fhir.resources.moleculardefinition import MolecularDefinitionRepresentationExtracted\n",
    "from fhir.resources.reference import Reference\n",
    "from fhir.resources.codeableconcept import CodeableConcept\n",
    "\n",
    "\n",
    "MolDefReprExtr= MolecularDefinitionRepresentationExtracted(\n",
    "    startingMolecule=Reference(reference=\"MolecularDefinition/example-starting-sequence-2b-extracted\",type=\"MolecularDefinition\",display=\"Starting Sequence Resource\"),\n",
    "    start=0,\n",
    "    end=745,\n",
    "    coordinateSystem=CodeableConcept(coding=[{\"system\" : \"http://loinc.org\",\"code\" : \"LA30100-4\",\"display\" : \"0-based interval counting\"}],text=\"0-based interval counting\"),\n",
    "    reverseComplement = False \n",
    ")\n",
    "MolDefReprExtr"
   ]
  },
  {
   "cell_type": "code",
   "execution_count": null,
   "metadata": {},
   "outputs": [],
   "source": [
    "from fhir.resources.moleculardefinition import MolecularDefinitionRepresentationConcatenated\n",
    "from fhir.resources.moleculardefinition import MolecularDefinitionRepresentationConcatenatedSequenceElement\n",
    "\n",
    "MolDefRepConcatSeqElem1 = MolecularDefinitionRepresentationConcatenatedSequenceElement(\n",
    "    sequence=Reference(reference=\"MolecularDefinition/example-sequence0-2b-concatenated\", type=\"MolecularDefinition\", display=\"Sequence-of index 0-Resource for concatenated sequence example\"),\n",
    "    ordinalIndex=0\n",
    ")\n",
    "\n",
    "MolDefRepConcatSeqElem2 = MolecularDefinitionRepresentationConcatenatedSequenceElement(\n",
    "    sequence=Reference(reference=\"MolecularDefinition/example-sequence1-2b-concatenated\", type=\"MolecularDefinition\", display=\"Sequence-of index 1-Resource for concatenated sequence example\"),\n",
    "    ordinalIndex=1\n",
    ")\n",
    "\n",
    "MolDefRepConcatSeqElem3 = MolecularDefinitionRepresentationConcatenatedSequenceElement(\n",
    "    sequence=Reference(reference=\"MolecularDefinition/example-sequence2-2b-concatenated\", type=\"MolecularDefinition\", display=\"Sequence-of index 2-Resource for concatenated sequence example\"),\n",
    "    ordinalIndex=2\n",
    ")\n",
    "\n",
    "sequence_elements = [MolDefRepConcatSeqElem1, MolDefRepConcatSeqElem2, MolDefRepConcatSeqElem3]\n",
    "sequence_elements"
   ]
  },
  {
   "cell_type": "code",
   "execution_count": null,
   "metadata": {},
   "outputs": [],
   "source": [
    "MolDefRepConcat = MolecularDefinitionRepresentationConcatenated(sequenceElement=sequence_elements)\n",
    "MolDefRepConcat"
   ]
  },
  {
   "cell_type": "code",
   "execution_count": null,
   "metadata": {},
   "outputs": [],
   "source": [
    "from fhir.resources.moleculardefinition import MolecularDefinitionRepresentationRelativeEdit\n",
    "\n",
    "\n",
    "MolDefReprRelEdit = MolecularDefinitionRepresentationRelativeEdit(\n",
    "    coordinateSystem = CodeableConcept(\n",
    "        coding=[{\"system\" : \"http://loinc.org\",\"code\" : \"LA30100-4\",\"display\" : \"0-based interval counting\"}],\n",
    "        text=\"0-based interval counting\"\n",
    "        ),\n",
    "    start=0,\n",
    "    end=725,\n",
    "    replacementMolecule = Reference(reference=\"MolecularDefinition/example-replacement-sequence\",\n",
    "                                     type=\"MolecularDefinition\",\n",
    "                                     display=\"Replacement Sequence Resource\"),\n",
    "    replacedMolecule = Reference(reference=\"MolecularDefinition/example-replacement-sequence\",\n",
    "                                     type=\"MolecularDefinition\",\n",
    "                                     display=\"Replacement Sequence Resource\"),\n",
    ")\n",
    "\n",
    "MolDefReprRelEdit"
   ]
  },
  {
   "cell_type": "code",
   "execution_count": null,
   "metadata": {},
   "outputs": [],
   "source": [
    "from fhir.resources.moleculardefinition import MolecularDefinitionRepresentationRelative\n",
    "\n",
    "MolDefReprRelative = MolecularDefinitionRepresentationRelative(\n",
    "    startingMolecule= Reference(\n",
    "                        reference=\"MolecularDefinition/example-replacement-sequence\",\n",
    "                        type=\"MolecularDefinition\",\n",
    "                        display=\"Replacement Sequence Resource\"),\n",
    "    edit = [MolDefReprRelEdit]\n",
    "                        )"
   ]
  },
  {
   "cell_type": "code",
   "execution_count": null,
   "metadata": {},
   "outputs": [],
   "source": [
    "from fhir.resources.moleculardefinition import MolecularDefinitionRepresentation\n",
    "from fhir.resources.attachment import Attachment\n",
    "\n",
    "MolDefRepr=MolecularDefinitionRepresentation(\n",
    "    literal= MolDefReprLiteral,\n",
    "    resolvable=Attachment(contentType = \"text/html\",\n",
    "                           url = \"https://www.ncbi.nlm.nih.gov/nuccore/MW716256.1?report=fasta\"),\n",
    "    extracted =MolDefReprExtr,\n",
    "    concatenated=MolDefRepConcat,\n",
    "    relative=MolDefReprRelative,\n",
    ")\n",
    "\n",
    "list_MolDefRepr = [MolDefRepr]\n",
    "list_MolDefRepr"
   ]
  },
  {
   "cell_type": "code",
   "execution_count": null,
   "metadata": {},
   "outputs": [],
   "source": [
    "from fhir.resources.moleculardefinition import MolecularDefinition\n",
    "\n",
    "\n",
    "MolDef = MolecularDefinition(\n",
    "  id = \"example\",\n",
    "  type = \"dna\",\n",
    "  representation = list_MolDefRepr,\n",
    ")"
   ]
  },
  {
   "cell_type": "code",
   "execution_count": null,
   "metadata": {},
   "outputs": [],
   "source": [
    "MolDef.model_dump()"
   ]
  },
  {
   "cell_type": "code",
   "execution_count": null,
   "metadata": {},
   "outputs": [],
   "source": []
  }
 ],
 "metadata": {
  "kernelspec": {
   "display_name": "DraftCoreDataModel-MMFV8Z-X",
   "language": "python",
   "name": "python3"
  },
  "language_info": {
   "codemirror_mode": {
    "name": "ipython",
    "version": 3
   },
   "file_extension": ".py",
   "mimetype": "text/x-python",
   "name": "python",
   "nbconvert_exporter": "python",
   "pygments_lexer": "ipython3",
   "version": "3.11.5"
  }
 },
 "nbformat": 4,
 "nbformat_minor": 2
}
