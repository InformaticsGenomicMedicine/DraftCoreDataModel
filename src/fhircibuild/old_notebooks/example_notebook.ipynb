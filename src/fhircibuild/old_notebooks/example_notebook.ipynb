{
 "cells": [
  {
   "cell_type": "code",
   "execution_count": null,
   "metadata": {},
   "outputs": [],
   "source": [
    "import sys\n",
    "import warnings\n",
    "\n",
    "sys.path.append('..')\n",
    "warnings.filterwarnings('ignore')"
   ]
  },
  {
   "cell_type": "code",
   "execution_count": 1,
   "metadata": {},
   "outputs": [
    {
     "data": {
      "text/plain": [
       "MolecularDefinitionRepresentationLiteral(resource_type='BackboneElement', fhir_comments=None, extension=None, id=None, modifierExtension=None, encoding=FieldInfo(annotation=NoneType, required=False, default=None, alias='encoding', alias_priority=2, title='...', json_schema_extra={'element_property': True}), value='ATGAACAGACAAGTAAAAGACATGACAGYGATACTTTCCCAGAGCTGAAGTTAACAAATGCACCTGGTTC TTTTACTAAGTGTTCAAATACCAGTGAACTTAAAGAATTTGTCAATCCTAGCCTTCCAAGAGAAGAAAAA GAAGAGAAACTAGAAACAGTTAAAGTGTCTAATAATGCTGAAGACCCCAAAGATCTCATGTTAAGTGGAG AAAGGGTTTTGCAAACTGAAAGATCTGTAGAGAGTAGCAGTATTTCAYTGGTACCTGGTACTGATTATGG CACTCAGGAAAGTATCTCGTTACTGGAAGTTAGCACTCTAGGGAAGGCAAAAACAGAACCAAATAAATGT GTGAGTCAGTGTGCAGCATTTGAAAACCCCAAGGGACTAATTCATGGTTGTTCCAAAGATAATAGAAATG ACACAGAAGGCTTTAAGTATCCATTGGGACATGAAGTTAACCACAGTCGGGAAACAAGCATAGAAATGGA AGAAAGTGAACTTGATGCTCAGTATTTGCAGAATACATTCAAGGTTTCAAAGCGCCAGTCATTTGCTCYG TTTTCAAATCCAGGAAATGCAGAAGAGGAATGTGCAACATTCTCTGCCCACTCTGGGTCCTTAAAGAAAC AAAGTCCAAAAGTCACTTTTGAATGTGAACAAAAGGAAGAAAATCAAGGAAAGAATGAGTCTAATATCAA GCCTGTACAGACAGTTAATATCACTGCAGGCTTTCCTGTGGTTGGTCAGAAAGA')"
      ]
     },
     "execution_count": 1,
     "metadata": {},
     "output_type": "execute_result"
    }
   ],
   "source": [
    "from resources.moleculardefinition import MolecularDefinitionRepresentationLiteral\n",
    "\n",
    "# \"literal\" : {\n",
    "#   \"value\" : \"ATGAACAGACAAGTAAAAGACATGACAGYGATACTTTCCCAGAGCTGAAGTTAACAAATGCACCTGGTTC TTTTACTAAGTGTTCAAATACCAGTGAACTTAAAGAATTTGTCAATCCTAGCCTTCCAAGAGAAGAAAAA GAAGAGAAACTAGAAACAGTTAAAGTGTCTAATAATGCTGAAGACCCCAAAGATCTCATGTTAAGTGGAG AAAGGGTTTTGCAAACTGAAAGATCTGTAGAGAGTAGCAGTATTTCAYTGGTACCTGGTACTGATTATGG CACTCAGGAAAGTATCTCGTTACTGGAAGTTAGCACTCTAGGGAAGGCAAAAACAGAACCAAATAAATGT GTGAGTCAGTGTGCAGCATTTGAAAACCCCAAGGGACTAATTCATGGTTGTTCCAAAGATAATAGAAATG ACACAGAAGGCTTTAAGTATCCATTGGGACATGAAGTTAACCACAGTCGGGAAACAAGCATAGAAATGGA AGAAAGTGAACTTGATGCTCAGTATTTGCAGAATACATTCAAGGTTTCAAAGCGCCAGTCATTTGCTCYG TTTTCAAATCCAGGAAATGCAGAAGAGGAATGTGCAACATTCTCTGCCCACTCTGGGTCCTTAAAGAAAC AAAGTCCAAAAGTCACTTTTGAATGTGAACAAAAGGAAGAAAATCAAGGAAAGAATGAGTCTAATATCAA GCCTGTACAGACAGTTAATATCACTGCAGGCTTTCCTGTGGTTGGTCAGAAAGA\"\n",
    "# },\n",
    "MolDefReprLiteral = MolecularDefinitionRepresentationLiteral(\n",
    "    value = \"ATGAACAGACAAGTAAAAGACATGACAGYGATACTTTCCCAGAGCTGAAGTTAACAAATGCACCTGGTTC TTTTACTAAGTGTTCAAATACCAGTGAACTTAAAGAATTTGTCAATCCTAGCCTTCCAAGAGAAGAAAAA GAAGAGAAACTAGAAACAGTTAAAGTGTCTAATAATGCTGAAGACCCCAAAGATCTCATGTTAAGTGGAG AAAGGGTTTTGCAAACTGAAAGATCTGTAGAGAGTAGCAGTATTTCAYTGGTACCTGGTACTGATTATGG CACTCAGGAAAGTATCTCGTTACTGGAAGTTAGCACTCTAGGGAAGGCAAAAACAGAACCAAATAAATGT GTGAGTCAGTGTGCAGCATTTGAAAACCCCAAGGGACTAATTCATGGTTGTTCCAAAGATAATAGAAATG ACACAGAAGGCTTTAAGTATCCATTGGGACATGAAGTTAACCACAGTCGGGAAACAAGCATAGAAATGGA AGAAAGTGAACTTGATGCTCAGTATTTGCAGAATACATTCAAGGTTTCAAAGCGCCAGTCATTTGCTCYG TTTTCAAATCCAGGAAATGCAGAAGAGGAATGTGCAACATTCTCTGCCCACTCTGGGTCCTTAAAGAAAC AAAGTCCAAAAGTCACTTTTGAATGTGAACAAAAGGAAGAAAATCAAGGAAAGAATGAGTCTAATATCAA GCCTGTACAGACAGTTAATATCACTGCAGGCTTTCCTGTGGTTGGTCAGAAAGA\"\n",
    ")\n",
    "# list_MolDefReprLiteral = [MolDefReprLiteral]\n",
    "MolDefReprLiteral"
   ]
  },
  {
   "cell_type": "code",
   "execution_count": 2,
   "metadata": {},
   "outputs": [
    {
     "data": {
      "text/plain": [
       "MolecularDefinitionRepresentationExtracted(resource_type='BackboneElement', fhir_comments=None, extension=None, id=None, modifierExtension=None, startingMolecule=Reference(resource_type='Reference', fhir_comments=None, extension=None, id=None, display='Starting Sequence Resource', display__ext=None, identifier=None, reference='MolecularDefinition/example-starting-sequence-2b-extracted', reference__ext=None, type='MolecularDefinition', type__ext=None), start=0, end=745, coordinateSystem=CodeableConcept(resource_type='CodeableConcept', fhir_comments=None, extension=None, id=None, coding=[Coding(resource_type='Coding', fhir_comments=None, extension=None, id=None, code='LA30100-4', code__ext=None, display='0-based interval counting', display__ext=None, system='http://loinc.org', system__ext=None, userSelected=None, userSelected__ext=None, version=None, version__ext=None)], text='0-based interval counting', text__ext=None), reverseComplement=False)"
      ]
     },
     "execution_count": 2,
     "metadata": {},
     "output_type": "execute_result"
    }
   ],
   "source": [
    "    # \"extracted\" : {\n",
    "    #   \"startingMolecule\" : {\n",
    "    #     \"reference\" : \"MolecularDefinition/example-starting-sequence-2b-extracted\",\n",
    "    #     \"type\" : \"MolecularDefinition\",\n",
    "    #     \"display\" : \"Starting Sequence Resource\"\n",
    "    #   },\n",
    "    #   \"start\" : 0,\n",
    "    #   \"end\" : 745,\n",
    "    #   \"coordinateSystem\" : {\n",
    "    #     \"coding\" : [{\n",
    "    #       \"system\" : \"http://loinc.org\",\n",
    "    #       \"code\" : \"LA30100-4\",\n",
    "    #       \"display\" : \"0-based interval counting\"\n",
    "    #     }],\n",
    "    #     \"text\" : \"0-based interval counting\"\n",
    "    #   },\n",
    "    #   \"reverseComplement\" : false\n",
    "    # },\n",
    "\n",
    "from resources.moleculardefinition import MolecularDefinitionRepresentationExtracted\n",
    "from fhir.resources.reference import Reference\n",
    "from fhir.resources.codeableconcept import CodeableConcept\n",
    "\n",
    "\n",
    "MolDefReprExtr= MolecularDefinitionRepresentationExtracted(\n",
    "    startingMolecule=Reference(reference=\"MolecularDefinition/example-starting-sequence-2b-extracted\",type=\"MolecularDefinition\",display=\"Starting Sequence Resource\"),\n",
    "    start=0,\n",
    "    end=745,\n",
    "    coordinateSystem=CodeableConcept(coding=[{\"system\" : \"http://loinc.org\",\"code\" : \"LA30100-4\",\"display\" : \"0-based interval counting\"}],text=\"0-based interval counting\"),\n",
    "    reverseComplement = False \n",
    ")\n",
    "MolDefReprExtr"
   ]
  },
  {
   "cell_type": "code",
   "execution_count": 3,
   "metadata": {},
   "outputs": [],
   "source": [
    "    # \"concatenated\" : {\n",
    "    #   \"sequenceElement\" : [{\n",
    "    #     \"sequence\" : {\n",
    "    #       \"reference\" : \"MolecularDefinition/example-sequence0-2b-concatenated\",\n",
    "    #       \"type\" : \"MolecularDefinition\",\n",
    "    #       \"display\" : \"Sequence-of index 0-Resource for concatenated sequence example\"\n",
    "    #     },\n",
    "    #     \"ordinalIndex\" : 0\n",
    "    #   },\n",
    "    #   {\n",
    "    #     \"sequence\" : {\n",
    "    #       \"reference\" : \"MolecularDefinition/example-sequence1-2b-concatenated\",\n",
    "    #       \"type\" : \"MolecularDefinition\",\n",
    "    #       \"display\" : \"Sequence-of index 1-Resource for concatenated sequence example\"\n",
    "    #     },\n",
    "    #     \"ordinalIndex\" : 1\n",
    "    #   },\n",
    "    #   {\n",
    "    #     \"sequence\" : {\n",
    "    #       \"reference\" : \"MolecularDefinition/example-sequence2-2b-concatenated\",\n",
    "    #       \"type\" : \"MolecularDefinition\",\n",
    "    #       \"display\" : \"Sequence-of index 2-Resource for concatenated sequence example\"\n",
    "    #     },\n",
    "    #     \"ordinalIndex\" : 2\n",
    "    #   }]\n",
    "    # },\n",
    "\n",
    "from resources.moleculardefinition  import MolecularDefinitionRepresentationConcatenatedSequenceElement\n",
    "\n",
    "MolDefRepConcatSeqElem1 = MolecularDefinitionRepresentationConcatenatedSequenceElement(\n",
    "    sequence=Reference(reference=\"MolecularDefinition/example-sequence0-2b-concatenated\", type=\"MolecularDefinition\", display=\"Sequence-of index 0-Resource for concatenated sequence example\"),\n",
    "    ordinalIndex=0\n",
    ")\n",
    "\n",
    "MolDefRepConcatSeqElem2 = MolecularDefinitionRepresentationConcatenatedSequenceElement(\n",
    "    sequence=Reference(reference=\"MolecularDefinition/example-sequence1-2b-concatenated\", type=\"MolecularDefinition\", display=\"Sequence-of index 1-Resource for concatenated sequence example\"),\n",
    "    ordinalIndex=1\n",
    ")\n",
    "\n",
    "MolDefRepConcatSeqElem3 = MolecularDefinitionRepresentationConcatenatedSequenceElement(\n",
    "    sequence=Reference(reference=\"MolecularDefinition/example-sequence2-2b-concatenated\", type=\"MolecularDefinition\", display=\"Sequence-of index 2-Resource for concatenated sequence example\"),\n",
    "    ordinalIndex=2\n",
    ")\n",
    "\n",
    "sequence_elements = [MolDefRepConcatSeqElem1, MolDefRepConcatSeqElem2, MolDefRepConcatSeqElem3]\n"
   ]
  },
  {
   "cell_type": "code",
   "execution_count": 4,
   "metadata": {},
   "outputs": [
    {
     "ename": "ValidationError",
     "evalue": "3 validation errors for MolecularDefinitionRepresentationConcatenated\nsequenceElement -> 0\n  instance of MolecularDefinitionRepresentationConcatenatedSequenceElementType expected (type=type_error.arbitrary_type; expected_arbitrary_type=MolecularDefinitionRepresentationConcatenatedSequenceElementType)\nsequenceElement -> 1\n  instance of MolecularDefinitionRepresentationConcatenatedSequenceElementType expected (type=type_error.arbitrary_type; expected_arbitrary_type=MolecularDefinitionRepresentationConcatenatedSequenceElementType)\nsequenceElement -> 2\n  instance of MolecularDefinitionRepresentationConcatenatedSequenceElementType expected (type=type_error.arbitrary_type; expected_arbitrary_type=MolecularDefinitionRepresentationConcatenatedSequenceElementType)",
     "output_type": "error",
     "traceback": [
      "\u001b[0;31m---------------------------------------------------------------------------\u001b[0m",
      "\u001b[0;31mValidationError\u001b[0m                           Traceback (most recent call last)",
      "Cell \u001b[0;32mIn[4], line 2\u001b[0m\n\u001b[1;32m      1\u001b[0m \u001b[38;5;28;01mfrom\u001b[39;00m \u001b[38;5;21;01mresources\u001b[39;00m\u001b[38;5;21;01m.\u001b[39;00m\u001b[38;5;21;01mmoleculardefinition\u001b[39;00m  \u001b[38;5;28;01mimport\u001b[39;00m MolecularDefinitionRepresentationConcatenated\n\u001b[0;32m----> 2\u001b[0m MolDefRepConcat \u001b[38;5;241m=\u001b[39m \u001b[43mMolecularDefinitionRepresentationConcatenated\u001b[49m\u001b[43m(\u001b[49m\u001b[43msequenceElement\u001b[49m\u001b[38;5;241;43m=\u001b[39;49m\u001b[43msequence_elements\u001b[49m\u001b[43m)\u001b[49m\n",
      "File \u001b[0;32m~/.local/share/virtualenvs/DraftCoreDataModel-MMFV8Z-X/lib/python3.11/site-packages/fhir/resources/core/fhirabstractmodel.py:105\u001b[0m, in \u001b[0;36mFHIRAbstractModel.__init__\u001b[0;34m(__pydantic_self__, **data)\u001b[0m\n\u001b[1;32m    102\u001b[0m \u001b[38;5;28;01mif\u001b[39;00m errors:\n\u001b[1;32m    103\u001b[0m     \u001b[38;5;28;01mraise\u001b[39;00m ValidationError(errors, __pydantic_self__\u001b[38;5;241m.\u001b[39m\u001b[38;5;18m__class__\u001b[39m)\n\u001b[0;32m--> 105\u001b[0m \u001b[43mBaseModel\u001b[49m\u001b[38;5;241;43m.\u001b[39;49m\u001b[38;5;21;43m__init__\u001b[39;49m\u001b[43m(\u001b[49m\u001b[43m__pydantic_self__\u001b[49m\u001b[43m,\u001b[49m\u001b[43m \u001b[49m\u001b[38;5;241;43m*\u001b[39;49m\u001b[38;5;241;43m*\u001b[39;49m\u001b[43mdata\u001b[49m\u001b[43m)\u001b[49m\n",
      "File \u001b[0;32m~/.local/share/virtualenvs/DraftCoreDataModel-MMFV8Z-X/lib/python3.11/site-packages/pydantic/v1/main.py:341\u001b[0m, in \u001b[0;36mBaseModel.__init__\u001b[0;34m(__pydantic_self__, **data)\u001b[0m\n\u001b[1;32m    339\u001b[0m values, fields_set, validation_error \u001b[38;5;241m=\u001b[39m validate_model(__pydantic_self__\u001b[38;5;241m.\u001b[39m\u001b[38;5;18m__class__\u001b[39m, data)\n\u001b[1;32m    340\u001b[0m \u001b[38;5;28;01mif\u001b[39;00m validation_error:\n\u001b[0;32m--> 341\u001b[0m     \u001b[38;5;28;01mraise\u001b[39;00m validation_error\n\u001b[1;32m    342\u001b[0m \u001b[38;5;28;01mtry\u001b[39;00m:\n\u001b[1;32m    343\u001b[0m     object_setattr(__pydantic_self__, \u001b[38;5;124m'\u001b[39m\u001b[38;5;124m__dict__\u001b[39m\u001b[38;5;124m'\u001b[39m, values)\n",
      "\u001b[0;31mValidationError\u001b[0m: 3 validation errors for MolecularDefinitionRepresentationConcatenated\nsequenceElement -> 0\n  instance of MolecularDefinitionRepresentationConcatenatedSequenceElementType expected (type=type_error.arbitrary_type; expected_arbitrary_type=MolecularDefinitionRepresentationConcatenatedSequenceElementType)\nsequenceElement -> 1\n  instance of MolecularDefinitionRepresentationConcatenatedSequenceElementType expected (type=type_error.arbitrary_type; expected_arbitrary_type=MolecularDefinitionRepresentationConcatenatedSequenceElementType)\nsequenceElement -> 2\n  instance of MolecularDefinitionRepresentationConcatenatedSequenceElementType expected (type=type_error.arbitrary_type; expected_arbitrary_type=MolecularDefinitionRepresentationConcatenatedSequenceElementType)"
     ]
    }
   ],
   "source": [
    "from resources.moleculardefinition  import MolecularDefinitionRepresentationConcatenated\n",
    "MolDefRepConcat = MolecularDefinitionRepresentationConcatenated(sequenceElement=sequence_elements)"
   ]
  },
  {
   "cell_type": "code",
   "execution_count": null,
   "metadata": {},
   "outputs": [],
   "source": []
  }
 ],
 "metadata": {
  "kernelspec": {
   "display_name": "DraftCoreDataModel-MMFV8Z-X",
   "language": "python",
   "name": "python3"
  },
  "language_info": {
   "codemirror_mode": {
    "name": "ipython",
    "version": 3
   },
   "file_extension": ".py",
   "mimetype": "text/x-python",
   "name": "python",
   "nbconvert_exporter": "python",
   "pygments_lexer": "ipython3",
   "version": "3.11.5"
  }
 },
 "nbformat": 4,
 "nbformat_minor": 2
}
