{
 "cells": [
  {
   "cell_type": "code",
   "execution_count": 1,
   "metadata": {},
   "outputs": [],
   "source": [
    "#RUN FOR GITHUB CODESPACE\n",
    "import sys\n",
    "import warnings\n",
    "\n",
    "sys.path.append('..')\n",
    "warnings.filterwarnings('ignore')"
   ]
  },
  {
   "cell_type": "code",
   "execution_count": 3,
   "metadata": {},
   "outputs": [
    {
     "ename": "ModuleNotFoundError",
     "evalue": "No module named 'fhir.resources.moleculardefinition'",
     "output_type": "error",
     "traceback": [
      "\u001b[0;31m---------------------------------------------------------------------------\u001b[0m",
      "\u001b[0;31mModuleNotFoundError\u001b[0m                       Traceback (most recent call last)",
      "Cell \u001b[0;32mIn[3], line 2\u001b[0m\n\u001b[1;32m      1\u001b[0m \u001b[38;5;28;01mimport\u001b[39;00m \u001b[38;5;21;01mjson\u001b[39;00m\n\u001b[0;32m----> 2\u001b[0m \u001b[38;5;28;01mfrom\u001b[39;00m \u001b[38;5;21;01mfhir\u001b[39;00m\u001b[38;5;21;01m.\u001b[39;00m\u001b[38;5;21;01mresources\u001b[39;00m\u001b[38;5;21;01m.\u001b[39;00m\u001b[38;5;21;01mmoleculardefinition\u001b[39;00m \u001b[38;5;28;01mimport\u001b[39;00m MolecularDefinition\n\u001b[1;32m      3\u001b[0m \u001b[38;5;66;03m# Step 1: Correct the filename\u001b[39;00m\n\u001b[1;32m      4\u001b[0m filename \u001b[38;5;241m=\u001b[39m \u001b[38;5;124m\"\u001b[39m\u001b[38;5;124mexample/SimpleSequenceExample.json\u001b[39m\u001b[38;5;124m\"\u001b[39m\n",
      "\u001b[0;31mModuleNotFoundError\u001b[0m: No module named 'fhir.resources.moleculardefinition'"
     ]
    }
   ],
   "source": [
    "import json\n",
    "from fhir.resources.moleculardefinition import MolecularDefinition\n",
    "# Step 1: Correct the filename\n",
    "filename = \"example/SimpleSequenceExample.json\"\n",
    "\n",
    "# Step 2: Load JSON data from the file\n",
    "with open(filename, 'r') as file:\n",
    "    data = json.load(file)\n",
    "\n",
    "print(MolecularDefinition(**data).model_dump())"
   ]
  },
  {
   "cell_type": "code",
   "execution_count": 4,
   "metadata": {},
   "outputs": [
    {
     "ename": "ModuleNotFoundError",
     "evalue": "No module named 'fhir.resources.moleculardefinition'",
     "output_type": "error",
     "traceback": [
      "\u001b[0;31m---------------------------------------------------------------------------\u001b[0m",
      "\u001b[0;31mModuleNotFoundError\u001b[0m                       Traceback (most recent call last)",
      "Cell \u001b[0;32mIn[4], line 1\u001b[0m\n\u001b[0;32m----> 1\u001b[0m \u001b[38;5;28;01mfrom\u001b[39;00m \u001b[38;5;21;01mfhir\u001b[39;00m\u001b[38;5;21;01m.\u001b[39;00m\u001b[38;5;21;01mresources\u001b[39;00m\u001b[38;5;21;01m.\u001b[39;00m\u001b[38;5;21;01mmoleculardefinition\u001b[39;00m \u001b[38;5;28;01mimport\u001b[39;00m MolecularDefinitionRepresentationLiteral\n\u001b[1;32m      2\u001b[0m \u001b[38;5;28;01mfrom\u001b[39;00m \u001b[38;5;21;01mga4gh\u001b[39;00m\u001b[38;5;21;01m.\u001b[39;00m\u001b[38;5;21;01mvrs\u001b[39;00m \u001b[38;5;28;01mimport\u001b[39;00m models\n\u001b[1;32m      4\u001b[0m MolDefReprLiteral \u001b[38;5;241m=\u001b[39m MolecularDefinitionRepresentationLiteral(\n\u001b[1;32m      5\u001b[0m     value \u001b[38;5;241m=\u001b[39m \u001b[38;5;124m\"\u001b[39m\u001b[38;5;124mATGAACAGACAAGTAAAAGACATGACAGYGATACTTTCCCAGAGCTGAAGTTAACAAATGCACCTGGTTC TTTTACTAAGTGTTCAAATACCAGTGAACTTAAAGAATTTGTCAATCCTAGCCTTCCAAGAGAAGAAAAA GAAGAGAAACTAGAAACAGTTAAAGTGTCTAATAATGCTGAAGACCCCAAAGATCTCATGTTAAGTGGAG AAAGGGTTTTGCAAACTGAAAGATCTGTAGAGAGTAGCAGTATTTCAYTGGTACCTGGTACTGATTATGG CACTCAGGAAAGTATCTCGTTACTGGAAGTTAGCACTCTAGGGAAGGCAAAAACAGAACCAAATAAATGT GTGAGTCAGTGTGCAGCATTTGAAAACCCCAAGGGACTAATTCATGGTTGTTCCAAAGATAATAGAAATG ACACAGAAGGCTTTAAGTATCCATTGGGACATGAAGTTAACCACAGTCGGGAAACAAGCATAGAAATGGA AGAAAGTGAACTTGATGCTCAGTATTTGCAGAATACATTCAAGGTTTCAAAGCGCCAGTCATTTGCTCYG TTTTCAAATCCAGGAAATGCAGAAGAGGAATGTGCAACATTCTCTGCCCACTCTGGGTCCTTAAAGAAAC AAAGTCCAAAAGTCACTTTTGAATGTGAACAAAAGGAAGAAAATCAAGGAAAGAATGAGTCTAATATCAA GCCTGTACAGACAGTTAATATCACTGCAGGCTTTCCTGTGGTTGGTCAGAAAGA\u001b[39m\u001b[38;5;124m\"\u001b[39m\n\u001b[1;32m      6\u001b[0m )\n",
      "\u001b[0;31mModuleNotFoundError\u001b[0m: No module named 'fhir.resources.moleculardefinition'"
     ]
    }
   ],
   "source": [
    "from fhir.resources.moleculardefinition import MolecularDefinitionRepresentationLiteral\n",
    "from ga4gh.vrs import models\n",
    "\n",
    "MolDefReprLiteral = MolecularDefinitionRepresentationLiteral(\n",
    "    value = \"ATGAACAGACAAGTAAAAGACATGACAGYGATACTTTCCCAGAGCTGAAGTTAACAAATGCACCTGGTTC TTTTACTAAGTGTTCAAATACCAGTGAACTTAAAGAATTTGTCAATCCTAGCCTTCCAAGAGAAGAAAAA GAAGAGAAACTAGAAACAGTTAAAGTGTCTAATAATGCTGAAGACCCCAAAGATCTCATGTTAAGTGGAG AAAGGGTTTTGCAAACTGAAAGATCTGTAGAGAGTAGCAGTATTTCAYTGGTACCTGGTACTGATTATGG CACTCAGGAAAGTATCTCGTTACTGGAAGTTAGCACTCTAGGGAAGGCAAAAACAGAACCAAATAAATGT GTGAGTCAGTGTGCAGCATTTGAAAACCCCAAGGGACTAATTCATGGTTGTTCCAAAGATAATAGAAATG ACACAGAAGGCTTTAAGTATCCATTGGGACATGAAGTTAACCACAGTCGGGAAACAAGCATAGAAATGGA AGAAAGTGAACTTGATGCTCAGTATTTGCAGAATACATTCAAGGTTTCAAAGCGCCAGTCATTTGCTCYG TTTTCAAATCCAGGAAATGCAGAAGAGGAATGTGCAACATTCTCTGCCCACTCTGGGTCCTTAAAGAAAC AAAGTCCAAAAGTCACTTTTGAATGTGAACAAAAGGAAGAAAATCAAGGAAAGAATGAGTCTAATATCAA GCCTGTACAGACAGTTAATATCACTGCAGGCTTTCCTGTGGTTGGTCAGAAAGA\"\n",
    ")\n",
    "print(MolDefReprLiteral)\n",
    "\n",
    "\n",
    "LitSeqExp = models.LiteralSequenceExpression(type= \"LiteralSequenceExpression\",sequence = \"TT\").as_dict()\n",
    "print(LitSeqExp)"
   ]
  },
  {
   "cell_type": "code",
   "execution_count": 5,
   "metadata": {},
   "outputs": [
    {
     "ename": "ModuleNotFoundError",
     "evalue": "No module named 'fhir.resources.moleculardefinition'",
     "output_type": "error",
     "traceback": [
      "\u001b[0;31m---------------------------------------------------------------------------\u001b[0m",
      "\u001b[0;31mModuleNotFoundError\u001b[0m                       Traceback (most recent call last)",
      "Cell \u001b[0;32mIn[5], line 1\u001b[0m\n\u001b[0;32m----> 1\u001b[0m \u001b[38;5;28;01mfrom\u001b[39;00m \u001b[38;5;21;01mfhir\u001b[39;00m\u001b[38;5;21;01m.\u001b[39;00m\u001b[38;5;21;01mresources\u001b[39;00m\u001b[38;5;21;01m.\u001b[39;00m\u001b[38;5;21;01mmoleculardefinition\u001b[39;00m \u001b[38;5;28;01mimport\u001b[39;00m MolecularDefinitionRepresentationExtracted\n\u001b[1;32m      2\u001b[0m \u001b[38;5;28;01mfrom\u001b[39;00m \u001b[38;5;21;01mfhir\u001b[39;00m\u001b[38;5;21;01m.\u001b[39;00m\u001b[38;5;21;01mresources\u001b[39;00m\u001b[38;5;21;01m.\u001b[39;00m\u001b[38;5;21;01mreference\u001b[39;00m \u001b[38;5;28;01mimport\u001b[39;00m Reference\n\u001b[1;32m      3\u001b[0m \u001b[38;5;28;01mfrom\u001b[39;00m \u001b[38;5;21;01mfhir\u001b[39;00m\u001b[38;5;21;01m.\u001b[39;00m\u001b[38;5;21;01mresources\u001b[39;00m\u001b[38;5;21;01m.\u001b[39;00m\u001b[38;5;21;01mcodeableconcept\u001b[39;00m \u001b[38;5;28;01mimport\u001b[39;00m CodeableConcept\n",
      "\u001b[0;31mModuleNotFoundError\u001b[0m: No module named 'fhir.resources.moleculardefinition'"
     ]
    }
   ],
   "source": [
    "from fhir.resources.moleculardefinition import MolecularDefinitionRepresentationExtracted\n",
    "from fhir.resources.reference import Reference\n",
    "from fhir.resources.codeableconcept import CodeableConcept\n",
    "\n",
    "\n",
    "MolDefReprExtr= MolecularDefinitionRepresentationExtracted(\n",
    "    startingMolecule=Reference(reference=\"MolecularDefinition/example-starting-sequence-2b-extracted\",type=\"MolecularDefinition\",display=\"Starting Sequence Resource\"),\n",
    "    start=0,\n",
    "    end=745,\n",
    "    coordinateSystem=CodeableConcept(coding=[{\"system\" : \"http://loinc.org\",\"code\" : \"LA30100-4\",\"display\" : \"0-based interval counting\"}],text=\"0-based interval counting\"),\n",
    "    reverseComplement = False \n",
    ")\n",
    "MolDefReprExtr"
   ]
  },
  {
   "cell_type": "code",
   "execution_count": 5,
   "metadata": {},
   "outputs": [
    {
     "ename": "ModuleNotFoundError",
     "evalue": "No module named 'fhir.resources.moleculardefinition'",
     "output_type": "error",
     "traceback": [
      "\u001b[0;31m---------------------------------------------------------------------------\u001b[0m",
      "\u001b[0;31mModuleNotFoundError\u001b[0m                       Traceback (most recent call last)",
      "Cell \u001b[0;32mIn[5], line 1\u001b[0m\n\u001b[0;32m----> 1\u001b[0m \u001b[38;5;28;01mfrom\u001b[39;00m \u001b[38;5;21;01mfhir\u001b[39;00m\u001b[38;5;21;01m.\u001b[39;00m\u001b[38;5;21;01mresources\u001b[39;00m\u001b[38;5;21;01m.\u001b[39;00m\u001b[38;5;21;01mmoleculardefinition\u001b[39;00m \u001b[38;5;28;01mimport\u001b[39;00m MolecularDefinitionRepresentationConcatenated\n\u001b[1;32m      2\u001b[0m \u001b[38;5;28;01mfrom\u001b[39;00m \u001b[38;5;21;01mfhir\u001b[39;00m\u001b[38;5;21;01m.\u001b[39;00m\u001b[38;5;21;01mresources\u001b[39;00m\u001b[38;5;21;01m.\u001b[39;00m\u001b[38;5;21;01mmoleculardefinition\u001b[39;00m \u001b[38;5;28;01mimport\u001b[39;00m MolecularDefinitionRepresentationConcatenatedSequenceElement\n\u001b[1;32m      4\u001b[0m MolDefRepConcatSeqElem1 \u001b[38;5;241m=\u001b[39m MolecularDefinitionRepresentationConcatenatedSequenceElement(\n\u001b[1;32m      5\u001b[0m     sequence\u001b[38;5;241m=\u001b[39mReference(reference\u001b[38;5;241m=\u001b[39m\u001b[38;5;124m\"\u001b[39m\u001b[38;5;124mMolecularDefinition/example-sequence0-2b-concatenated\u001b[39m\u001b[38;5;124m\"\u001b[39m, \u001b[38;5;28mtype\u001b[39m\u001b[38;5;241m=\u001b[39m\u001b[38;5;124m\"\u001b[39m\u001b[38;5;124mMolecularDefinition\u001b[39m\u001b[38;5;124m\"\u001b[39m, display\u001b[38;5;241m=\u001b[39m\u001b[38;5;124m\"\u001b[39m\u001b[38;5;124mSequence-of index 0-Resource for concatenated sequence example\u001b[39m\u001b[38;5;124m\"\u001b[39m),\n\u001b[1;32m      6\u001b[0m     ordinalIndex\u001b[38;5;241m=\u001b[39m\u001b[38;5;241m0\u001b[39m\n\u001b[1;32m      7\u001b[0m )\n",
      "\u001b[0;31mModuleNotFoundError\u001b[0m: No module named 'fhir.resources.moleculardefinition'"
     ]
    }
   ],
   "source": [
    "from fhir.resources.moleculardefinition import MolecularDefinitionRepresentationConcatenated\n",
    "from fhir.resources.moleculardefinition import MolecularDefinitionRepresentationConcatenatedSequenceElement\n",
    "\n",
    "MolDefRepConcatSeqElem1 = MolecularDefinitionRepresentationConcatenatedSequenceElement(\n",
    "    sequence=Reference(reference=\"MolecularDefinition/example-sequence0-2b-concatenated\", type=\"MolecularDefinition\", display=\"Sequence-of index 0-Resource for concatenated sequence example\"),\n",
    "    ordinalIndex=0\n",
    ")\n",
    "\n",
    "MolDefRepConcatSeqElem2 = MolecularDefinitionRepresentationConcatenatedSequenceElement(\n",
    "    sequence=Reference(reference=\"MolecularDefinition/example-sequence1-2b-concatenated\", type=\"MolecularDefinition\", display=\"Sequence-of index 1-Resource for concatenated sequence example\"),\n",
    "    ordinalIndex=1\n",
    ")\n",
    "\n",
    "MolDefRepConcatSeqElem3 = MolecularDefinitionRepresentationConcatenatedSequenceElement(\n",
    "    sequence=Reference(reference=\"MolecularDefinition/example-sequence2-2b-concatenated\", type=\"MolecularDefinition\", display=\"Sequence-of index 2-Resource for concatenated sequence example\"),\n",
    "    ordinalIndex=2\n",
    ")\n",
    "\n",
    "sequence_elements = [MolDefRepConcatSeqElem1, MolDefRepConcatSeqElem2, MolDefRepConcatSeqElem3]\n",
    "sequence_elements"
   ]
  },
  {
   "cell_type": "code",
   "execution_count": 6,
   "metadata": {},
   "outputs": [
    {
     "ename": "NameError",
     "evalue": "name 'MolecularDefinitionRepresentationConcatenated' is not defined",
     "output_type": "error",
     "traceback": [
      "\u001b[0;31m---------------------------------------------------------------------------\u001b[0m",
      "\u001b[0;31mNameError\u001b[0m                                 Traceback (most recent call last)",
      "Cell \u001b[0;32mIn[6], line 1\u001b[0m\n\u001b[0;32m----> 1\u001b[0m MolDefRepConcat \u001b[38;5;241m=\u001b[39m \u001b[43mMolecularDefinitionRepresentationConcatenated\u001b[49m(sequenceElement\u001b[38;5;241m=\u001b[39msequence_elements)\n\u001b[1;32m      2\u001b[0m MolDefRepConcat\n",
      "\u001b[0;31mNameError\u001b[0m: name 'MolecularDefinitionRepresentationConcatenated' is not defined"
     ]
    }
   ],
   "source": [
    "MolDefRepConcat = MolecularDefinitionRepresentationConcatenated(sequenceElement=sequence_elements)\n",
    "MolDefRepConcat"
   ]
  },
  {
   "cell_type": "code",
   "execution_count": 7,
   "metadata": {},
   "outputs": [
    {
     "ename": "ModuleNotFoundError",
     "evalue": "No module named 'fhir.resources.moleculardefinition'",
     "output_type": "error",
     "traceback": [
      "\u001b[0;31m---------------------------------------------------------------------------\u001b[0m",
      "\u001b[0;31mModuleNotFoundError\u001b[0m                       Traceback (most recent call last)",
      "Cell \u001b[0;32mIn[7], line 1\u001b[0m\n\u001b[0;32m----> 1\u001b[0m \u001b[38;5;28;01mfrom\u001b[39;00m \u001b[38;5;21;01mfhir\u001b[39;00m\u001b[38;5;21;01m.\u001b[39;00m\u001b[38;5;21;01mresources\u001b[39;00m\u001b[38;5;21;01m.\u001b[39;00m\u001b[38;5;21;01mmoleculardefinition\u001b[39;00m \u001b[38;5;28;01mimport\u001b[39;00m MolecularDefinitionRepresentationRelativeEdit\n\u001b[1;32m      4\u001b[0m MolDefReprRelEdit \u001b[38;5;241m=\u001b[39m MolecularDefinitionRepresentationRelativeEdit(\n\u001b[1;32m      5\u001b[0m     coordinateSystem \u001b[38;5;241m=\u001b[39m CodeableConcept(\n\u001b[1;32m      6\u001b[0m         coding\u001b[38;5;241m=\u001b[39m[{\u001b[38;5;124m\"\u001b[39m\u001b[38;5;124msystem\u001b[39m\u001b[38;5;124m\"\u001b[39m : \u001b[38;5;124m\"\u001b[39m\u001b[38;5;124mhttp://loinc.org\u001b[39m\u001b[38;5;124m\"\u001b[39m,\u001b[38;5;124m\"\u001b[39m\u001b[38;5;124mcode\u001b[39m\u001b[38;5;124m\"\u001b[39m : \u001b[38;5;124m\"\u001b[39m\u001b[38;5;124mLA30100-4\u001b[39m\u001b[38;5;124m\"\u001b[39m,\u001b[38;5;124m\"\u001b[39m\u001b[38;5;124mdisplay\u001b[39m\u001b[38;5;124m\"\u001b[39m : \u001b[38;5;124m\"\u001b[39m\u001b[38;5;124m0-based interval counting\u001b[39m\u001b[38;5;124m\"\u001b[39m}],\n\u001b[0;32m   (...)\u001b[0m\n\u001b[1;32m     16\u001b[0m                                      display\u001b[38;5;241m=\u001b[39m\u001b[38;5;124m\"\u001b[39m\u001b[38;5;124mReplacement Sequence Resource\u001b[39m\u001b[38;5;124m\"\u001b[39m),\n\u001b[1;32m     17\u001b[0m )\n\u001b[1;32m     19\u001b[0m MolDefReprRelEdit\n",
      "\u001b[0;31mModuleNotFoundError\u001b[0m: No module named 'fhir.resources.moleculardefinition'"
     ]
    }
   ],
   "source": [
    "from fhir.resources.moleculardefinition import MolecularDefinitionRepresentationRelativeEdit\n",
    "\n",
    "\n",
    "MolDefReprRelEdit = MolecularDefinitionRepresentationRelativeEdit(\n",
    "    coordinateSystem = CodeableConcept(\n",
    "        coding=[{\"system\" : \"http://loinc.org\",\"code\" : \"LA30100-4\",\"display\" : \"0-based interval counting\"}],\n",
    "        text=\"0-based interval counting\"\n",
    "        ),\n",
    "    start=0,\n",
    "    end=725,\n",
    "    replacementMolecule = Reference(reference=\"MolecularDefinition/example-replacement-sequence\",\n",
    "                                     type=\"MolecularDefinition\",\n",
    "                                     display=\"Replacement Sequence Resource\"),\n",
    "    replacedMolecule = Reference(reference=\"MolecularDefinition/example-replacement-sequence\",\n",
    "                                     type=\"MolecularDefinition\",\n",
    "                                     display=\"Replacement Sequence Resource\"),\n",
    ")\n",
    "\n",
    "MolDefReprRelEdit"
   ]
  },
  {
   "cell_type": "code",
   "execution_count": 8,
   "metadata": {},
   "outputs": [
    {
     "ename": "ModuleNotFoundError",
     "evalue": "No module named 'fhir.resources.moleculardefinition'",
     "output_type": "error",
     "traceback": [
      "\u001b[0;31m---------------------------------------------------------------------------\u001b[0m",
      "\u001b[0;31mModuleNotFoundError\u001b[0m                       Traceback (most recent call last)",
      "Cell \u001b[0;32mIn[8], line 1\u001b[0m\n\u001b[0;32m----> 1\u001b[0m \u001b[38;5;28;01mfrom\u001b[39;00m \u001b[38;5;21;01mfhir\u001b[39;00m\u001b[38;5;21;01m.\u001b[39;00m\u001b[38;5;21;01mresources\u001b[39;00m\u001b[38;5;21;01m.\u001b[39;00m\u001b[38;5;21;01mmoleculardefinition\u001b[39;00m \u001b[38;5;28;01mimport\u001b[39;00m MolecularDefinitionRepresentationRelative\n\u001b[1;32m      3\u001b[0m MolDefReprRelative \u001b[38;5;241m=\u001b[39m MolecularDefinitionRepresentationRelative(\n\u001b[1;32m      4\u001b[0m     startingMolecule\u001b[38;5;241m=\u001b[39m Reference(\n\u001b[1;32m      5\u001b[0m                         reference\u001b[38;5;241m=\u001b[39m\u001b[38;5;124m\"\u001b[39m\u001b[38;5;124mMolecularDefinition/example-replacement-sequence\u001b[39m\u001b[38;5;124m\"\u001b[39m,\n\u001b[0;32m   (...)\u001b[0m\n\u001b[1;32m      8\u001b[0m     edit \u001b[38;5;241m=\u001b[39m [MolDefReprRelEdit]\n\u001b[1;32m      9\u001b[0m                         )\n",
      "\u001b[0;31mModuleNotFoundError\u001b[0m: No module named 'fhir.resources.moleculardefinition'"
     ]
    }
   ],
   "source": [
    "from fhir.resources.moleculardefinition import MolecularDefinitionRepresentationRelative\n",
    "\n",
    "MolDefReprRelative = MolecularDefinitionRepresentationRelative(\n",
    "    startingMolecule= Reference(\n",
    "                        reference=\"MolecularDefinition/example-replacement-sequence\",\n",
    "                        type=\"MolecularDefinition\",\n",
    "                        display=\"Replacement Sequence Resource\"),\n",
    "    edit = [MolDefReprRelEdit]\n",
    "                        )"
   ]
  },
  {
   "cell_type": "code",
   "execution_count": 9,
   "metadata": {},
   "outputs": [
    {
     "ename": "ModuleNotFoundError",
     "evalue": "No module named 'fhir.resources.moleculardefinition'",
     "output_type": "error",
     "traceback": [
      "\u001b[0;31m---------------------------------------------------------------------------\u001b[0m",
      "\u001b[0;31mModuleNotFoundError\u001b[0m                       Traceback (most recent call last)",
      "Cell \u001b[0;32mIn[9], line 1\u001b[0m\n\u001b[0;32m----> 1\u001b[0m \u001b[38;5;28;01mfrom\u001b[39;00m \u001b[38;5;21;01mfhir\u001b[39;00m\u001b[38;5;21;01m.\u001b[39;00m\u001b[38;5;21;01mresources\u001b[39;00m\u001b[38;5;21;01m.\u001b[39;00m\u001b[38;5;21;01mmoleculardefinition\u001b[39;00m \u001b[38;5;28;01mimport\u001b[39;00m MolecularDefinitionRepresentation\n\u001b[1;32m      2\u001b[0m \u001b[38;5;28;01mfrom\u001b[39;00m \u001b[38;5;21;01mfhir\u001b[39;00m\u001b[38;5;21;01m.\u001b[39;00m\u001b[38;5;21;01mresources\u001b[39;00m\u001b[38;5;21;01m.\u001b[39;00m\u001b[38;5;21;01mattachment\u001b[39;00m \u001b[38;5;28;01mimport\u001b[39;00m Attachment\n\u001b[1;32m      4\u001b[0m MolDefRepr\u001b[38;5;241m=\u001b[39mMolecularDefinitionRepresentation(\n\u001b[1;32m      5\u001b[0m     literal\u001b[38;5;241m=\u001b[39m MolDefReprLiteral,\n\u001b[1;32m      6\u001b[0m     resolvable\u001b[38;5;241m=\u001b[39mAttachment(contentType \u001b[38;5;241m=\u001b[39m \u001b[38;5;124m\"\u001b[39m\u001b[38;5;124mtext/html\u001b[39m\u001b[38;5;124m\"\u001b[39m,\n\u001b[0;32m   (...)\u001b[0m\n\u001b[1;32m     10\u001b[0m     relative\u001b[38;5;241m=\u001b[39mMolDefReprRelative,\n\u001b[1;32m     11\u001b[0m )\n",
      "\u001b[0;31mModuleNotFoundError\u001b[0m: No module named 'fhir.resources.moleculardefinition'"
     ]
    }
   ],
   "source": [
    "from fhir.resources.moleculardefinition import MolecularDefinitionRepresentation\n",
    "from fhir.resources.attachment import Attachment\n",
    "\n",
    "MolDefRepr=MolecularDefinitionRepresentation(\n",
    "    literal= MolDefReprLiteral,\n",
    "    resolvable=Attachment(contentType = \"text/html\",\n",
    "                           url = \"https://www.ncbi.nlm.nih.gov/nuccore/MW716256.1?report=fasta\"),\n",
    "    extracted =MolDefReprExtr,\n",
    "    concatenated=MolDefRepConcat,\n",
    "    relative=MolDefReprRelative,\n",
    ")\n",
    "\n",
    "list_MolDefRepr = [MolDefRepr]\n",
    "list_MolDefRepr"
   ]
  },
  {
   "cell_type": "code",
   "execution_count": 10,
   "metadata": {},
   "outputs": [
    {
     "ename": "ModuleNotFoundError",
     "evalue": "No module named 'fhir.resources.moleculardefinition'",
     "output_type": "error",
     "traceback": [
      "\u001b[0;31m---------------------------------------------------------------------------\u001b[0m",
      "\u001b[0;31mModuleNotFoundError\u001b[0m                       Traceback (most recent call last)",
      "Cell \u001b[0;32mIn[10], line 1\u001b[0m\n\u001b[0;32m----> 1\u001b[0m \u001b[38;5;28;01mfrom\u001b[39;00m \u001b[38;5;21;01mfhir\u001b[39;00m\u001b[38;5;21;01m.\u001b[39;00m\u001b[38;5;21;01mresources\u001b[39;00m\u001b[38;5;21;01m.\u001b[39;00m\u001b[38;5;21;01mmoleculardefinition\u001b[39;00m \u001b[38;5;28;01mimport\u001b[39;00m MolecularDefinition\n\u001b[1;32m      4\u001b[0m MolDef \u001b[38;5;241m=\u001b[39m MolecularDefinition(\n\u001b[1;32m      5\u001b[0m   \u001b[38;5;28mid\u001b[39m \u001b[38;5;241m=\u001b[39m \u001b[38;5;124m\"\u001b[39m\u001b[38;5;124mexample\u001b[39m\u001b[38;5;124m\"\u001b[39m,\n\u001b[1;32m      6\u001b[0m   \u001b[38;5;28mtype\u001b[39m \u001b[38;5;241m=\u001b[39m \u001b[38;5;124m\"\u001b[39m\u001b[38;5;124mdna\u001b[39m\u001b[38;5;124m\"\u001b[39m,\n\u001b[1;32m      7\u001b[0m   representation \u001b[38;5;241m=\u001b[39m list_MolDefRepr,\n\u001b[1;32m      8\u001b[0m )\n",
      "\u001b[0;31mModuleNotFoundError\u001b[0m: No module named 'fhir.resources.moleculardefinition'"
     ]
    }
   ],
   "source": [
    "from fhir.resources.moleculardefinition import MolecularDefinition\n",
    "\n",
    "\n",
    "MolDef = MolecularDefinition(\n",
    "  id = \"example\",\n",
    "  type = \"dna\",\n",
    "  representation = list_MolDefRepr,\n",
    ")"
   ]
  },
  {
   "cell_type": "code",
   "execution_count": 11,
   "metadata": {},
   "outputs": [
    {
     "ename": "NameError",
     "evalue": "name 'MolDef' is not defined",
     "output_type": "error",
     "traceback": [
      "\u001b[0;31m---------------------------------------------------------------------------\u001b[0m",
      "\u001b[0;31mNameError\u001b[0m                                 Traceback (most recent call last)",
      "Cell \u001b[0;32mIn[11], line 1\u001b[0m\n\u001b[0;32m----> 1\u001b[0m \u001b[43mMolDef\u001b[49m\u001b[38;5;241m.\u001b[39mmodel_dump()\n",
      "\u001b[0;31mNameError\u001b[0m: name 'MolDef' is not defined"
     ]
    }
   ],
   "source": [
    "MolDef.model_dump()"
   ]
  },
  {
   "cell_type": "code",
   "execution_count": null,
   "metadata": {},
   "outputs": [],
   "source": []
  }
 ],
 "metadata": {
  "kernelspec": {
   "display_name": "DraftCoreDataModel-MMFV8Z-X",
   "language": "python",
   "name": "python3"
  },
  "language_info": {
   "codemirror_mode": {
    "name": "ipython",
    "version": 3
   },
   "file_extension": ".py",
   "mimetype": "text/x-python",
   "name": "python",
   "nbconvert_exporter": "python",
   "pygments_lexer": "ipython3",
   "version": "3.11.5"
  }
 },
 "nbformat": 4,
 "nbformat_minor": 2
}
