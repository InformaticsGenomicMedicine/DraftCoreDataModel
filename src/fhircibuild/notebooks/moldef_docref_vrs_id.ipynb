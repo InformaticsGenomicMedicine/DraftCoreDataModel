{
 "cells": [
  {
   "cell_type": "code",
   "execution_count": 1,
   "metadata": {},
   "outputs": [],
   "source": [
    "#RUN FOR GITHUB CODESPACE\n",
    "import sys\n",
    "import warnings\n",
    "\n",
    "sys.path.append('/workspaces/DraftCoreDataModel/')\n",
    "warnings.filterwarnings('ignore')"
   ]
  },
  {
   "cell_type": "code",
   "execution_count": 2,
   "metadata": {},
   "outputs": [],
   "source": [
    "import json\n",
    "from src.fhircibuild.resources.moleculardefinition import MolecularDefinition\n",
    "from fhir.resources.documentreference import DocumentReference \n"
   ]
  },
  {
   "cell_type": "code",
   "execution_count": 3,
   "metadata": {},
   "outputs": [
    {
     "data": {
      "text/plain": [
       "{'resourceType': 'DocumentReference',\n",
       " 'id': 'example-genomicFile-nm0007694',\n",
       " 'identifier': [{'system': 'https://www.ncbi.nlm.nih.gov/nuccore',\n",
       "   'value': 'NM_000769.4'}],\n",
       " 'status': 'current',\n",
       " 'docStatus': 'preliminary',\n",
       " 'description': '(CYP2C19), mRNA.',\n",
       " 'securityLabel': [{'coding': [{'system': 'http://terminology.hl7.org/CodeSystem/v3-Confidentiality',\n",
       "     'code': 'N',\n",
       "     'display': 'normal'}]}],\n",
       " 'content': [{'attachment': {'contentType': 'text/html',\n",
       "    'url': Url('https://www.ncbi.nlm.nih.gov/nuccore/NM_000769.4?report=fasta'),\n",
       "    'title': 'Homo sapiens cytochrome P450 family 2 subfamily C member 19 (CYP2C19), mRNA',\n",
       "    'creation': datetime.datetime(2024, 9, 9, 1, 1, 1, tzinfo=TzInfo(+01:00))}}]}"
      ]
     },
     "execution_count": 3,
     "metadata": {},
     "output_type": "execute_result"
    }
   ],
   "source": [
    "filename = \"moldef_json_ex/DocumentReference-example-genomicFile-nm0007694.json\"\n",
    "\n",
    "with open(filename, 'r') as file:\n",
    "    data = json.load(file)\n",
    "\n",
    "DRef = DocumentReference(**data)\n",
    "DRef.model_dump()"
   ]
  },
  {
   "cell_type": "code",
   "execution_count": 4,
   "metadata": {},
   "outputs": [
    {
     "data": {
      "text/plain": [
       "{'resourceType': 'MolecularDefinition',\n",
       " 'id': 'example-sequence-nm0007694-url',\n",
       " 'meta': {'profile': ['http://hl7.org/fhir/StructureDefinition/sequence']},\n",
       " 'type': 'dna',\n",
       " 'representation': [{'code': [{'coding': [{'system': 'ga4gh',\n",
       "       'code': 'SQ.gtjJTHGFtrKufRfK5SQeYexDFRjwB05X',\n",
       "       'display': 'ga4gh:SQ.gtjJTHGFtrKufRfK5SQeYexDFRjwB05X'}]}],\n",
       "   'resolvable': {'reference': 'DocumentReference/example-genomicFile-nm0007694'}}]}"
      ]
     },
     "execution_count": 4,
     "metadata": {},
     "output_type": "execute_result"
    }
   ],
   "source": [
    "filename = \"moldef_json_ex/moleculardefinition-example-sequence-nm0007694-url.json\"\n",
    "with open(filename, 'r') as file:\n",
    "    data = json.load(file)\n",
    "\n",
    "MOLDef = MolecularDefinition(**data)\n",
    "MOLDef.model_dump()"
   ]
  }
 ],
 "metadata": {
  "kernelspec": {
   "display_name": "DraftCoreDataModel-MMFV8Z-X",
   "language": "python",
   "name": "python3"
  },
  "language_info": {
   "codemirror_mode": {
    "name": "ipython",
    "version": 3
   },
   "file_extension": ".py",
   "mimetype": "text/x-python",
   "name": "python",
   "nbconvert_exporter": "python",
   "pygments_lexer": "ipython3",
   "version": "3.11.5"
  }
 },
 "nbformat": 4,
 "nbformat_minor": 2
}
