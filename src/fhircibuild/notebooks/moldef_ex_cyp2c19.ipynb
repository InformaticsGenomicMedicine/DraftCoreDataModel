{
 "cells": [
  {
   "cell_type": "code",
   "execution_count": 11,
   "metadata": {},
   "outputs": [],
   "source": [
    "#RUN FOR GITHUB CODESPACE\n",
    "import sys\n",
    "import warnings\n",
    "\n",
    "sys.path.append('/workspaces/DraftCoreDataModel/')\n",
    "warnings.filterwarnings('ignore')"
   ]
  },
  {
   "cell_type": "markdown",
   "metadata": {},
   "source": [
    "### Demonstrating the Creation of the MolecularDefinition\n",
    "\n",
    "- Example: CYP2C19\n",
    "- Example JSON: `moldef_json_ex/moleculardefinition-example-allelesliced-cyp2c19.json`\n",
    "- The code demonstrates a step-by-step process of creating a MolecularDefinition Pydantic example for CYP2C19.\n",
    "- The code also demonstrates the same process for creating a VRS object.\n",
    "- Resources used: `vrs-python`, `moleculardefinition.py`, and `fhir.resources`\n",
    "\n",
    "Currently, we are developing translations between the MolecularDefinition (MolDef) and VRS schemas. At this stage, the notebooks demonstrate the two structures side by side. The team has worked on mappings, which will be shared later in the documentation."
   ]
  },
  {
   "cell_type": "code",
   "execution_count": 12,
   "metadata": {},
   "outputs": [
    {
     "data": {
      "text/plain": [
       "MolecularDefinitionRepresentationLiteral(fhir_comments=None, extension=None, id=None, modifierExtension=None, encoding=None, value='G')"
      ]
     },
     "execution_count": 12,
     "metadata": {},
     "output_type": "execute_result"
    }
   ],
   "source": [
    "from src.fhircibuild.resources.moleculardefinition import MolecularDefinitionRepresentationLiteral\n",
    "\n",
    "MDRLiteral = MolecularDefinitionRepresentationLiteral(\n",
    "    value = \"G\"\n",
    ")\n",
    "\n",
    "MDRLiteral"
   ]
  },
  {
   "cell_type": "code",
   "execution_count": 17,
   "metadata": {},
   "outputs": [
    {
     "data": {
      "text/plain": [
       "{'focus': {'coding': [{'system': 'http://hl7.org/fhir/moleculardefinition-focus',\n",
       "    'code': 'allele-state',\n",
       "    'display': 'Allele State'}]},\n",
       " 'code': [{'coding': [{'system': 'https://www.pharmvar.org',\n",
       "     'code': '*1',\n",
       "     'display': '*1'}]}],\n",
       " 'literal': {'value': 'G'}}"
      ]
     },
     "execution_count": 17,
     "metadata": {},
     "output_type": "execute_result"
    }
   ],
   "source": [
    "from src.fhircibuild.resources.moleculardefinition import MolecularDefinitionRepresentation\n",
    "from fhir.resources.codeableconcept import CodeableConcept\n",
    "\n",
    "MDRepresentation = MolecularDefinitionRepresentation(\n",
    "    literal=MDRLiteral,\n",
    "    focus=CodeableConcept(\n",
    "        coding=[\n",
    "            {\"system\": \"http://hl7.org/fhir/moleculardefinition-focus\",\"code\": \"allele-state\",\"display\": \"Allele State\"}\n",
    "            ]),\n",
    "    code=[CodeableConcept(\n",
    "        coding=[\n",
    "            {\"system\": \"https://www.pharmvar.org\",\n",
    "              \"code\": \"*1\",\n",
    "              \"display\": \"*1\"}\n",
    "              ])],\n",
    ")\n",
    "MDRepresentation.model_dump()"
   ]
  },
  {
   "cell_type": "code",
   "execution_count": 18,
   "metadata": {},
   "outputs": [
    {
     "data": {
      "text/plain": [
       "{'sequenceContext': {'reference': 'MolecularDefinition/example-sequence-nm0007694-url',\n",
       "  'type': 'MolecularDefinition',\n",
       "  'display': 'Starting Sequence Resource: (CYP2C19), mRNA, NM_000769.4'},\n",
       " 'coordinateInterval': {'numberingSystem': {'coding': [{'system': 'http://loinc.org',\n",
       "     'code': 'LA30100-4',\n",
       "     'display': '0-based interval counting'}],\n",
       "   'text': '0-based interval counting'},\n",
       "  'startQuantity': {'value': Decimal('1015')},\n",
       "  'endQuantity': {'value': Decimal('1016')}}}"
      ]
     },
     "execution_count": 18,
     "metadata": {},
     "output_type": "execute_result"
    }
   ],
   "source": [
    "from src.fhircibuild.resources.moleculardefinition import (MolecularDefinitionLocation,\n",
    "                                                           MolecularDefinitionLocationSequenceLocation,\n",
    "                                                           MolecularDefinitionLocationSequenceLocationCoordinateInterval)\n",
    "from fhir.resources.quantity import Quantity \n",
    "from fhir.resources.reference import Reference\n",
    "\n",
    "\n",
    "MDLSLCInterval = MolecularDefinitionLocationSequenceLocationCoordinateInterval(\n",
    "    numberingSystem =CodeableConcept(coding=[{\"system\" : \"http://loinc.org\",\"code\" : \"LA30100-4\",\"display\" : \"0-based interval counting\"}],text=\"0-based interval counting\"),\n",
    "    startQuantity=Quantity(value=1015),\n",
    "    endQuantity=Quantity(value=1016)\n",
    ")\n",
    "\n",
    "MDLSLLocation  = MolecularDefinitionLocationSequenceLocation(\n",
    "    sequenceContext = Reference(reference=\"MolecularDefinition/example-sequence-nm0007694-url\",type = \"MolecularDefinition\",display=\"Starting Sequence Resource: (CYP2C19), mRNA, NM_000769.4\"),\n",
    "    coordinateInterval = MDLSLCInterval\n",
    ")\n",
    "MDLSLLocation.model_dump()"
   ]
  },
  {
   "cell_type": "code",
   "execution_count": 19,
   "metadata": {},
   "outputs": [
    {
     "data": {
      "text/plain": [
       "{'sequenceLocation': {'sequenceContext': {'reference': 'MolecularDefinition/example-sequence-nm0007694-url',\n",
       "   'type': 'MolecularDefinition',\n",
       "   'display': 'Starting Sequence Resource: (CYP2C19), mRNA, NM_000769.4'},\n",
       "  'coordinateInterval': {'numberingSystem': {'coding': [{'system': 'http://loinc.org',\n",
       "      'code': 'LA30100-4',\n",
       "      'display': '0-based interval counting'}],\n",
       "    'text': '0-based interval counting'},\n",
       "   'startQuantity': {'value': Decimal('1015')},\n",
       "   'endQuantity': {'value': Decimal('1016')}}}}"
      ]
     },
     "execution_count": 19,
     "metadata": {},
     "output_type": "execute_result"
    }
   ],
   "source": [
    "MDLocation = MolecularDefinitionLocation(\n",
    "    sequenceLocation = MDLSLLocation\n",
    ")\n",
    "MDLocation.model_dump()"
   ]
  },
  {
   "cell_type": "code",
   "execution_count": 20,
   "metadata": {},
   "outputs": [
    {
     "data": {
      "text/plain": [
       "{'resourceType': 'MolecularDefinition',\n",
       " 'id': 'example-allelesliced-cyp2c19-literal-only',\n",
       " 'meta': {'profile': ['http://hl7.org/fhir/StructureDefinition/allelesliced']},\n",
       " 'type': 'dna',\n",
       " 'location': [{'sequenceLocation': {'sequenceContext': {'reference': 'MolecularDefinition/example-sequence-nm0007694-url',\n",
       "     'type': 'MolecularDefinition',\n",
       "     'display': 'Starting Sequence Resource: (CYP2C19), mRNA, NM_000769.4'},\n",
       "    'coordinateInterval': {'numberingSystem': {'coding': [{'system': 'http://loinc.org',\n",
       "        'code': 'LA30100-4',\n",
       "        'display': '0-based interval counting'}],\n",
       "      'text': '0-based interval counting'},\n",
       "     'startQuantity': {'value': Decimal('1015')},\n",
       "     'endQuantity': {'value': Decimal('1016')}}}}],\n",
       " 'representation': [{'focus': {'coding': [{'system': 'http://hl7.org/fhir/moleculardefinition-focus',\n",
       "      'code': 'allele-state',\n",
       "      'display': 'Allele State'}]},\n",
       "   'code': [{'coding': [{'system': 'https://www.pharmvar.org',\n",
       "       'code': '*1',\n",
       "       'display': '*1'}]}],\n",
       "   'literal': {'value': 'G'}}]}"
      ]
     },
     "execution_count": 20,
     "metadata": {},
     "output_type": "execute_result"
    }
   ],
   "source": [
    "from src.fhircibuild.resources.moleculardefinition import MolecularDefinition\n",
    "from fhir.resources.meta import Meta \n",
    "\n",
    "MolDef = MolecularDefinition(\n",
    "  id = \"example-allelesliced-cyp2c19-literal-only\",\n",
    "  meta = Meta(\n",
    "      profile= [\"http://hl7.org/fhir/StructureDefinition/allelesliced\"]\n",
    "  ),\n",
    "  type = \"dna\",\n",
    "  location = [MDLocation],\n",
    "  representation = [MDRepresentation],\n",
    ")\n",
    "MolDef.model_dump()"
   ]
  },
  {
   "cell_type": "code",
   "execution_count": 21,
   "metadata": {},
   "outputs": [
    {
     "data": {
      "text/plain": [
       "{'type': 'Allele',\n",
       " 'location': {'type': 'SequenceLocation',\n",
       "  'sequence_id': 'refseq:NM_000769.4',\n",
       "  'interval': {'type': 'SequenceInterval',\n",
       "   'start': {'type': 'Number', 'value': 1015},\n",
       "   'end': {'type': 'Number', 'value': 1016}}},\n",
       " 'state': {'type': 'LiteralSequenceExpression', 'sequence': 'G'}}"
      ]
     },
     "execution_count": 21,
     "metadata": {},
     "output_type": "execute_result"
    }
   ],
   "source": [
    "from ga4gh.vrs import models\n",
    "\n",
    "seqinterval = models.SequenceInterval(\n",
    "    start= models.Number(value = 1015),\n",
    "    end = models.Number(value = 1016)\n",
    ")\n",
    "\n",
    "seqlocation = models.SequenceLocation(\n",
    "    sequence_id = 'refseq:NM_000769.4',\n",
    "    interval = seqinterval\n",
    ")\n",
    "\n",
    "LitSeqExp = models.LiteralSequenceExpression(type= \"LiteralSequenceExpression\",sequence = \"G\")\n",
    "\n",
    "allele = models.Allele(\n",
    "    location = seqlocation,\n",
    "    state = LitSeqExp\n",
    ")\n",
    "\n",
    "allele.as_dict()"
   ]
  }
 ],
 "metadata": {
  "kernelspec": {
   "display_name": "DraftCoreDataModel-MMFV8Z-X",
   "language": "python",
   "name": "python3"
  },
  "language_info": {
   "codemirror_mode": {
    "name": "ipython",
    "version": 3
   },
   "file_extension": ".py",
   "mimetype": "text/x-python",
   "name": "python",
   "nbconvert_exporter": "python",
   "pygments_lexer": "ipython3",
   "version": "3.11.5"
  }
 },
 "nbformat": 4,
 "nbformat_minor": 2
}
