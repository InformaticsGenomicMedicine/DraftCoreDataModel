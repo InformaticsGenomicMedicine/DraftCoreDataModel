{
 "cells": [
  {
   "cell_type": "code",
   "execution_count": 8,
   "metadata": {},
   "outputs": [],
   "source": [
    "#RUN FOR GITHUB CODESPACE\n",
    "import sys\n",
    "import warnings\n",
    "\n",
    "sys.path.append('/workspaces/DraftCoreDataModel/')\n",
    "warnings.filterwarnings('ignore')"
   ]
  },
  {
   "cell_type": "markdown",
   "metadata": {},
   "source": [
    "### Demonstrating the Creation of the FHIR MolDef seq profile (literal) and VRS LiteralSequenceExpression\n",
    "\n",
    "- Example JSON: `moldef_json_ex/seq_ex_2.json`\n",
    "- Resources used: `vrs-python`, `moleculardefinition.py`, and `fhir.resources`\n",
    "\n",
    "Currently, we are developing translations between the MolecularDefinition (MolDef) and VRS schemas. At this stage, the notebooks demonstrate the two structures side by side. The team has worked on mappings, which will be shared later in the documentation."
   ]
  },
  {
   "cell_type": "code",
   "execution_count": 9,
   "metadata": {},
   "outputs": [],
   "source": [
    "from src.fhircibuild.resources.moleculardefinition import MolecularDefinitionRepresentationLiteral\n",
    "from fhir.resources.codeableconcept import CodeableConcept\n",
    "\n",
    "\n",
    "\n",
    "MolDefReprLiteral = MolecularDefinitionRepresentationLiteral(\n",
    "    value = \"A\",\n",
    "    encoding=CodeableConcept(coding=[{\"system\" : \"http://hl7.org/fhir/moleculardefinition-encoding\",\"code\" : \"iupac-dna\",\"display\" : \"International Union of Pure and Applied Chemistry-DNA Nucleotide Codes\"}])\n",
    ")"
   ]
  },
  {
   "cell_type": "code",
   "execution_count": 10,
   "metadata": {},
   "outputs": [
    {
     "data": {
      "text/plain": [
       "MolecularDefinitionRepresentation(fhir_comments=None, extension=None, id=None, modifierExtension=None, focus=None, code=None, literal=MolecularDefinitionRepresentationLiteral(fhir_comments=None, extension=None, id=None, modifierExtension=None, encoding=CodeableConcept(fhir_comments=None, extension=None, id=None, coding=[Coding(fhir_comments=None, extension=None, id=None, code='iupac-dna', code__ext=None, display='International Union of Pure and Applied Chemistry-DNA Nucleotide Codes', display__ext=None, system='http://hl7.org/fhir/moleculardefinition-encoding', system__ext=None, userSelected=None, userSelected__ext=None, version=None, version__ext=None)], text=None, text__ext=None), value='A'), resolvable=None, extracted=None, repeated=None, concatenated=None, relative=None)"
      ]
     },
     "execution_count": 10,
     "metadata": {},
     "output_type": "execute_result"
    }
   ],
   "source": [
    "from src.fhircibuild.resources.moleculardefinition import MolecularDefinitionRepresentation\n",
    "MolDefRepr=MolecularDefinitionRepresentation(\n",
    "    literal= MolDefReprLiteral\n",
    ")\n",
    "MolDefRepr"
   ]
  },
  {
   "cell_type": "code",
   "execution_count": 11,
   "metadata": {},
   "outputs": [
    {
     "data": {
      "text/plain": [
       "{'resourceType': 'MolecularDefinition',\n",
       " 'id': 'example-sequence-a-aa',\n",
       " 'meta': {'profile': ['http://hl7.org/fhir/StructureDefinition/sequence']},\n",
       " 'type': 'DNA',\n",
       " 'representation': [{'literal': {'encoding': {'coding': [{'system': 'http://hl7.org/fhir/moleculardefinition-encoding',\n",
       "       'code': 'iupac-dna',\n",
       "       'display': 'International Union of Pure and Applied Chemistry-DNA Nucleotide Codes'}]},\n",
       "    'value': 'A'}}]}"
      ]
     },
     "execution_count": 11,
     "metadata": {},
     "output_type": "execute_result"
    }
   ],
   "source": [
    "from src.fhircibuild.resources.moleculardefinition import MolecularDefinition\n",
    "from fhir.resources.meta import Meta\n",
    "# seq_ex_2.json\n",
    "MolDef2 = MolecularDefinition(\n",
    "    id=\"example-sequence-a-aa\",\n",
    "    meta=Meta(profile=[\"http://hl7.org/fhir/StructureDefinition/sequence\"]),\n",
    "    type=\"DNA\",\n",
    "    representation=[MolDefRepr],\n",
    ")\n",
    "MolDef2.model_dump()"
   ]
  },
  {
   "cell_type": "code",
   "execution_count": 12,
   "metadata": {},
   "outputs": [
    {
     "name": "stdout",
     "output_type": "stream",
     "text": [
      "{'type': 'LiteralSequenceExpression', 'sequence': 'A'}\n"
     ]
    }
   ],
   "source": [
    "from ga4gh.vrs import models\n",
    "\n",
    "LitSeqExp = models.LiteralSequenceExpression(type= \"LiteralSequenceExpression\",sequence = \"A\").as_dict()\n",
    "print(LitSeqExp)"
   ]
  }
 ],
 "metadata": {
  "kernelspec": {
   "display_name": "DraftCoreDataModel-MMFV8Z-X",
   "language": "python",
   "name": "python3"
  },
  "language_info": {
   "codemirror_mode": {
    "name": "ipython",
    "version": 3
   },
   "file_extension": ".py",
   "mimetype": "text/x-python",
   "name": "python",
   "nbconvert_exporter": "python",
   "pygments_lexer": "ipython3",
   "version": "3.11.5"
  }
 },
 "nbformat": 4,
 "nbformat_minor": 2
}
