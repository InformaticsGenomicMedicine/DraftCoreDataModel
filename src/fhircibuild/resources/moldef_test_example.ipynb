{
 "cells": [
  {
   "cell_type": "code",
   "execution_count": 1,
   "metadata": {},
   "outputs": [],
   "source": [
    "#RUN FOR GITHUB CODESPACE\n",
    "import sys\n",
    "import warnings\n",
    "\n",
    "sys.path.append('..')\n",
    "warnings.filterwarnings('ignore')"
   ]
  },
  {
   "cell_type": "code",
   "execution_count": 2,
   "metadata": {},
   "outputs": [],
   "source": [
    "from src.fhircibuild.resources.moleculardefinition import MolecularDefinition"
   ]
  },
  {
   "cell_type": "code",
   "execution_count": 3,
   "metadata": {},
   "outputs": [],
   "source": [
    "from src.fhircibuild.resources.moleculardefinition import MolecularDefinitionRepresentationLiteral\n"
   ]
  },
  {
   "cell_type": "code",
   "execution_count": 4,
   "metadata": {},
   "outputs": [
    {
     "data": {
      "text/plain": [
       "MolecularDefinitionRepresentationLiteral(fhir_comments=None, extension=None, id=None, modifierExtension=None, encoding=None, value='ATGAACAGACAAGTAAAAGACATGACAGYGATACTTTCCCAGAGCTGAAGTTAACAAATGCACCTGGTTC TTTTACTAAGTGTTCAAATACCAGTGAACTTAAAGAATTTGTCAATCCTAGCCTTCCAAGAGAAGAAAAA GAAGAGAAACTAGAAACAGTTAAAGTGTCTAATAATGCTGAAGACCCCAAAGATCTCATGTTAAGTGGAG AAAGGGTTTTGCAAACTGAAAGATCTGTAGAGAGTAGCAGTATTTCAYTGGTACCTGGTACTGATTATGG CACTCAGGAAAGTATCTCGTTACTGGAAGTTAGCACTCTAGGGAAGGCAAAAACAGAACCAAATAAATGT GTGAGTCAGTGTGCAGCATTTGAAAACCCCAAGGGACTAATTCATGGTTGTTCCAAAGATAATAGAAATG ACACAGAAGGCTTTAAGTATCCATTGGGACATGAAGTTAACCACAGTCGGGAAACAAGCATAGAAATGGA AGAAAGTGAACTTGATGCTCAGTATTTGCAGAATACATTCAAGGTTTCAAAGCGCCAGTCATTTGCTCYG TTTTCAAATCCAGGAAATGCAGAAGAGGAATGTGCAACATTCTCTGCCCACTCTGGGTCCTTAAAGAAAC AAAGTCCAAAAGTCACTTTTGAATGTGAACAAAAGGAAGAAAATCAAGGAAAGAATGAGTCTAATATCAA GCCTGTACAGACAGTTAATATCACTGCAGGCTTTCCTGTGGTTGGTCAGAAAGA')"
      ]
     },
     "execution_count": 4,
     "metadata": {},
     "output_type": "execute_result"
    }
   ],
   "source": [
    "MolDefReprLiteral = MolecularDefinitionRepresentationLiteral(\n",
    "    value = \"ATGAACAGACAAGTAAAAGACATGACAGYGATACTTTCCCAGAGCTGAAGTTAACAAATGCACCTGGTTC TTTTACTAAGTGTTCAAATACCAGTGAACTTAAAGAATTTGTCAATCCTAGCCTTCCAAGAGAAGAAAAA GAAGAGAAACTAGAAACAGTTAAAGTGTCTAATAATGCTGAAGACCCCAAAGATCTCATGTTAAGTGGAG AAAGGGTTTTGCAAACTGAAAGATCTGTAGAGAGTAGCAGTATTTCAYTGGTACCTGGTACTGATTATGG CACTCAGGAAAGTATCTCGTTACTGGAAGTTAGCACTCTAGGGAAGGCAAAAACAGAACCAAATAAATGT GTGAGTCAGTGTGCAGCATTTGAAAACCCCAAGGGACTAATTCATGGTTGTTCCAAAGATAATAGAAATG ACACAGAAGGCTTTAAGTATCCATTGGGACATGAAGTTAACCACAGTCGGGAAACAAGCATAGAAATGGA AGAAAGTGAACTTGATGCTCAGTATTTGCAGAATACATTCAAGGTTTCAAAGCGCCAGTCATTTGCTCYG TTTTCAAATCCAGGAAATGCAGAAGAGGAATGTGCAACATTCTCTGCCCACTCTGGGTCCTTAAAGAAAC AAAGTCCAAAAGTCACTTTTGAATGTGAACAAAAGGAAGAAAATCAAGGAAAGAATGAGTCTAATATCAA GCCTGTACAGACAGTTAATATCACTGCAGGCTTTCCTGTGGTTGGTCAGAAAGA\"\n",
    ")\n",
    "# list_MolDefReprLiteral = [MolDefReprLiteral]\n",
    "MolDefReprLiteral"
   ]
  },
  {
   "cell_type": "code",
   "execution_count": 5,
   "metadata": {},
   "outputs": [],
   "source": [
    "from src.fhircibuild.resources.moleculardefinition import MolecularDefinitionRepresentationExtracted\n",
    "from fhir.resources.reference import Reference\n",
    "from fhir.resources.codeableconcept import CodeableConcept"
   ]
  },
  {
   "cell_type": "code",
   "execution_count": 6,
   "metadata": {},
   "outputs": [
    {
     "data": {
      "text/plain": [
       "MolecularDefinitionRepresentationExtracted(fhir_comments=None, extension=None, id=None, modifierExtension=None, startingMolecule=Reference(fhir_comments=None, extension=None, id=None, display='Starting Sequence Resource', display__ext=None, identifier=None, reference='MolecularDefinition/example-starting-sequence-2b-extracted', reference__ext=None, type='MolecularDefinition', type__ext=None), start=0, end=745, coordinateSystem=CodeableConcept(fhir_comments=None, extension=None, id=None, coding=[Coding(fhir_comments=None, extension=None, id=None, code='LA30100-4', code__ext=None, display='0-based interval counting', display__ext=None, system='http://loinc.org', system__ext=None, userSelected=None, userSelected__ext=None, version=None, version__ext=None)], text='0-based interval counting', text__ext=None), reverseComplement=False)"
      ]
     },
     "execution_count": 6,
     "metadata": {},
     "output_type": "execute_result"
    }
   ],
   "source": [
    "\n",
    "MolDefReprExtr= MolecularDefinitionRepresentationExtracted(\n",
    "    startingMolecule=Reference(reference=\"MolecularDefinition/example-starting-sequence-2b-extracted\",type=\"MolecularDefinition\",display=\"Starting Sequence Resource\"),\n",
    "    start=0,\n",
    "    end=745,\n",
    "    coordinateSystem=CodeableConcept(coding=[{\"system\" : \"http://loinc.org\",\"code\" : \"LA30100-4\",\"display\" : \"0-based interval counting\"}],text=\"0-based interval counting\"),\n",
    "    reverseComplement = False \n",
    ")\n",
    "MolDefReprExtr"
   ]
  },
  {
   "cell_type": "code",
   "execution_count": 7,
   "metadata": {},
   "outputs": [],
   "source": [
    "from src.fhircibuild.resources.moleculardefinition  import MolecularDefinitionRepresentationConcatenatedSequenceElement\n",
    "\n",
    "MolDefRepConcatSeqElem1 = MolecularDefinitionRepresentationConcatenatedSequenceElement(\n",
    "    sequence=Reference(reference=\"MolecularDefinition/example-sequence0-2b-concatenated\", type=\"MolecularDefinition\", display=\"Sequence-of index 0-Resource for concatenated sequence example\"),\n",
    "    ordinalIndex=0\n",
    ")\n",
    "\n",
    "MolDefRepConcatSeqElem2 = MolecularDefinitionRepresentationConcatenatedSequenceElement(\n",
    "    sequence=Reference(reference=\"MolecularDefinition/example-sequence1-2b-concatenated\", type=\"MolecularDefinition\", display=\"Sequence-of index 1-Resource for concatenated sequence example\"),\n",
    "    ordinalIndex=1\n",
    ")\n",
    "\n",
    "MolDefRepConcatSeqElem3 = MolecularDefinitionRepresentationConcatenatedSequenceElement(\n",
    "    sequence=Reference(reference=\"MolecularDefinition/example-sequence2-2b-concatenated\", type=\"MolecularDefinition\", display=\"Sequence-of index 2-Resource for concatenated sequence example\"),\n",
    "    ordinalIndex=2\n",
    ")\n",
    "\n",
    "sequence_elements = [MolDefRepConcatSeqElem1, MolDefRepConcatSeqElem2, MolDefRepConcatSeqElem3]\n"
   ]
  },
  {
   "cell_type": "code",
   "execution_count": 8,
   "metadata": {},
   "outputs": [
    {
     "data": {
      "text/plain": [
       "MolecularDefinitionRepresentationConcatenated(fhir_comments=None, extension=None, id=None, modifierExtension=None, sequenceElement=[MolecularDefinitionRepresentationConcatenatedSequenceElement(fhir_comments=None, extension=None, id=None, modifierExtension=None, sequence=Reference(fhir_comments=None, extension=None, id=None, display='Sequence-of index 0-Resource for concatenated sequence example', display__ext=None, identifier=None, reference='MolecularDefinition/example-sequence0-2b-concatenated', reference__ext=None, type='MolecularDefinition', type__ext=None), ordinalIndex=0), MolecularDefinitionRepresentationConcatenatedSequenceElement(fhir_comments=None, extension=None, id=None, modifierExtension=None, sequence=Reference(fhir_comments=None, extension=None, id=None, display='Sequence-of index 1-Resource for concatenated sequence example', display__ext=None, identifier=None, reference='MolecularDefinition/example-sequence1-2b-concatenated', reference__ext=None, type='MolecularDefinition', type__ext=None), ordinalIndex=1), MolecularDefinitionRepresentationConcatenatedSequenceElement(fhir_comments=None, extension=None, id=None, modifierExtension=None, sequence=Reference(fhir_comments=None, extension=None, id=None, display='Sequence-of index 2-Resource for concatenated sequence example', display__ext=None, identifier=None, reference='MolecularDefinition/example-sequence2-2b-concatenated', reference__ext=None, type='MolecularDefinition', type__ext=None), ordinalIndex=2)])"
      ]
     },
     "execution_count": 8,
     "metadata": {},
     "output_type": "execute_result"
    }
   ],
   "source": [
    "from src.fhircibuild.resources.moleculardefinition  import MolecularDefinitionRepresentationConcatenated\n",
    "MolDefRepConcat = MolecularDefinitionRepresentationConcatenated(sequenceElement=sequence_elements)\n",
    "\n",
    "MolDefRepConcat"
   ]
  },
  {
   "cell_type": "code",
   "execution_count": 9,
   "metadata": {},
   "outputs": [
    {
     "data": {
      "text/plain": [
       "MolecularDefinitionRepresentationRelativeEdit(fhir_comments=None, extension=None, id=None, modifierExtension=None, editOrder=None, coordinateSystem=CodeableConcept(fhir_comments=None, extension=None, id=None, coding=[Coding(fhir_comments=None, extension=None, id=None, code='LA30100-4', code__ext=None, display='0-based interval counting', display__ext=None, system='http://loinc.org', system__ext=None, userSelected=None, userSelected__ext=None, version=None, version__ext=None)], text='0-based interval counting', text__ext=None), start=0, end=725, replacementMolecule=Reference(fhir_comments=None, extension=None, id=None, display='Replacement Sequence Resource', display__ext=None, identifier=None, reference='MolecularDefinition/example-replacement-sequence', reference__ext=None, type='MolecularDefinition', type__ext=None), replacedMolecule=Reference(fhir_comments=None, extension=None, id=None, display='Replacement Sequence Resource', display__ext=None, identifier=None, reference='MolecularDefinition/example-replacement-sequence', reference__ext=None, type='MolecularDefinition', type__ext=None))"
      ]
     },
     "execution_count": 9,
     "metadata": {},
     "output_type": "execute_result"
    }
   ],
   "source": [
    "from src.fhircibuild.resources.moleculardefinition import MolecularDefinitionRepresentationRelativeEdit\n",
    "\n",
    "\n",
    "MolDefReprRelEdit = MolecularDefinitionRepresentationRelativeEdit(\n",
    "    coordinateSystem = CodeableConcept(\n",
    "        coding=[{\"system\" : \"http://loinc.org\",\"code\" : \"LA30100-4\",\"display\" : \"0-based interval counting\"}],\n",
    "        text=\"0-based interval counting\"\n",
    "        ),\n",
    "    start=0,\n",
    "    end=725,\n",
    "    replacementMolecule = Reference(reference=\"MolecularDefinition/example-replacement-sequence\",\n",
    "                                     type=\"MolecularDefinition\",\n",
    "                                     display=\"Replacement Sequence Resource\"),\n",
    "    replacedMolecule = Reference(reference=\"MolecularDefinition/example-replacement-sequence\",\n",
    "                                     type=\"MolecularDefinition\",\n",
    "                                     display=\"Replacement Sequence Resource\"),\n",
    ")\n",
    "\n",
    "MolDefReprRelEdit"
   ]
  },
  {
   "cell_type": "code",
   "execution_count": 10,
   "metadata": {},
   "outputs": [
    {
     "data": {
      "text/plain": [
       "MolecularDefinitionRepresentationRelative(fhir_comments=None, extension=None, id=None, modifierExtension=None, startingMolecule=Reference(fhir_comments=None, extension=None, id=None, display='Replacement Sequence Resource', display__ext=None, identifier=None, reference='MolecularDefinition/example-replacement-sequence', reference__ext=None, type='MolecularDefinition', type__ext=None), edit=[MolecularDefinitionRepresentationRelativeEdit(fhir_comments=None, extension=None, id=None, modifierExtension=None, editOrder=None, coordinateSystem=CodeableConcept(fhir_comments=None, extension=None, id=None, coding=[Coding(fhir_comments=None, extension=None, id=None, code='LA30100-4', code__ext=None, display='0-based interval counting', display__ext=None, system='http://loinc.org', system__ext=None, userSelected=None, userSelected__ext=None, version=None, version__ext=None)], text='0-based interval counting', text__ext=None), start=0, end=725, replacementMolecule=Reference(fhir_comments=None, extension=None, id=None, display='Replacement Sequence Resource', display__ext=None, identifier=None, reference='MolecularDefinition/example-replacement-sequence', reference__ext=None, type='MolecularDefinition', type__ext=None), replacedMolecule=Reference(fhir_comments=None, extension=None, id=None, display='Replacement Sequence Resource', display__ext=None, identifier=None, reference='MolecularDefinition/example-replacement-sequence', reference__ext=None, type='MolecularDefinition', type__ext=None))])"
      ]
     },
     "execution_count": 10,
     "metadata": {},
     "output_type": "execute_result"
    }
   ],
   "source": [
    "from src.fhircibuild.resources.moleculardefinition import MolecularDefinitionRepresentationRelative\n",
    "\n",
    "MolDefReprRelative = MolecularDefinitionRepresentationRelative(\n",
    "    startingMolecule= Reference(\n",
    "                        reference=\"MolecularDefinition/example-replacement-sequence\",\n",
    "                        type=\"MolecularDefinition\",\n",
    "                        display=\"Replacement Sequence Resource\"),\n",
    "    edit = [MolDefReprRelEdit]\n",
    "                        )\n",
    "\n",
    "MolDefReprRelative"
   ]
  },
  {
   "cell_type": "code",
   "execution_count": 11,
   "metadata": {},
   "outputs": [
    {
     "data": {
      "text/plain": [
       "[MolecularDefinitionRepresentation(fhir_comments=None, extension=None, id=None, modifierExtension=None, focus=None, code=None, literal=MolecularDefinitionRepresentationLiteral(fhir_comments=None, extension=None, id=None, modifierExtension=None, encoding=None, value='ATGAACAGACAAGTAAAAGACATGACAGYGATACTTTCCCAGAGCTGAAGTTAACAAATGCACCTGGTTC TTTTACTAAGTGTTCAAATACCAGTGAACTTAAAGAATTTGTCAATCCTAGCCTTCCAAGAGAAGAAAAA GAAGAGAAACTAGAAACAGTTAAAGTGTCTAATAATGCTGAAGACCCCAAAGATCTCATGTTAAGTGGAG AAAGGGTTTTGCAAACTGAAAGATCTGTAGAGAGTAGCAGTATTTCAYTGGTACCTGGTACTGATTATGG CACTCAGGAAAGTATCTCGTTACTGGAAGTTAGCACTCTAGGGAAGGCAAAAACAGAACCAAATAAATGT GTGAGTCAGTGTGCAGCATTTGAAAACCCCAAGGGACTAATTCATGGTTGTTCCAAAGATAATAGAAATG ACACAGAAGGCTTTAAGTATCCATTGGGACATGAAGTTAACCACAGTCGGGAAACAAGCATAGAAATGGA AGAAAGTGAACTTGATGCTCAGTATTTGCAGAATACATTCAAGGTTTCAAAGCGCCAGTCATTTGCTCYG TTTTCAAATCCAGGAAATGCAGAAGAGGAATGTGCAACATTCTCTGCCCACTCTGGGTCCTTAAAGAAAC AAAGTCCAAAAGTCACTTTTGAATGTGAACAAAAGGAAGAAAATCAAGGAAAGAATGAGTCTAATATCAA GCCTGTACAGACAGTTAATATCACTGCAGGCTTTCCTGTGGTTGGTCAGAAAGA'), resolvable=Attachment(fhir_comments=None, extension=None, id=None, contentType='text/html', contentType__ext=None, creation=None, creation__ext=None, data=None, data__ext=None, duration=None, duration__ext=None, frames=None, frames__ext=None, hash=None, hash__ext=None, height=None, height__ext=None, language=None, language__ext=None, pages=None, pages__ext=None, size=None, size__ext=None, title=None, title__ext=None, url=Url('https://www.ncbi.nlm.nih.gov/nuccore/MW716256.1?report=fasta'), url__ext=None, width=None, width__ext=None), extracted=MolecularDefinitionRepresentationExtracted(fhir_comments=None, extension=None, id=None, modifierExtension=None, startingMolecule=Reference(fhir_comments=None, extension=None, id=None, display='Starting Sequence Resource', display__ext=None, identifier=None, reference='MolecularDefinition/example-starting-sequence-2b-extracted', reference__ext=None, type='MolecularDefinition', type__ext=None), start=0, end=745, coordinateSystem=CodeableConcept(fhir_comments=None, extension=None, id=None, coding=[Coding(fhir_comments=None, extension=None, id=None, code='LA30100-4', code__ext=None, display='0-based interval counting', display__ext=None, system='http://loinc.org', system__ext=None, userSelected=None, userSelected__ext=None, version=None, version__ext=None)], text='0-based interval counting', text__ext=None), reverseComplement=False), repeated=None, concatenated=MolecularDefinitionRepresentationConcatenated(fhir_comments=None, extension=None, id=None, modifierExtension=None, sequenceElement=[MolecularDefinitionRepresentationConcatenatedSequenceElement(fhir_comments=None, extension=None, id=None, modifierExtension=None, sequence=Reference(fhir_comments=None, extension=None, id=None, display='Sequence-of index 0-Resource for concatenated sequence example', display__ext=None, identifier=None, reference='MolecularDefinition/example-sequence0-2b-concatenated', reference__ext=None, type='MolecularDefinition', type__ext=None), ordinalIndex=0), MolecularDefinitionRepresentationConcatenatedSequenceElement(fhir_comments=None, extension=None, id=None, modifierExtension=None, sequence=Reference(fhir_comments=None, extension=None, id=None, display='Sequence-of index 1-Resource for concatenated sequence example', display__ext=None, identifier=None, reference='MolecularDefinition/example-sequence1-2b-concatenated', reference__ext=None, type='MolecularDefinition', type__ext=None), ordinalIndex=1), MolecularDefinitionRepresentationConcatenatedSequenceElement(fhir_comments=None, extension=None, id=None, modifierExtension=None, sequence=Reference(fhir_comments=None, extension=None, id=None, display='Sequence-of index 2-Resource for concatenated sequence example', display__ext=None, identifier=None, reference='MolecularDefinition/example-sequence2-2b-concatenated', reference__ext=None, type='MolecularDefinition', type__ext=None), ordinalIndex=2)]), relative=MolecularDefinitionRepresentationRelative(fhir_comments=None, extension=None, id=None, modifierExtension=None, startingMolecule=Reference(fhir_comments=None, extension=None, id=None, display='Replacement Sequence Resource', display__ext=None, identifier=None, reference='MolecularDefinition/example-replacement-sequence', reference__ext=None, type='MolecularDefinition', type__ext=None), edit=[MolecularDefinitionRepresentationRelativeEdit(fhir_comments=None, extension=None, id=None, modifierExtension=None, editOrder=None, coordinateSystem=CodeableConcept(fhir_comments=None, extension=None, id=None, coding=[Coding(fhir_comments=None, extension=None, id=None, code='LA30100-4', code__ext=None, display='0-based interval counting', display__ext=None, system='http://loinc.org', system__ext=None, userSelected=None, userSelected__ext=None, version=None, version__ext=None)], text='0-based interval counting', text__ext=None), start=0, end=725, replacementMolecule=Reference(fhir_comments=None, extension=None, id=None, display='Replacement Sequence Resource', display__ext=None, identifier=None, reference='MolecularDefinition/example-replacement-sequence', reference__ext=None, type='MolecularDefinition', type__ext=None), replacedMolecule=Reference(fhir_comments=None, extension=None, id=None, display='Replacement Sequence Resource', display__ext=None, identifier=None, reference='MolecularDefinition/example-replacement-sequence', reference__ext=None, type='MolecularDefinition', type__ext=None))]))]"
      ]
     },
     "execution_count": 11,
     "metadata": {},
     "output_type": "execute_result"
    }
   ],
   "source": [
    "from src.fhircibuild.resources.moleculardefinition import MolecularDefinitionRepresentation\n",
    "from fhir.resources.attachment import Attachment\n",
    "\n",
    "MolDefRepr=MolecularDefinitionRepresentation(\n",
    "    literal= MolDefReprLiteral,\n",
    "    resolvable=Attachment(contentType = \"text/html\",\n",
    "                           url = \"https://www.ncbi.nlm.nih.gov/nuccore/MW716256.1?report=fasta\"),\n",
    "    extracted =MolDefReprExtr,\n",
    "    concatenated=MolDefRepConcat,\n",
    "    relative=MolDefReprRelative,\n",
    ")\n",
    "\n",
    "list_MolDefRepr = [MolDefRepr]\n",
    "list_MolDefRepr"
   ]
  },
  {
   "cell_type": "code",
   "execution_count": 12,
   "metadata": {},
   "outputs": [],
   "source": [
    "from src.fhircibuild.resources.moleculardefinition import MolecularDefinition\n",
    "\n",
    "\n",
    "MolDef = MolecularDefinition(\n",
    "  id = \"example\",\n",
    "  type = \"dna\",\n",
    "  representation = list_MolDefRepr,\n",
    ")"
   ]
  },
  {
   "cell_type": "code",
   "execution_count": 13,
   "metadata": {},
   "outputs": [
    {
     "data": {
      "text/plain": [
       "'{\"resourceType\":\"MolecularDefinition\",\"id\":\"example\",\"type\":\"dna\",\"representation\":[{\"literal\":{\"value\":\"ATGAACAGACAAGTAAAAGACATGACAGYGATACTTTCCCAGAGCTGAAGTTAACAAATGCACCTGGTTC TTTTACTAAGTGTTCAAATACCAGTGAACTTAAAGAATTTGTCAATCCTAGCCTTCCAAGAGAAGAAAAA GAAGAGAAACTAGAAACAGTTAAAGTGTCTAATAATGCTGAAGACCCCAAAGATCTCATGTTAAGTGGAG AAAGGGTTTTGCAAACTGAAAGATCTGTAGAGAGTAGCAGTATTTCAYTGGTACCTGGTACTGATTATGG CACTCAGGAAAGTATCTCGTTACTGGAAGTTAGCACTCTAGGGAAGGCAAAAACAGAACCAAATAAATGT GTGAGTCAGTGTGCAGCATTTGAAAACCCCAAGGGACTAATTCATGGTTGTTCCAAAGATAATAGAAATG ACACAGAAGGCTTTAAGTATCCATTGGGACATGAAGTTAACCACAGTCGGGAAACAAGCATAGAAATGGA AGAAAGTGAACTTGATGCTCAGTATTTGCAGAATACATTCAAGGTTTCAAAGCGCCAGTCATTTGCTCYG TTTTCAAATCCAGGAAATGCAGAAGAGGAATGTGCAACATTCTCTGCCCACTCTGGGTCCTTAAAGAAAC AAAGTCCAAAAGTCACTTTTGAATGTGAACAAAAGGAAGAAAATCAAGGAAAGAATGAGTCTAATATCAA GCCTGTACAGACAGTTAATATCACTGCAGGCTTTCCTGTGGTTGGTCAGAAAGA\"},\"resolvable\":{\"contentType\":\"text/html\",\"url\":\"https://www.ncbi.nlm.nih.gov/nuccore/MW716256.1?report=fasta\"},\"extracted\":{\"startingMolecule\":{\"reference\":\"MolecularDefinition/example-starting-sequence-2b-extracted\",\"type\":\"MolecularDefinition\",\"display\":\"Starting Sequence Resource\"},\"start\":0,\"end\":745,\"coordinateSystem\":{\"coding\":[{\"system\":\"http://loinc.org\",\"code\":\"LA30100-4\",\"display\":\"0-based interval counting\"}],\"text\":\"0-based interval counting\"},\"reverseComplement\":false},\"concatenated\":{\"sequenceElement\":[{\"sequence\":{\"reference\":\"MolecularDefinition/example-sequence0-2b-concatenated\",\"type\":\"MolecularDefinition\",\"display\":\"Sequence-of index 0-Resource for concatenated sequence example\"},\"ordinalIndex\":0},{\"sequence\":{\"reference\":\"MolecularDefinition/example-sequence1-2b-concatenated\",\"type\":\"MolecularDefinition\",\"display\":\"Sequence-of index 1-Resource for concatenated sequence example\"},\"ordinalIndex\":1},{\"sequence\":{\"reference\":\"MolecularDefinition/example-sequence2-2b-concatenated\",\"type\":\"MolecularDefinition\",\"display\":\"Sequence-of index 2-Resource for concatenated sequence example\"},\"ordinalIndex\":2}]},\"relative\":{\"startingMolecule\":{\"reference\":\"MolecularDefinition/example-replacement-sequence\",\"type\":\"MolecularDefinition\",\"display\":\"Replacement Sequence Resource\"},\"edit\":[{\"coordinateSystem\":{\"coding\":[{\"system\":\"http://loinc.org\",\"code\":\"LA30100-4\",\"display\":\"0-based interval counting\"}],\"text\":\"0-based interval counting\"},\"start\":0,\"end\":725,\"replacementMolecule\":{\"reference\":\"MolecularDefinition/example-replacement-sequence\",\"type\":\"MolecularDefinition\",\"display\":\"Replacement Sequence Resource\"},\"replacedMolecule\":{\"reference\":\"MolecularDefinition/example-replacement-sequence\",\"type\":\"MolecularDefinition\",\"display\":\"Replacement Sequence Resource\"}}]}}]}'"
      ]
     },
     "execution_count": 13,
     "metadata": {},
     "output_type": "execute_result"
    }
   ],
   "source": [
    "MolDef.model_dump_json()"
   ]
  },
  {
   "cell_type": "code",
   "execution_count": 14,
   "metadata": {},
   "outputs": [
    {
     "data": {
      "text/plain": [
       "{'resourceType': 'MolecularDefinition',\n",
       " 'id': 'example',\n",
       " 'type': 'dna',\n",
       " 'representation': [{'literal': {'value': 'ATGAACAGACAAGTAAAAGACATGACAGYGATACTTTCCCAGAGCTGAAGTTAACAAATGCACCTGGTTC TTTTACTAAGTGTTCAAATACCAGTGAACTTAAAGAATTTGTCAATCCTAGCCTTCCAAGAGAAGAAAAA GAAGAGAAACTAGAAACAGTTAAAGTGTCTAATAATGCTGAAGACCCCAAAGATCTCATGTTAAGTGGAG AAAGGGTTTTGCAAACTGAAAGATCTGTAGAGAGTAGCAGTATTTCAYTGGTACCTGGTACTGATTATGG CACTCAGGAAAGTATCTCGTTACTGGAAGTTAGCACTCTAGGGAAGGCAAAAACAGAACCAAATAAATGT GTGAGTCAGTGTGCAGCATTTGAAAACCCCAAGGGACTAATTCATGGTTGTTCCAAAGATAATAGAAATG ACACAGAAGGCTTTAAGTATCCATTGGGACATGAAGTTAACCACAGTCGGGAAACAAGCATAGAAATGGA AGAAAGTGAACTTGATGCTCAGTATTTGCAGAATACATTCAAGGTTTCAAAGCGCCAGTCATTTGCTCYG TTTTCAAATCCAGGAAATGCAGAAGAGGAATGTGCAACATTCTCTGCCCACTCTGGGTCCTTAAAGAAAC AAAGTCCAAAAGTCACTTTTGAATGTGAACAAAAGGAAGAAAATCAAGGAAAGAATGAGTCTAATATCAA GCCTGTACAGACAGTTAATATCACTGCAGGCTTTCCTGTGGTTGGTCAGAAAGA'},\n",
       "   'resolvable': {'contentType': 'text/html',\n",
       "    'url': Url('https://www.ncbi.nlm.nih.gov/nuccore/MW716256.1?report=fasta')},\n",
       "   'extracted': {'startingMolecule': {'reference': 'MolecularDefinition/example-starting-sequence-2b-extracted',\n",
       "     'type': 'MolecularDefinition',\n",
       "     'display': 'Starting Sequence Resource'},\n",
       "    'start': 0,\n",
       "    'end': 745,\n",
       "    'coordinateSystem': {'coding': [{'system': 'http://loinc.org',\n",
       "       'code': 'LA30100-4',\n",
       "       'display': '0-based interval counting'}],\n",
       "     'text': '0-based interval counting'},\n",
       "    'reverseComplement': False},\n",
       "   'concatenated': {'sequenceElement': [{'sequence': {'reference': 'MolecularDefinition/example-sequence0-2b-concatenated',\n",
       "       'type': 'MolecularDefinition',\n",
       "       'display': 'Sequence-of index 0-Resource for concatenated sequence example'},\n",
       "      'ordinalIndex': 0},\n",
       "     {'sequence': {'reference': 'MolecularDefinition/example-sequence1-2b-concatenated',\n",
       "       'type': 'MolecularDefinition',\n",
       "       'display': 'Sequence-of index 1-Resource for concatenated sequence example'},\n",
       "      'ordinalIndex': 1},\n",
       "     {'sequence': {'reference': 'MolecularDefinition/example-sequence2-2b-concatenated',\n",
       "       'type': 'MolecularDefinition',\n",
       "       'display': 'Sequence-of index 2-Resource for concatenated sequence example'},\n",
       "      'ordinalIndex': 2}]},\n",
       "   'relative': {'startingMolecule': {'reference': 'MolecularDefinition/example-starting-sequence-2b-relative',\n",
       "     'type': 'MolecularDefinition',\n",
       "     'display': 'Starting Sequence Resource'},\n",
       "    'edit': [{'coordinateSystem': {'coding': [{'system': 'http://loinc.org',\n",
       "         'code': 'LA30100-4',\n",
       "         'display': '0-based interval counting'}],\n",
       "       'text': '0-based interval counting'},\n",
       "      'start': 0,\n",
       "      'end': 725,\n",
       "      'replacementMolecule': {'reference': 'MolecularDefinition/example-replacement-sequence',\n",
       "       'type': 'MolecularDefinition',\n",
       "       'display': 'Replacement Sequence Resource'},\n",
       "      'replacedMolecule': {'reference': 'MolecularDefinition/example-replaced-sequence',\n",
       "       'type': 'MolecularDefinition',\n",
       "       'display': 'Replaced Sequence Resource'}}]}}]}"
      ]
     },
     "execution_count": 14,
     "metadata": {},
     "output_type": "execute_result"
    }
   ],
   "source": [
    "import json\n",
    "from src.fhircibuild.resources.moleculardefinition import MolecularDefinition\n",
    "\n",
    "filename = \"example/simple_sequence_example.json\"\n",
    "\n",
    "with open(filename, 'r') as file:\n",
    "    data = json.load(file)\n",
    "\n",
    "MolecularDefinition(**data).model_dump()"
   ]
  },
  {
   "cell_type": "code",
   "execution_count": null,
   "metadata": {},
   "outputs": [],
   "source": []
  }
 ],
 "metadata": {
  "kernelspec": {
   "display_name": "DraftCoreDataModel-MMFV8Z-X",
   "language": "python",
   "name": "python3"
  },
  "language_info": {
   "codemirror_mode": {
    "name": "ipython",
    "version": 3
   },
   "file_extension": ".py",
   "mimetype": "text/x-python",
   "name": "python",
   "nbconvert_exporter": "python",
   "pygments_lexer": "ipython3",
   "version": "3.11.5"
  }
 },
 "nbformat": 4,
 "nbformat_minor": 2
}
