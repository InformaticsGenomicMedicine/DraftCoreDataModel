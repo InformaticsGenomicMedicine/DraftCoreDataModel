{
 "cells": [
  {
   "cell_type": "code",
   "execution_count": 1,
   "metadata": {},
   "outputs": [],
   "source": [
    "#RUN FOR GITHUB CODESPACE\n",
    "import sys\n",
    "import warnings\n",
    "\n",
    "sys.path.append('..')\n",
    "warnings.filterwarnings('ignore')"
   ]
  },
  {
   "cell_type": "code",
   "execution_count": 2,
   "metadata": {},
   "outputs": [],
   "source": [
    "from src.fhircibuild.resources.moleculardefinition import MolecularDefinitionRepresentationLiteral\n",
    "from fhir.resources.codeableconcept import CodeableConcept\n",
    "\n",
    "\n",
    "\n",
    "MolDefReprLiteral = MolecularDefinitionRepresentationLiteral(\n",
    "    value = \"A\",\n",
    "    encoding=CodeableConcept(coding=[{\"system\" : \"http://hl7.org/fhir/moleculardefinition-encoding\",\"code\" : \"iupac-dna\",\"display\" : \"International Union of Pure and Applied Chemistry-DNA Nucleotide Codes\"}])\n",
    ")"
   ]
  },
  {
   "cell_type": "code",
   "execution_count": 3,
   "metadata": {},
   "outputs": [
    {
     "data": {
      "text/plain": [
       "MolecularDefinitionRepresentation(fhir_comments=None, extension=None, id=None, modifierExtension=None, focus=None, code=None, literal=MolecularDefinitionRepresentationLiteral(fhir_comments=None, extension=None, id=None, modifierExtension=None, encoding=CodeableConcept(fhir_comments=None, extension=None, id=None, coding=[Coding(fhir_comments=None, extension=None, id=None, code='iupac-dna', code__ext=None, display='International Union of Pure and Applied Chemistry-DNA Nucleotide Codes', display__ext=None, system='http://hl7.org/fhir/moleculardefinition-encoding', system__ext=None, userSelected=None, userSelected__ext=None, version=None, version__ext=None)], text=None, text__ext=None), value='A'), resolvable=None, extracted=None, repeated=None, concatenated=None, relative=None)"
      ]
     },
     "execution_count": 3,
     "metadata": {},
     "output_type": "execute_result"
    }
   ],
   "source": [
    "from src.fhircibuild.resources.moleculardefinition import MolecularDefinitionRepresentation\n",
    "MolDefRepr=MolecularDefinitionRepresentation(\n",
    "    literal= MolDefReprLiteral\n",
    ")\n",
    "MolDefRepr"
   ]
  },
  {
   "cell_type": "code",
   "execution_count": 4,
   "metadata": {},
   "outputs": [
    {
     "data": {
      "text/plain": [
       "{'resourceType': 'MolecularDefinition',\n",
       " 'id': 'example-sequence-a-aa',\n",
       " 'meta': {'profile': ['http://hl7.org/fhir/StructureDefinition/sequence']},\n",
       " 'type': 'aa',\n",
       " 'representation': [{'literal': {'encoding': {'coding': [{'system': 'http://hl7.org/fhir/moleculardefinition-encoding',\n",
       "       'code': 'iupac-dna',\n",
       "       'display': 'International Union of Pure and Applied Chemistry-DNA Nucleotide Codes'}]},\n",
       "    'value': 'A'}}]}"
      ]
     },
     "execution_count": 4,
     "metadata": {},
     "output_type": "execute_result"
    }
   ],
   "source": [
    "from src.fhircibuild.resources.moleculardefinition import MolecularDefinition\n",
    "from fhir.resources.meta import Meta\n",
    "\n",
    "# seq_ex_1.json\n",
    "MolDef1 = MolecularDefinition(\n",
    "    id=\"example-sequence-a-aa\",\n",
    "    meta=Meta(profile=[\"http://hl7.org/fhir/StructureDefinition/sequence\"]),\n",
    "    type=\"aa\",\n",
    "    representation=[MolDefRepr],\n",
    ")\n",
    "MolDef1.model_dump()"
   ]
  },
  {
   "cell_type": "code",
   "execution_count": 5,
   "metadata": {},
   "outputs": [
    {
     "data": {
      "text/plain": [
       "{'resourceType': 'MolecularDefinition',\n",
       " 'id': 'example-sequence-a-aa',\n",
       " 'meta': {'profile': ['http://hl7.org/fhir/StructureDefinition/sequence']},\n",
       " 'type': 'DNA',\n",
       " 'representation': [{'literal': {'encoding': {'coding': [{'system': 'http://hl7.org/fhir/moleculardefinition-encoding',\n",
       "       'code': 'iupac-dna',\n",
       "       'display': 'International Union of Pure and Applied Chemistry-DNA Nucleotide Codes'}]},\n",
       "    'value': 'A'}}]}"
      ]
     },
     "execution_count": 5,
     "metadata": {},
     "output_type": "execute_result"
    }
   ],
   "source": [
    "# seq_ex_2.json\n",
    "MolDef2 = MolecularDefinition(\n",
    "    id=\"example-sequence-a-aa\",\n",
    "    meta=Meta(profile=[\"http://hl7.org/fhir/StructureDefinition/sequence\"]),\n",
    "    type=\"DNA\",\n",
    "    representation=[MolDefRepr],\n",
    ")\n",
    "MolDef2.model_dump()"
   ]
  },
  {
   "cell_type": "code",
   "execution_count": 6,
   "metadata": {},
   "outputs": [
    {
     "name": "stdout",
     "output_type": "stream",
     "text": [
      "{'type': 'LiteralSequenceExpression', 'sequence': 'A'}\n"
     ]
    }
   ],
   "source": [
    "from ga4gh.vrs import models\n",
    "\n",
    "LitSeqExp = models.LiteralSequenceExpression(type= \"LiteralSequenceExpression\",sequence = \"A\").as_dict()\n",
    "print(LitSeqExp)"
   ]
  },
  {
   "cell_type": "code",
   "execution_count": 7,
   "metadata": {},
   "outputs": [],
   "source": [
    "from typing import List\n",
    "from pydantic import Field\n",
    "from fhir_core.fhirabstractmodel import FHIRAbstractModel\n",
    "from fhir_core.types import IdType, BooleanType, StringType\n",
    "\n",
    "data = {\n",
    "    \"id\": \"f001\",\n",
    "    \"active\": True,\n",
    "    \"name\": \"Acme Corporation\",\n",
    "    \"address\": [\"Road 10\", \"Acme corporation\", \"2390\", \"USA\"]\n",
    "}\n",
    "\n",
    "class Organization(FHIRAbstractModel):\n",
    "    __resource_type__ = \"Organization\"\n",
    "    id: IdType = Field(None, title=\"Id\", alias=\"id\", json_schema_extra={\"element_property\": True})\n",
    "    active: BooleanType = Field(None, title=\"Active\", alias=\"active\", json_schema_extra={\"element_property\": True})\n",
    "    name: StringType = Field(None, title=\"Name\", alias=\"name\", json_schema_extra={\"element_property\": True})\n",
    "    address: List[StringType] = Field(None, title=\"Address lines\", alias=\"address\", json_schema_extra={\"element_property\": True})\n",
    "\n",
    "    @classmethod\n",
    "    def elements_sequence(cls):\n",
    "        return [\"id\", \"active\", \"name\", \"address\"]\n"
   ]
  },
  {
   "cell_type": "code",
   "execution_count": 8,
   "metadata": {},
   "outputs": [
    {
     "data": {
      "text/plain": [
       "Organization(fhir_comments=None, id='f001', active=True, name='Acme Corporation', address=['Road 10', 'Acme corporation', '2390', 'USA'])"
      ]
     },
     "execution_count": 8,
     "metadata": {},
     "output_type": "execute_result"
    }
   ],
   "source": [
    "org = Organization.model_validate(data)\n",
    "org\n"
   ]
  },
  {
   "cell_type": "code",
   "execution_count": 9,
   "metadata": {},
   "outputs": [
    {
     "data": {
      "text/plain": [
       "[]"
      ]
     },
     "execution_count": 9,
     "metadata": {},
     "output_type": "execute_result"
    }
   ],
   "source": [
    "# org.get_resource_type()\n",
    "MolDef2.get_required_fields()\n",
    "org.get_required_fields()"
   ]
  },
  {
   "cell_type": "code",
   "execution_count": 10,
   "metadata": {},
   "outputs": [
    {
     "data": {
      "text/plain": [
       "True"
      ]
     },
     "execution_count": 10,
     "metadata": {},
     "output_type": "execute_result"
    }
   ],
   "source": [
    "...\n",
    "org = Organization.model_validate(data)\n",
    "org.active is True\n",
    "True\n",
    "org_json_str = org.model_dump_json()\n",
    "Organization.model_validate_json(org_json_str).model_dump() == org.model_dump()\n",
    "True"
   ]
  },
  {
   "cell_type": "code",
   "execution_count": null,
   "metadata": {},
   "outputs": [],
   "source": []
  }
 ],
 "metadata": {
  "kernelspec": {
   "display_name": "DraftCoreDataModel-MMFV8Z-X",
   "language": "python",
   "name": "python3"
  },
  "language_info": {
   "codemirror_mode": {
    "name": "ipython",
    "version": 3
   },
   "file_extension": ".py",
   "mimetype": "text/x-python",
   "name": "python",
   "nbconvert_exporter": "python",
   "pygments_lexer": "ipython3",
   "version": "3.11.5"
  }
 },
 "nbformat": 4,
 "nbformat_minor": 2
}
